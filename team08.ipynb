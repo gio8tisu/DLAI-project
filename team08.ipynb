{
  "nbformat": 4,
  "nbformat_minor": 0,
  "metadata": {
    "accelerator": "GPU",
    "colab": {
      "name": "team08.ipynb",
      "provenance": [],
      "collapsed_sections": []
    },
    "kernelspec": {
      "display_name": "Python 3",
      "language": "python",
      "name": "python3"
    },
    "language_info": {
      "codemirror_mode": {
        "name": "ipython",
        "version": 3
      },
      "file_extension": ".py",
      "mimetype": "text/x-python",
      "name": "python",
      "nbconvert_exporter": "python",
      "pygments_lexer": "ipython3",
      "version": "3.7.4"
    }
  },
  "cells": [
    {
      "cell_type": "code",
      "metadata": {
        "colab_type": "code",
        "id": "FaWaYXG1fIRm",
        "colab": {}
      },
      "source": [
        "import torch\n",
        "import torch.nn\n",
        "import torch.optim\n",
        "import torchvision.datasets\n",
        "import torchvision.transforms\n",
        "import torch.utils.data"
      ],
      "execution_count": 0,
      "outputs": []
    },
    {
      "cell_type": "code",
      "metadata": {
        "colab_type": "code",
        "id": "GA4Aiz2Giu5e",
        "colab": {}
      },
      "source": [
        "torch.manual_seed(0)\n",
        "device = 'cuda:0' if torch.cuda.is_available() else 'cpu'"
      ],
      "execution_count": 0,
      "outputs": []
    },
    {
      "cell_type": "code",
      "metadata": {
        "id": "-MjS3A1UNFJF",
        "colab_type": "code",
        "colab": {}
      },
      "source": [
        "BATCH_SIZE = 32\n",
        "EPOCHS = 10"
      ],
      "execution_count": 0,
      "outputs": []
    },
    {
      "cell_type": "markdown",
      "metadata": {
        "colab_type": "text",
        "id": "GgHZsI0VyaUJ"
      },
      "source": [
        "# TODO\n",
        "\n",
        "* Use `model.train()` `model.eval()` appropriately\n",
        "* Training and validation loss curves\n",
        "* Early stopping at minimum validation loss\n",
        "* Plot with loss curves for autoencoder with different bottleneck sizes\n",
        "* Maybe regularization methods at transfer-learning step"
      ]
    },
    {
      "cell_type": "markdown",
      "metadata": {
        "colab_type": "text",
        "id": "iyK3i7pS9gSH"
      },
      "source": [
        "# Exercise 1: Convolutional Autoencoder\n",
        "\n",
        "Steps:\n",
        "1. Load MNIST train and test sets. Split the original training data into 95% training and 5% validation data.\n",
        "2. Implement a convolutional autoencoder (with separate Encoder and Decoder modules).\n",
        "3. Train the convolutional autoencoder, with different bottleneck sizes. Plot the train and validation loss curves of all autoencoders in the same figure.\n",
        "4. Compute the avg. image reconstruction error (MSE) of the trained models on the MNIST validation and test sets. Show the results in a table, including #params of each model.\n",
        "5. Select one of the autoencoders and feed it 5 random MNIST images from the test set. Show them along with their reconstructions.\n",
        "Generate 5 new images by injecting random values as input to the decoder. Show them.\n"
      ]
    },
    {
      "cell_type": "markdown",
      "metadata": {
        "colab_type": "text",
        "id": "-Vf3xEV29k0y"
      },
      "source": [
        "## Module definition\n",
        "\n",
        "Our autoencoder will be defined by the `ConvolutionalAutoencoder` class which uses a `ConvolutionalEncoder` object to encode followed a `ConvolutionalDecoder` object to decode. The `ConvolutionalEncoder` and `ConvolutionalDecoder` classes make use of `n_blocks` `ConvolutionalBlock`s or `DeconvolutionalBlock`s which are composed of `layer_per_block` convolution layers with the same number of filters.\n",
        "\n",
        "The dimensionality is reduced by applying 2-factor spatial downsampling at each block. The number of filters is doubled for each subsequent block. The decoder makes the exact oposite process.\n",
        "\n",
        "The final layer uses a tanh activation."
      ]
    },
    {
      "cell_type": "code",
      "metadata": {
        "id": "EknaWIjxJUZ1",
        "colab_type": "code",
        "colab": {}
      },
      "source": [
        "# %load models.py\n",
        "import torch\n",
        "import torch.nn\n",
        "\n",
        "\n",
        "class ConvolutionalAutoencoder(torch.nn.Module):\n",
        "\n",
        "    def __init__(self, n_blocks, downsampling_method, upsampling_method, layers_per_block=2):\n",
        "        super().__init__()\n",
        "        self.n_blocks = n_blocks\n",
        "        self.downsampling_method = downsampling_method\n",
        "        self.upsampling_method = upsampling_method\n",
        "\n",
        "        self.encoder = ConvolutionalEncoder(n_blocks, downsampling_method, layers_per_block=layers_per_block)\n",
        "        self.decoder = ConvolutionalDecoder(n_blocks, upsampling_method, self.encoder.output_channels,\n",
        "                                            layers_per_block)\n",
        "\n",
        "    def forward(self, x):\n",
        "        code = self.encoder(x)\n",
        "        reconstruction = self.decoder(code)\n",
        "        return reconstruction\n",
        "\n",
        "\n",
        "class ConvolutionalAutoencoderReducedLatentDim(torch.nn.Module):\n",
        "\n",
        "    def __init__(self, input_shape, n_blocks, downsampling_method, upsampling_method, layers_per_block=2,\n",
        "                 latent_dimensionality=50):\n",
        "        super().__init__()\n",
        "        self.n_blocks = n_blocks\n",
        "        self.downsampling_method = downsampling_method\n",
        "        self.upsampling_method = upsampling_method\n",
        "        self.latent_dimensionality = latent_dimensionality\n",
        "\n",
        "        # Encoder: Convolutional blocks + Linear\n",
        "        self.convolutional_encoder = ConvolutionalEncoder(\n",
        "            n_blocks, downsampling_method, layers_per_block=layers_per_block)\n",
        "        self.output_shape = (self.convolutional_encoder.init_filters * 2 ** (n_blocks - 1),\n",
        "                             input_shape[0] // 2 ** n_blocks,\n",
        "                             input_shape[1] // 2 ** n_blocks)\n",
        "        self.encoder = torch.nn.Sequential(\n",
        "            self.convolutional_encoder,\n",
        "            torch.nn.Flatten(),\n",
        "            torch.nn.Linear(self.output_shape[0] * self.output_shape[1] * self.output_shape[2],\n",
        "                            latent_dimensionality),\n",
        "            torch.nn.ReLU()\n",
        "        )\n",
        "\n",
        "\n",
        "        # Decoder: Linear + Convolutional blocks\n",
        "        self.linear_decoder = torch.nn.Sequential(\n",
        "            torch.nn.Linear(latent_dimensionality, self.output_shape[0] * self.output_shape[1] * self.output_shape[2]),\n",
        "            torch.nn.ReLU()\n",
        "        )\n",
        "        self.convolutional_decoder = ConvolutionalDecoder(n_blocks, upsampling_method,\n",
        "                                                          self.convolutional_encoder.output_channels,\n",
        "                                                          layers_per_block)\n",
        "\n",
        "    def forward(self, x):\n",
        "        code = self.encoder(x)\n",
        "        reconstruction = self.convolutional_decoder(self.linear_decoder(code).view((-1,) + self.output_shape))\n",
        "        return reconstruction\n",
        "\n",
        "\n",
        "class ConvolutionalEncoder(torch.nn.Module):\n",
        "    DOWNSAMPLING_METHODS = [\"max-pooling\", \"avg-pooling\", \"stride-2\"]\n",
        "\n",
        "    def __init__(self, n_blocks, downsampling_method, init_filters=16, layers_per_block=2, kernel_size=5,\n",
        "                 input_channels=1):\n",
        "        super().__init__()\n",
        "        self.n_blocks = n_blocks\n",
        "        assert downsampling_method in self.DOWNSAMPLING_METHODS\n",
        "        self.downsampling_method = downsampling_method\n",
        "        self.layers_per_block = layers_per_block\n",
        "        self.init_filters = init_filters\n",
        "        self.kernel_size = kernel_size\n",
        "        self.input_channels = input_channels\n",
        "\n",
        "        # First layer so we have <input_channels> channels.\n",
        "        n_filters = init_filters\n",
        "        layers = [ConvolutionalBlock(input_channels, n_filters, kernel_size, 1)]\n",
        "\n",
        "        # Encoding blocks.\n",
        "        input_channels = n_filters\n",
        "        for _ in range(n_blocks):\n",
        "            if downsampling_method == \"max-pooling\":\n",
        "                # Convolutional block + max pooling.\n",
        "                conv_block = torch.nn.Sequential(\n",
        "                    ConvolutionalBlock(input_channels, n_filters, kernel_size, layers_per_block),\n",
        "                    torch.nn.MaxPool2d(2)\n",
        "                )\n",
        "            elif downsampling_method == \"avg-pooling\":\n",
        "                # Convolutional block + average pooling.\n",
        "                conv_block = torch.nn.Sequential(\n",
        "                    ConvolutionalBlock(input_channels, n_filters, kernel_size, layers_per_block),\n",
        "                    torch.nn.AvgPool2d(2)\n",
        "                )\n",
        "            else:\n",
        "                # Stride-2 convolution.\n",
        "                conv_block = ConvolutionalBlock(input_channels, n_filters, kernel_size,\n",
        "                                                layers_per_block, last_stride=2)\n",
        "            layers.append(conv_block)\n",
        "            # Double the number of filters.\n",
        "            input_channels = n_filters\n",
        "            n_filters = 2 * n_filters\n",
        "\n",
        "        self.encoder = torch.nn.Sequential(*layers)\n",
        "        self.output_channels = input_channels\n",
        "\n",
        "    def forward(self, x):\n",
        "        return self.encoder(x)\n",
        "\n",
        "\n",
        "class ConvolutionalDecoder(torch.nn.Module):\n",
        "    UPSAMPLING_METHODS = [\"transposed\", \"bilinear\", \"bicubic\", \"nearest\"]\n",
        "\n",
        "    def __init__(self, n_blocks, upsampling_method, input_channels, layers_per_block=2, kernel_size=5,\n",
        "                 output_channels=1):\n",
        "        super().__init__()\n",
        "        self.n_blocks = n_blocks\n",
        "        assert upsampling_method in self.UPSAMPLING_METHODS\n",
        "        self.upsampling_method = upsampling_method\n",
        "        self.layers_per_block = layers_per_block\n",
        "        self.input_channels = input_channels\n",
        "        self.kernel_size = kernel_size\n",
        "        self.output_channels = output_channels\n",
        "\n",
        "        layers = []\n",
        "\n",
        "        # Decoding blocks.\n",
        "        n_filters = input_channels\n",
        "        for _ in range(n_blocks):\n",
        "            if upsampling_method == \"transposed\":\n",
        "                # Deconvolutional block\n",
        "                conv_block = DeconvolutionalBlock(input_channels, n_filters, kernel_size, layers_per_block,\n",
        "                                                  stride=2)\n",
        "            else:\n",
        "                # Upsampling.\n",
        "                conv_block = torch.nn.Sequential(\n",
        "                    ConvolutionalBlock(input_channels, n_filters, kernel_size, layers_per_block),\n",
        "                    torch.nn.Upsample(scale_factor=2, mode=upsampling_method)\n",
        "                )\n",
        "            layers.append(conv_block)\n",
        "            # Half the number of filters.\n",
        "            input_channels = n_filters\n",
        "            n_filters = n_filters // 2\n",
        "\n",
        "        # Last layer so we have <output_channels> channel.\n",
        "        layers.append(torch.nn.Conv2d(input_channels, output_channels, kernel_size, padding=kernel_size // 2))\n",
        "        layers.append(torch.nn.Tanh())\n",
        "\n",
        "        self.decoder = torch.nn.Sequential(*layers)\n",
        "\n",
        "    def forward(self, x):\n",
        "        return self.decoder(x)\n",
        "\n",
        "\n",
        "class ConvolutionalBlock(torch.nn.Module):\n",
        "    \"\"\"\n",
        "\n",
        "    Applies n_layers convolutional layers with the same number of\n",
        "    filters and filter sizes with ReLU activations\n",
        "    keeping the same spacial size.\n",
        "    \"\"\"\n",
        "\n",
        "    def __init__(self, input_channels, n_filters, kernel_size, n_layers,\n",
        "                 last_stride=1):\n",
        "        super().__init__()\n",
        "        layers = []\n",
        "        padding = kernel_size // 2  # To keep the same size.\n",
        "\n",
        "        for i in range(n_layers):\n",
        "            if i == 0:  # First layer with correct input channels.\n",
        "                layers.append(torch.nn.Conv2d(input_channels, n_filters, kernel_size, padding=padding))\n",
        "            elif 0 < i < n_layers:  # Intermediate layers.\n",
        "                layers.append(torch.nn.Conv2d(n_filters, n_filters, kernel_size, padding=padding))\n",
        "            else:  # Last layer with stride.\n",
        "                layers.append(torch.nn.Conv2d(n_filters, n_filters, kernel_size, last_stride, padding))\n",
        "            layers.append(torch.nn.ReLU())\n",
        "\n",
        "        # To sequentially apply the layers.\n",
        "        self.block = torch.nn.Sequential(*layers)\n",
        "\n",
        "    def forward(self, x):\n",
        "        return self.block(x)\n",
        "\n",
        "\n",
        "class DeconvolutionalBlock(torch.nn.Module):\n",
        "    \"\"\"\n",
        "\n",
        "    Applies a transposed convolution followed by n_layers-1 convolutional\n",
        "    layers with the same number of filters and filter sizes with ReLU\n",
        "    activations keeping the same spacial size.\n",
        "    \"\"\"\n",
        "\n",
        "    def __init__(self, input_channels, n_filters, kernel_size, n_layers, stride):\n",
        "        super().__init__()\n",
        "        layers = []\n",
        "        padding = kernel_size // 2\n",
        "\n",
        "        # Transposed convolution layer.\n",
        "        layers.append(torch.nn.ConvTranspose2d(input_channels, n_filters, kernel_size, stride, padding, 1))\n",
        "        layers.append(torch.nn.ReLU())\n",
        "\n",
        "        for _ in range(n_layers - 1):\n",
        "            layers.append(torch.nn.Conv2d(n_filters, n_filters, kernel_size, padding=padding))\n",
        "            layers.append(torch.nn.ReLU())\n",
        "\n",
        "        # To sequentially apply the layers.\n",
        "        self.block = torch.nn.Sequential(*layers)\n",
        "\n",
        "    def forward(self, x):\n",
        "        return self.block(x)"
      ],
      "execution_count": 0,
      "outputs": []
    },
    {
      "cell_type": "markdown",
      "metadata": {
        "colab_type": "text",
        "id": "u_ZD0rgWBhJa"
      },
      "source": [
        "To do a quick test, we will pass a random image and check if the output is of the same size as the input."
      ]
    },
    {
      "cell_type": "code",
      "metadata": {
        "colab_type": "code",
        "id": "hIO0AZWCfIR2",
        "colab": {}
      },
      "source": [
        "image = torch.randn((10, 1, 128, 128))\n",
        "autoencoder = ConvolutionalAutoencoderReducedLatentDim(input_shape=(128, 128),\n",
        "                                                       n_blocks=2,\n",
        "                                                       downsampling_method='max-pooling',\n",
        "                                                       upsampling_method='nearest',\n",
        "                                                       layers_per_block=2,\n",
        "                                                       latent_dimensionality=50\n",
        ")\n",
        "output = autoencoder(image)\n",
        "assert output.shape == (10, 1, 128, 128)"
      ],
      "execution_count": 0,
      "outputs": []
    },
    {
      "cell_type": "markdown",
      "metadata": {
        "colab_type": "text",
        "id": "z25DsijeCNvi"
      },
      "source": [
        "## Dataset\n",
        "\n",
        "We split the training set and normalize the input images."
      ]
    },
    {
      "cell_type": "code",
      "metadata": {
        "colab_type": "code",
        "id": "ObQndlPufIR9",
        "colab": {}
      },
      "source": [
        "transform = torchvision.transforms.Compose([\n",
        "     torchvision.transforms.ToTensor(),\n",
        "     torchvision.transforms.Normalize((0.1307,), (0.3081,))  # Mean and std from internet...\n",
        "])"
      ],
      "execution_count": 0,
      "outputs": []
    },
    {
      "cell_type": "code",
      "metadata": {
        "colab_type": "code",
        "id": "1VIGvzG4fISD",
        "colab": {}
      },
      "source": [
        "mnist = torchvision.datasets.MNIST('mnist_dataset', train=True, transform=transform, download=True)"
      ],
      "execution_count": 0,
      "outputs": []
    },
    {
      "cell_type": "code",
      "metadata": {
        "colab_type": "code",
        "id": "K5cYwBL2fISH",
        "colab": {}
      },
      "source": [
        "dataset_len = len(mnist)"
      ],
      "execution_count": 0,
      "outputs": []
    },
    {
      "cell_type": "code",
      "metadata": {
        "colab_type": "code",
        "id": "QPrTXSnZfISN",
        "outputId": "c784954b-e96a-4215-d33a-95c5d1902ef0",
        "colab": {
          "base_uri": "https://localhost:8080/",
          "height": 34
        }
      },
      "source": [
        "dataset_len * 0.95"
      ],
      "execution_count": 9,
      "outputs": [
        {
          "output_type": "execute_result",
          "data": {
            "text/plain": [
              "57000.0"
            ]
          },
          "metadata": {
            "tags": []
          },
          "execution_count": 9
        }
      ]
    },
    {
      "cell_type": "code",
      "metadata": {
        "colab_type": "code",
        "id": "B1BwFJY_fISU",
        "colab": {}
      },
      "source": [
        "mnist_train, mnist_val = torch.utils.data.random_split(mnist, [57000, dataset_len - 57000])"
      ],
      "execution_count": 0,
      "outputs": []
    },
    {
      "cell_type": "code",
      "metadata": {
        "colab_type": "code",
        "id": "b5yH0O1kfISY",
        "colab": {}
      },
      "source": [
        "train_dataloader = torch.utils.data.DataLoader(mnist_train,\n",
        "                                               batch_size=BATCH_SIZE,\n",
        "                                               shuffle=True,\n",
        "                                               num_workers=4)"
      ],
      "execution_count": 0,
      "outputs": []
    },
    {
      "cell_type": "code",
      "metadata": {
        "colab_type": "code",
        "id": "Ybj6UC1qJUaN",
        "colab": {}
      },
      "source": [
        "val_dataloader = torch.utils.data.DataLoader(mnist_val,\n",
        "                                             batch_size=1,\n",
        "                                             num_workers=4)"
      ],
      "execution_count": 0,
      "outputs": []
    },
    {
      "cell_type": "code",
      "metadata": {
        "id": "fqt6_aCtJUaR",
        "colab_type": "code",
        "colab": {
          "base_uri": "https://localhost:8080/",
          "height": 34
        },
        "outputId": "31f5a7d2-7525-4c8a-adef-b43922e167c3"
      },
      "source": [
        "mnist_train[0][0].shape"
      ],
      "execution_count": 13,
      "outputs": [
        {
          "output_type": "execute_result",
          "data": {
            "text/plain": [
              "torch.Size([1, 28, 28])"
            ]
          },
          "metadata": {
            "tags": []
          },
          "execution_count": 13
        }
      ]
    },
    {
      "cell_type": "code",
      "metadata": {
        "colab_type": "code",
        "id": "sIYstBcDJUaV",
        "colab": {}
      },
      "source": [
        "autoencoder = ConvolutionalAutoencoderReducedLatentDim(\n",
        "    input_shape=(28, 28),\n",
        "    n_blocks=2,\n",
        "    downsampling_method='max-pooling',\n",
        "    upsampling_method='nearest',\n",
        "    layers_per_block=2,\n",
        "    latent_dimensionality=50\n",
        ").to(device)"
      ],
      "execution_count": 0,
      "outputs": []
    },
    {
      "cell_type": "code",
      "metadata": {
        "colab_type": "code",
        "id": "fNNQ25Z-fISe",
        "colab": {}
      },
      "source": [
        "# We use 'sum' as reduction to compute the image reconstruction error\n",
        "# instead of the pixel reconstruction error.\n",
        "mse = torch.nn.MSELoss(reduction='sum')\n",
        "adam = torch.optim.Adam(autoencoder.parameters(), lr=0.001)"
      ],
      "execution_count": 0,
      "outputs": []
    },
    {
      "cell_type": "code",
      "metadata": {
        "colab_type": "code",
        "id": "AEwsot_KfISi",
        "colab": {}
      },
      "source": [
        "def train(model, dataloader, criterion, optimizer, epoch, loss_history):\n",
        "    for i, batch in enumerate(dataloader):\n",
        "        images = batch[0].to(device)\n",
        "        optimizer.zero_grad()\n",
        "        reconstructed = model(images)\n",
        "        loss = criterion(reconstructed, images) / BATCH_SIZE\n",
        "        loss.backward()\n",
        "        optimizer.step()\n",
        "        \n",
        "        loss_history.append(loss.item())\n",
        "        if i % 100 == 0:\n",
        "            print('[%d, %d] loss: %.3f' % (epoch + 1, i, loss.item()))"
      ],
      "execution_count": 0,
      "outputs": []
    },
    {
      "cell_type": "code",
      "metadata": {
        "colab_type": "code",
        "id": "GoV4rvPyJUac",
        "colab": {}
      },
      "source": [
        "def test(model, dataloader, criterion, epoch, loss_history):\n",
        "    loss = 0\n",
        "    for i, batch in enumerate(dataloader):\n",
        "        images = batch[0].to(device)\n",
        "        reconstructed = model(images)\n",
        "        loss += criterion(reconstructed, images).item()\n",
        "\n",
        "    mean_loss = loss / (i + 1)\n",
        "    loss_history.append(mean_loss)  \n",
        "    print('[%d, validation] loss: %.3f' % (epoch + 1, mean_loss))"
      ],
      "execution_count": 0,
      "outputs": []
    },
    {
      "cell_type": "code",
      "metadata": {
        "colab_type": "code",
        "id": "CXQlTiq2fISm",
        "outputId": "114b7057-5fd2-474f-b6ba-1ef20e123da0",
        "colab": {
          "base_uri": "https://localhost:8080/",
          "height": 1000
        }
      },
      "source": [
        "training_loss = []\n",
        "validation_loss = []\n",
        "\n",
        "for epoch in range(EPOCHS):\n",
        "    autoencoder.eval()\n",
        "    with torch.no_grad():\n",
        "        test(autoencoder, val_dataloader, mse, epoch, validation_loss)\n",
        "    autoencoder.train()\n",
        "    train(autoencoder, train_dataloader, mse, adam, epoch, training_loss)\n",
        "\n",
        "autoencoder.eval()\n",
        "with torch.no_grad():\n",
        "    test(autoencoder, val_dataloader, mse, epoch, validation_loss)"
      ],
      "execution_count": 18,
      "outputs": [
        {
          "output_type": "stream",
          "text": [
            "[1, validation] loss: 796.878\n",
            "[1, 0] loss: 797.393\n",
            "[1, 100] loss: 517.857\n",
            "[1, 200] loss: 447.814\n",
            "[1, 300] loss: 388.369\n",
            "[1, 400] loss: 334.320\n",
            "[1, 500] loss: 336.224\n",
            "[1, 600] loss: 340.294\n",
            "[1, 700] loss: 287.889\n",
            "[1, 800] loss: 319.420\n",
            "[1, 900] loss: 266.112\n",
            "[1, 1000] loss: 309.234\n",
            "[1, 1100] loss: 285.864\n",
            "[1, 1200] loss: 291.301\n",
            "[1, 1300] loss: 294.726\n",
            "[1, 1400] loss: 317.546\n",
            "[1, 1500] loss: 307.681\n",
            "[1, 1600] loss: 291.154\n",
            "[1, 1700] loss: 300.295\n",
            "[2, validation] loss: 298.423\n",
            "[2, 0] loss: 296.658\n",
            "[2, 100] loss: 262.399\n",
            "[2, 200] loss: 245.063\n",
            "[2, 300] loss: 282.054\n",
            "[2, 400] loss: 291.981\n",
            "[2, 500] loss: 265.405\n",
            "[2, 600] loss: 314.479\n",
            "[2, 700] loss: 259.582\n",
            "[2, 800] loss: 278.393\n",
            "[2, 900] loss: 228.147\n",
            "[2, 1000] loss: 261.743\n",
            "[2, 1100] loss: 280.236\n",
            "[2, 1200] loss: 305.498\n",
            "[2, 1300] loss: 335.973\n",
            "[2, 1400] loss: 268.991\n",
            "[2, 1500] loss: 286.621\n",
            "[2, 1600] loss: 279.265\n",
            "[2, 1700] loss: 267.546\n",
            "[3, validation] loss: 288.585\n",
            "[3, 0] loss: 287.620\n",
            "[3, 100] loss: 294.265\n",
            "[3, 200] loss: 322.566\n",
            "[3, 300] loss: 272.285\n",
            "[3, 400] loss: 308.980\n",
            "[3, 500] loss: 269.108\n",
            "[3, 600] loss: 281.992\n",
            "[3, 700] loss: 278.564\n",
            "[3, 800] loss: 274.175\n",
            "[3, 900] loss: 268.205\n",
            "[3, 1000] loss: 313.970\n",
            "[3, 1100] loss: 291.748\n",
            "[3, 1200] loss: 301.454\n",
            "[3, 1300] loss: 283.257\n",
            "[3, 1400] loss: 299.328\n",
            "[3, 1500] loss: 287.819\n",
            "[3, 1600] loss: 298.169\n",
            "[3, 1700] loss: 301.850\n",
            "[4, validation] loss: 285.417\n",
            "[4, 0] loss: 261.220\n",
            "[4, 100] loss: 269.842\n",
            "[4, 200] loss: 305.492\n",
            "[4, 300] loss: 275.648\n",
            "[4, 400] loss: 276.276\n",
            "[4, 500] loss: 261.514\n",
            "[4, 600] loss: 269.913\n",
            "[4, 700] loss: 292.945\n",
            "[4, 800] loss: 281.059\n",
            "[4, 900] loss: 307.733\n",
            "[4, 1000] loss: 284.549\n",
            "[4, 1100] loss: 261.088\n",
            "[4, 1200] loss: 314.979\n",
            "[4, 1300] loss: 284.402\n",
            "[4, 1400] loss: 267.810\n",
            "[4, 1500] loss: 281.003\n",
            "[4, 1600] loss: 309.215\n",
            "[4, 1700] loss: 284.438\n",
            "[5, validation] loss: 283.844\n",
            "[5, 0] loss: 283.658\n",
            "[5, 100] loss: 294.832\n",
            "[5, 200] loss: 283.271\n",
            "[5, 300] loss: 251.442\n",
            "[5, 400] loss: 254.118\n",
            "[5, 500] loss: 248.005\n",
            "[5, 600] loss: 289.137\n",
            "[5, 700] loss: 291.904\n",
            "[5, 800] loss: 289.411\n",
            "[5, 900] loss: 289.464\n",
            "[5, 1000] loss: 274.730\n",
            "[5, 1100] loss: 282.148\n",
            "[5, 1200] loss: 300.312\n",
            "[5, 1300] loss: 265.047\n",
            "[5, 1400] loss: 281.274\n",
            "[5, 1500] loss: 283.642\n",
            "[5, 1600] loss: 257.455\n",
            "[5, 1700] loss: 236.073\n",
            "[6, validation] loss: 281.963\n",
            "[6, 0] loss: 280.671\n",
            "[6, 100] loss: 248.363\n",
            "[6, 200] loss: 248.047\n",
            "[6, 300] loss: 266.751\n",
            "[6, 400] loss: 263.589\n",
            "[6, 500] loss: 267.603\n",
            "[6, 600] loss: 286.042\n",
            "[6, 700] loss: 279.585\n",
            "[6, 800] loss: 271.346\n",
            "[6, 900] loss: 284.202\n",
            "[6, 1000] loss: 257.419\n",
            "[6, 1100] loss: 281.607\n",
            "[6, 1200] loss: 279.326\n",
            "[6, 1300] loss: 257.927\n",
            "[6, 1400] loss: 292.923\n",
            "[6, 1500] loss: 303.340\n",
            "[6, 1600] loss: 313.970\n",
            "[6, 1700] loss: 283.172\n",
            "[7, validation] loss: 283.530\n",
            "[7, 0] loss: 279.828\n",
            "[7, 100] loss: 241.532\n",
            "[7, 200] loss: 287.082\n",
            "[7, 300] loss: 296.509\n",
            "[7, 400] loss: 260.274\n",
            "[7, 500] loss: 261.458\n",
            "[7, 600] loss: 288.139\n",
            "[7, 700] loss: 257.258\n",
            "[7, 800] loss: 265.066\n",
            "[7, 900] loss: 286.217\n",
            "[7, 1000] loss: 290.070\n",
            "[7, 1100] loss: 310.223\n",
            "[7, 1200] loss: 269.620\n",
            "[7, 1300] loss: 272.714\n",
            "[7, 1400] loss: 280.840\n",
            "[7, 1500] loss: 267.640\n",
            "[7, 1600] loss: 316.333\n",
            "[7, 1700] loss: 299.198\n",
            "[8, validation] loss: 281.523\n",
            "[8, 0] loss: 291.396\n",
            "[8, 100] loss: 289.696\n",
            "[8, 200] loss: 248.972\n",
            "[8, 300] loss: 262.216\n",
            "[8, 400] loss: 265.266\n",
            "[8, 500] loss: 261.008\n",
            "[8, 600] loss: 258.979\n",
            "[8, 700] loss: 278.248\n",
            "[8, 800] loss: 264.405\n",
            "[8, 900] loss: 251.703\n",
            "[8, 1000] loss: 245.776\n",
            "[8, 1100] loss: 326.921\n",
            "[8, 1200] loss: 271.083\n",
            "[8, 1300] loss: 272.339\n",
            "[8, 1400] loss: 297.319\n",
            "[8, 1500] loss: 287.221\n",
            "[8, 1600] loss: 291.971\n",
            "[8, 1700] loss: 272.432\n",
            "[9, validation] loss: 279.345\n",
            "[9, 0] loss: 245.922\n",
            "[9, 100] loss: 278.194\n",
            "[9, 200] loss: 269.062\n",
            "[9, 300] loss: 258.828\n",
            "[9, 400] loss: 269.179\n",
            "[9, 500] loss: 295.712\n",
            "[9, 600] loss: 274.261\n",
            "[9, 700] loss: 261.661\n",
            "[9, 800] loss: 271.869\n",
            "[9, 900] loss: 257.629\n",
            "[9, 1000] loss: 299.094\n",
            "[9, 1100] loss: 291.404\n",
            "[9, 1200] loss: 285.446\n",
            "[9, 1300] loss: 267.215\n",
            "[9, 1400] loss: 304.633\n",
            "[9, 1500] loss: 286.302\n",
            "[9, 1600] loss: 270.270\n",
            "[9, 1700] loss: 251.875\n",
            "[10, validation] loss: 279.620\n",
            "[10, 0] loss: 282.186\n",
            "[10, 100] loss: 248.360\n",
            "[10, 200] loss: 285.108\n",
            "[10, 300] loss: 283.065\n",
            "[10, 400] loss: 288.752\n",
            "[10, 500] loss: 276.185\n",
            "[10, 600] loss: 267.274\n",
            "[10, 700] loss: 262.851\n",
            "[10, 800] loss: 283.072\n",
            "[10, 900] loss: 293.618\n",
            "[10, 1000] loss: 262.280\n",
            "[10, 1100] loss: 270.927\n",
            "[10, 1200] loss: 273.240\n",
            "[10, 1300] loss: 276.121\n",
            "[10, 1400] loss: 288.794\n",
            "[10, 1500] loss: 303.815\n",
            "[10, 1600] loss: 253.202\n",
            "[10, 1700] loss: 260.957\n",
            "[10, validation] loss: 278.856\n"
          ],
          "name": "stdout"
        }
      ]
    },
    {
      "cell_type": "code",
      "metadata": {
        "colab_type": "code",
        "id": "3OKrrQKRfISs",
        "colab": {}
      },
      "source": [
        "mnist_test = torchvision.datasets.MNIST('mnist_dataset', train=False, transform=transform)"
      ],
      "execution_count": 0,
      "outputs": []
    },
    {
      "cell_type": "code",
      "metadata": {
        "colab_type": "code",
        "id": "jmq0GFneiCDo",
        "colab": {}
      },
      "source": [
        "import matplotlib.pyplot as plt\n",
        "import numpy as np"
      ],
      "execution_count": 0,
      "outputs": []
    },
    {
      "cell_type": "code",
      "metadata": {
        "id": "4I6vt-OjST-I",
        "colab_type": "code",
        "colab": {
          "base_uri": "https://localhost:8080/",
          "height": 282
        },
        "outputId": "e6783098-8e49-46ba-94a8-6abc8a056529"
      },
      "source": [
        "plt.plot(training_loss, label='training loss')\n",
        "plt.plot(np.arange(len(validation_loss)) * len(mnist_train) / BATCH_SIZE, validation_loss, label='validation loss')\n",
        "plt.legend()"
      ],
      "execution_count": 21,
      "outputs": [
        {
          "output_type": "execute_result",
          "data": {
            "text/plain": [
              "<matplotlib.legend.Legend at 0x7f2ec3ec79b0>"
            ]
          },
          "metadata": {
            "tags": []
          },
          "execution_count": 21
        },
        {
          "output_type": "display_data",
          "data": {
            "image/png": "[encoded data removed]",
            "text/plain": [
              "<Figure size 432x288 with 1 Axes>"
            ]
          },
          "metadata": {
            "tags": []
          }
        }
      ]
    },
    {
      "cell_type": "code",
      "metadata": {
        "colab_type": "code",
        "id": "DQh4_KZ8h5Aj",
        "colab": {}
      },
      "source": [
        "reconstructed = autoencoder(mnist_test[6][0].to(device).unsqueeze(0))"
      ],
      "execution_count": 0,
      "outputs": []
    },
    {
      "cell_type": "code",
      "metadata": {
        "colab_type": "code",
        "id": "dZnZDQXqiGgv",
        "outputId": "12aaaa78-8147-46b8-807c-d20cfe88b61a",
        "colab": {
          "base_uri": "https://localhost:8080/",
          "height": 218
        }
      },
      "source": [
        "plt.subplot(121)\n",
        "plt.imshow(mnist_test[6][0][0], cmap='gray')\n",
        "plt.subplot(122)\n",
        "plt.imshow(reconstructed[0][0].detach().cpu().numpy(), cmap='gray')"
      ],
      "execution_count": 23,
      "outputs": [
        {
          "output_type": "execute_result",
          "data": {
            "text/plain": [
              "<matplotlib.image.AxesImage at 0x7f2ec3fbdfd0>"
            ]
          },
          "metadata": {
            "tags": []
          },
          "execution_count": 23
        },
        {
          "output_type": "display_data",
          "data": {
            "image/png": "[encoded data removed]",
            "text/plain": [
              "<Figure size 432x288 with 2 Axes>"
            ]
          },
          "metadata": {
            "tags": []
          }
        }
      ]
    },
    {
      "cell_type": "markdown",
      "metadata": {
        "id": "04ODN1xHIHEL",
        "colab_type": "text"
      },
      "source": [
        "# Exercise 2: Transfer Learning\n",
        "\n",
        "## Steps:\n",
        "\n",
        "1. Select a subset of 100 images and their associated labels from the MNIST training data.\n",
        "2. Select one of the previously trained autoencoders.\n",
        "3. Create a digit (0-9) classification model reusing the encoder of the autoencoder and adding the needed fully connected (projection) layer.\n",
        "3. Pretraining: use the weights of the autoencoder as initial values for the network weights and train a classification model on the subset of 100 samples.\n",
        "4. Fine-tuning: do the same, but train the new projection layer with a normal learning rate and the reused part with a very low learning rate.\n",
        "5. From scratch: train the model on the 100 samples without reusing the decoder weights at all.\n",
        "6. Show the accuracy of the four models on the MNIST test set in a table.\n"
      ]
    },
    {
      "cell_type": "code",
      "metadata": {
        "id": "0oYtzXP8IUh5",
        "colab_type": "code",
        "colab": {}
      },
      "source": [
        "classifier = torch.nn.Linear(50, 10).to(device)"
      ],
      "execution_count": 0,
      "outputs": []
    },
    {
      "cell_type": "code",
      "metadata": {
        "id": "adq2d7EnJaW5",
        "colab_type": "code",
        "colab": {}
      },
      "source": [
        "cross_entropy = torch.nn.CrossEntropyLoss()\n",
        "adam = torch.optim.Adam(classifier.parameters(), lr=0.01)"
      ],
      "execution_count": 0,
      "outputs": []
    },
    {
      "cell_type": "code",
      "metadata": {
        "id": "M8UWsjOhJqKN",
        "colab_type": "code",
        "colab": {}
      },
      "source": [
        "training_subset = torch.utils.data.Subset(mnist_train, range(100))\n",
        "subset_dataloader = torch.utils.data.DataLoader(training_subset,\n",
        "                                                batch_size=BATCH_SIZE,\n",
        "                                                shuffle=True,\n",
        "                                                num_workers=4)"
      ],
      "execution_count": 0,
      "outputs": []
    },
    {
      "cell_type": "code",
      "metadata": {
        "colab_type": "code",
        "id": "UWTRqkZ6MEgf",
        "colab": {}
      },
      "source": [
        "def classification_train(classifier, encoder, dataloader, criterion, optimizer, epoch, loss_history):\n",
        "    for i, (images, labels) in enumerate(dataloader):\n",
        "        images, labels = images.to(device), labels.to(device, torch.long)\n",
        "        optimizer.zero_grad()\n",
        "        # To latent space.\n",
        "        codes = encoder(images).detach()\n",
        "        # Classify from latent space.\n",
        "        outputs = classifier(codes)\n",
        "        loss = criterion(outputs, labels)\n",
        "        loss.backward()\n",
        "        optimizer.step()\n",
        "\n",
        "        loss_history.append(loss.item())\n",
        "        print('[%d, %d] loss: %.3f' % (epoch + 1, i, loss.item()))"
      ],
      "execution_count": 0,
      "outputs": []
    },
    {
      "cell_type": "code",
      "metadata": {
        "id": "nv5E5Xc6QiKV",
        "colab_type": "code",
        "colab": {}
      },
      "source": [
        "def classification_test(classifier, encoder, dataloader, criterion, epoch, loss_history):\n",
        "    loss = 0\n",
        "    total = 0\n",
        "    correct = 0\n",
        "    for i, (images, labels) in enumerate(dataloader):\n",
        "        images, labels = images.to(device), labels.to(device, torch.long)\n",
        "        codes = encoder(images).detach()\n",
        "        outputs = classifier(codes)\n",
        "        loss += criterion(outputs, labels).item()\n",
        "        # Compute average accuracy.\n",
        "        _, predicted = torch.max(outputs.data, 1)\n",
        "        total += labels.size(0)\n",
        "        correct += (predicted == labels).sum().item()\n",
        "\n",
        "\n",
        "    mean_loss = loss / (i + 1)\n",
        "    loss_history.append(mean_loss)  \n",
        "    print('[%d, validation] loss: %.3f accuracy: %.3f' % (epoch + 1, mean_loss, 100 * correct / total))"
      ],
      "execution_count": 0,
      "outputs": []
    },
    {
      "cell_type": "code",
      "metadata": {
        "id": "Tx50jNQdNaoX",
        "colab_type": "code",
        "colab": {
          "base_uri": "https://localhost:8080/",
          "height": 1000
        },
        "outputId": "b422c8b1-51ae-4623-b9d5-09a0f208366d"
      },
      "source": [
        "training_loss = []\n",
        "validation_loss = []\n",
        "\n",
        "for epoch in range(80):\n",
        "    classifier.eval()\n",
        "    with torch.no_grad():\n",
        "        classification_test(classifier, autoencoder.encoder, val_dataloader, cross_entropy, epoch, validation_loss)\n",
        "    classifier.train()\n",
        "    classification_train(classifier, autoencoder.encoder, subset_dataloader, cross_entropy, adam, epoch, training_loss)\n",
        "\n",
        "classifier.eval()\n",
        "with torch.no_grad():\n",
        "    classification_test(classifier, autoencoder.encoder, val_dataloader, cross_entropy, epoch, validation_loss)"
      ],
      "execution_count": 0,
      "outputs": [
        {
          "output_type": "stream",
          "text": [
            "[1, validation] loss: 2.461 accuracy: 11.800\n",
            "[1, 0] loss: 2.427\n",
            "[1, 1] loss: 2.292\n",
            "[1, 2] loss: 2.422\n",
            "[1, 3] loss: 2.251\n",
            "[2, validation] loss: 2.252 accuracy: 18.200\n",
            "[2, 0] loss: 2.208\n",
            "[2, 1] loss: 2.172\n",
            "[2, 2] loss: 2.154\n",
            "[2, 3] loss: 2.110\n",
            "[3, validation] loss: 2.203 accuracy: 19.633\n",
            "[3, 0] loss: 2.130\n",
            "[3, 1] loss: 2.191\n",
            "[3, 2] loss: 2.047\n",
            "[3, 3] loss: 1.746\n",
            "[4, validation] loss: 2.153 accuracy: 27.033\n",
            "[4, 0] loss: 2.165\n",
            "[4, 1] loss: 1.921\n",
            "[4, 2] loss: 2.012\n",
            "[4, 3] loss: 1.827\n",
            "[5, validation] loss: 2.088 accuracy: 37.433\n",
            "[5, 0] loss: 1.850\n",
            "[5, 1] loss: 2.065\n",
            "[5, 2] loss: 1.886\n",
            "[5, 3] loss: 2.456\n",
            "[6, validation] loss: 2.024 accuracy: 38.333\n",
            "[6, 0] loss: 2.012\n",
            "[6, 1] loss: 1.703\n",
            "[6, 2] loss: 1.926\n",
            "[6, 3] loss: 1.751\n",
            "[7, validation] loss: 1.937 accuracy: 38.100\n",
            "[7, 0] loss: 1.861\n",
            "[7, 1] loss: 1.754\n",
            "[7, 2] loss: 1.771\n",
            "[7, 3] loss: 2.007\n",
            "[8, validation] loss: 1.870 accuracy: 40.700\n",
            "[8, 0] loss: 1.778\n",
            "[8, 1] loss: 1.662\n",
            "[8, 2] loss: 1.766\n",
            "[8, 3] loss: 1.579\n",
            "[9, validation] loss: 1.812 accuracy: 50.167\n",
            "[9, 0] loss: 1.675\n",
            "[9, 1] loss: 1.666\n",
            "[9, 2] loss: 1.624\n",
            "[9, 3] loss: 1.943\n",
            "[10, validation] loss: 1.769 accuracy: 54.467\n",
            "[10, 0] loss: 1.628\n",
            "[10, 1] loss: 1.651\n",
            "[10, 2] loss: 1.505\n",
            "[10, 3] loss: 1.776\n",
            "[11, validation] loss: 1.710 accuracy: 64.633\n",
            "[11, 0] loss: 1.546\n",
            "[11, 1] loss: 1.555\n",
            "[11, 2] loss: 1.544\n",
            "[11, 3] loss: 1.429\n",
            "[12, validation] loss: 1.647 accuracy: 71.467\n",
            "[12, 0] loss: 1.437\n",
            "[12, 1] loss: 1.506\n",
            "[12, 2] loss: 1.547\n",
            "[12, 3] loss: 1.348\n",
            "[13, validation] loss: 1.600 accuracy: 70.733\n",
            "[13, 0] loss: 1.441\n",
            "[13, 1] loss: 1.512\n",
            "[13, 2] loss: 1.371\n",
            "[13, 3] loss: 1.254\n",
            "[14, validation] loss: 1.558 accuracy: 70.233\n",
            "[14, 0] loss: 1.327\n",
            "[14, 1] loss: 1.389\n",
            "[14, 2] loss: 1.415\n",
            "[14, 3] loss: 1.566\n",
            "[15, validation] loss: 1.518 accuracy: 71.500\n",
            "[15, 0] loss: 1.284\n",
            "[15, 1] loss: 1.354\n",
            "[15, 2] loss: 1.351\n",
            "[15, 3] loss: 1.276\n",
            "[16, validation] loss: 1.470 accuracy: 72.767\n",
            "[16, 0] loss: 1.254\n",
            "[16, 1] loss: 1.343\n",
            "[16, 2] loss: 1.247\n",
            "[16, 3] loss: 1.275\n",
            "[17, validation] loss: 1.431 accuracy: 73.167\n",
            "[17, 0] loss: 1.236\n",
            "[17, 1] loss: 1.225\n",
            "[17, 2] loss: 1.283\n",
            "[17, 3] loss: 1.328\n",
            "[18, validation] loss: 1.395 accuracy: 74.100\n",
            "[18, 0] loss: 1.163\n",
            "[18, 1] loss: 1.196\n",
            "[18, 2] loss: 1.237\n",
            "[18, 3] loss: 1.468\n",
            "[19, validation] loss: 1.350 accuracy: 75.833\n",
            "[19, 0] loss: 1.173\n",
            "[19, 1] loss: 1.257\n",
            "[19, 2] loss: 1.007\n",
            "[19, 3] loss: 1.455\n",
            "[20, validation] loss: 1.319 accuracy: 76.200\n",
            "[20, 0] loss: 1.059\n",
            "[20, 1] loss: 1.187\n",
            "[20, 2] loss: 1.070\n",
            "[20, 3] loss: 1.461\n",
            "[21, validation] loss: 1.302 accuracy: 76.867\n",
            "[21, 0] loss: 1.123\n",
            "[21, 1] loss: 1.067\n",
            "[21, 2] loss: 1.048\n",
            "[21, 3] loss: 1.423\n",
            "[22, validation] loss: 1.283 accuracy: 76.600\n",
            "[22, 0] loss: 1.121\n",
            "[22, 1] loss: 1.045\n",
            "[22, 2] loss: 1.068\n",
            "[22, 3] loss: 0.862\n",
            "[23, validation] loss: 1.260 accuracy: 77.067\n",
            "[23, 0] loss: 1.114\n",
            "[23, 1] loss: 0.839\n",
            "[23, 2] loss: 1.118\n",
            "[23, 3] loss: 1.221\n",
            "[24, validation] loss: 1.226 accuracy: 78.033\n",
            "[24, 0] loss: 1.018\n",
            "[24, 1] loss: 1.026\n",
            "[24, 2] loss: 0.961\n",
            "[24, 3] loss: 0.804\n",
            "[25, validation] loss: 1.208 accuracy: 77.533\n",
            "[25, 0] loss: 1.088\n",
            "[25, 1] loss: 0.896\n",
            "[25, 2] loss: 0.977\n",
            "[25, 3] loss: 0.704\n",
            "[26, validation] loss: 1.199 accuracy: 75.267\n",
            "[26, 0] loss: 1.035\n",
            "[26, 1] loss: 0.848\n",
            "[26, 2] loss: 0.979\n",
            "[26, 3] loss: 1.072\n",
            "[27, validation] loss: 1.170 accuracy: 75.733\n",
            "[27, 0] loss: 0.924\n",
            "[27, 1] loss: 1.027\n",
            "[27, 2] loss: 0.840\n",
            "[27, 3] loss: 0.896\n",
            "[28, validation] loss: 1.135 accuracy: 77.467\n",
            "[28, 0] loss: 0.871\n",
            "[28, 1] loss: 0.986\n",
            "[28, 2] loss: 0.840\n",
            "[28, 3] loss: 0.756\n",
            "[29, validation] loss: 1.112 accuracy: 78.567\n",
            "[29, 0] loss: 0.826\n",
            "[29, 1] loss: 0.886\n",
            "[29, 2] loss: 0.866\n",
            "[29, 3] loss: 1.167\n",
            "[30, validation] loss: 1.090 accuracy: 78.767\n",
            "[30, 0] loss: 0.748\n",
            "[30, 1] loss: 0.941\n",
            "[30, 2] loss: 0.823\n",
            "[30, 3] loss: 1.088\n",
            "[31, validation] loss: 1.055 accuracy: 80.800\n",
            "[31, 0] loss: 0.834\n",
            "[31, 1] loss: 0.840\n",
            "[31, 2] loss: 0.833\n",
            "[31, 3] loss: 0.633\n",
            "[32, validation] loss: 1.025 accuracy: 83.333\n",
            "[32, 0] loss: 0.806\n",
            "[32, 1] loss: 0.817\n",
            "[32, 2] loss: 0.812\n",
            "[32, 3] loss: 0.720\n",
            "[33, validation] loss: 1.006 accuracy: 83.233\n",
            "[33, 0] loss: 0.852\n",
            "[33, 1] loss: 0.737\n",
            "[33, 2] loss: 0.789\n",
            "[33, 3] loss: 0.882\n",
            "[34, validation] loss: 0.998 accuracy: 80.867\n",
            "[34, 0] loss: 0.813\n",
            "[34, 1] loss: 0.728\n",
            "[34, 2] loss: 0.768\n",
            "[34, 3] loss: 0.745\n",
            "[35, validation] loss: 0.989 accuracy: 79.600\n",
            "[35, 0] loss: 0.642\n",
            "[35, 1] loss: 0.687\n",
            "[35, 2] loss: 0.918\n",
            "[35, 3] loss: 0.840\n",
            "[36, validation] loss: 0.986 accuracy: 78.767\n",
            "[36, 0] loss: 0.670\n",
            "[36, 1] loss: 0.851\n",
            "[36, 2] loss: 0.684\n",
            "[36, 3] loss: 0.781\n",
            "[37, validation] loss: 0.980 accuracy: 78.467\n",
            "[37, 0] loss: 0.672\n",
            "[37, 1] loss: 0.744\n",
            "[37, 2] loss: 0.619\n",
            "[37, 3] loss: 1.755\n",
            "[38, validation] loss: 0.967 accuracy: 78.867\n",
            "[38, 0] loss: 0.732\n",
            "[38, 1] loss: 0.710\n",
            "[38, 2] loss: 0.705\n",
            "[38, 3] loss: 0.417\n",
            "[39, validation] loss: 0.940 accuracy: 80.333\n",
            "[39, 0] loss: 0.736\n",
            "[39, 1] loss: 0.669\n",
            "[39, 2] loss: 0.629\n",
            "[39, 3] loss: 0.921\n",
            "[40, validation] loss: 0.921 accuracy: 80.700\n",
            "[40, 0] loss: 0.571\n",
            "[40, 1] loss: 0.809\n",
            "[40, 2] loss: 0.668\n",
            "[40, 3] loss: 0.561\n",
            "[41, validation] loss: 0.906 accuracy: 81.267\n",
            "[41, 0] loss: 0.674\n",
            "[41, 1] loss: 0.549\n",
            "[41, 2] loss: 0.775\n",
            "[41, 3] loss: 0.645\n",
            "[42, validation] loss: 0.897 accuracy: 80.967\n",
            "[42, 0] loss: 0.688\n",
            "[42, 1] loss: 0.657\n",
            "[42, 2] loss: 0.602\n",
            "[42, 3] loss: 0.718\n",
            "[43, validation] loss: 0.893 accuracy: 80.100\n",
            "[43, 0] loss: 0.643\n",
            "[43, 1] loss: 0.662\n",
            "[43, 2] loss: 0.657\n",
            "[43, 3] loss: 0.374\n",
            "[44, validation] loss: 0.891 accuracy: 79.100\n",
            "[44, 0] loss: 0.548\n",
            "[44, 1] loss: 0.682\n",
            "[44, 2] loss: 0.658\n",
            "[44, 3] loss: 0.657\n",
            "[45, validation] loss: 0.875 accuracy: 80.167\n",
            "[45, 0] loss: 0.704\n",
            "[45, 1] loss: 0.608\n",
            "[45, 2] loss: 0.565\n",
            "[45, 3] loss: 0.266\n",
            "[46, validation] loss: 0.849 accuracy: 82.533\n",
            "[46, 0] loss: 0.588\n",
            "[46, 1] loss: 0.678\n",
            "[46, 2] loss: 0.550\n",
            "[46, 3] loss: 0.376\n",
            "[47, validation] loss: 0.835 accuracy: 82.933\n",
            "[47, 0] loss: 0.518\n",
            "[47, 1] loss: 0.739\n",
            "[47, 2] loss: 0.493\n",
            "[47, 3] loss: 0.674\n",
            "[48, validation] loss: 0.832 accuracy: 82.233\n",
            "[48, 0] loss: 0.604\n",
            "[48, 1] loss: 0.663\n",
            "[48, 2] loss: 0.431\n",
            "[48, 3] loss: 0.842\n",
            "[49, validation] loss: 0.831 accuracy: 81.600\n",
            "[49, 0] loss: 0.644\n",
            "[49, 1] loss: 0.522\n",
            "[49, 2] loss: 0.544\n",
            "[49, 3] loss: 0.574\n",
            "[50, validation] loss: 0.835 accuracy: 81.267\n",
            "[50, 0] loss: 0.646\n",
            "[50, 1] loss: 0.594\n",
            "[50, 2] loss: 0.483\n",
            "[50, 3] loss: 0.376\n",
            "[51, validation] loss: 0.832 accuracy: 81.467\n",
            "[51, 0] loss: 0.601\n",
            "[51, 1] loss: 0.550\n",
            "[51, 2] loss: 0.541\n",
            "[51, 3] loss: 0.416\n",
            "[52, validation] loss: 0.823 accuracy: 81.167\n",
            "[52, 0] loss: 0.501\n",
            "[52, 1] loss: 0.533\n",
            "[52, 2] loss: 0.609\n",
            "[52, 3] loss: 0.544\n",
            "[53, validation] loss: 0.811 accuracy: 80.800\n",
            "[53, 0] loss: 0.585\n",
            "[53, 1] loss: 0.500\n",
            "[53, 2] loss: 0.525\n",
            "[53, 3] loss: 0.484\n",
            "[54, validation] loss: 0.799 accuracy: 81.467\n",
            "[54, 0] loss: 0.469\n",
            "[54, 1] loss: 0.558\n",
            "[54, 2] loss: 0.557\n",
            "[54, 3] loss: 0.420\n",
            "[55, validation] loss: 0.794 accuracy: 81.100\n",
            "[55, 0] loss: 0.572\n",
            "[55, 1] loss: 0.412\n",
            "[55, 2] loss: 0.569\n",
            "[55, 3] loss: 0.562\n",
            "[56, validation] loss: 0.783 accuracy: 81.633\n",
            "[56, 0] loss: 0.432\n",
            "[56, 1] loss: 0.568\n",
            "[56, 2] loss: 0.516\n",
            "[56, 3] loss: 0.564\n",
            "[57, validation] loss: 0.772 accuracy: 82.267\n",
            "[57, 0] loss: 0.509\n",
            "[57, 1] loss: 0.488\n",
            "[57, 2] loss: 0.514\n",
            "[57, 3] loss: 0.452\n",
            "[58, validation] loss: 0.757 accuracy: 83.833\n",
            "[58, 0] loss: 0.549\n",
            "[58, 1] loss: 0.414\n",
            "[58, 2] loss: 0.490\n",
            "[58, 3] loss: 0.725\n",
            "[59, validation] loss: 0.751 accuracy: 84.533\n",
            "[59, 0] loss: 0.514\n",
            "[59, 1] loss: 0.502\n",
            "[59, 2] loss: 0.439\n",
            "[59, 3] loss: 0.638\n",
            "[60, validation] loss: 0.742 accuracy: 85.000\n",
            "[60, 0] loss: 0.462\n",
            "[60, 1] loss: 0.459\n",
            "[60, 2] loss: 0.525\n",
            "[60, 3] loss: 0.684\n",
            "[61, validation] loss: 0.737 accuracy: 85.033\n",
            "[61, 0] loss: 0.437\n",
            "[61, 1] loss: 0.433\n",
            "[61, 2] loss: 0.603\n",
            "[61, 3] loss: 0.449\n",
            "[62, validation] loss: 0.730 accuracy: 85.133\n",
            "[62, 0] loss: 0.355\n",
            "[62, 1] loss: 0.469\n",
            "[62, 2] loss: 0.613\n",
            "[62, 3] loss: 0.435\n",
            "[63, validation] loss: 0.719 accuracy: 85.467\n",
            "[63, 0] loss: 0.336\n",
            "[63, 1] loss: 0.509\n",
            "[63, 2] loss: 0.522\n",
            "[63, 3] loss: 0.606\n",
            "[64, validation] loss: 0.716 accuracy: 84.533\n",
            "[64, 0] loss: 0.438\n",
            "[64, 1] loss: 0.431\n",
            "[64, 2] loss: 0.471\n",
            "[64, 3] loss: 0.568\n",
            "[65, validation] loss: 0.729 accuracy: 82.567\n",
            "[65, 0] loss: 0.493\n",
            "[65, 1] loss: 0.467\n",
            "[65, 2] loss: 0.380\n",
            "[65, 3] loss: 0.406\n",
            "[66, validation] loss: 0.737 accuracy: 81.133\n",
            "[66, 0] loss: 0.504\n",
            "[66, 1] loss: 0.445\n",
            "[66, 2] loss: 0.387\n",
            "[66, 3] loss: 0.369\n",
            "[67, validation] loss: 0.731 accuracy: 81.433\n",
            "[67, 0] loss: 0.300\n",
            "[67, 1] loss: 0.546\n",
            "[67, 2] loss: 0.478\n",
            "[67, 3] loss: 0.343\n",
            "[68, validation] loss: 0.728 accuracy: 81.600\n",
            "[68, 0] loss: 0.389\n",
            "[68, 1] loss: 0.504\n",
            "[68, 2] loss: 0.392\n",
            "[68, 3] loss: 0.495\n",
            "[69, validation] loss: 0.715 accuracy: 82.033\n",
            "[69, 0] loss: 0.400\n",
            "[69, 1] loss: 0.490\n",
            "[69, 2] loss: 0.372\n",
            "[69, 3] loss: 0.528\n",
            "[70, validation] loss: 0.693 accuracy: 84.000\n",
            "[70, 0] loss: 0.433\n",
            "[70, 1] loss: 0.396\n",
            "[70, 2] loss: 0.414\n",
            "[70, 3] loss: 0.480\n",
            "[71, validation] loss: 0.683 accuracy: 85.300\n",
            "[71, 0] loss: 0.399\n",
            "[71, 1] loss: 0.386\n",
            "[71, 2] loss: 0.472\n",
            "[71, 3] loss: 0.223\n",
            "[72, validation] loss: 0.674 accuracy: 85.433\n",
            "[72, 0] loss: 0.401\n",
            "[72, 1] loss: 0.312\n",
            "[72, 2] loss: 0.493\n",
            "[72, 3] loss: 0.531\n",
            "[73, validation] loss: 0.666 accuracy: 85.467\n",
            "[73, 0] loss: 0.404\n",
            "[73, 1] loss: 0.338\n",
            "[73, 2] loss: 0.430\n",
            "[73, 3] loss: 0.648\n",
            "[74, validation] loss: 0.657 accuracy: 86.067\n",
            "[74, 0] loss: 0.377\n",
            "[74, 1] loss: 0.382\n",
            "[74, 2] loss: 0.409\n",
            "[74, 3] loss: 0.488\n",
            "[75, validation] loss: 0.656 accuracy: 85.467\n",
            "[75, 0] loss: 0.361\n",
            "[75, 1] loss: 0.382\n",
            "[75, 2] loss: 0.380\n",
            "[75, 3] loss: 0.702\n",
            "[76, validation] loss: 0.657 accuracy: 84.933\n",
            "[76, 0] loss: 0.337\n",
            "[76, 1] loss: 0.376\n",
            "[76, 2] loss: 0.464\n",
            "[76, 3] loss: 0.222\n",
            "[77, validation] loss: 0.661 accuracy: 84.333\n",
            "[77, 0] loss: 0.348\n",
            "[77, 1] loss: 0.371\n",
            "[77, 2] loss: 0.409\n",
            "[77, 3] loss: 0.579\n",
            "[78, validation] loss: 0.659 accuracy: 84.000\n",
            "[78, 0] loss: 0.350\n",
            "[78, 1] loss: 0.366\n",
            "[78, 2] loss: 0.396\n",
            "[78, 3] loss: 0.632\n",
            "[79, validation] loss: 0.647 accuracy: 85.067\n",
            "[79, 0] loss: 0.343\n",
            "[79, 1] loss: 0.356\n",
            "[79, 2] loss: 0.397\n",
            "[79, 3] loss: 0.486\n",
            "[80, validation] loss: 0.642 accuracy: 85.200\n",
            "[80, 0] loss: 0.324\n",
            "[80, 1] loss: 0.387\n",
            "[80, 2] loss: 0.414\n",
            "[80, 3] loss: 0.275\n",
            "[81, validation] loss: 0.645 accuracy: 84.967\n",
            "[81, 0] loss: 0.345\n",
            "[81, 1] loss: 0.353\n",
            "[81, 2] loss: 0.421\n",
            "[81, 3] loss: 0.436\n",
            "[82, validation] loss: 0.648 accuracy: 84.700\n",
            "[82, 0] loss: 0.286\n",
            "[82, 1] loss: 0.346\n",
            "[82, 2] loss: 0.474\n",
            "[82, 3] loss: 0.471\n",
            "[83, validation] loss: 0.641 accuracy: 85.300\n",
            "[83, 0] loss: 0.386\n",
            "[83, 1] loss: 0.396\n",
            "[83, 2] loss: 0.283\n",
            "[83, 3] loss: 0.571\n",
            "[84, validation] loss: 0.626 accuracy: 85.800\n",
            "[84, 0] loss: 0.320\n",
            "[84, 1] loss: 0.405\n",
            "[84, 2] loss: 0.338\n",
            "[84, 3] loss: 0.289\n",
            "[85, validation] loss: 0.621 accuracy: 86.267\n",
            "[85, 0] loss: 0.364\n",
            "[85, 1] loss: 0.418\n",
            "[85, 2] loss: 0.280\n",
            "[85, 3] loss: 0.157\n",
            "[86, validation] loss: 0.617 accuracy: 86.333\n",
            "[86, 0] loss: 0.316\n",
            "[86, 1] loss: 0.334\n",
            "[86, 2] loss: 0.379\n",
            "[86, 3] loss: 0.314\n",
            "[87, validation] loss: 0.617 accuracy: 85.867\n",
            "[87, 0] loss: 0.414\n",
            "[87, 1] loss: 0.326\n",
            "[87, 2] loss: 0.281\n",
            "[87, 3] loss: 0.298\n"
          ],
          "name": "stdout"
        }
      ]
    },
    {
      "cell_type": "code",
      "metadata": {
        "colab_type": "code",
        "id": "3g7sNGZChB9G",
        "colab": {}
      },
      "source": [
        "plt.plot(training_loss, label='training loss')\n",
        "plt.plot(np.arange(len(validation_loss)) * len(training_subset) / BATCH_SIZE, validation_loss, label='validation loss')\n",
        "plt.legend();"
      ],
      "execution_count": 0,
      "outputs": []
    },
    {
      "cell_type": "code",
      "metadata": {
        "id": "f8HSHSVvRmjS",
        "colab_type": "code",
        "colab": {}
      },
      "source": [
        "test_dataloader = torch.utils.data.DataLoader(mnist_test,\n",
        "                                             batch_size=1,\n",
        "                                             num_workers=4)"
      ],
      "execution_count": 0,
      "outputs": []
    },
    {
      "cell_type": "code",
      "metadata": {
        "id": "B2dNc7aeap_8",
        "colab_type": "code",
        "colab": {}
      },
      "source": [
        "classification_test(classifier, autoencoder.encoder, test_dataloader, cross_entropy, epoch, [])"
      ],
      "execution_count": 0,
      "outputs": []
    }
  ]
}