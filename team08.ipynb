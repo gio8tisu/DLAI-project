{
  "nbformat": 4,
  "nbformat_minor": 0,
  "metadata": {
    "accelerator": "GPU",
    "colab": {
      "name": "team08.ipynb",
      "provenance": [],
      "collapsed_sections": []
    },
    "kernelspec": {
      "display_name": "Python 3",
      "language": "python",
      "name": "python3"
    },
    "language_info": {
      "codemirror_mode": {
        "name": "ipython",
        "version": 3
      },
      "file_extension": ".py",
      "mimetype": "text/x-python",
      "name": "python",
      "nbconvert_exporter": "python",
      "pygments_lexer": "ipython3",
      "version": "3.7.4"
    }
  },
  "cells": [
    {
      "cell_type": "code",
      "metadata": {
        "colab_type": "code",
        "id": "FaWaYXG1fIRm",
        "colab": {}
      },
      "source": [
        "import torch\n",
        "import torch.nn\n",
        "import torch.optim\n",
        "import torchvision.datasets\n",
        "import torchvision.transforms\n",
        "import torch.utils.data"
      ],
      "execution_count": 0,
      "outputs": []
    },
    {
      "cell_type": "code",
      "metadata": {
        "colab_type": "code",
        "id": "GA4Aiz2Giu5e",
        "colab": {}
      },
      "source": [
        "torch.manual_seed(0)\n",
        "device = 'cuda:0' if torch.cuda.is_available() else 'cpu'"
      ],
      "execution_count": 0,
      "outputs": []
    },
    {
      "cell_type": "code",
      "metadata": {
        "colab_type": "code",
        "id": "-MjS3A1UNFJF",
        "colab": {}
      },
      "source": [
        "BATCH_SIZE = 32\n",
        "EPOCHS = 10"
      ],
      "execution_count": 0,
      "outputs": []
    },
    {
      "cell_type": "markdown",
      "metadata": {
        "colab_type": "text",
        "id": "GgHZsI0VyaUJ"
      },
      "source": [
        "# TODO\n",
        "\n",
        "* Early stopping at minimum validation loss\n",
        "* Plot with loss curves for autoencoder with different bottleneck sizes\n",
        "* Maybe regularization methods at transfer-learning step"
      ]
    },
    {
      "cell_type": "markdown",
      "metadata": {
        "colab_type": "text",
        "id": "iyK3i7pS9gSH"
      },
      "source": [
        "# Exercise 1: Convolutional Autoencoder\n",
        "\n",
        "Steps:\n",
        "1. Load MNIST train and test sets. Split the original training data into 95% training and 5% validation data.\n",
        "2. Implement a convolutional autoencoder (with separate Encoder and Decoder modules).\n",
        "3. Train the convolutional autoencoder, with different bottleneck sizes. Plot the train and validation loss curves of all autoencoders in the same figure.\n",
        "4. Compute the avg. image reconstruction error (MSE) of the trained models on the MNIST validation and test sets. Show the results in a table, including #params of each model.\n",
        "5. Select one of the autoencoders and feed it 5 random MNIST images from the test set. Show them along with their reconstructions.\n",
        "Generate 5 new images by injecting random values as input to the decoder. Show them.\n"
      ]
    },
    {
      "cell_type": "markdown",
      "metadata": {
        "colab_type": "text",
        "id": "-Vf3xEV29k0y"
      },
      "source": [
        "## Module definition\n",
        "\n",
        "Our autoencoder will be defined by the `ConvolutionalAutoencoder` class which uses a `ConvolutionalEncoder` object to encode followed a `ConvolutionalDecoder` object to decode. The `ConvolutionalEncoder` and `ConvolutionalDecoder` classes make use of `n_blocks` `ConvolutionalBlock`s or `DeconvolutionalBlock`s which are composed of `layer_per_block` convolution layers with the same number of filters.\n",
        "\n",
        "The dimensionality is reduced by applying 2-factor spatial downsampling at each block. The number of filters is doubled for each subsequent block. The decoder makes the exact oposite process.\n",
        "\n",
        "The final layer uses a tanh activation.\n",
        "\n",
        "Very similar to the `ConvolutionalAutoencoder`, there is the `ConvolutionalAutoencoderReducedLatentDim` class which includes 2 fully-connected layers between the encoder and decoder. The first one projects from the encoder's feature maps to a vector of `latent_dimensionality` dimensions, the second one does the opposite."
      ]
    },
    {
      "cell_type": "code",
      "metadata": {
        "colab_type": "code",
        "id": "EknaWIjxJUZ1",
        "colab": {}
      },
      "source": [
        "# %load models.py\n",
        "import torch\n",
        "import torch.nn\n",
        "\n",
        "\n",
        "class ConvolutionalAutoencoder(torch.nn.Module):\n",
        "\n",
        "    def __init__(self, n_blocks, downsampling_method, upsampling_method,\n",
        "                 layers_per_block=2):\n",
        "        super().__init__()\n",
        "        self.n_blocks = n_blocks\n",
        "        self.downsampling_method = downsampling_method\n",
        "        self.upsampling_method = upsampling_method\n",
        "\n",
        "        self.encoder = ConvolutionalEncoder(n_blocks, downsampling_method,\n",
        "                                            layers_per_block=layers_per_block)\n",
        "        self.decoder = ConvolutionalDecoder(n_blocks, upsampling_method,\n",
        "                                            self.encoder.output_channels,\n",
        "                                            layers_per_block)\n",
        "\n",
        "    def forward(self, x):\n",
        "        code = self.encoder(x)\n",
        "        reconstruction = self.decoder(code)\n",
        "        return reconstruction\n",
        "\n",
        "\n",
        "class ConvolutionalAutoencoderReducedLatentDim(torch.nn.Module):\n",
        "\n",
        "    def __init__(self, input_shape, n_blocks, downsampling_method, upsampling_method,\n",
        "                 layers_per_block=2, latent_dimensionality=50):\n",
        "        super().__init__()\n",
        "        self.n_blocks = n_blocks\n",
        "        self.downsampling_method = downsampling_method\n",
        "        self.upsampling_method = upsampling_method\n",
        "        self.latent_dimensionality = latent_dimensionality\n",
        "\n",
        "        # Encoder: Convolutional blocks + Linear\n",
        "        self.convolutional_encoder = ConvolutionalEncoder(\n",
        "            n_blocks, downsampling_method, layers_per_block=layers_per_block)\n",
        "        self.encoder_output_shape = (self.convolutional_encoder.init_filters * 2 ** (n_blocks - 1),\n",
        "                                     input_shape[0] // 2 ** n_blocks,\n",
        "                                     input_shape[1] // 2 ** n_blocks)\n",
        "        self.encoder = torch.nn.Sequential(\n",
        "            self.convolutional_encoder,\n",
        "            torch.nn.Flatten(),\n",
        "            torch.nn.Linear(self.encoder_output_shape[0] * self.encoder_output_shape[1] * self.encoder_output_shape[2],\n",
        "                            latent_dimensionality),\n",
        "            torch.nn.ReLU()\n",
        "        )\n",
        "\n",
        "        # Decoder: Linear + Convolutional blocks\n",
        "        self.linear_decoder = torch.nn.Sequential(\n",
        "            torch.nn.Linear(latent_dimensionality,\n",
        "                            self.encoder_output_shape[0] * self.encoder_output_shape[1] * self.encoder_output_shape[2]),\n",
        "            torch.nn.ReLU()\n",
        "        )\n",
        "        self.convolutional_decoder = ConvolutionalDecoder(\n",
        "            n_blocks, upsampling_method,\n",
        "            self.convolutional_encoder.output_channels, layers_per_block)\n",
        "\n",
        "    def forward(self, x):\n",
        "        code = self.encoder(x)\n",
        "        reconstruction = self.convolutional_decoder(\n",
        "            self.linear_decoder(code).view((-1,) + self.encoder_output_shape))\n",
        "        return reconstruction\n",
        "\n",
        "\n",
        "class ConvolutionalEncoder(torch.nn.Module):\n",
        "    DOWNSAMPLING_METHODS = [\"max-pooling\", \"avg-pooling\", \"stride-2\"]\n",
        "\n",
        "    def __init__(self, n_blocks, downsampling_method, init_filters=16,\n",
        "                 layers_per_block=2, kernel_size=5, input_channels=1):\n",
        "        super().__init__()\n",
        "        self.n_blocks = n_blocks\n",
        "        assert downsampling_method in self.DOWNSAMPLING_METHODS\n",
        "        self.downsampling_method = downsampling_method\n",
        "        self.layers_per_block = layers_per_block\n",
        "        self.init_filters = init_filters\n",
        "        self.kernel_size = kernel_size\n",
        "        self.input_channels = input_channels\n",
        "\n",
        "        layers = []\n",
        "\n",
        "        # First layer so we have <input_channels> channels.\n",
        "        n_filters = init_filters\n",
        "        layers.append(\n",
        "            ConvolutionalBlock(input_channels, n_filters, kernel_size, 1))\n",
        "\n",
        "        # Encoding blocks.\n",
        "        input_channels = n_filters\n",
        "        for _ in range(n_blocks):\n",
        "            if downsampling_method == \"max-pooling\":\n",
        "                # Convolutional block + max pooling.\n",
        "                conv_block = torch.nn.Sequential(\n",
        "                    ConvolutionalBlock(input_channels, n_filters, kernel_size,\n",
        "                                       layers_per_block),\n",
        "                    torch.nn.MaxPool2d(2)\n",
        "                )\n",
        "            elif downsampling_method == \"avg-pooling\":\n",
        "                # Convolutional block + average pooling.\n",
        "                conv_block = torch.nn.Sequential(\n",
        "                    ConvolutionalBlock(input_channels, n_filters, kernel_size,\n",
        "                                       layers_per_block),\n",
        "                    torch.nn.AvgPool2d(2)\n",
        "                )\n",
        "            else:\n",
        "                # Stride-2 convolution.\n",
        "                conv_block = ConvolutionalBlock(input_channels, n_filters,\n",
        "                                                kernel_size,\n",
        "                                                layers_per_block,\n",
        "                                                last_stride=2)\n",
        "            layers.append(conv_block)\n",
        "            # Double the number of filters.\n",
        "            input_channels = n_filters\n",
        "            n_filters = 2 * n_filters\n",
        "\n",
        "        self.encoder = torch.nn.Sequential(*layers)\n",
        "        self.output_channels = input_channels\n",
        "\n",
        "    def forward(self, x):\n",
        "        return self.encoder(x)\n",
        "\n",
        "\n",
        "class ConvolutionalDecoder(torch.nn.Module):\n",
        "    UPSAMPLING_METHODS = [\"transposed\", \"bilinear\", \"bicubic\", \"nearest\"]\n",
        "\n",
        "    def __init__(self, n_blocks, upsampling_method, input_channels,\n",
        "                 layers_per_block=2, kernel_size=5, output_channels=1):\n",
        "        super().__init__()\n",
        "        self.n_blocks = n_blocks\n",
        "        assert upsampling_method in self.UPSAMPLING_METHODS\n",
        "        self.upsampling_method = upsampling_method\n",
        "        self.layers_per_block = layers_per_block\n",
        "        self.input_channels = input_channels\n",
        "        self.kernel_size = kernel_size\n",
        "        self.output_channels = output_channels\n",
        "\n",
        "        layers = []\n",
        "\n",
        "        # Decoding blocks.\n",
        "        n_filters = input_channels\n",
        "        for _ in range(n_blocks):\n",
        "            if upsampling_method == \"transposed\":\n",
        "                # Deconvolutional block\n",
        "                conv_block = DeconvolutionalBlock(input_channels, n_filters,\n",
        "                                                  kernel_size, layers_per_block,\n",
        "                                                  stride=2)\n",
        "            else:\n",
        "                # Upsampling.\n",
        "                conv_block = torch.nn.Sequential(\n",
        "                    ConvolutionalBlock(input_channels, n_filters, kernel_size,\n",
        "                                       layers_per_block),\n",
        "                    torch.nn.Upsample(scale_factor=2, mode=upsampling_method)\n",
        "                )\n",
        "            layers.append(conv_block)\n",
        "            # Half the number of filters.\n",
        "            input_channels = n_filters\n",
        "            n_filters = n_filters // 2\n",
        "\n",
        "        # Last layer so we have <output_channels> channel.\n",
        "        layers.append(torch.nn.Conv2d(input_channels, output_channels, kernel_size,\n",
        "                                      padding=kernel_size // 2))\n",
        "        layers.append(torch.nn.Tanh())\n",
        "\n",
        "        self.decoder = torch.nn.Sequential(*layers)\n",
        "\n",
        "    def forward(self, x):\n",
        "        return self.decoder(x)\n",
        "\n",
        "\n",
        "class ConvolutionalBlock(torch.nn.Module):\n",
        "    \"\"\"\n",
        "\n",
        "    Applies n_layers convolutional layers with the same number of\n",
        "    filters and filter sizes with ReLU activations\n",
        "    keeping the same spacial size.\n",
        "    \"\"\"\n",
        "\n",
        "    def __init__(self, input_channels, n_filters, kernel_size, n_layers,\n",
        "                 last_stride=1):\n",
        "        super().__init__()\n",
        "        layers = []\n",
        "        padding = kernel_size // 2  # To keep the same size.\n",
        "\n",
        "        for i in range(n_layers):\n",
        "            if i == 0:  # First layer with correct input channels.\n",
        "                layers.append(torch.nn.Conv2d(input_channels, n_filters,\n",
        "                                              kernel_size, padding=padding))\n",
        "            elif 0 < i < n_layers:  # Intermediate layers.\n",
        "                layers.append(torch.nn.Conv2d(n_filters, n_filters,\n",
        "                                              kernel_size, padding=padding))\n",
        "            else:  # Last layer with stride.\n",
        "                layers.append(torch.nn.Conv2d(n_filters, n_filters,\n",
        "                                              kernel_size, last_stride, padding))\n",
        "            layers.append(torch.nn.ReLU())\n",
        "\n",
        "        # To sequentially apply the layers.\n",
        "        self.block = torch.nn.Sequential(*layers)\n",
        "\n",
        "    def forward(self, x):\n",
        "        return self.block(x)\n",
        "\n",
        "\n",
        "class DeconvolutionalBlock(torch.nn.Module):\n",
        "    \"\"\"\n",
        "\n",
        "    Applies a transposed convolution followed by n_layers-1 convolutional\n",
        "    layers with the same number of filters and filter sizes with ReLU\n",
        "    activations keeping the same spacial size.\n",
        "    \"\"\"\n",
        "\n",
        "    def __init__(self, input_channels, n_filters, kernel_size, n_layers, stride):\n",
        "        super().__init__()\n",
        "        layers = []\n",
        "        padding = kernel_size // 2\n",
        "\n",
        "        # Transposed convolution layer.\n",
        "        layers.append(torch.nn.ConvTranspose2d(input_channels, n_filters,\n",
        "                                               kernel_size, stride, padding, 1))\n",
        "        layers.append(torch.nn.ReLU())\n",
        "\n",
        "        for _ in range(n_layers - 1):\n",
        "            layers.append(torch.nn.Conv2d(n_filters, n_filters, kernel_size,\n",
        "                                          padding=padding))\n",
        "            layers.append(torch.nn.ReLU())\n",
        "\n",
        "        # To sequentially apply the layers.\n",
        "        self.block = torch.nn.Sequential(*layers)\n",
        "\n",
        "    def forward(self, x):\n",
        "        return self.block(x)"
      ],
      "execution_count": 0,
      "outputs": []
    },
    {
      "cell_type": "markdown",
      "metadata": {
        "colab_type": "text",
        "id": "u_ZD0rgWBhJa"
      },
      "source": [
        "To do a quick test, we will pass a random image and check if the output is of the same size as the input."
      ]
    },
    {
      "cell_type": "code",
      "metadata": {
        "colab_type": "code",
        "id": "hIO0AZWCfIR2",
        "colab": {}
      },
      "source": [
        "image = torch.randn((10, 1, 128, 128))\n",
        "autoencoder = ConvolutionalAutoencoderReducedLatentDim(input_shape=(128, 128),\n",
        "                                                       n_blocks=2,\n",
        "                                                       downsampling_method='max-pooling',\n",
        "                                                       upsampling_method='nearest',\n",
        "                                                       layers_per_block=2,\n",
        "                                                       latent_dimensionality=50)\n",
        "output = autoencoder(image)\n",
        "assert output.shape == (10, 1, 128, 128)"
      ],
      "execution_count": 0,
      "outputs": []
    },
    {
      "cell_type": "markdown",
      "metadata": {
        "colab_type": "text",
        "id": "z25DsijeCNvi"
      },
      "source": [
        "## Dataset\n",
        "\n",
        "We split the training set and normalize the input images with mean and variance of the training set found on the internet."
      ]
    },
    {
      "cell_type": "code",
      "metadata": {
        "colab_type": "code",
        "id": "ObQndlPufIR9",
        "colab": {}
      },
      "source": [
        "transform = torchvision.transforms.Compose([\n",
        "     torchvision.transforms.ToTensor(),\n",
        "     torchvision.transforms.Normalize((0.1307,), (0.3081,))  # Mean and std from internet...\n",
        "])"
      ],
      "execution_count": 0,
      "outputs": []
    },
    {
      "cell_type": "code",
      "metadata": {
        "colab_type": "code",
        "id": "1VIGvzG4fISD",
        "colab": {}
      },
      "source": [
        "mnist = torchvision.datasets.MNIST('mnist_dataset', train=True, transform=transform, download=True)"
      ],
      "execution_count": 0,
      "outputs": []
    },
    {
      "cell_type": "code",
      "metadata": {
        "colab_type": "code",
        "id": "K5cYwBL2fISH",
        "colab": {}
      },
      "source": [
        "dataset_len = len(mnist)"
      ],
      "execution_count": 0,
      "outputs": []
    },
    {
      "cell_type": "code",
      "metadata": {
        "colab_type": "code",
        "id": "QPrTXSnZfISN",
        "outputId": "8e21f565-2f7a-49d9-cafc-2b23af847350",
        "colab": {
          "base_uri": "https://localhost:8080/",
          "height": 34
        }
      },
      "source": [
        "dataset_len * 0.95"
      ],
      "execution_count": 9,
      "outputs": [
        {
          "output_type": "execute_result",
          "data": {
            "text/plain": [
              "57000.0"
            ]
          },
          "metadata": {
            "tags": []
          },
          "execution_count": 9
        }
      ]
    },
    {
      "cell_type": "code",
      "metadata": {
        "colab_type": "code",
        "id": "B1BwFJY_fISU",
        "colab": {}
      },
      "source": [
        "mnist_train, mnist_val = torch.utils.data.random_split(mnist, [57000, dataset_len - 57000])"
      ],
      "execution_count": 0,
      "outputs": []
    },
    {
      "cell_type": "code",
      "metadata": {
        "colab_type": "code",
        "id": "b5yH0O1kfISY",
        "colab": {}
      },
      "source": [
        "train_dataloader = torch.utils.data.DataLoader(mnist_train,\n",
        "                                               batch_size=BATCH_SIZE,\n",
        "                                               shuffle=True,\n",
        "                                               num_workers=4)"
      ],
      "execution_count": 0,
      "outputs": []
    },
    {
      "cell_type": "code",
      "metadata": {
        "colab_type": "code",
        "id": "Ybj6UC1qJUaN",
        "colab": {}
      },
      "source": [
        "val_dataloader = torch.utils.data.DataLoader(mnist_val, batch_size=BATCH_SIZE)"
      ],
      "execution_count": 0,
      "outputs": []
    },
    {
      "cell_type": "markdown",
      "metadata": {
        "id": "DZpKJsSBcc4b",
        "colab_type": "text"
      },
      "source": [
        "To create our autoencoder we need to know the size of our images."
      ]
    },
    {
      "cell_type": "code",
      "metadata": {
        "colab_type": "code",
        "id": "fqt6_aCtJUaR",
        "outputId": "58bd77f1-88a1-48ec-ca73-28bf17bf2e95",
        "colab": {
          "base_uri": "https://localhost:8080/",
          "height": 34
        }
      },
      "source": [
        "mnist_train[0][0].shape"
      ],
      "execution_count": 13,
      "outputs": [
        {
          "output_type": "execute_result",
          "data": {
            "text/plain": [
              "torch.Size([1, 28, 28])"
            ]
          },
          "metadata": {
            "tags": []
          },
          "execution_count": 13
        }
      ]
    },
    {
      "cell_type": "markdown",
      "metadata": {
        "id": "wEm9Aahock8U",
        "colab_type": "text"
      },
      "source": [
        "We will use **2 blocks of 2 convolutional layers** on each block (each in the encoder and decoder), using **max-pooling** for downsampling and **nearest-neighbour** for upsampling."
      ]
    },
    {
      "cell_type": "code",
      "metadata": {
        "colab_type": "code",
        "id": "sIYstBcDJUaV",
        "colab": {}
      },
      "source": [
        "autoencoder = ConvolutionalAutoencoderReducedLatentDim(\n",
        "    input_shape=(28, 28),\n",
        "    n_blocks=2,\n",
        "    downsampling_method='max-pooling',\n",
        "    upsampling_method='nearest',\n",
        "    layers_per_block=2,\n",
        "    latent_dimensionality=50\n",
        ").to(device)"
      ],
      "execution_count": 0,
      "outputs": []
    },
    {
      "cell_type": "markdown",
      "metadata": {
        "id": "xt3wsOghdxHh",
        "colab_type": "text"
      },
      "source": [
        "We use the mean square error as our loss function and Adam as our optimization algorithm with a learning rate of 0.001.  \n",
        "We use 'sum' as reduction to compute the image reconstruction error instead of the pixel reconstruction error."
      ]
    },
    {
      "cell_type": "code",
      "metadata": {
        "colab_type": "code",
        "id": "fNNQ25Z-fISe",
        "colab": {}
      },
      "source": [
        "mse = torch.nn.MSELoss(reduction='sum')\n",
        "adam = torch.optim.Adam(autoencoder.parameters(), lr=0.001)"
      ],
      "execution_count": 0,
      "outputs": []
    },
    {
      "cell_type": "markdown",
      "metadata": {
        "id": "RX893gG4eEf2",
        "colab_type": "text"
      },
      "source": [
        "Define our `train` function that will be called at each epoch."
      ]
    },
    {
      "cell_type": "code",
      "metadata": {
        "colab_type": "code",
        "id": "AEwsot_KfISi",
        "colab": {}
      },
      "source": [
        "def train(model, dataloader, criterion, optimizer, epoch, loss_history):\n",
        "    for i, batch in enumerate(dataloader):\n",
        "        images = batch[0].to(device)\n",
        "        optimizer.zero_grad()\n",
        "        reconstructed = model(images)\n",
        "        # Divide by batch size to compute mean image reconstruction error.\n",
        "        loss = criterion(reconstructed, images) / images.shape[0]\n",
        "        loss.backward()   # Backprop.\n",
        "        optimizer.step()  # Parameter updates.\n",
        "\n",
        "        loss_history.append(loss.item())\n",
        "        if i % 100 == 0:\n",
        "            print('[%d, %d] loss: %.3f' % (epoch + 1, i, loss.item()))"
      ],
      "execution_count": 0,
      "outputs": []
    },
    {
      "cell_type": "markdown",
      "metadata": {
        "id": "zo8uYtLgeC6o",
        "colab_type": "text"
      },
      "source": [
        "Very similar to the `train` function, we define our `test` function to validate. In this case we don't backpropagate and update our parameters."
      ]
    },
    {
      "cell_type": "code",
      "metadata": {
        "colab_type": "code",
        "id": "GoV4rvPyJUac",
        "colab": {}
      },
      "source": [
        "def test(model, dataloader, criterion, epoch, loss_history):\n",
        "    loss = 0\n",
        "    total = 0\n",
        "    for batch in dataloader:\n",
        "        images = batch[0].to(device)\n",
        "        reconstructed = model(images)\n",
        "        loss += criterion(reconstructed, images).item()\n",
        "        total += images.shape[0]\n",
        "\n",
        "    mean_loss = loss / total\n",
        "    loss_history.append(mean_loss)  \n",
        "    print('[%d, validation] loss: %.3f' % (epoch + 1, mean_loss))"
      ],
      "execution_count": 0,
      "outputs": []
    },
    {
      "cell_type": "markdown",
      "metadata": {
        "id": "8vfBCQHqepWO",
        "colab_type": "text"
      },
      "source": [
        "This is our training loop. Firstly, we call the `test` function so our validation loss curve includes the initial/untrained \"behaviour\"."
      ]
    },
    {
      "cell_type": "code",
      "metadata": {
        "colab_type": "code",
        "id": "CXQlTiq2fISm",
        "outputId": "deb47cd2-f1d9-4e42-bf72-52358b569f15",
        "colab": {
          "base_uri": "https://localhost:8080/",
          "height": 1000
        }
      },
      "source": [
        "training_loss = []    #\n",
        "validation_loss = []  # Here we save the training process.\n",
        "\n",
        "for epoch in range(EPOCHS):\n",
        "    autoencoder.eval()\n",
        "    with torch.no_grad():\n",
        "        test(autoencoder, val_dataloader, mse, epoch, validation_loss)\n",
        "    autoencoder.train()\n",
        "    train(autoencoder, train_dataloader, mse, adam, epoch, training_loss)\n",
        "\n",
        "autoencoder.eval()\n",
        "with torch.no_grad():\n",
        "    test(autoencoder, val_dataloader, mse, epoch, validation_loss)"
      ],
      "execution_count": 18,
      "outputs": [
        {
          "output_type": "stream",
          "text": [
            "[1, validation] loss: 796.878\n",
            "[1, 0] loss: 797.393\n",
            "[1, 100] loss: 523.624\n",
            "[1, 200] loss: 452.694\n",
            "[1, 300] loss: 387.181\n",
            "[1, 400] loss: 338.360\n",
            "[1, 500] loss: 337.066\n",
            "[1, 600] loss: 348.504\n",
            "[1, 700] loss: 297.391\n",
            "[1, 800] loss: 324.090\n",
            "[1, 900] loss: 273.810\n",
            "[1, 1000] loss: 318.508\n",
            "[1, 1100] loss: 294.428\n",
            "[1, 1200] loss: 299.358\n",
            "[1, 1300] loss: 302.557\n",
            "[1, 1400] loss: 325.213\n",
            "[1, 1500] loss: 316.487\n",
            "[1, 1600] loss: 295.287\n",
            "[1, 1700] loss: 310.023\n",
            "[2, validation] loss: 304.777\n",
            "[2, 0] loss: 300.750\n",
            "[2, 100] loss: 274.208\n",
            "[2, 200] loss: 261.670\n",
            "[2, 300] loss: 286.985\n",
            "[2, 400] loss: 297.343\n",
            "[2, 500] loss: 271.363\n",
            "[2, 600] loss: 321.058\n",
            "[2, 700] loss: 265.856\n",
            "[2, 800] loss: 287.655\n",
            "[2, 900] loss: 235.708\n",
            "[2, 1000] loss: 264.461\n",
            "[2, 1100] loss: 281.901\n",
            "[2, 1200] loss: 313.849\n",
            "[2, 1300] loss: 344.375\n",
            "[2, 1400] loss: 279.689\n",
            "[2, 1500] loss: 291.753\n",
            "[2, 1600] loss: 289.783\n",
            "[2, 1700] loss: 279.073\n",
            "[3, validation] loss: 298.107\n",
            "[3, 0] loss: 298.327\n",
            "[3, 100] loss: 299.820\n",
            "[3, 200] loss: 333.457\n",
            "[3, 300] loss: 279.824\n",
            "[3, 400] loss: 316.745\n",
            "[3, 500] loss: 276.332\n",
            "[3, 600] loss: 284.946\n",
            "[3, 700] loss: 283.766\n",
            "[3, 800] loss: 277.747\n",
            "[3, 900] loss: 274.358\n",
            "[3, 1000] loss: 322.342\n",
            "[3, 1100] loss: 298.792\n",
            "[3, 1200] loss: 308.927\n",
            "[3, 1300] loss: 292.509\n",
            "[3, 1400] loss: 306.089\n",
            "[3, 1500] loss: 293.844\n",
            "[3, 1600] loss: 306.297\n",
            "[3, 1700] loss: 309.076\n",
            "[4, validation] loss: 291.556\n",
            "[4, 0] loss: 266.056\n",
            "[4, 100] loss: 276.727\n",
            "[4, 200] loss: 304.836\n",
            "[4, 300] loss: 285.761\n",
            "[4, 400] loss: 282.626\n",
            "[4, 500] loss: 267.120\n",
            "[4, 600] loss: 273.345\n",
            "[4, 700] loss: 303.501\n",
            "[4, 800] loss: 287.314\n",
            "[4, 900] loss: 318.808\n",
            "[4, 1000] loss: 288.213\n",
            "[4, 1100] loss: 265.408\n",
            "[4, 1200] loss: 321.158\n",
            "[4, 1300] loss: 289.521\n",
            "[4, 1400] loss: 269.991\n",
            "[4, 1500] loss: 286.394\n",
            "[4, 1600] loss: 310.916\n",
            "[4, 1700] loss: 295.057\n",
            "[5, validation] loss: 288.200\n",
            "[5, 0] loss: 288.221\n",
            "[5, 100] loss: 300.261\n",
            "[5, 200] loss: 289.018\n",
            "[5, 300] loss: 254.603\n",
            "[5, 400] loss: 259.579\n",
            "[5, 500] loss: 251.383\n",
            "[5, 600] loss: 299.662\n",
            "[5, 700] loss: 298.229\n",
            "[5, 800] loss: 294.011\n",
            "[5, 900] loss: 296.185\n",
            "[5, 1000] loss: 277.073\n",
            "[5, 1100] loss: 289.271\n",
            "[5, 1200] loss: 308.172\n",
            "[5, 1300] loss: 272.731\n",
            "[5, 1400] loss: 290.135\n",
            "[5, 1500] loss: 288.394\n",
            "[5, 1600] loss: 262.695\n",
            "[5, 1700] loss: 242.235\n",
            "[6, validation] loss: 289.759\n",
            "[6, 0] loss: 290.362\n",
            "[6, 100] loss: 250.378\n",
            "[6, 200] loss: 255.164\n",
            "[6, 300] loss: 271.872\n",
            "[6, 400] loss: 269.759\n",
            "[6, 500] loss: 275.159\n",
            "[6, 600] loss: 290.080\n",
            "[6, 700] loss: 283.986\n",
            "[6, 800] loss: 279.502\n",
            "[6, 900] loss: 295.503\n",
            "[6, 1000] loss: 259.543\n",
            "[6, 1100] loss: 287.455\n",
            "[6, 1200] loss: 286.800\n",
            "[6, 1300] loss: 262.212\n",
            "[6, 1400] loss: 298.399\n",
            "[6, 1500] loss: 310.427\n",
            "[6, 1600] loss: 319.379\n",
            "[6, 1700] loss: 292.372\n",
            "[7, validation] loss: 286.320\n",
            "[7, 0] loss: 283.592\n",
            "[7, 100] loss: 243.898\n",
            "[7, 200] loss: 295.867\n",
            "[7, 300] loss: 302.605\n",
            "[7, 400] loss: 264.068\n",
            "[7, 500] loss: 269.966\n",
            "[7, 600] loss: 293.122\n",
            "[7, 700] loss: 263.657\n",
            "[7, 800] loss: 275.358\n",
            "[7, 900] loss: 291.531\n",
            "[7, 1000] loss: 298.821\n",
            "[7, 1100] loss: 315.748\n",
            "[7, 1200] loss: 274.859\n",
            "[7, 1300] loss: 279.369\n",
            "[7, 1400] loss: 284.671\n",
            "[7, 1500] loss: 274.202\n",
            "[7, 1600] loss: 324.166\n",
            "[7, 1700] loss: 302.756\n",
            "[8, validation] loss: 285.307\n",
            "[8, 0] loss: 295.013\n",
            "[8, 100] loss: 297.957\n",
            "[8, 200] loss: 249.643\n",
            "[8, 300] loss: 264.186\n",
            "[8, 400] loss: 272.571\n",
            "[8, 500] loss: 266.699\n",
            "[8, 600] loss: 266.636\n",
            "[8, 700] loss: 284.472\n",
            "[8, 800] loss: 267.777\n",
            "[8, 900] loss: 260.497\n",
            "[8, 1000] loss: 249.267\n",
            "[8, 1100] loss: 332.814\n",
            "[8, 1200] loss: 279.219\n",
            "[8, 1300] loss: 276.175\n",
            "[8, 1400] loss: 303.652\n",
            "[8, 1500] loss: 293.274\n",
            "[8, 1600] loss: 298.577\n",
            "[8, 1700] loss: 277.269\n",
            "[9, validation] loss: 286.039\n",
            "[9, 0] loss: 251.917\n",
            "[9, 100] loss: 285.444\n",
            "[9, 200] loss: 274.909\n",
            "[9, 300] loss: 265.511\n",
            "[9, 400] loss: 274.273\n",
            "[9, 500] loss: 299.751\n",
            "[9, 600] loss: 280.637\n",
            "[9, 700] loss: 267.955\n",
            "[9, 800] loss: 277.254\n",
            "[9, 900] loss: 258.941\n",
            "[9, 1000] loss: 308.294\n",
            "[9, 1100] loss: 298.890\n",
            "[9, 1200] loss: 288.227\n",
            "[9, 1300] loss: 272.484\n",
            "[9, 1400] loss: 312.103\n",
            "[9, 1500] loss: 291.516\n",
            "[9, 1600] loss: 277.515\n",
            "[9, 1700] loss: 257.836\n",
            "[10, validation] loss: 284.225\n",
            "[10, 0] loss: 287.059\n",
            "[10, 100] loss: 255.328\n",
            "[10, 200] loss: 290.909\n",
            "[10, 300] loss: 284.879\n",
            "[10, 400] loss: 295.024\n",
            "[10, 500] loss: 284.360\n",
            "[10, 600] loss: 272.808\n",
            "[10, 700] loss: 267.330\n",
            "[10, 800] loss: 289.506\n",
            "[10, 900] loss: 299.743\n",
            "[10, 1000] loss: 272.575\n",
            "[10, 1100] loss: 276.769\n",
            "[10, 1200] loss: 279.786\n",
            "[10, 1300] loss: 280.076\n",
            "[10, 1400] loss: 294.372\n",
            "[10, 1500] loss: 312.040\n",
            "[10, 1600] loss: 255.482\n",
            "[10, 1700] loss: 266.951\n",
            "[10, validation] loss: 283.561\n"
          ],
          "name": "stdout"
        }
      ]
    },
    {
      "cell_type": "code",
      "metadata": {
        "colab_type": "code",
        "id": "jmq0GFneiCDo",
        "colab": {}
      },
      "source": [
        "import matplotlib.pyplot as plt\n",
        "import numpy as np"
      ],
      "execution_count": 0,
      "outputs": []
    },
    {
      "cell_type": "code",
      "metadata": {
        "colab_type": "code",
        "id": "4I6vt-OjST-I",
        "outputId": "7c48f319-417a-41c7-8eb9-179d24b163f3",
        "colab": {
          "base_uri": "https://localhost:8080/",
          "height": 295
        }
      },
      "source": [
        "plt.title('Autoencoder reconstruction loss curves')\n",
        "plt.plot(training_loss, label='training loss')\n",
        "plt.plot(np.linspace(0, len(training_loss), len(validation_loss)), validation_loss, '-x', label='validation loss')\n",
        "plt.xlabel('Iteration')\n",
        "plt.ylabel('MSE')\n",
        "plt.legend();"
      ],
      "execution_count": 20,
      "outputs": [
        {
          "output_type": "display_data",
          "data": {
            "image/png": "[encoded data removed]",
            "text/plain": [
              "<Figure size 432x288 with 1 Axes>"
            ]
          },
          "metadata": {
            "tags": []
          }
        }
      ]
    },
    {
      "cell_type": "markdown",
      "metadata": {
        "id": "NXnbmjhLfaTR",
        "colab_type": "text"
      },
      "source": [
        "We can see that the loss quickly reduces and then it doesn't improve much. The validation curve is similar to the training one, so we can say it doesn't overfit the training data.\n",
        "\n",
        "In log-scale:"
      ]
    },
    {
      "cell_type": "code",
      "metadata": {
        "colab_type": "code",
        "outputId": "4a8e9c40-e8e2-47dc-935c-66b2677bf60b",
        "id": "BxrbIH0Qgcpn",
        "colab": {
          "base_uri": "https://localhost:8080/",
          "height": 295
        }
      },
      "source": [
        "plt.title('Autoencoder reconstruction loss curves in log-scale')\n",
        "plt.yscale('log')\n",
        "plt.plot(training_loss, label='training loss')\n",
        "plt.plot(np.linspace(0, len(training_loss), len(validation_loss)), validation_loss, '-x', label='validation loss')\n",
        "plt.xlabel('Iteration')\n",
        "plt.ylabel('MSE')\n",
        "plt.legend();"
      ],
      "execution_count": 21,
      "outputs": [
        {
          "output_type": "display_data",
          "data": {
            "image/png": "[encoded data removed]",
            "text/plain": [
              "<Figure size 432x288 with 1 Axes>"
            ]
          },
          "metadata": {
            "tags": []
          }
        }
      ]
    },
    {
      "cell_type": "markdown",
      "metadata": {
        "id": "3FTDWqo4NcF0",
        "colab_type": "text"
      },
      "source": [
        "Now we'll try to reconstruct a image from the test dataset."
      ]
    },
    {
      "cell_type": "code",
      "metadata": {
        "colab_type": "code",
        "id": "3OKrrQKRfISs",
        "colab": {}
      },
      "source": [
        "mnist_test = torchvision.datasets.MNIST('mnist_dataset', train=False, transform=transform)"
      ],
      "execution_count": 0,
      "outputs": []
    },
    {
      "cell_type": "code",
      "metadata": {
        "colab_type": "code",
        "id": "DQh4_KZ8h5Aj",
        "colab": {}
      },
      "source": [
        "reconstructed = autoencoder(mnist_test[6][0].to(device).unsqueeze(0))"
      ],
      "execution_count": 0,
      "outputs": []
    },
    {
      "cell_type": "code",
      "metadata": {
        "colab_type": "code",
        "id": "dZnZDQXqiGgv",
        "outputId": "10715603-9307-4452-8f71-16318ce52fd4",
        "colab": {
          "base_uri": "https://localhost:8080/",
          "height": 216
        }
      },
      "source": [
        "plt.subplot(121).set_title('Original image')\n",
        "plt.imshow(mnist_test[6][0][0], cmap='gray')\n",
        "plt.subplot(122).set_title('Reconstructed image')\n",
        "plt.imshow(reconstructed[0][0].detach().cpu().numpy(), cmap='gray');"
      ],
      "execution_count": 24,
      "outputs": [
        {
          "output_type": "display_data",
          "data": {
            "image/png": "[encoded data removed]",
            "text/plain": [
              "<Figure size 432x288 with 2 Axes>"
            ]
          },
          "metadata": {
            "tags": []
          }
        }
      ]
    },
    {
      "cell_type": "markdown",
      "metadata": {
        "id": "Lxb8rpY3goVF",
        "colab_type": "text"
      },
      "source": [
        "We can see some information is loss, but the reconstruction is pretty accurate."
      ]
    },
    {
      "cell_type": "markdown",
      "metadata": {
        "colab_type": "text",
        "id": "04ODN1xHIHEL"
      },
      "source": [
        "# Exercise 2: Transfer Learning\n",
        "\n",
        "## Steps:\n",
        "\n",
        "1. Select a subset of 100 images and their associated labels from the MNIST training data.\n",
        "2. Select one of the previously trained autoencoders.\n",
        "3. Create a digit (0-9) classification model reusing the encoder of the autoencoder and adding the needed fully connected (projection) layer.\n",
        "3. Pretraining: use the weights of the autoencoder as initial values for the network weights and train a classification model on the subset of 100 samples.\n",
        "4. Fine-tuning: do the same, but train the new projection layer with a normal learning rate and the reused part with a very low learning rate.\n",
        "5. From scratch: train the model on the 100 samples without reusing the decoder weights at all.\n",
        "6. Show the accuracy of the four models on the MNIST test set in a table.\n"
      ]
    },
    {
      "cell_type": "markdown",
      "metadata": {
        "id": "__skvBbtjABn",
        "colab_type": "text"
      },
      "source": [
        "## Pretraining"
      ]
    },
    {
      "cell_type": "markdown",
      "metadata": {
        "id": "v0jvg9aSh70E",
        "colab_type": "text"
      },
      "source": [
        "The number of outputs need to be 10 as we have 10 classes, and 50 as input because we will use the encoder with a latent dimensionality of 50.\n",
        "\n",
        "We don't need to define a softmax layer, as the `CrossEntropyLoss` class internally applies it."
      ]
    },
    {
      "cell_type": "code",
      "metadata": {
        "colab_type": "code",
        "id": "0oYtzXP8IUh5",
        "colab": {}
      },
      "source": [
        "classifier = torch.nn.Linear(50, 10).to(device)"
      ],
      "execution_count": 0,
      "outputs": []
    },
    {
      "cell_type": "markdown",
      "metadata": {
        "colab_type": "text",
        "id": "qqvqjkE5h2jR"
      },
      "source": [
        "We use the cross-entropy as our loss function and Adam as our optimization algorithm with a learning rate of 0.01."
      ]
    },
    {
      "cell_type": "code",
      "metadata": {
        "colab_type": "code",
        "id": "adq2d7EnJaW5",
        "colab": {}
      },
      "source": [
        "cross_entropy = torch.nn.CrossEntropyLoss()\n",
        "classifier_adam = torch.optim.Adam(classifier.parameters(), lr=0.01)"
      ],
      "execution_count": 0,
      "outputs": []
    },
    {
      "cell_type": "markdown",
      "metadata": {
        "id": "GyA7pTDyiZH8",
        "colab_type": "text"
      },
      "source": [
        "We create a subset daaset using the pytorch's `Subset` class with the first 100 samples from the training split."
      ]
    },
    {
      "cell_type": "code",
      "metadata": {
        "colab_type": "code",
        "id": "M8UWsjOhJqKN",
        "colab": {}
      },
      "source": [
        "training_subset = torch.utils.data.Subset(mnist_train, range(100))\n",
        "subset_dataloader = torch.utils.data.DataLoader(training_subset,\n",
        "                                                batch_size=BATCH_SIZE,\n",
        "                                                shuffle=True,\n",
        "                                                num_workers=4)"
      ],
      "execution_count": 0,
      "outputs": []
    },
    {
      "cell_type": "markdown",
      "metadata": {
        "colab_type": "text",
        "id": "xrkIqayBiubF"
      },
      "source": [
        "Define our `classification_train` function that will be called at each epoch. The funciton takes the classifier network as well as the encoder network. It first projects the input image to the latent space and then applies the classification layer.\n",
        "\n",
        "The output of the encoder is detached so the gradients are not computed (because we dont need them)."
      ]
    },
    {
      "cell_type": "code",
      "metadata": {
        "colab_type": "code",
        "id": "UWTRqkZ6MEgf",
        "colab": {}
      },
      "source": [
        "def classification_train(classifier, encoder, dataloader, criterion, optimizer, epoch, loss_history):\n",
        "    for i, (images, labels) in enumerate(dataloader):\n",
        "        images, labels = images.to(device), labels.to(device, torch.long)\n",
        "        optimizer.zero_grad()\n",
        "        # To latent space.\n",
        "        codes = encoder(images).detach()\n",
        "        # Classify from latent space.\n",
        "        outputs = classifier(codes)\n",
        "        loss = criterion(outputs, labels)\n",
        "        loss.backward()   # Backprop.\n",
        "        optimizer.step()  # Parameter updates.\n",
        "\n",
        "        loss_history.append(loss.item())\n",
        "        print('[%d, %d] loss: %.3f' % (epoch + 1, i, loss.item()))"
      ],
      "execution_count": 0,
      "outputs": []
    },
    {
      "cell_type": "markdown",
      "metadata": {
        "colab_type": "text",
        "id": "BL_Pz6KhizE8"
      },
      "source": [
        "Very similar to the `classification_train` function, we define our `classification_test` function to validate. In this case we don't backpropagate and update our parameters. We also compute the accuracy by summing all the correct predictions and dividing by the total number of images."
      ]
    },
    {
      "cell_type": "code",
      "metadata": {
        "colab_type": "code",
        "id": "nv5E5Xc6QiKV",
        "colab": {}
      },
      "source": [
        "def classification_test(classifier, encoder, dataloader, criterion, epoch, loss_history):\n",
        "    loss = 0\n",
        "    total = 0\n",
        "    correct = 0\n",
        "    for i, (images, labels) in enumerate(dataloader):\n",
        "        images, labels = images.to(device), labels.to(device, torch.long)\n",
        "        codes = encoder(images)\n",
        "        outputs = classifier(codes)\n",
        "        loss += criterion(outputs, labels).item()\n",
        "        # Compute average accuracy.\n",
        "        _, predicted = torch.max(outputs.data, 1)\n",
        "        total += labels.size(0)\n",
        "        correct += (predicted == labels).sum().item()\n",
        "\n",
        "    mean_loss = loss / (i + 1)\n",
        "    loss_history.append(mean_loss)  \n",
        "    print('[%d, validation] loss: %.3f accuracy: %.3f' % (epoch + 1, mean_loss, 100 * correct / total))"
      ],
      "execution_count": 0,
      "outputs": []
    },
    {
      "cell_type": "markdown",
      "metadata": {
        "id": "fub5vuTJkmGN",
        "colab_type": "text"
      },
      "source": [
        "We pass the `encoder` submodule of the `autoencoder` object as the `encoder` parameter of the above-defined functions."
      ]
    },
    {
      "cell_type": "code",
      "metadata": {
        "colab_type": "code",
        "id": "Tx50jNQdNaoX",
        "outputId": "06568bb7-3147-45f7-b878-36ff709430f6",
        "colab": {
          "base_uri": "https://localhost:8080/",
          "height": 884
        }
      },
      "source": [
        "training_loss = []    #\n",
        "validation_loss = []  # Here we save the training process.\n",
        "\n",
        "for epoch in range(EPOCHS):\n",
        "    classifier.eval()\n",
        "    with torch.no_grad():\n",
        "        classification_test(classifier, autoencoder.encoder, val_dataloader, cross_entropy, epoch, validation_loss)\n",
        "    classifier.train()\n",
        "    classification_train(classifier, autoencoder.encoder, subset_dataloader, cross_entropy, classifier_adam, epoch, training_loss)\n",
        "\n",
        "classifier.eval()\n",
        "with torch.no_grad():\n",
        "    classification_test(classifier, autoencoder.encoder, val_dataloader, cross_entropy, epoch, validation_loss)"
      ],
      "execution_count": 30,
      "outputs": [
        {
          "output_type": "stream",
          "text": [
            "[1, validation] loss: 2.433 accuracy: 9.367\n",
            "[1, 0] loss: 2.376\n",
            "[1, 1] loss: 2.264\n",
            "[1, 2] loss: 2.405\n",
            "[1, 3] loss: 2.197\n",
            "[2, validation] loss: 2.251 accuracy: 23.367\n",
            "[2, 0] loss: 2.173\n",
            "[2, 1] loss: 2.141\n",
            "[2, 2] loss: 2.161\n",
            "[2, 3] loss: 1.979\n",
            "[3, validation] loss: 2.196 accuracy: 29.533\n",
            "[3, 0] loss: 2.077\n",
            "[3, 1] loss: 2.174\n",
            "[3, 2] loss: 1.986\n",
            "[3, 3] loss: 1.825\n",
            "[4, validation] loss: 2.145 accuracy: 34.700\n",
            "[4, 0] loss: 2.137\n",
            "[4, 1] loss: 1.865\n",
            "[4, 2] loss: 2.012\n",
            "[4, 3] loss: 1.572\n",
            "[5, validation] loss: 2.086 accuracy: 41.033\n",
            "[5, 0] loss: 1.815\n",
            "[5, 1] loss: 2.033\n",
            "[5, 2] loss: 1.860\n",
            "[5, 3] loss: 2.446\n",
            "[6, validation] loss: 2.028 accuracy: 40.867\n",
            "[6, 0] loss: 1.975\n",
            "[6, 1] loss: 1.705\n",
            "[6, 2] loss: 1.884\n",
            "[6, 3] loss: 1.699\n",
            "[7, validation] loss: 1.943 accuracy: 42.800\n",
            "[7, 0] loss: 1.835\n",
            "[7, 1] loss: 1.708\n",
            "[7, 2] loss: 1.759\n",
            "[7, 3] loss: 1.918\n",
            "[8, validation] loss: 1.872 accuracy: 44.833\n",
            "[8, 0] loss: 1.790\n",
            "[8, 1] loss: 1.607\n",
            "[8, 2] loss: 1.749\n",
            "[8, 3] loss: 1.315\n",
            "[9, validation] loss: 1.813 accuracy: 52.600\n",
            "[9, 0] loss: 1.647\n",
            "[9, 1] loss: 1.644\n",
            "[9, 2] loss: 1.578\n",
            "[9, 3] loss: 1.995\n",
            "[10, validation] loss: 1.766 accuracy: 54.933\n",
            "[10, 0] loss: 1.627\n",
            "[10, 1] loss: 1.605\n",
            "[10, 2] loss: 1.485\n",
            "[10, 3] loss: 1.651\n",
            "[10, validation] loss: 1.707 accuracy: 59.533\n"
          ],
          "name": "stdout"
        }
      ]
    },
    {
      "cell_type": "code",
      "metadata": {
        "colab_type": "code",
        "id": "3g7sNGZChB9G",
        "colab": {
          "base_uri": "https://localhost:8080/",
          "height": 295
        },
        "outputId": "cc1b5808-3c3e-409e-fb9d-89b437df041c"
      },
      "source": [
        "plt.title('Pretraining classification loss curves')\n",
        "plt.plot(training_loss, label='training loss')\n",
        "plt.plot(np.linspace(0, len(training_loss), len(validation_loss)), validation_loss, '-x', label='validation loss')\n",
        "plt.xlabel('iteration')\n",
        "plt.ylabel('cross entropy')\n",
        "plt.legend();"
      ],
      "execution_count": 31,
      "outputs": [
        {
          "output_type": "display_data",
          "data": {
            "image/png": "[encoded data removed]",
            "text/plain": [
              "<Figure size 432x288 with 1 Axes>"
            ]
          },
          "metadata": {
            "tags": []
          }
        }
      ]
    },
    {
      "cell_type": "code",
      "metadata": {
        "colab_type": "code",
        "id": "f8HSHSVvRmjS",
        "colab": {}
      },
      "source": [
        "test_dataloader = torch.utils.data.DataLoader(mnist_test, batch_size=BATCH_SIZE)"
      ],
      "execution_count": 0,
      "outputs": []
    },
    {
      "cell_type": "code",
      "metadata": {
        "colab_type": "code",
        "id": "B2dNc7aeap_8",
        "colab": {
          "base_uri": "https://localhost:8080/",
          "height": 34
        },
        "outputId": "6b649d75-840a-4c94-db7b-078d1be361c6"
      },
      "source": [
        "classification_test(classifier, autoencoder.encoder, test_dataloader, cross_entropy, epoch, [])"
      ],
      "execution_count": 33,
      "outputs": [
        {
          "output_type": "stream",
          "text": [
            "[10, validation] loss: 1.707 accuracy: 60.520\n"
          ],
          "name": "stdout"
        }
      ]
    },
    {
      "cell_type": "markdown",
      "metadata": {
        "id": "NBxyEaIRliWY",
        "colab_type": "text"
      },
      "source": [
        "We obtain an accuracy of 65.6% on our test data."
      ]
    },
    {
      "cell_type": "markdown",
      "metadata": {
        "id": "27T_v5UkjACE",
        "colab_type": "text"
      },
      "source": [
        "## Fine-tuning"
      ]
    },
    {
      "cell_type": "markdown",
      "metadata": {
        "id": "BZgsgSfHmYWH",
        "colab_type": "text"
      },
      "source": [
        "We modify the `classification_train` function to accept the encoder optimizer as a parameter and updates both the encoder and classification networks.\n",
        "\n",
        "The `classification_test` function doesn't need to be modified."
      ]
    },
    {
      "cell_type": "code",
      "metadata": {
        "colab_type": "code",
        "id": "a9DBFMs5jACF",
        "colab": {}
      },
      "source": [
        "def classification_train(classifier, encoder, dataloader, criterion, classifier_optimizer, encoder_optimizer, epoch, loss_history):\n",
        "    for i, (images, labels) in enumerate(dataloader):\n",
        "        images, labels = images.to(device), labels.to(device, torch.long)\n",
        "        encoder_optimizer.zero_grad()\n",
        "        classifier_optimizer.zero_grad()\n",
        "        # To latent space.\n",
        "        codes = encoder(images)\n",
        "        # Classify from latent space.\n",
        "        outputs = classifier(codes)\n",
        "        loss = criterion(outputs, labels)\n",
        "        loss.backward()              # Backprop.\n",
        "        encoder_optimizer.step()     # Update encoder parameters.\n",
        "        classifier_optimizer.step()  # Update classifier parameters.\n",
        "\n",
        "        loss_history.append(loss.item())\n",
        "        print('[%d, %d] loss: %.3f' % (epoch + 1, i, loss.item()))"
      ],
      "execution_count": 0,
      "outputs": []
    },
    {
      "cell_type": "markdown",
      "metadata": {
        "id": "JZUYo_X3m9D3",
        "colab_type": "text"
      },
      "source": [
        "We define a new Adam optimizer for the encoder network with a small learning rate of 0.0001. The classification network optimizer is reused."
      ]
    },
    {
      "cell_type": "code",
      "metadata": {
        "id": "lCsCfmPkjACJ",
        "colab_type": "code",
        "colab": {}
      },
      "source": [
        "encoder_adam = torch.optim.Adam(autoencoder.encoder.parameters(), lr=0.0001)"
      ],
      "execution_count": 0,
      "outputs": []
    },
    {
      "cell_type": "markdown",
      "metadata": {
        "id": "lxBX3gRtnOV9",
        "colab_type": "text"
      },
      "source": [
        "Note that we don't redefine the `training_loss` and `validation_loss` list, so they will have the values of the pretraining stage too."
      ]
    },
    {
      "cell_type": "code",
      "metadata": {
        "colab_type": "code",
        "outputId": "fa5bbc65-0c8c-49a6-a62c-fa7cded5e669",
        "id": "RdqDkdgwjACN",
        "colab": {
          "base_uri": "https://localhost:8080/",
          "height": 1000
        }
      },
      "source": [
        "for epoch in range(20):\n",
        "    classifier.eval()\n",
        "    autoencoder.encoder.eval()\n",
        "    with torch.no_grad():\n",
        "        classification_test(classifier, autoencoder.encoder, val_dataloader, cross_entropy, epoch, validation_loss)\n",
        "    classifier.train()\n",
        "    autoencoder.encoder.train()\n",
        "    classification_train(classifier, autoencoder.encoder, subset_dataloader,\n",
        "                         cross_entropy, classifier_adam, encoder_adam, epoch, training_loss)\n",
        "\n",
        "classifier.eval()\n",
        "autoencoder.encoder.eval()\n",
        "with torch.no_grad():\n",
        "    classification_test(classifier, autoencoder.encoder, val_dataloader, cross_entropy, epoch, validation_loss)"
      ],
      "execution_count": 36,
      "outputs": [
        {
          "output_type": "stream",
          "text": [
            "[1, validation] loss: 1.707 accuracy: 59.533\n",
            "[1, 0] loss: 1.509\n",
            "[1, 1] loss: 1.497\n",
            "[1, 2] loss: 1.526\n",
            "[1, 3] loss: 1.356\n",
            "[2, validation] loss: 1.603 accuracy: 66.000\n",
            "[2, 0] loss: 1.395\n",
            "[2, 1] loss: 1.383\n",
            "[2, 2] loss: 1.375\n",
            "[2, 3] loss: 1.555\n",
            "[3, validation] loss: 1.512 accuracy: 65.567\n",
            "[3, 0] loss: 1.324\n",
            "[3, 1] loss: 1.270\n",
            "[3, 2] loss: 1.294\n",
            "[3, 3] loss: 1.212\n",
            "[4, validation] loss: 1.428 accuracy: 65.933\n",
            "[4, 0] loss: 1.340\n",
            "[4, 1] loss: 1.196\n",
            "[4, 2] loss: 1.065\n",
            "[4, 3] loss: 0.888\n",
            "[5, validation] loss: 1.345 accuracy: 69.233\n",
            "[5, 0] loss: 1.033\n",
            "[5, 1] loss: 1.161\n",
            "[5, 2] loss: 1.047\n",
            "[5, 3] loss: 1.194\n",
            "[6, validation] loss: 1.254 accuracy: 68.833\n",
            "[6, 0] loss: 1.116\n",
            "[6, 1] loss: 0.955\n",
            "[6, 2] loss: 0.835\n",
            "[6, 3] loss: 0.965\n",
            "[7, validation] loss: 1.151 accuracy: 71.400\n",
            "[7, 0] loss: 0.919\n",
            "[7, 1] loss: 0.894\n",
            "[7, 2] loss: 0.761\n",
            "[7, 3] loss: 1.025\n",
            "[8, validation] loss: 1.053 accuracy: 77.167\n",
            "[8, 0] loss: 0.716\n",
            "[8, 1] loss: 0.864\n",
            "[8, 2] loss: 0.806\n",
            "[8, 3] loss: 0.469\n",
            "[9, validation] loss: 0.963 accuracy: 79.767\n",
            "[9, 0] loss: 0.638\n",
            "[9, 1] loss: 0.693\n",
            "[9, 2] loss: 0.744\n",
            "[9, 3] loss: 0.553\n",
            "[10, validation] loss: 0.867 accuracy: 81.533\n",
            "[10, 0] loss: 0.508\n",
            "[10, 1] loss: 0.624\n",
            "[10, 2] loss: 0.568\n",
            "[10, 3] loss: 0.879\n",
            "[11, validation] loss: 0.797 accuracy: 81.200\n",
            "[11, 0] loss: 0.502\n",
            "[11, 1] loss: 0.464\n",
            "[11, 2] loss: 0.560\n",
            "[11, 3] loss: 0.342\n",
            "[12, validation] loss: 0.760 accuracy: 80.133\n",
            "[12, 0] loss: 0.518\n",
            "[12, 1] loss: 0.350\n",
            "[12, 2] loss: 0.420\n",
            "[12, 3] loss: 0.912\n",
            "[13, validation] loss: 0.730 accuracy: 79.500\n",
            "[13, 0] loss: 0.363\n",
            "[13, 1] loss: 0.278\n",
            "[13, 2] loss: 0.520\n",
            "[13, 3] loss: 0.667\n",
            "[14, validation] loss: 0.673 accuracy: 80.167\n",
            "[14, 0] loss: 0.368\n",
            "[14, 1] loss: 0.366\n",
            "[14, 2] loss: 0.314\n",
            "[14, 3] loss: 0.271\n",
            "[15, validation] loss: 0.653 accuracy: 80.300\n",
            "[15, 0] loss: 0.204\n",
            "[15, 1] loss: 0.379\n",
            "[15, 2] loss: 0.358\n",
            "[15, 3] loss: 0.165\n",
            "[16, validation] loss: 0.634 accuracy: 81.067\n",
            "[16, 0] loss: 0.276\n",
            "[16, 1] loss: 0.282\n",
            "[16, 2] loss: 0.241\n",
            "[16, 3] loss: 0.298\n",
            "[17, validation] loss: 0.581 accuracy: 81.967\n",
            "[17, 0] loss: 0.171\n",
            "[17, 1] loss: 0.228\n",
            "[17, 2] loss: 0.258\n",
            "[17, 3] loss: 0.323\n",
            "[18, validation] loss: 0.529 accuracy: 84.333\n",
            "[18, 0] loss: 0.119\n",
            "[18, 1] loss: 0.220\n",
            "[18, 2] loss: 0.254\n",
            "[18, 3] loss: 0.137\n",
            "[19, validation] loss: 0.485 accuracy: 85.933\n",
            "[19, 0] loss: 0.208\n",
            "[19, 1] loss: 0.136\n",
            "[19, 2] loss: 0.139\n",
            "[19, 3] loss: 0.464\n",
            "[20, validation] loss: 0.465 accuracy: 86.900\n",
            "[20, 0] loss: 0.126\n",
            "[20, 1] loss: 0.107\n",
            "[20, 2] loss: 0.231\n",
            "[20, 3] loss: 0.103\n",
            "[20, validation] loss: 0.501 accuracy: 85.400\n"
          ],
          "name": "stdout"
        }
      ]
    },
    {
      "cell_type": "code",
      "metadata": {
        "colab_type": "code",
        "id": "ge4JD9dpaYXZ",
        "colab": {
          "base_uri": "https://localhost:8080/",
          "height": 295
        },
        "outputId": "2b178369-7ef0-4125-d889-647362c4d548"
      },
      "source": [
        "plt.title('Fine-tunning classification loss curves')\n",
        "plt.plot(training_loss, label='training loss')\n",
        "plt.plot(np.linspace(0, len(training_loss), len(validation_loss)), validation_loss, '-x', label='validation loss')\n",
        "plt.xlabel('iteration')\n",
        "plt.ylabel('cross entropy')\n",
        "plt.legend();"
      ],
      "execution_count": 37,
      "outputs": [
        {
          "output_type": "display_data",
          "data": {
            "image/png": "[encoded data removed]",
            "text/plain": [
              "<Figure size 432x288 with 1 Axes>"
            ]
          },
          "metadata": {
            "tags": []
          }
        }
      ]
    },
    {
      "cell_type": "code",
      "metadata": {
        "id": "n8s58B_XoSis",
        "colab_type": "code",
        "colab": {}
      },
      "source": [
        ""
      ],
      "execution_count": 0,
      "outputs": []
    }
  ]
}