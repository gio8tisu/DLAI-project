{
  "nbformat": 4,
  "nbformat_minor": 0,
  "metadata": {
    "accelerator": "GPU",
    "colab": {
      "name": "team08.ipynb",
      "provenance": [],
      "collapsed_sections": []
    },
    "kernelspec": {
      "name": "python3",
      "display_name": "Python 3"
    },
    "language_info": {
      "codemirror_mode": {
        "name": "ipython",
        "version": 3
      },
      "file_extension": ".py",
      "mimetype": "text/x-python",
      "name": "python",
      "nbconvert_exporter": "python",
      "pygments_lexer": "ipython3",
      "version": "3.7.4"
    }
  },
  "cells": [
    {
      "cell_type": "code",
      "metadata": {
        "colab_type": "code",
        "id": "FaWaYXG1fIRm",
        "colab": {}
      },
      "source": [
        "import torch\n",
        "import torch.nn\n",
        "import torch.optim\n",
        "import torchvision.datasets\n",
        "import torchvision.transforms\n",
        "import torch.utils.data\n",
        "import matplotlib.pyplot as plt\n",
        "import numpy as np"
      ],
      "execution_count": 0,
      "outputs": []
    },
    {
      "cell_type": "code",
      "metadata": {
        "colab_type": "code",
        "id": "GA4Aiz2Giu5e",
        "colab": {}
      },
      "source": [
        "torch.manual_seed(0)\n",
        "device = 'cuda:0' if torch.cuda.is_available() else 'cpu'"
      ],
      "execution_count": 0,
      "outputs": []
    },
    {
      "cell_type": "code",
      "metadata": {
        "colab_type": "code",
        "id": "-MjS3A1UNFJF",
        "colab": {}
      },
      "source": [
        "BATCH_SIZE = 32\n",
        "EPOCHS = 10"
      ],
      "execution_count": 0,
      "outputs": []
    },
    {
      "cell_type": "markdown",
      "metadata": {
        "colab_type": "text",
        "id": "GgHZsI0VyaUJ"
      },
      "source": [
        "# TODO\n",
        "\n",
        "* Early stopping at minimum validation loss\n",
        "* Plot with loss curves for autoencoder with different bottleneck sizes"
      ]
    },
    {
      "cell_type": "markdown",
      "metadata": {
        "colab_type": "text",
        "id": "iyK3i7pS9gSH"
      },
      "source": [
        "# Exercise 1: Convolutional Autoencoder\n",
        "\n",
        "Steps:\n",
        "1. Load MNIST train and test sets. Split the original training data into 95% training and 5% validation data.\n",
        "2. Implement a convolutional autoencoder (with separate Encoder and Decoder modules).\n",
        "3. Train the convolutional autoencoder, with different bottleneck sizes. Plot the train and validation loss curves of all autoencoders in the same figure.\n",
        "4. Compute the avg. image reconstruction error (MSE) of the trained models on the MNIST validation and test sets. Show the results in a table, including #params of each model.\n",
        "5. Select one of the autoencoders and feed it 5 random MNIST images from the test set. Show them along with their reconstructions.\n",
        "Generate 5 new images by injecting random values as input to the decoder. Show them.\n"
      ]
    },
    {
      "cell_type": "markdown",
      "metadata": {
        "colab_type": "text",
        "id": "-Vf3xEV29k0y"
      },
      "source": [
        "## Module definition\n",
        "\n",
        "Our autoencoder will be defined by the `ConvolutionalAutoencoder` class which uses a `ConvolutionalEncoder` object to encode followed a `ConvolutionalDecoder` object to decode. The `ConvolutionalEncoder` and `ConvolutionalDecoder` classes make use of `n_blocks` `ConvolutionalBlock`s or `DeconvolutionalBlock`s which are composed of `layer_per_block` convolution layers with the same number of filters.\n",
        "\n",
        "The dimensionality is reduced by applying 2-factor spatial downsampling at each block. The number of filters is doubled for each subsequent block. The decoder makes the exact oposite process.\n",
        "\n",
        "The final layer uses a tanh activation.\n",
        "\n",
        "Very similar to the `ConvolutionalAutoencoder`, there is the `ConvolutionalAutoencoderReducedLatentDim` class which includes 2 fully-connected layers between the encoder and decoder. The first one projects from the encoder's feature maps to a vector of `latent_dimensionality` dimensions, the second one does the opposite."
      ]
    },
    {
      "cell_type": "code",
      "metadata": {
        "colab_type": "code",
        "id": "EknaWIjxJUZ1",
        "colab": {}
      },
      "source": [
        "# %load models.py\n",
        "import torch\n",
        "import torch.nn\n",
        "\n",
        "\n",
        "class ConvolutionalAutoencoder(torch.nn.Module):\n",
        "\n",
        "    def __init__(self, n_blocks, downsampling_method, upsampling_method,\n",
        "                 layers_per_block=2):\n",
        "        super().__init__()\n",
        "        self.n_blocks = n_blocks\n",
        "        self.downsampling_method = downsampling_method\n",
        "        self.upsampling_method = upsampling_method\n",
        "\n",
        "        self.encoder = ConvolutionalEncoder(n_blocks, downsampling_method,\n",
        "                                            layers_per_block=layers_per_block)\n",
        "        self.decoder = ConvolutionalDecoder(n_blocks, upsampling_method,\n",
        "                                            self.encoder.output_channels,\n",
        "                                            layers_per_block)\n",
        "\n",
        "    def forward(self, x):\n",
        "        code = self.encoder(x)\n",
        "        reconstruction = self.decoder(code)\n",
        "        return reconstruction\n",
        "\n",
        "\n",
        "class ConvolutionalAutoencoderReducedLatentDim(torch.nn.Module):\n",
        "\n",
        "    def __init__(self, input_shape, n_blocks, downsampling_method, upsampling_method,\n",
        "                 layers_per_block=2, latent_dimensionality=50):\n",
        "        super().__init__()\n",
        "        self.n_blocks = n_blocks\n",
        "        self.downsampling_method = downsampling_method\n",
        "        self.upsampling_method = upsampling_method\n",
        "        self.latent_dimensionality = latent_dimensionality\n",
        "\n",
        "        # Encoder: Convolutional blocks + Linear\n",
        "        self.convolutional_encoder = ConvolutionalEncoder(\n",
        "            n_blocks, downsampling_method, layers_per_block=layers_per_block)\n",
        "        self.encoder_output_shape = (self.convolutional_encoder.init_filters * 2 ** (n_blocks - 1),\n",
        "                                     input_shape[0] // 2 ** n_blocks,\n",
        "                                     input_shape[1] // 2 ** n_blocks)\n",
        "        self.encoder = torch.nn.Sequential(\n",
        "            self.convolutional_encoder,\n",
        "            torch.nn.Flatten(),\n",
        "            torch.nn.Linear(self.encoder_output_shape[0] * self.encoder_output_shape[1] * self.encoder_output_shape[2],\n",
        "                            latent_dimensionality),\n",
        "            torch.nn.ReLU()\n",
        "        )\n",
        "\n",
        "        # Decoder: Linear + Convolutional blocks\n",
        "        self.linear_decoder = torch.nn.Sequential(\n",
        "            torch.nn.Linear(latent_dimensionality,\n",
        "                            self.encoder_output_shape[0] * self.encoder_output_shape[1] * self.encoder_output_shape[2]),\n",
        "            torch.nn.ReLU()\n",
        "        )\n",
        "        self.convolutional_decoder = ConvolutionalDecoder(\n",
        "            n_blocks, upsampling_method,\n",
        "            self.convolutional_encoder.output_channels, layers_per_block)\n",
        "\n",
        "    def forward(self, x):\n",
        "        code = self.encoder(x)\n",
        "        reconstruction = self.convolutional_decoder(\n",
        "            self.linear_decoder(code).view((-1,) + self.encoder_output_shape))\n",
        "        return reconstruction\n",
        "\n",
        "\n",
        "class ConvolutionalEncoder(torch.nn.Module):\n",
        "    DOWNSAMPLING_METHODS = [\"max-pooling\", \"avg-pooling\", \"stride-2\"]\n",
        "\n",
        "    def __init__(self, n_blocks, downsampling_method, init_filters=16,\n",
        "                 layers_per_block=2, kernel_size=5, input_channels=1):\n",
        "        super().__init__()\n",
        "        self.n_blocks = n_blocks\n",
        "        assert downsampling_method in self.DOWNSAMPLING_METHODS\n",
        "        self.downsampling_method = downsampling_method\n",
        "        self.layers_per_block = layers_per_block\n",
        "        self.init_filters = init_filters\n",
        "        self.kernel_size = kernel_size\n",
        "        self.input_channels = input_channels\n",
        "\n",
        "        layers = []\n",
        "\n",
        "        # First layer so we have <input_channels> channels.\n",
        "        n_filters = init_filters\n",
        "        layers.append(\n",
        "            ConvolutionalBlock(input_channels, n_filters, kernel_size, 1))\n",
        "\n",
        "        # Encoding blocks.\n",
        "        input_channels = n_filters\n",
        "        for _ in range(n_blocks):\n",
        "            if downsampling_method == \"max-pooling\":\n",
        "                # Convolutional block + max pooling.\n",
        "                conv_block = torch.nn.Sequential(\n",
        "                    ConvolutionalBlock(input_channels, n_filters, kernel_size,\n",
        "                                       layers_per_block),\n",
        "                    torch.nn.MaxPool2d(2)\n",
        "                )\n",
        "            elif downsampling_method == \"avg-pooling\":\n",
        "                # Convolutional block + average pooling.\n",
        "                conv_block = torch.nn.Sequential(\n",
        "                    ConvolutionalBlock(input_channels, n_filters, kernel_size,\n",
        "                                       layers_per_block),\n",
        "                    torch.nn.AvgPool2d(2)\n",
        "                )\n",
        "            else:\n",
        "                # Stride-2 convolution.\n",
        "                conv_block = ConvolutionalBlock(input_channels, n_filters,\n",
        "                                                kernel_size,\n",
        "                                                layers_per_block,\n",
        "                                                last_stride=2)\n",
        "            layers.append(conv_block)\n",
        "            # Double the number of filters.\n",
        "            input_channels = n_filters\n",
        "            n_filters = 2 * n_filters\n",
        "\n",
        "        self.encoder = torch.nn.Sequential(*layers)\n",
        "        self.output_channels = input_channels\n",
        "\n",
        "    def forward(self, x):\n",
        "        return self.encoder(x)\n",
        "\n",
        "\n",
        "class ConvolutionalDecoder(torch.nn.Module):\n",
        "    UPSAMPLING_METHODS = [\"transposed\", \"bilinear\", \"bicubic\", \"nearest\"]\n",
        "\n",
        "    def __init__(self, n_blocks, upsampling_method, input_channels,\n",
        "                 layers_per_block=2, kernel_size=5, output_channels=1):\n",
        "        super().__init__()\n",
        "        self.n_blocks = n_blocks\n",
        "        assert upsampling_method in self.UPSAMPLING_METHODS\n",
        "        self.upsampling_method = upsampling_method\n",
        "        self.layers_per_block = layers_per_block\n",
        "        self.input_channels = input_channels\n",
        "        self.kernel_size = kernel_size\n",
        "        self.output_channels = output_channels\n",
        "\n",
        "        layers = []\n",
        "\n",
        "        # Decoding blocks.\n",
        "        n_filters = input_channels\n",
        "        for _ in range(n_blocks):\n",
        "            if upsampling_method == \"transposed\":\n",
        "                # Deconvolutional block\n",
        "                conv_block = DeconvolutionalBlock(input_channels, n_filters,\n",
        "                                                  kernel_size, layers_per_block,\n",
        "                                                  stride=2)\n",
        "            else:\n",
        "                # Upsampling.\n",
        "                conv_block = torch.nn.Sequential(\n",
        "                    ConvolutionalBlock(input_channels, n_filters, kernel_size,\n",
        "                                       layers_per_block),\n",
        "                    torch.nn.Upsample(scale_factor=2, mode=upsampling_method)\n",
        "                )\n",
        "            layers.append(conv_block)\n",
        "            # Half the number of filters.\n",
        "            input_channels = n_filters\n",
        "            n_filters = n_filters // 2\n",
        "\n",
        "        # Last layer so we have <output_channels> channel.\n",
        "        layers.append(torch.nn.Conv2d(input_channels, output_channels, kernel_size,\n",
        "                                      padding=kernel_size // 2))\n",
        "        layers.append(torch.nn.Tanh())\n",
        "\n",
        "        self.decoder = torch.nn.Sequential(*layers)\n",
        "\n",
        "    def forward(self, x):\n",
        "        return self.decoder(x)\n",
        "\n",
        "\n",
        "class ConvolutionalBlock(torch.nn.Module):\n",
        "    \"\"\"\n",
        "\n",
        "    Applies n_layers convolutional layers with the same number of\n",
        "    filters and filter sizes with ReLU activations\n",
        "    keeping the same spacial size.\n",
        "    \"\"\"\n",
        "\n",
        "    def __init__(self, input_channels, n_filters, kernel_size, n_layers,\n",
        "                 last_stride=1):\n",
        "        super().__init__()\n",
        "        layers = []\n",
        "        padding = kernel_size // 2  # To keep the same size.\n",
        "\n",
        "        for i in range(n_layers):\n",
        "            if i == 0:  # First layer with correct input channels.\n",
        "                layers.append(torch.nn.Conv2d(input_channels, n_filters,\n",
        "                                              kernel_size, padding=padding))\n",
        "            elif 0 < i < n_layers:  # Intermediate layers.\n",
        "                layers.append(torch.nn.Conv2d(n_filters, n_filters,\n",
        "                                              kernel_size, padding=padding))\n",
        "            else:  # Last layer with stride.\n",
        "                layers.append(torch.nn.Conv2d(n_filters, n_filters,\n",
        "                                              kernel_size, last_stride, padding))\n",
        "            layers.append(torch.nn.ReLU())\n",
        "\n",
        "        # To sequentially apply the layers.\n",
        "        self.block = torch.nn.Sequential(*layers)\n",
        "\n",
        "    def forward(self, x):\n",
        "        return self.block(x)\n",
        "\n",
        "\n",
        "class DeconvolutionalBlock(torch.nn.Module):\n",
        "    \"\"\"\n",
        "\n",
        "    Applies a transposed convolution followed by n_layers-1 convolutional\n",
        "    layers with the same number of filters and filter sizes with ReLU\n",
        "    activations keeping the same spacial size.\n",
        "    \"\"\"\n",
        "\n",
        "    def __init__(self, input_channels, n_filters, kernel_size, n_layers, stride):\n",
        "        super().__init__()\n",
        "        layers = []\n",
        "        padding = kernel_size // 2\n",
        "\n",
        "        # Transposed convolution layer.\n",
        "        layers.append(torch.nn.ConvTranspose2d(input_channels, n_filters,\n",
        "                                               kernel_size, stride, padding, 1))\n",
        "        layers.append(torch.nn.ReLU())\n",
        "\n",
        "        for _ in range(n_layers - 1):\n",
        "            layers.append(torch.nn.Conv2d(n_filters, n_filters, kernel_size,\n",
        "                                          padding=padding))\n",
        "            layers.append(torch.nn.ReLU())\n",
        "\n",
        "        # To sequentially apply the layers.\n",
        "        self.block = torch.nn.Sequential(*layers)\n",
        "\n",
        "    def forward(self, x):\n",
        "        return self.block(x)"
      ],
      "execution_count": 0,
      "outputs": []
    },
    {
      "cell_type": "markdown",
      "metadata": {
        "colab_type": "text",
        "id": "u_ZD0rgWBhJa"
      },
      "source": [
        "To do a quick test, we will pass a random image and check if the output is of the same size as the input."
      ]
    },
    {
      "cell_type": "code",
      "metadata": {
        "colab_type": "code",
        "id": "hIO0AZWCfIR2",
        "colab": {}
      },
      "source": [
        "image = torch.randn((10, 1, 128, 128))\n",
        "autoencoder = ConvolutionalAutoencoderReducedLatentDim(input_shape=(128, 128),\n",
        "                                                       n_blocks=2,\n",
        "                                                       downsampling_method='max-pooling',\n",
        "                                                       upsampling_method='nearest',\n",
        "                                                       layers_per_block=2,\n",
        "                                                       latent_dimensionality=50)\n",
        "output = autoencoder(image)\n",
        "assert output.shape == (10, 1, 128, 128)"
      ],
      "execution_count": 0,
      "outputs": []
    },
    {
      "cell_type": "markdown",
      "metadata": {
        "colab_type": "text",
        "id": "z25DsijeCNvi"
      },
      "source": [
        "## Dataset\n",
        "\n",
        "We split the training set and normalize the input images with mean and variance of the training set found on the internet."
      ]
    },
    {
      "cell_type": "code",
      "metadata": {
        "colab_type": "code",
        "id": "ObQndlPufIR9",
        "colab": {}
      },
      "source": [
        "transform = torchvision.transforms.Compose([\n",
        "     torchvision.transforms.ToTensor(),\n",
        "     torchvision.transforms.Normalize((0.1307,), (0.3081,))  # Mean and std from internet...\n",
        "])"
      ],
      "execution_count": 0,
      "outputs": []
    },
    {
      "cell_type": "code",
      "metadata": {
        "colab_type": "code",
        "id": "1VIGvzG4fISD",
        "colab": {}
      },
      "source": [
        "mnist = torchvision.datasets.MNIST('mnist_dataset', train=True, transform=transform, download=True)"
      ],
      "execution_count": 0,
      "outputs": []
    },
    {
      "cell_type": "code",
      "metadata": {
        "colab_type": "code",
        "id": "K5cYwBL2fISH",
        "colab": {}
      },
      "source": [
        "dataset_len = len(mnist)"
      ],
      "execution_count": 0,
      "outputs": []
    },
    {
      "cell_type": "code",
      "metadata": {
        "colab_type": "code",
        "id": "QPrTXSnZfISN",
        "outputId": "31b9323d-9fe6-4d99-8f95-1339d55a03f2",
        "colab": {
          "base_uri": "https://localhost:8080/",
          "height": 34
        }
      },
      "source": [
        "dataset_len * 0.95"
      ],
      "execution_count": 9,
      "outputs": [
        {
          "output_type": "execute_result",
          "data": {
            "text/plain": [
              "57000.0"
            ]
          },
          "metadata": {
            "tags": []
          },
          "execution_count": 9
        }
      ]
    },
    {
      "cell_type": "code",
      "metadata": {
        "colab_type": "code",
        "id": "B1BwFJY_fISU",
        "colab": {}
      },
      "source": [
        "mnist_train, mnist_val = torch.utils.data.random_split(mnist, [57000, dataset_len - 57000])"
      ],
      "execution_count": 0,
      "outputs": []
    },
    {
      "cell_type": "code",
      "metadata": {
        "colab_type": "code",
        "id": "b5yH0O1kfISY",
        "colab": {}
      },
      "source": [
        "train_dataloader = torch.utils.data.DataLoader(mnist_train,\n",
        "                                               batch_size=BATCH_SIZE,\n",
        "                                               shuffle=True,\n",
        "                                               num_workers=4)"
      ],
      "execution_count": 0,
      "outputs": []
    },
    {
      "cell_type": "code",
      "metadata": {
        "colab_type": "code",
        "id": "Ybj6UC1qJUaN",
        "colab": {}
      },
      "source": [
        "val_dataloader = torch.utils.data.DataLoader(mnist_val, batch_size=BATCH_SIZE)"
      ],
      "execution_count": 0,
      "outputs": []
    },
    {
      "cell_type": "markdown",
      "metadata": {
        "id": "DZpKJsSBcc4b",
        "colab_type": "text"
      },
      "source": [
        "To create our autoencoder we need to know the size of our images."
      ]
    },
    {
      "cell_type": "code",
      "metadata": {
        "colab_type": "code",
        "id": "fqt6_aCtJUaR",
        "outputId": "f22be44b-d43f-46f9-8bf5-1c3401566745",
        "colab": {
          "base_uri": "https://localhost:8080/",
          "height": 34
        }
      },
      "source": [
        "mnist_train[0][0].shape"
      ],
      "execution_count": 13,
      "outputs": [
        {
          "output_type": "execute_result",
          "data": {
            "text/plain": [
              "torch.Size([1, 28, 28])"
            ]
          },
          "metadata": {
            "tags": []
          },
          "execution_count": 13
        }
      ]
    },
    {
      "cell_type": "markdown",
      "metadata": {
        "id": "HCP_Zd2rDqlW",
        "colab_type": "text"
      },
      "source": [
        "## Training"
      ]
    },
    {
      "cell_type": "markdown",
      "metadata": {
        "id": "wEm9Aahock8U",
        "colab_type": "text"
      },
      "source": [
        "We will use **2 blocks of 2 convolutional layers** on each block (each in the encoder and decoder), using **max-pooling** for downsampling and **nearest-neighbour** for upsampling."
      ]
    },
    {
      "cell_type": "code",
      "metadata": {
        "colab_type": "code",
        "id": "sIYstBcDJUaV",
        "colab": {}
      },
      "source": [
        "autoencoder = ConvolutionalAutoencoderReducedLatentDim(\n",
        "    input_shape=(28, 28),\n",
        "    n_blocks=2,\n",
        "    downsampling_method='max-pooling',\n",
        "    upsampling_method='nearest',\n",
        "    layers_per_block=2,\n",
        "    latent_dimensionality=50\n",
        ").to(device)"
      ],
      "execution_count": 0,
      "outputs": []
    },
    {
      "cell_type": "markdown",
      "metadata": {
        "id": "xt3wsOghdxHh",
        "colab_type": "text"
      },
      "source": [
        "We use the mean square error as our loss function and Adam as our optimization algorithm with a learning rate of 0.001.  \n",
        "We use 'sum' as reduction to compute the image reconstruction error instead of the pixel reconstruction error."
      ]
    },
    {
      "cell_type": "code",
      "metadata": {
        "colab_type": "code",
        "id": "fNNQ25Z-fISe",
        "colab": {}
      },
      "source": [
        "mse = torch.nn.MSELoss(reduction='sum')\n",
        "adam = torch.optim.Adam(autoencoder.parameters(), lr=0.001)"
      ],
      "execution_count": 0,
      "outputs": []
    },
    {
      "cell_type": "markdown",
      "metadata": {
        "id": "RX893gG4eEf2",
        "colab_type": "text"
      },
      "source": [
        "Define our `train` function that will be called at each epoch."
      ]
    },
    {
      "cell_type": "code",
      "metadata": {
        "colab_type": "code",
        "id": "AEwsot_KfISi",
        "colab": {}
      },
      "source": [
        "def train(model, dataloader, criterion, optimizer, epoch, loss_history, log_interval=100):\n",
        "    for i, batch in enumerate(dataloader):\n",
        "        images = batch[0].to(device)\n",
        "        optimizer.zero_grad()\n",
        "        reconstructed = model(images)\n",
        "        # Divide by batch size to compute mean image reconstruction error.\n",
        "        loss = criterion(reconstructed, images) / images.shape[0]\n",
        "        loss.backward()   # Backprop.\n",
        "        optimizer.step()  # Parameter updates.\n",
        "\n",
        "        loss_history.append(loss.item())\n",
        "        if i % log_interval == 0:\n",
        "            print('[%d, %d] loss: %.3f' % (epoch + 1, i, loss.item()))"
      ],
      "execution_count": 0,
      "outputs": []
    },
    {
      "cell_type": "markdown",
      "metadata": {
        "id": "zo8uYtLgeC6o",
        "colab_type": "text"
      },
      "source": [
        "Very similar to the `train` function, we define our `test` function to validate. In this case we don't backpropagate and update our parameters."
      ]
    },
    {
      "cell_type": "code",
      "metadata": {
        "colab_type": "code",
        "id": "GoV4rvPyJUac",
        "colab": {}
      },
      "source": [
        "def test(model, dataloader, criterion, epoch, loss_history):\n",
        "    loss = 0\n",
        "    total = 0\n",
        "    for batch in dataloader:\n",
        "        images = batch[0].to(device)\n",
        "        reconstructed = model(images)\n",
        "        loss += criterion(reconstructed, images).item()\n",
        "        total += images.shape[0]\n",
        "\n",
        "    mean_loss = loss / total\n",
        "    loss_history.append(mean_loss)  \n",
        "    print('[%d, validation] loss: %.3f' % (epoch + 1, mean_loss))\n",
        "    return mean_loss"
      ],
      "execution_count": 0,
      "outputs": []
    },
    {
      "cell_type": "markdown",
      "metadata": {
        "id": "8vfBCQHqepWO",
        "colab_type": "text"
      },
      "source": [
        "This is our training loop. Firstly, we call the `test` function so our validation loss curve includes the initial/untrained \"behaviour\"."
      ]
    },
    {
      "cell_type": "code",
      "metadata": {
        "colab_type": "code",
        "id": "CXQlTiq2fISm",
        "outputId": "4b795b02-2e21-4b56-820e-91d1e6d0245a",
        "colab": {
          "base_uri": "https://localhost:8080/",
          "height": 1000
        }
      },
      "source": [
        "training_loss = []    #\n",
        "validation_loss = []  # Here we save the training process.\n",
        "\n",
        "for epoch in range(EPOCHS):\n",
        "    autoencoder.eval()\n",
        "    with torch.no_grad():\n",
        "        test(autoencoder, val_dataloader, mse, epoch, validation_loss)\n",
        "    autoencoder.train()\n",
        "    train(autoencoder, train_dataloader, mse, adam, epoch, training_loss)\n",
        "\n",
        "autoencoder.eval()\n",
        "with torch.no_grad():\n",
        "    test(autoencoder, val_dataloader, mse, epoch, validation_loss)"
      ],
      "execution_count": 18,
      "outputs": [
        {
          "output_type": "stream",
          "text": [
            "[1, validation] loss: 796.878\n",
            "[1, 0] loss: 797.393\n",
            "[1, 100] loss: 551.990\n",
            "[1, 200] loss: 469.574\n",
            "[1, 300] loss: 406.768\n",
            "[1, 400] loss: 339.329\n",
            "[1, 500] loss: 333.729\n",
            "[1, 600] loss: 344.756\n",
            "[1, 700] loss: 291.133\n",
            "[1, 800] loss: 316.558\n",
            "[1, 900] loss: 268.889\n",
            "[1, 1000] loss: 311.299\n",
            "[1, 1100] loss: 286.023\n",
            "[1, 1200] loss: 290.216\n",
            "[1, 1300] loss: 298.983\n",
            "[1, 1400] loss: 318.448\n",
            "[1, 1500] loss: 310.495\n",
            "[1, 1600] loss: 290.683\n",
            "[1, 1700] loss: 302.389\n",
            "[2, validation] loss: 295.917\n",
            "[2, 0] loss: 293.088\n",
            "[2, 100] loss: 261.659\n",
            "[2, 200] loss: 244.557\n",
            "[2, 300] loss: 284.470\n",
            "[2, 400] loss: 292.021\n",
            "[2, 500] loss: 266.903\n",
            "[2, 600] loss: 313.433\n",
            "[2, 700] loss: 262.955\n",
            "[2, 800] loss: 281.462\n",
            "[2, 900] loss: 228.468\n",
            "[2, 1000] loss: 259.059\n",
            "[2, 1100] loss: 279.126\n",
            "[2, 1200] loss: 305.314\n",
            "[2, 1300] loss: 337.895\n",
            "[2, 1400] loss: 269.757\n",
            "[2, 1500] loss: 285.743\n",
            "[2, 1600] loss: 280.413\n",
            "[2, 1700] loss: 268.882\n",
            "[3, validation] loss: 292.117\n",
            "[3, 0] loss: 291.310\n",
            "[3, 100] loss: 291.538\n",
            "[3, 200] loss: 323.682\n",
            "[3, 300] loss: 273.595\n",
            "[3, 400] loss: 309.741\n",
            "[3, 500] loss: 266.608\n",
            "[3, 600] loss: 281.127\n",
            "[3, 700] loss: 277.401\n",
            "[3, 800] loss: 270.779\n",
            "[3, 900] loss: 266.699\n",
            "[3, 1000] loss: 317.502\n",
            "[3, 1100] loss: 291.969\n",
            "[3, 1200] loss: 301.649\n",
            "[3, 1300] loss: 286.742\n",
            "[3, 1400] loss: 300.163\n",
            "[3, 1500] loss: 288.512\n",
            "[3, 1600] loss: 298.198\n",
            "[3, 1700] loss: 303.258\n",
            "[4, validation] loss: 286.965\n",
            "[4, 0] loss: 262.634\n",
            "[4, 100] loss: 272.653\n",
            "[4, 200] loss: 301.785\n",
            "[4, 300] loss: 278.409\n",
            "[4, 400] loss: 277.141\n",
            "[4, 500] loss: 261.729\n",
            "[4, 600] loss: 268.134\n",
            "[4, 700] loss: 296.286\n",
            "[4, 800] loss: 281.108\n",
            "[4, 900] loss: 310.077\n",
            "[4, 1000] loss: 283.192\n",
            "[4, 1100] loss: 260.526\n",
            "[4, 1200] loss: 313.282\n",
            "[4, 1300] loss: 285.291\n",
            "[4, 1400] loss: 264.479\n",
            "[4, 1500] loss: 280.244\n",
            "[4, 1600] loss: 305.378\n",
            "[4, 1700] loss: 287.210\n",
            "[5, validation] loss: 282.869\n",
            "[5, 0] loss: 281.653\n",
            "[5, 100] loss: 293.765\n",
            "[5, 200] loss: 284.153\n",
            "[5, 300] loss: 251.347\n",
            "[5, 400] loss: 253.216\n",
            "[5, 500] loss: 250.277\n",
            "[5, 600] loss: 290.177\n",
            "[5, 700] loss: 292.086\n",
            "[5, 800] loss: 286.184\n",
            "[5, 900] loss: 288.125\n",
            "[5, 1000] loss: 271.739\n",
            "[5, 1100] loss: 282.976\n",
            "[5, 1200] loss: 300.683\n",
            "[5, 1300] loss: 263.735\n",
            "[5, 1400] loss: 280.541\n",
            "[5, 1500] loss: 283.130\n",
            "[5, 1600] loss: 258.819\n",
            "[5, 1700] loss: 235.980\n",
            "[6, validation] loss: 280.936\n",
            "[6, 0] loss: 279.864\n",
            "[6, 100] loss: 249.100\n",
            "[6, 200] loss: 248.271\n",
            "[6, 300] loss: 269.043\n",
            "[6, 400] loss: 267.593\n",
            "[6, 500] loss: 268.580\n",
            "[6, 600] loss: 285.303\n",
            "[6, 700] loss: 280.054\n",
            "[6, 800] loss: 271.297\n",
            "[6, 900] loss: 285.678\n",
            "[6, 1000] loss: 258.080\n",
            "[6, 1100] loss: 280.953\n",
            "[6, 1200] loss: 279.494\n",
            "[6, 1300] loss: 257.950\n",
            "[6, 1400] loss: 293.084\n",
            "[6, 1500] loss: 301.628\n",
            "[6, 1600] loss: 313.010\n",
            "[6, 1700] loss: 282.673\n",
            "[7, validation] loss: 279.551\n",
            "[7, 0] loss: 275.287\n",
            "[7, 100] loss: 242.242\n",
            "[7, 200] loss: 288.664\n",
            "[7, 300] loss: 297.894\n",
            "[7, 400] loss: 260.052\n",
            "[7, 500] loss: 258.634\n",
            "[7, 600] loss: 287.736\n",
            "[7, 700] loss: 260.959\n",
            "[7, 800] loss: 266.329\n",
            "[7, 900] loss: 286.967\n",
            "[7, 1000] loss: 288.637\n",
            "[7, 1100] loss: 309.518\n",
            "[7, 1200] loss: 269.321\n",
            "[7, 1300] loss: 273.220\n",
            "[7, 1400] loss: 279.359\n",
            "[7, 1500] loss: 266.633\n",
            "[7, 1600] loss: 320.382\n",
            "[7, 1700] loss: 298.987\n",
            "[8, validation] loss: 280.313\n",
            "[8, 0] loss: 288.311\n",
            "[8, 100] loss: 288.724\n",
            "[8, 200] loss: 248.823\n",
            "[8, 300] loss: 261.077\n",
            "[8, 400] loss: 266.183\n",
            "[8, 500] loss: 261.322\n",
            "[8, 600] loss: 259.167\n",
            "[8, 700] loss: 280.394\n",
            "[8, 800] loss: 265.317\n",
            "[8, 900] loss: 251.152\n",
            "[8, 1000] loss: 246.760\n",
            "[8, 1100] loss: 326.326\n",
            "[8, 1200] loss: 271.013\n",
            "[8, 1300] loss: 271.529\n",
            "[8, 1400] loss: 297.412\n",
            "[8, 1500] loss: 288.911\n",
            "[8, 1600] loss: 292.543\n",
            "[8, 1700] loss: 272.612\n",
            "[9, validation] loss: 278.943\n",
            "[9, 0] loss: 247.014\n",
            "[9, 100] loss: 276.265\n",
            "[9, 200] loss: 267.647\n",
            "[9, 300] loss: 258.958\n",
            "[9, 400] loss: 269.239\n",
            "[9, 500] loss: 294.439\n",
            "[9, 600] loss: 274.582\n",
            "[9, 700] loss: 262.039\n",
            "[9, 800] loss: 274.707\n",
            "[9, 900] loss: 257.937\n",
            "[9, 1000] loss: 299.743\n",
            "[9, 1100] loss: 291.543\n",
            "[9, 1200] loss: 283.620\n",
            "[9, 1300] loss: 265.720\n",
            "[9, 1400] loss: 304.635\n",
            "[9, 1500] loss: 284.450\n",
            "[9, 1600] loss: 270.832\n",
            "[9, 1700] loss: 251.077\n",
            "[10, validation] loss: 278.247\n",
            "[10, 0] loss: 280.954\n",
            "[10, 100] loss: 248.041\n",
            "[10, 200] loss: 284.295\n",
            "[10, 300] loss: 281.305\n",
            "[10, 400] loss: 290.443\n",
            "[10, 500] loss: 280.161\n",
            "[10, 600] loss: 267.226\n",
            "[10, 700] loss: 262.635\n",
            "[10, 800] loss: 284.458\n",
            "[10, 900] loss: 293.396\n",
            "[10, 1000] loss: 261.612\n",
            "[10, 1100] loss: 272.000\n",
            "[10, 1200] loss: 271.906\n",
            "[10, 1300] loss: 274.774\n",
            "[10, 1400] loss: 290.174\n",
            "[10, 1500] loss: 304.880\n",
            "[10, 1600] loss: 251.142\n",
            "[10, 1700] loss: 260.861\n",
            "[10, validation] loss: 278.057\n"
          ],
          "name": "stdout"
        }
      ]
    },
    {
      "cell_type": "code",
      "metadata": {
        "colab_type": "code",
        "id": "4I6vt-OjST-I",
        "outputId": "0ea9dae5-f939-4f01-e871-5ee419cd902d",
        "colab": {
          "base_uri": "https://localhost:8080/",
          "height": 295
        }
      },
      "source": [
        "plt.title('Autoencoder reconstruction loss curves')\n",
        "plt.plot(training_loss, label='training loss')\n",
        "plt.plot(np.linspace(0, len(training_loss), len(validation_loss)), validation_loss, '-x', label='validation loss')\n",
        "plt.xlabel('Iteration')\n",
        "plt.ylabel('MSE')\n",
        "plt.legend();"
      ],
      "execution_count": 19,
      "outputs": [
        {
          "output_type": "display_data",
          "data": {
            "image/png": "[encoded data removed]",
            "text/plain": [
              "<Figure size 432x288 with 1 Axes>"
            ]
          },
          "metadata": {
            "tags": []
          }
        }
      ]
    },
    {
      "cell_type": "markdown",
      "metadata": {
        "id": "NXnbmjhLfaTR",
        "colab_type": "text"
      },
      "source": [
        "We can see that the loss quickly reduces and then it doesn't improve much. The validation curve is similar to the training one, so we can say it doesn't overfit the training data.\n",
        "\n",
        "In log-scale:"
      ]
    },
    {
      "cell_type": "code",
      "metadata": {
        "colab_type": "code",
        "outputId": "b7f675ee-62c7-4c13-8080-98f46905cef1",
        "id": "BxrbIH0Qgcpn",
        "colab": {
          "base_uri": "https://localhost:8080/",
          "height": 295
        }
      },
      "source": [
        "plt.title('Autoencoder reconstruction loss curves in log-scale')\n",
        "plt.yscale('log')\n",
        "plt.plot(training_loss, label='training loss')\n",
        "plt.plot(np.linspace(0, len(training_loss), len(validation_loss)), validation_loss, '-x', label='validation loss')\n",
        "plt.xlabel('Iteration')\n",
        "plt.ylabel('MSE')\n",
        "plt.legend();"
      ],
      "execution_count": 20,
      "outputs": [
        {
          "output_type": "display_data",
          "data": {
            "image/png": "[encoded data removed]",
            "text/plain": [
              "<Figure size 432x288 with 1 Axes>"
            ]
          },
          "metadata": {
            "tags": []
          }
        }
      ]
    },
    {
      "cell_type": "markdown",
      "metadata": {
        "id": "3FTDWqo4NcF0",
        "colab_type": "text"
      },
      "source": [
        "Now we'll try to reconstruct a image from the test dataset."
      ]
    },
    {
      "cell_type": "code",
      "metadata": {
        "colab_type": "code",
        "id": "3OKrrQKRfISs",
        "colab": {}
      },
      "source": [
        "mnist_test = torchvision.datasets.MNIST('mnist_dataset', train=False, transform=transform)"
      ],
      "execution_count": 0,
      "outputs": []
    },
    {
      "cell_type": "code",
      "metadata": {
        "id": "NfXE9nSUQBV1",
        "colab_type": "code",
        "colab": {}
      },
      "source": [
        "def show_image(image, autoencoder, title=None):\n",
        "    reconstructed = autoencoder(image.to(device).unsqueeze(0))\n",
        "    if title:\n",
        "        plt.suptitle(title)\n",
        "    plt.subplot(121).set_title('Original image')\n",
        "    plt.imshow(image.reshape((28, 28)), cmap='gray')\n",
        "    plt.subplot(122).set_title('Reconstructed image')\n",
        "    plt.imshow(reconstructed.reshape((28, 28)).detach().cpu().numpy(), cmap='gray');"
      ],
      "execution_count": 0,
      "outputs": []
    },
    {
      "cell_type": "code",
      "metadata": {
        "id": "7YUCupgTgYt3",
        "colab_type": "code",
        "outputId": "8dd7c976-3567-4c1d-c5e3-2ad986cbae67",
        "colab": {
          "base_uri": "https://localhost:8080/",
          "height": 216
        }
      },
      "source": [
        "show_image(mnist_test[6][0], autoencoder)"
      ],
      "execution_count": 23,
      "outputs": [
        {
          "output_type": "display_data",
          "data": {
            "image/png": "[encoded data removed]",
            "text/plain": [
              "<Figure size 432x288 with 2 Axes>"
            ]
          },
          "metadata": {
            "tags": []
          }
        }
      ]
    },
    {
      "cell_type": "markdown",
      "metadata": {
        "id": "Lxb8rpY3goVF",
        "colab_type": "text"
      },
      "source": [
        "We can see some information is loss, but the reconstruction is pretty accurate."
      ]
    },
    {
      "cell_type": "markdown",
      "metadata": {
        "id": "qQfkKa71EQ9s",
        "colab_type": "text"
      },
      "source": [
        "## Varying bottleneck size\n"
      ]
    },
    {
      "cell_type": "code",
      "metadata": {
        "id": "34WQ01WqLcmz",
        "colab_type": "code",
        "colab": {}
      },
      "source": [
        "mse = torch.nn.MSELoss(reduction='sum')"
      ],
      "execution_count": 0,
      "outputs": []
    },
    {
      "cell_type": "code",
      "metadata": {
        "id": "3ctr05S_Edn6",
        "colab_type": "code",
        "outputId": "ca201ac8-89af-45b2-f7cf-a3aab4fcc936",
        "colab": {
          "base_uri": "https://localhost:8080/",
          "height": 1000
        }
      },
      "source": [
        "bottleneck_sizes = [2, 5, 10]\n",
        "autoencoders = {}\n",
        "min_loss = float(\"inf\")\n",
        "\n",
        "for bottleneck_size in bottleneck_sizes:\n",
        "    training_loss = []    #\n",
        "    validation_loss = []  # Here we save the training process.\n",
        "\n",
        "    print(\"*\"*15 + f\"Autoencoder bottleneck size {bottleneck_size}\" + \"*\"*15)\n",
        "  \n",
        "    autoencoder = ConvolutionalAutoencoderReducedLatentDim(\n",
        "        input_shape=(28, 28),\n",
        "        n_blocks=2,\n",
        "        downsampling_method='max-pooling',\n",
        "        upsampling_method='nearest',\n",
        "        layers_per_block=2,\n",
        "        latent_dimensionality=bottleneck_size\n",
        "    ).to(device)\n",
        "    adam = torch.optim.Adam(autoencoder.parameters(), lr=0.001)\n",
        "\n",
        "    for epoch in range(EPOCHS):\n",
        "        autoencoder.eval()\n",
        "        with torch.no_grad():\n",
        "            loss = test(autoencoder, val_dataloader, mse, epoch, validation_loss)\n",
        "        if loss < min_loss:\n",
        "            torch.save({'encoder': autoencoder.encoder.state_dict(),\n",
        "                        'bottleneck_size': bottleneck_size}, 'encoder.pt')\n",
        "        autoencoder.train()\n",
        "        train(autoencoder, train_dataloader, mse, adam, epoch, training_loss, 500)\n",
        "\n",
        "    autoencoder.eval()\n",
        "    with torch.no_grad():\n",
        "        test(autoencoder, val_dataloader, mse, epoch, validation_loss)\n",
        "    autoencoders[f\"bottleneck_{bottleneck_size}\"] = {\"val_loss\": validation_loss, \"model\": autoencoder}"
      ],
      "execution_count": 25,
      "outputs": [
        {
          "output_type": "stream",
          "text": [
            "***************Autoencoder bottleneck size 2***************\n",
            "[1, validation] loss: 792.791\n",
            "[1, 0] loss: 787.256\n",
            "[1, 500] loss: 469.809\n",
            "[1, 1000] loss: 474.729\n",
            "[1, 1500] loss: 427.164\n",
            "[2, validation] loss: 431.976\n",
            "[2, 0] loss: 420.876\n",
            "[2, 500] loss: 400.255\n",
            "[2, 1000] loss: 415.600\n",
            "[2, 1500] loss: 435.886\n",
            "[3, validation] loss: 422.706\n",
            "[3, 0] loss: 407.900\n",
            "[3, 500] loss: 407.942\n",
            "[3, 1000] loss: 396.307\n",
            "[3, 1500] loss: 450.134\n",
            "[4, validation] loss: 413.668\n",
            "[4, 0] loss: 425.662\n",
            "[4, 500] loss: 362.721\n",
            "[4, 1000] loss: 409.961\n",
            "[4, 1500] loss: 443.642\n",
            "[5, validation] loss: 411.268\n",
            "[5, 0] loss: 391.479\n",
            "[5, 500] loss: 352.935\n",
            "[5, 1000] loss: 403.096\n",
            "[5, 1500] loss: 410.267\n",
            "[6, validation] loss: 409.059\n",
            "[6, 0] loss: 448.516\n",
            "[6, 500] loss: 447.811\n",
            "[6, 1000] loss: 394.982\n",
            "[6, 1500] loss: 479.378\n",
            "[7, validation] loss: 407.185\n",
            "[7, 0] loss: 409.237\n",
            "[7, 500] loss: 370.951\n",
            "[7, 1000] loss: 380.004\n",
            "[7, 1500] loss: 399.194\n",
            "[8, validation] loss: 404.796\n",
            "[8, 0] loss: 331.734\n",
            "[8, 500] loss: 377.912\n",
            "[8, 1000] loss: 381.060\n",
            "[8, 1500] loss: 370.547\n",
            "[9, validation] loss: 407.167\n",
            "[9, 0] loss: 399.976\n",
            "[9, 500] loss: 416.249\n",
            "[9, 1000] loss: 354.736\n",
            "[9, 1500] loss: 392.525\n",
            "[10, validation] loss: 403.601\n",
            "[10, 0] loss: 397.743\n",
            "[10, 500] loss: 432.460\n",
            "[10, 1000] loss: 386.050\n",
            "[10, 1500] loss: 446.428\n",
            "[10, validation] loss: 402.148\n",
            "***************Autoencoder bottleneck size 5***************\n",
            "[1, validation] loss: 792.000\n",
            "[1, 0] loss: 797.568\n",
            "[1, 500] loss: 575.351\n",
            "[1, 1000] loss: 506.766\n",
            "[1, 1500] loss: 534.553\n",
            "[2, validation] loss: 565.236\n",
            "[2, 0] loss: 510.028\n",
            "[2, 500] loss: 600.561\n",
            "[2, 1000] loss: 590.123\n",
            "[2, 1500] loss: 529.103\n",
            "[3, validation] loss: 564.825\n",
            "[3, 0] loss: 537.380\n",
            "[3, 500] loss: 595.819\n",
            "[3, 1000] loss: 544.213\n",
            "[3, 1500] loss: 557.107\n",
            "[4, validation] loss: 564.768\n",
            "[4, 0] loss: 549.769\n",
            "[4, 500] loss: 532.094\n",
            "[4, 1000] loss: 526.138\n",
            "[4, 1500] loss: 501.759\n",
            "[5, validation] loss: 565.201\n",
            "[5, 0] loss: 579.580\n",
            "[5, 500] loss: 579.815\n",
            "[5, 1000] loss: 583.858\n",
            "[5, 1500] loss: 557.357\n",
            "[6, validation] loss: 564.554\n",
            "[6, 0] loss: 578.284\n",
            "[6, 500] loss: 563.002\n",
            "[6, 1000] loss: 628.708\n",
            "[6, 1500] loss: 538.277\n",
            "[7, validation] loss: 564.562\n",
            "[7, 0] loss: 594.805\n",
            "[7, 500] loss: 521.599\n",
            "[7, 1000] loss: 554.016\n",
            "[7, 1500] loss: 530.882\n",
            "[8, validation] loss: 564.803\n",
            "[8, 0] loss: 533.810\n",
            "[8, 500] loss: 573.862\n",
            "[8, 1000] loss: 558.977\n",
            "[8, 1500] loss: 583.562\n",
            "[9, validation] loss: 564.489\n",
            "[9, 0] loss: 543.681\n",
            "[9, 500] loss: 563.638\n",
            "[9, 1000] loss: 559.676\n",
            "[9, 1500] loss: 556.005\n",
            "[10, validation] loss: 565.245\n",
            "[10, 0] loss: 593.513\n",
            "[10, 500] loss: 540.144\n",
            "[10, 1000] loss: 564.363\n",
            "[10, 1500] loss: 568.115\n",
            "[10, validation] loss: 564.607\n",
            "***************Autoencoder bottleneck size 10***************\n",
            "[1, validation] loss: 792.882\n",
            "[1, 0] loss: 752.042\n",
            "[1, 500] loss: 362.820\n",
            "[1, 1000] loss: 369.699\n",
            "[1, 1500] loss: 352.098\n",
            "[2, validation] loss: 374.351\n",
            "[2, 0] loss: 369.720\n",
            "[2, 500] loss: 387.530\n",
            "[2, 1000] loss: 353.932\n",
            "[2, 1500] loss: 328.453\n",
            "[3, validation] loss: 365.140\n",
            "[3, 0] loss: 370.349\n",
            "[3, 500] loss: 384.103\n",
            "[3, 1000] loss: 373.847\n",
            "[3, 1500] loss: 358.037\n",
            "[4, validation] loss: 361.090\n",
            "[4, 0] loss: 384.356\n",
            "[4, 500] loss: 282.191\n",
            "[4, 1000] loss: 359.979\n",
            "[4, 1500] loss: 363.230\n",
            "[5, validation] loss: 356.910\n",
            "[5, 0] loss: 337.614\n",
            "[5, 500] loss: 350.226\n",
            "[5, 1000] loss: 317.527\n",
            "[5, 1500] loss: 357.964\n",
            "[6, validation] loss: 355.421\n",
            "[6, 0] loss: 362.203\n",
            "[6, 500] loss: 387.578\n",
            "[6, 1000] loss: 372.065\n",
            "[6, 1500] loss: 362.001\n",
            "[7, validation] loss: 353.525\n",
            "[7, 0] loss: 306.737\n",
            "[7, 500] loss: 347.166\n",
            "[7, 1000] loss: 344.939\n",
            "[7, 1500] loss: 326.783\n",
            "[8, validation] loss: 352.112\n",
            "[8, 0] loss: 361.907\n",
            "[8, 500] loss: 317.594\n",
            "[8, 1000] loss: 361.625\n",
            "[8, 1500] loss: 352.994\n",
            "[9, validation] loss: 351.686\n",
            "[9, 0] loss: 349.667\n",
            "[9, 500] loss: 377.057\n",
            "[9, 1000] loss: 347.528\n",
            "[9, 1500] loss: 350.617\n",
            "[10, validation] loss: 349.001\n",
            "[10, 0] loss: 326.600\n",
            "[10, 500] loss: 339.064\n",
            "[10, 1000] loss: 341.835\n",
            "[10, 1500] loss: 352.841\n",
            "[10, validation] loss: 350.366\n"
          ],
          "name": "stdout"
        }
      ]
    },
    {
      "cell_type": "code",
      "metadata": {
        "id": "ySmvQV1_PQML",
        "colab_type": "code",
        "colab": {
          "base_uri": "https://localhost:8080/",
          "height": 279
        },
        "outputId": "f817c2a0-f126-4fec-cbd0-4e3bb0baaad3"
      },
      "source": [
        " plt.figure()\n",
        "for bottleneck_size in autoencoders:\n",
        "    plt.plot(autoencoders[bottleneck_size][\"val_loss\"], label=bottleneck_size.replace(\"_\", \"=\"))\n",
        "plt.xlabel('epoch')\n",
        "plt.ylabel('MSE')\n",
        "plt.legend();"
      ],
      "execution_count": 26,
      "outputs": [
        {
          "output_type": "display_data",
          "data": {
            "image/png": "[encoded data removed]",
            "text/plain": [
              "<Figure size 432x288 with 1 Axes>"
            ]
          },
          "metadata": {
            "tags": []
          }
        }
      ]
    },
    {
      "cell_type": "code",
      "metadata": {
        "id": "6j2LidLMQjiw",
        "colab_type": "code",
        "colab": {
          "base_uri": "https://localhost:8080/",
          "height": 752
        },
        "outputId": "2f6477ec-b6fd-45b3-e2fa-79ae022a7eb6"
      },
      "source": [
        "for bottleneck_size in autoencoders:\n",
        "    plt.figure()\n",
        "    show_image(mnist_val[0][0], autoencoders[bottleneck_size][\"model\"], bottleneck_size)"
      ],
      "execution_count": 27,
      "outputs": [
        {
          "output_type": "display_data",
          "data": {
            "image/png": "[encoded data removed]",
            "text/plain": [
              "<Figure size 432x288 with 2 Axes>"
            ]
          },
          "metadata": {
            "tags": []
          }
        },
        {
          "output_type": "display_data",
          "data": {
            "image/png": "[encoded data removed]",
            "text/plain": [
              "<Figure size 432x288 with 2 Axes>"
            ]
          },
          "metadata": {
            "tags": []
          }
        },
        {
          "output_type": "display_data",
          "data": {
            "image/png": "[encoded data removed]",
            "text/plain": [
              "<Figure size 432x288 with 2 Axes>"
            ]
          },
          "metadata": {
            "tags": []
          }
        }
      ]
    },
    {
      "cell_type": "markdown",
      "metadata": {
        "colab_type": "text",
        "id": "04ODN1xHIHEL"
      },
      "source": [
        "# Exercise 2: Transfer Learning\n",
        "\n",
        "## Steps:\n",
        "\n",
        "1. Select a subset of 100 images and their associated labels from the MNIST training data.\n",
        "2. Select one of the previously trained autoencoders.\n",
        "3. Create a digit (0-9) classification model reusing the encoder of the autoencoder and adding the needed fully connected (projection) layer.\n",
        "3. Pretraining: use the weights of the autoencoder as initial values for the network weights and train a classification model on the subset of 100 samples.\n",
        "4. Fine-tuning: do the same, but train the new projection layer with a normal learning rate and the reused part with a very low learning rate.\n",
        "5. From scratch: train the model on the 100 samples without reusing the decoder weights at all.\n",
        "6. Show the accuracy of the four models on the MNIST test set in a table.\n"
      ]
    },
    {
      "cell_type": "markdown",
      "metadata": {
        "id": "__skvBbtjABn",
        "colab_type": "text"
      },
      "source": [
        "## Pretraining"
      ]
    },
    {
      "cell_type": "markdown",
      "metadata": {
        "id": "v0jvg9aSh70E",
        "colab_type": "text"
      },
      "source": [
        "The number of outputs need to be 10 as we have 10 classes, and 50 as input because we will use the encoder with a latent dimensionality of 100.\n",
        "\n",
        "We don't need to define a softmax layer, as the `CrossEntropyLoss` class internally applies it."
      ]
    },
    {
      "cell_type": "code",
      "metadata": {
        "colab_type": "code",
        "id": "0oYtzXP8IUh5",
        "colab": {}
      },
      "source": [
        "# Load saved autoencoder training checkpoint.\n",
        "autoencoder_checkpoint = torch.load('encoder.pt')\n",
        "bottleneck_size = autoencoder_checkpoint['bottleneck_size']\n",
        "encoder = ConvolutionalAutoencoderReducedLatentDim(\n",
        "    input_shape=(28, 28),\n",
        "    n_blocks=2,\n",
        "    downsampling_method='max-pooling',\n",
        "    upsampling_method='nearest',\n",
        "    layers_per_block=2,\n",
        "    latent_dimensionality=bottleneck_size\n",
        ").encoder.to(device)\n",
        "encoder.load_state_dict(autoencoder_checkpoint['encoder'])\n",
        "\n",
        "# Define classification layer.\n",
        "classifier = torch.nn.Linear(bottleneck_size, 10).to(device)"
      ],
      "execution_count": 0,
      "outputs": []
    },
    {
      "cell_type": "markdown",
      "metadata": {
        "colab_type": "text",
        "id": "qqvqjkE5h2jR"
      },
      "source": [
        "We use the cross-entropy as our loss function and Adam as our optimization algorithm with a learning rate of 0.01."
      ]
    },
    {
      "cell_type": "code",
      "metadata": {
        "colab_type": "code",
        "id": "adq2d7EnJaW5",
        "colab": {}
      },
      "source": [
        "cross_entropy = torch.nn.CrossEntropyLoss()\n",
        "classifier_adam = torch.optim.Adam(classifier.parameters(), lr=0.01)"
      ],
      "execution_count": 0,
      "outputs": []
    },
    {
      "cell_type": "markdown",
      "metadata": {
        "id": "GyA7pTDyiZH8",
        "colab_type": "text"
      },
      "source": [
        "We create a subset daaset using the pytorch's `Subset` class with the first 100 samples from the training split."
      ]
    },
    {
      "cell_type": "code",
      "metadata": {
        "colab_type": "code",
        "id": "M8UWsjOhJqKN",
        "colab": {}
      },
      "source": [
        "training_subset = torch.utils.data.Subset(mnist_train, range(100))\n",
        "subset_dataloader = torch.utils.data.DataLoader(training_subset,\n",
        "                                                batch_size=BATCH_SIZE,\n",
        "                                                shuffle=True,\n",
        "                                                num_workers=4)"
      ],
      "execution_count": 0,
      "outputs": []
    },
    {
      "cell_type": "markdown",
      "metadata": {
        "colab_type": "text",
        "id": "xrkIqayBiubF"
      },
      "source": [
        "Define our `classification_train` function that will be called at each epoch. The funciton takes the classifier network as well as the encoder network. It first projects the input image to the latent space and then applies the classification layer.\n",
        "\n",
        "The output of the encoder is detached so the gradients are not computed (because we dont need them)."
      ]
    },
    {
      "cell_type": "code",
      "metadata": {
        "colab_type": "code",
        "id": "UWTRqkZ6MEgf",
        "colab": {}
      },
      "source": [
        "def classification_train(classifier, encoder, dataloader, criterion, optimizer, epoch, loss_history):\n",
        "    for i, (images, labels) in enumerate(dataloader):\n",
        "        images, labels = images.to(device), labels.to(device, torch.long)\n",
        "        optimizer.zero_grad()\n",
        "        # To latent space.\n",
        "        codes = encoder(images).detach()\n",
        "        # Classify from latent space.\n",
        "        outputs = classifier(codes)\n",
        "        loss = criterion(outputs, labels)\n",
        "        loss.backward()   # Backprop.\n",
        "        optimizer.step()  # Parameter updates.\n",
        "\n",
        "        loss_history.append(loss.item())\n",
        "        print('[%d, %d] loss: %.3f' % (epoch + 1, i, loss.item()))"
      ],
      "execution_count": 0,
      "outputs": []
    },
    {
      "cell_type": "markdown",
      "metadata": {
        "colab_type": "text",
        "id": "BL_Pz6KhizE8"
      },
      "source": [
        "Very similar to the `classification_train` function, we define our `classification_test` function to validate. In this case we don't backpropagate and update our parameters. We also compute the accuracy by summing all the correct predictions and dividing by the total number of images."
      ]
    },
    {
      "cell_type": "code",
      "metadata": {
        "colab_type": "code",
        "id": "nv5E5Xc6QiKV",
        "colab": {}
      },
      "source": [
        "def classification_test(classifier, encoder, dataloader, criterion, epoch, loss_history):\n",
        "    loss = 0\n",
        "    total = 0\n",
        "    correct = 0\n",
        "    for i, (images, labels) in enumerate(dataloader):\n",
        "        images, labels = images.to(device), labels.to(device, torch.long)\n",
        "        codes = encoder(images)\n",
        "        outputs = classifier(codes)\n",
        "        loss += criterion(outputs, labels).item()\n",
        "        # Compute average accuracy.\n",
        "        _, predicted = torch.max(outputs.data, 1)\n",
        "        total += labels.size(0)\n",
        "        correct += (predicted == labels).sum().item()\n",
        "\n",
        "    mean_loss = loss / (i + 1)\n",
        "    loss_history.append(mean_loss)  \n",
        "    print('[%d, validation] loss: %.3f accuracy: %.3f' % (epoch + 1, mean_loss, 100 * correct / total))\n",
        "    return mean_loss"
      ],
      "execution_count": 0,
      "outputs": []
    },
    {
      "cell_type": "markdown",
      "metadata": {
        "id": "fub5vuTJkmGN",
        "colab_type": "text"
      },
      "source": [
        "We pass the `encoder` submodule of the `autoencoder` object as the `encoder` parameter of the above-defined functions."
      ]
    },
    {
      "cell_type": "code",
      "metadata": {
        "colab_type": "code",
        "id": "Tx50jNQdNaoX",
        "colab": {
          "base_uri": "https://localhost:8080/",
          "height": 903
        },
        "outputId": "d13a891d-9517-4a5d-e2b4-ec22d8964e8b"
      },
      "source": [
        "training_loss = []    #\n",
        "validation_loss = []  # Here we save the training process.\n",
        "min_loss = float('inf')\n",
        "\n",
        "for epoch in range(EPOCHS):\n",
        "    classifier.eval()\n",
        "    with torch.no_grad():\n",
        "        loss = classification_test(classifier, encoder, val_dataloader, cross_entropy, epoch, validation_loss)\n",
        "        if loss < min_loss:\n",
        "            min_loss = loss\n",
        "            torch.save({'classifier': classifier.state_dict(),\n",
        "                        'encoder': encoder.state_dict()},\n",
        "                       'best_pretrain.pt')\n",
        "    classifier.train()\n",
        "    classification_train(classifier, encoder, subset_dataloader, cross_entropy, classifier_adam, epoch, training_loss)\n",
        "\n",
        "classifier.eval()\n",
        "with torch.no_grad():\n",
        "    loss = classification_test(classifier, encoder, val_dataloader, cross_entropy, epoch, validation_loss)\n",
        "    if loss < min_loss:\n",
        "            min_loss = loss\n",
        "            torch.save({'classifier': classifier.state_dict(),\n",
        "                        'encoder': encoder.state_dict()},\n",
        "                       'best_pretrain.pt')"
      ],
      "execution_count": 33,
      "outputs": [
        {
          "output_type": "stream",
          "text": [
            "[1, validation] loss: 2.488 accuracy: 0.833\n",
            "[1, 0] loss: 2.398\n",
            "[1, 1] loss: 2.542\n",
            "[1, 2] loss: 2.611\n",
            "[1, 3] loss: 2.373\n",
            "[2, validation] loss: 2.400 accuracy: 1.700\n",
            "[2, 0] loss: 2.359\n",
            "[2, 1] loss: 2.374\n",
            "[2, 2] loss: 2.479\n",
            "[2, 3] loss: 2.165\n",
            "[3, validation] loss: 2.337 accuracy: 2.700\n",
            "[3, 0] loss: 2.407\n",
            "[3, 1] loss: 2.298\n",
            "[3, 2] loss: 2.261\n",
            "[3, 3] loss: 2.164\n",
            "[4, validation] loss: 2.292 accuracy: 8.600\n",
            "[4, 0] loss: 2.069\n",
            "[4, 1] loss: 2.320\n",
            "[4, 2] loss: 2.388\n",
            "[4, 3] loss: 1.980\n",
            "[5, validation] loss: 2.266 accuracy: 10.100\n",
            "[5, 0] loss: 2.241\n",
            "[5, 1] loss: 2.191\n",
            "[5, 2] loss: 2.139\n",
            "[5, 3] loss: 2.488\n",
            "[6, validation] loss: 2.247 accuracy: 11.433\n",
            "[6, 0] loss: 2.221\n",
            "[6, 1] loss: 2.243\n",
            "[6, 2] loss: 2.004\n",
            "[6, 3] loss: 2.295\n",
            "[7, validation] loss: 2.230 accuracy: 17.533\n",
            "[7, 0] loss: 2.113\n",
            "[7, 1] loss: 2.094\n",
            "[7, 2] loss: 2.165\n",
            "[7, 3] loss: 2.306\n",
            "[8, validation] loss: 2.212 accuracy: 22.067\n",
            "[8, 0] loss: 1.985\n",
            "[8, 1] loss: 2.233\n",
            "[8, 2] loss: 2.096\n",
            "[8, 3] loss: 1.972\n",
            "[9, validation] loss: 2.186 accuracy: 22.200\n",
            "[9, 0] loss: 2.066\n",
            "[9, 1] loss: 2.045\n",
            "[9, 2] loss: 2.063\n",
            "[9, 3] loss: 2.368\n",
            "[10, validation] loss: 2.163 accuracy: 20.067\n",
            "[10, 0] loss: 2.026\n",
            "[10, 1] loss: 2.089\n",
            "[10, 2] loss: 2.048\n",
            "[10, 3] loss: 1.719\n",
            "[10, validation] loss: 2.136 accuracy: 18.833\n"
          ],
          "name": "stdout"
        }
      ]
    },
    {
      "cell_type": "code",
      "metadata": {
        "colab_type": "code",
        "id": "3g7sNGZChB9G",
        "colab": {
          "base_uri": "https://localhost:8080/",
          "height": 295
        },
        "outputId": "9e40bc90-5c95-4792-b34d-b27cf6451b62"
      },
      "source": [
        "plt.title('Pretraining classification loss curves')\n",
        "plt.plot(training_loss, label='training loss')\n",
        "plt.plot(np.linspace(0, len(training_loss), len(validation_loss)), validation_loss, '-x', label='validation loss')\n",
        "plt.xlabel('iteration')\n",
        "plt.ylabel('cross entropy')\n",
        "plt.legend();"
      ],
      "execution_count": 34,
      "outputs": [
        {
          "output_type": "display_data",
          "data": {
            "image/png": "[encoded data removed]",
            "text/plain": [
              "<Figure size 432x288 with 1 Axes>"
            ]
          },
          "metadata": {
            "tags": []
          }
        }
      ]
    },
    {
      "cell_type": "code",
      "metadata": {
        "colab_type": "code",
        "id": "f8HSHSVvRmjS",
        "colab": {}
      },
      "source": [
        "test_dataloader = torch.utils.data.DataLoader(mnist_test, batch_size=BATCH_SIZE)"
      ],
      "execution_count": 0,
      "outputs": []
    },
    {
      "cell_type": "code",
      "metadata": {
        "colab_type": "code",
        "id": "B2dNc7aeap_8",
        "colab": {
          "base_uri": "https://localhost:8080/",
          "height": 52
        },
        "outputId": "b754a65e-37bd-4ef1-fc9c-c12ee7c930bc"
      },
      "source": [
        "classification_test(classifier, encoder, test_dataloader, cross_entropy, epoch, [])"
      ],
      "execution_count": 36,
      "outputs": [
        {
          "output_type": "stream",
          "text": [
            "[10, validation] loss: 2.142 accuracy: 19.340\n"
          ],
          "name": "stdout"
        },
        {
          "output_type": "execute_result",
          "data": {
            "text/plain": [
              "2.1422564518718294"
            ]
          },
          "metadata": {
            "tags": []
          },
          "execution_count": 36
        }
      ]
    },
    {
      "cell_type": "markdown",
      "metadata": {
        "id": "27T_v5UkjACE",
        "colab_type": "text"
      },
      "source": [
        "## Pretrain + Fine-tuning"
      ]
    },
    {
      "cell_type": "markdown",
      "metadata": {
        "id": "BZgsgSfHmYWH",
        "colab_type": "text"
      },
      "source": [
        "We modify the `classification_train` function to accept the encoder optimizer as a parameter and updates both the encoder and classification networks.\n",
        "\n",
        "The `classification_test` function doesn't need to be modified."
      ]
    },
    {
      "cell_type": "code",
      "metadata": {
        "colab_type": "code",
        "id": "a9DBFMs5jACF",
        "colab": {}
      },
      "source": [
        "def classification_train(classifier, encoder, dataloader, criterion, classifier_optimizer, encoder_optimizer, epoch, loss_history):\n",
        "    for i, (images, labels) in enumerate(dataloader):\n",
        "        images, labels = images.to(device), labels.to(device, torch.long)\n",
        "        encoder_optimizer.zero_grad()\n",
        "        classifier_optimizer.zero_grad()\n",
        "        # To latent space.\n",
        "        codes = encoder(images)\n",
        "        # Classify from latent space.\n",
        "        outputs = classifier(codes)\n",
        "        loss = criterion(outputs, labels)\n",
        "        loss.backward()              # Backprop.\n",
        "        encoder_optimizer.step()     # Update encoder parameters.\n",
        "        classifier_optimizer.step()  # Update classifier parameters.\n",
        "\n",
        "        loss_history.append(loss.item())\n",
        "        print('[%d, %d] loss: %.3f' % (epoch + 1, i, loss.item()))"
      ],
      "execution_count": 0,
      "outputs": []
    },
    {
      "cell_type": "markdown",
      "metadata": {
        "id": "JZUYo_X3m9D3",
        "colab_type": "text"
      },
      "source": [
        "We define a new Adam optimizer for the encoder network with a small learning rate of 0.0001. The classification network optimizer is reused."
      ]
    },
    {
      "cell_type": "code",
      "metadata": {
        "id": "lCsCfmPkjACJ",
        "colab_type": "code",
        "colab": {}
      },
      "source": [
        "encoder_adam = torch.optim.Adam(encoder.parameters(), lr=0.0001)"
      ],
      "execution_count": 0,
      "outputs": []
    },
    {
      "cell_type": "markdown",
      "metadata": {
        "id": "lxBX3gRtnOV9",
        "colab_type": "text"
      },
      "source": [
        "Note that we don't redefine the `training_loss` and `validation_loss` list, so they will have the values of the pretraining stage too."
      ]
    },
    {
      "cell_type": "code",
      "metadata": {
        "colab_type": "code",
        "id": "RdqDkdgwjACN",
        "colab": {
          "base_uri": "https://localhost:8080/",
          "height": 1000
        },
        "outputId": "e3d49e1e-5f83-46fa-a2ff-f9d6319bfc92"
      },
      "source": [
        "min_loss = float('inf')\n",
        "\n",
        "for epoch in range(20):\n",
        "    classifier.eval()\n",
        "    encoder.eval()\n",
        "    with torch.no_grad():\n",
        "        loss = classification_test(classifier, encoder, val_dataloader, cross_entropy, epoch, validation_loss)\n",
        "        if loss < min_loss:\n",
        "            min_loss = loss\n",
        "            torch.save({'classifier': classifier.state_dict(),\n",
        "                        'encoder': encoder.state_dict()},\n",
        "                       'best_pretraining+fine-tuning.pt')\n",
        "    classifier.train()\n",
        "    encoder.train()\n",
        "    classification_train(classifier, encoder, subset_dataloader,\n",
        "                         cross_entropy, classifier_adam, encoder_adam, epoch, training_loss)\n",
        "\n",
        "classifier.eval()\n",
        "encoder.eval()\n",
        "with torch.no_grad():\n",
        "    loss = classification_test(classifier, encoder, val_dataloader, cross_entropy, epoch, validation_loss)\n",
        "    if loss < min_loss:\n",
        "            min_loss = loss\n",
        "            torch.save({'classifier': classifier.state_dict(),\n",
        "                        'encoder': encoder.state_dict()},\n",
        "                       'best_pretraining+fine-tuning.pt')"
      ],
      "execution_count": 39,
      "outputs": [
        {
          "output_type": "stream",
          "text": [
            "[1, validation] loss: 2.136 accuracy: 18.833\n",
            "[1, 0] loss: 1.905\n",
            "[1, 1] loss: 2.118\n",
            "[1, 2] loss: 1.997\n",
            "[1, 3] loss: 2.030\n",
            "[2, validation] loss: 2.098 accuracy: 22.233\n",
            "[2, 0] loss: 1.998\n",
            "[2, 1] loss: 2.042\n",
            "[2, 2] loss: 1.913\n",
            "[2, 3] loss: 1.505\n",
            "[3, validation] loss: 2.061 accuracy: 24.867\n",
            "[3, 0] loss: 1.957\n",
            "[3, 1] loss: 1.879\n",
            "[3, 2] loss: 1.956\n",
            "[3, 3] loss: 1.780\n",
            "[4, validation] loss: 2.027 accuracy: 26.967\n",
            "[4, 0] loss: 1.763\n",
            "[4, 1] loss: 1.838\n",
            "[4, 2] loss: 2.015\n",
            "[4, 3] loss: 2.194\n",
            "[5, validation] loss: 1.990 accuracy: 30.667\n",
            "[5, 0] loss: 1.870\n",
            "[5, 1] loss: 1.719\n",
            "[5, 2] loss: 1.914\n",
            "[5, 3] loss: 1.918\n",
            "[6, validation] loss: 1.945 accuracy: 35.300\n",
            "[6, 0] loss: 1.800\n",
            "[6, 1] loss: 1.745\n",
            "[6, 2] loss: 1.785\n",
            "[6, 3] loss: 2.076\n",
            "[7, validation] loss: 1.898 accuracy: 38.733\n",
            "[7, 0] loss: 1.723\n",
            "[7, 1] loss: 1.720\n",
            "[7, 2] loss: 1.758\n",
            "[7, 3] loss: 1.842\n",
            "[8, validation] loss: 1.850 accuracy: 43.400\n",
            "[8, 0] loss: 1.717\n",
            "[8, 1] loss: 1.676\n",
            "[8, 2] loss: 1.651\n",
            "[8, 3] loss: 1.819\n",
            "[9, validation] loss: 1.804 accuracy: 47.033\n",
            "[9, 0] loss: 1.681\n",
            "[9, 1] loss: 1.559\n",
            "[9, 2] loss: 1.654\n",
            "[9, 3] loss: 1.726\n",
            "[10, validation] loss: 1.754 accuracy: 49.933\n",
            "[10, 0] loss: 1.590\n",
            "[10, 1] loss: 1.553\n",
            "[10, 2] loss: 1.513\n",
            "[10, 3] loss: 2.294\n",
            "[11, validation] loss: 1.706 accuracy: 53.200\n",
            "[11, 0] loss: 1.550\n",
            "[11, 1] loss: 1.509\n",
            "[11, 2] loss: 1.529\n",
            "[11, 3] loss: 1.572\n",
            "[12, validation] loss: 1.656 accuracy: 54.200\n",
            "[12, 0] loss: 1.343\n",
            "[12, 1] loss: 1.606\n",
            "[12, 2] loss: 1.492\n",
            "[12, 3] loss: 1.356\n",
            "[13, validation] loss: 1.607 accuracy: 53.867\n",
            "[13, 0] loss: 1.403\n",
            "[13, 1] loss: 1.527\n",
            "[13, 2] loss: 1.313\n",
            "[13, 3] loss: 1.474\n",
            "[14, validation] loss: 1.558 accuracy: 54.167\n",
            "[14, 0] loss: 1.331\n",
            "[14, 1] loss: 1.530\n",
            "[14, 2] loss: 1.199\n",
            "[14, 3] loss: 1.345\n",
            "[15, validation] loss: 1.512 accuracy: 54.733\n",
            "[15, 0] loss: 1.333\n",
            "[15, 1] loss: 1.169\n",
            "[15, 2] loss: 1.351\n",
            "[15, 3] loss: 1.441\n",
            "[16, validation] loss: 1.468 accuracy: 54.800\n",
            "[16, 0] loss: 1.343\n",
            "[16, 1] loss: 1.056\n",
            "[16, 2] loss: 1.390\n",
            "[16, 3] loss: 0.596\n",
            "[17, validation] loss: 1.425 accuracy: 55.033\n",
            "[17, 0] loss: 1.321\n",
            "[17, 1] loss: 1.073\n",
            "[17, 2] loss: 1.156\n",
            "[17, 3] loss: 1.337\n",
            "[18, validation] loss: 1.383 accuracy: 54.533\n",
            "[18, 0] loss: 1.129\n",
            "[18, 1] loss: 1.363\n",
            "[18, 2] loss: 0.979\n",
            "[18, 3] loss: 0.750\n",
            "[19, validation] loss: 1.337 accuracy: 56.667\n",
            "[19, 0] loss: 1.106\n",
            "[19, 1] loss: 1.176\n",
            "[19, 2] loss: 0.991\n",
            "[19, 3] loss: 0.965\n",
            "[20, validation] loss: 1.302 accuracy: 57.100\n",
            "[20, 0] loss: 0.872\n",
            "[20, 1] loss: 1.231\n",
            "[20, 2] loss: 1.033\n",
            "[20, 3] loss: 0.807\n",
            "[20, validation] loss: 1.267 accuracy: 58.200\n"
          ],
          "name": "stdout"
        }
      ]
    },
    {
      "cell_type": "code",
      "metadata": {
        "colab_type": "code",
        "id": "ge4JD9dpaYXZ",
        "colab": {
          "base_uri": "https://localhost:8080/",
          "height": 295
        },
        "outputId": "851acf03-422e-473f-c81d-ccb778a3d945"
      },
      "source": [
        "plt.title('Pretraining + Fine-tunning classification loss curves')\n",
        "plt.plot(training_loss, label='training loss')\n",
        "plt.plot(np.linspace(0, len(training_loss), len(validation_loss)), validation_loss, '-x', label='validation loss')\n",
        "plt.xlabel('iteration')\n",
        "plt.ylabel('cross entropy')\n",
        "plt.legend();"
      ],
      "execution_count": 40,
      "outputs": [
        {
          "output_type": "display_data",
          "data": {
            "image/png": "[encoded data removed]",
            "text/plain": [
              "<Figure size 432x288 with 1 Axes>"
            ]
          },
          "metadata": {
            "tags": []
          }
        }
      ]
    },
    {
      "cell_type": "code",
      "metadata": {
        "colab_type": "code",
        "id": "zMB42WyHPNmA",
        "colab": {
          "base_uri": "https://localhost:8080/",
          "height": 52
        },
        "outputId": "02e1f8f2-7b07-4b1c-b93e-e1530e820c3d"
      },
      "source": [
        "classification_test(classifier, encoder, test_dataloader, cross_entropy, epoch, [])"
      ],
      "execution_count": 41,
      "outputs": [
        {
          "output_type": "stream",
          "text": [
            "[20, validation] loss: 1.256 accuracy: 58.750\n"
          ],
          "name": "stdout"
        },
        {
          "output_type": "execute_result",
          "data": {
            "text/plain": [
              "1.2555674223092417"
            ]
          },
          "metadata": {
            "tags": []
          },
          "execution_count": 41
        }
      ]
    },
    {
      "cell_type": "markdown",
      "metadata": {
        "id": "Ges9Un_WEOhl",
        "colab_type": "text"
      },
      "source": [
        "## Fine-tuning"
      ]
    },
    {
      "cell_type": "code",
      "metadata": {
        "colab_type": "code",
        "id": "tSNDmzHPEULl",
        "colab": {}
      },
      "source": [
        "encoder = ConvolutionalAutoencoderReducedLatentDim(\n",
        "    input_shape=(28, 28),\n",
        "    n_blocks=2,\n",
        "    downsampling_method='max-pooling',\n",
        "    upsampling_method='nearest',\n",
        "    layers_per_block=2,\n",
        "    latent_dimensionality=bottleneck_size\n",
        ").encoder.to(device)\n",
        "\n",
        "# Define classification layer.\n",
        "classifier = torch.nn.Linear(bottleneck_size, 10).to(device)"
      ],
      "execution_count": 0,
      "outputs": []
    },
    {
      "cell_type": "code",
      "metadata": {
        "id": "1cmej0SQL5bB",
        "colab_type": "code",
        "colab": {}
      },
      "source": [
        "classifier_adam = torch.optim.Adam(classifier.parameters(), lr=0.01)\n",
        "encoder_adam = torch.optim.Adam(encoder.parameters(), lr=0.0001)"
      ],
      "execution_count": 0,
      "outputs": []
    },
    {
      "cell_type": "code",
      "metadata": {
        "colab_type": "code",
        "id": "YfqLUJ-hEnK-",
        "colab": {
          "base_uri": "https://localhost:8080/",
          "height": 1000
        },
        "outputId": "853ed2a3-8c67-481c-d347-203bf1181f95"
      },
      "source": [
        "training_loss = []\n",
        "validation_loss = []\n",
        "min_loss = float('inf')\n",
        "\n",
        "for epoch in range(30):\n",
        "    classifier.eval()\n",
        "    encoder.eval()\n",
        "    with torch.no_grad():\n",
        "        loss = classification_test(classifier, encoder, val_dataloader, cross_entropy, epoch, validation_loss)\n",
        "        if loss < min_loss:\n",
        "            min_loss = loss\n",
        "            torch.save({'classifier': classifier.state_dict(),\n",
        "                        'encoder': encoder.state_dict()},\n",
        "                       'best_fine-tuning.pt')\n",
        "    classifier.train()\n",
        "    encoder.train()\n",
        "    classification_train(classifier, encoder, subset_dataloader,\n",
        "                         cross_entropy, classifier_adam, encoder_adam, epoch, training_loss)\n",
        "\n",
        "classifier.eval()\n",
        "encoder.eval()\n",
        "with torch.no_grad():\n",
        "    loss = classification_test(classifier, encoder, val_dataloader, cross_entropy, epoch, validation_loss)\n",
        "    if loss < min_loss:\n",
        "            min_loss = loss\n",
        "            torch.save({'classifier': classifier.state_dict(),\n",
        "                        'encoder': encoder.state_dict()},\n",
        "                       'best_fine-tuning.pt')"
      ],
      "execution_count": 44,
      "outputs": [
        {
          "output_type": "stream",
          "text": [
            "[1, validation] loss: 2.319 accuracy: 9.900\n",
            "[1, 0] loss: 2.343\n",
            "[1, 1] loss: 2.318\n",
            "[1, 2] loss: 2.260\n",
            "[1, 3] loss: 2.371\n",
            "[2, validation] loss: 2.317 accuracy: 9.900\n",
            "[2, 0] loss: 2.292\n",
            "[2, 1] loss: 2.286\n",
            "[2, 2] loss: 2.320\n",
            "[2, 3] loss: 2.335\n",
            "[3, validation] loss: 2.316 accuracy: 9.900\n",
            "[3, 0] loss: 2.319\n",
            "[3, 1] loss: 2.308\n",
            "[3, 2] loss: 2.280\n",
            "[3, 3] loss: 2.140\n",
            "[4, validation] loss: 2.315 accuracy: 9.900\n",
            "[4, 0] loss: 2.314\n",
            "[4, 1] loss: 2.309\n",
            "[4, 2] loss: 2.260\n",
            "[4, 3] loss: 2.182\n",
            "[5, validation] loss: 2.314 accuracy: 9.900\n",
            "[5, 0] loss: 2.250\n",
            "[5, 1] loss: 2.319\n",
            "[5, 2] loss: 2.288\n",
            "[5, 3] loss: 2.305\n",
            "[6, validation] loss: 2.315 accuracy: 9.900\n",
            "[6, 0] loss: 2.260\n",
            "[6, 1] loss: 2.266\n",
            "[6, 2] loss: 2.324\n",
            "[6, 3] loss: 2.254\n",
            "[7, validation] loss: 2.315 accuracy: 9.900\n",
            "[7, 0] loss: 2.264\n",
            "[7, 1] loss: 2.291\n",
            "[7, 2] loss: 2.283\n",
            "[7, 3] loss: 2.234\n",
            "[8, validation] loss: 2.314 accuracy: 13.600\n",
            "[8, 0] loss: 2.263\n",
            "[8, 1] loss: 2.265\n",
            "[8, 2] loss: 2.306\n",
            "[8, 3] loss: 2.140\n",
            "[9, validation] loss: 2.312 accuracy: 10.933\n",
            "[9, 0] loss: 2.324\n",
            "[9, 1] loss: 2.199\n",
            "[9, 2] loss: 2.247\n",
            "[9, 3] loss: 2.497\n",
            "[10, validation] loss: 2.310 accuracy: 12.933\n",
            "[10, 0] loss: 2.225\n",
            "[10, 1] loss: 2.304\n",
            "[10, 2] loss: 2.246\n",
            "[10, 3] loss: 2.336\n",
            "[11, validation] loss: 2.306 accuracy: 12.100\n",
            "[11, 0] loss: 2.245\n",
            "[11, 1] loss: 2.245\n",
            "[11, 2] loss: 2.263\n",
            "[11, 3] loss: 2.231\n",
            "[12, validation] loss: 2.300 accuracy: 9.867\n",
            "[12, 0] loss: 2.279\n",
            "[12, 1] loss: 2.242\n",
            "[12, 2] loss: 2.224\n",
            "[12, 3] loss: 2.138\n",
            "[13, validation] loss: 2.295 accuracy: 9.900\n",
            "[13, 0] loss: 2.234\n",
            "[13, 1] loss: 2.189\n",
            "[13, 2] loss: 2.259\n",
            "[13, 3] loss: 2.400\n",
            "[14, validation] loss: 2.285 accuracy: 12.033\n",
            "[14, 0] loss: 2.207\n",
            "[14, 1] loss: 2.230\n",
            "[14, 2] loss: 2.214\n",
            "[14, 3] loss: 2.148\n",
            "[15, validation] loss: 2.267 accuracy: 14.333\n",
            "[15, 0] loss: 2.146\n",
            "[15, 1] loss: 2.221\n",
            "[15, 2] loss: 2.222\n",
            "[15, 3] loss: 2.122\n",
            "[16, validation] loss: 2.248 accuracy: 16.800\n",
            "[16, 0] loss: 2.155\n",
            "[16, 1] loss: 2.227\n",
            "[16, 2] loss: 2.122\n",
            "[16, 3] loss: 2.271\n",
            "[17, validation] loss: 2.228 accuracy: 16.933\n",
            "[17, 0] loss: 2.091\n",
            "[17, 1] loss: 2.174\n",
            "[17, 2] loss: 2.173\n",
            "[17, 3] loss: 1.943\n",
            "[18, validation] loss: 2.205 accuracy: 19.400\n",
            "[18, 0] loss: 2.172\n",
            "[18, 1] loss: 2.119\n",
            "[18, 2] loss: 2.057\n",
            "[18, 3] loss: 2.047\n",
            "[19, validation] loss: 2.182 accuracy: 23.200\n",
            "[19, 0] loss: 2.050\n",
            "[19, 1] loss: 2.107\n",
            "[19, 2] loss: 2.047\n",
            "[19, 3] loss: 2.117\n",
            "[20, validation] loss: 2.166 accuracy: 21.500\n",
            "[20, 0] loss: 2.054\n",
            "[20, 1] loss: 2.140\n",
            "[20, 2] loss: 1.883\n",
            "[20, 3] loss: 2.025\n",
            "[21, validation] loss: 2.136 accuracy: 24.133\n",
            "[21, 0] loss: 2.090\n",
            "[21, 1] loss: 2.049\n",
            "[21, 2] loss: 1.833\n",
            "[21, 3] loss: 1.793\n",
            "[22, validation] loss: 2.099 accuracy: 26.767\n",
            "[22, 0] loss: 1.920\n",
            "[22, 1] loss: 1.946\n",
            "[22, 2] loss: 1.941\n",
            "[22, 3] loss: 1.546\n",
            "[23, validation] loss: 2.058 accuracy: 23.167\n",
            "[23, 0] loss: 1.788\n",
            "[23, 1] loss: 1.904\n",
            "[23, 2] loss: 1.905\n",
            "[23, 3] loss: 1.987\n",
            "[24, validation] loss: 2.023 accuracy: 22.733\n",
            "[24, 0] loss: 1.740\n",
            "[24, 1] loss: 1.842\n",
            "[24, 2] loss: 1.880\n",
            "[24, 3] loss: 1.619\n",
            "[25, validation] loss: 1.967 accuracy: 26.167\n",
            "[25, 0] loss: 1.650\n",
            "[25, 1] loss: 1.798\n",
            "[25, 2] loss: 1.760\n",
            "[25, 3] loss: 1.720\n",
            "[26, validation] loss: 1.926 accuracy: 29.867\n",
            "[26, 0] loss: 1.684\n",
            "[26, 1] loss: 1.687\n",
            "[26, 2] loss: 1.732\n",
            "[26, 3] loss: 1.305\n",
            "[27, validation] loss: 1.926 accuracy: 27.100\n",
            "[27, 0] loss: 1.781\n",
            "[27, 1] loss: 1.533\n",
            "[27, 2] loss: 1.541\n",
            "[27, 3] loss: 1.694\n",
            "[28, validation] loss: 1.875 accuracy: 30.067\n",
            "[28, 0] loss: 1.464\n",
            "[28, 1] loss: 1.731\n",
            "[28, 2] loss: 1.478\n",
            "[28, 3] loss: 1.384\n",
            "[29, validation] loss: 1.807 accuracy: 34.367\n",
            "[29, 0] loss: 1.649\n",
            "[29, 1] loss: 1.550\n",
            "[29, 2] loss: 1.318\n",
            "[29, 3] loss: 1.574\n",
            "[30, validation] loss: 1.782 accuracy: 38.367\n",
            "[30, 0] loss: 1.459\n",
            "[30, 1] loss: 1.457\n",
            "[30, 2] loss: 1.404\n",
            "[30, 3] loss: 1.539\n",
            "[30, validation] loss: 1.750 accuracy: 40.567\n"
          ],
          "name": "stdout"
        }
      ]
    },
    {
      "cell_type": "code",
      "metadata": {
        "colab_type": "code",
        "id": "Uvfd4Gj2E-0-",
        "colab": {
          "base_uri": "https://localhost:8080/",
          "height": 295
        },
        "outputId": "91e74206-258e-4968-ace4-90cc266971e7"
      },
      "source": [
        "plt.title('Fine-tunning classification loss curves')\n",
        "plt.plot(training_loss, label='training loss')\n",
        "plt.plot(np.linspace(0, len(training_loss), len(validation_loss)), validation_loss, '-x', label='validation loss')\n",
        "plt.xlabel('iteration')\n",
        "plt.ylabel('cross entropy')\n",
        "plt.legend();"
      ],
      "execution_count": 45,
      "outputs": [
        {
          "output_type": "display_data",
          "data": {
            "image/png": "[encoded data removed]",
            "text/plain": [
              "<Figure size 432x288 with 1 Axes>"
            ]
          },
          "metadata": {
            "tags": []
          }
        }
      ]
    },
    {
      "cell_type": "markdown",
      "metadata": {
        "id": "3mVz45k1PWee",
        "colab_type": "text"
      },
      "source": [
        "## From scratch"
      ]
    },
    {
      "cell_type": "code",
      "metadata": {
        "id": "n8s58B_XoSis",
        "colab_type": "code",
        "colab": {}
      },
      "source": [
        "new_autoencoder = ConvolutionalAutoencoderReducedLatentDim(\n",
        "    input_shape=(28, 28),\n",
        "    n_blocks=2,\n",
        "    downsampling_method='max-pooling',\n",
        "    upsampling_method='nearest',\n",
        "    layers_per_block=2,\n",
        "    latent_dimensionality=bottleneck_size,\n",
        ").to(device)\n",
        "\n",
        "new_classifier = torch.nn.Sequential(\n",
        "    new_autoencoder.encoder,\n",
        "    torch.nn.Linear(bottleneck_size, 10)\n",
        ").to(device)"
      ],
      "execution_count": 0,
      "outputs": []
    },
    {
      "cell_type": "code",
      "metadata": {
        "id": "4DjdCLKOPqBJ",
        "colab_type": "code",
        "colab": {}
      },
      "source": [
        "def new_classification_train(classifier, dataloader, criterion, classifier_optimizer, epoch, loss_history):\n",
        "    for i, (images, labels) in enumerate(dataloader):\n",
        "        images, labels = images.to(device), labels.to(device, torch.long)\n",
        "        classifier_optimizer.zero_grad()\n",
        "        # To latent space + Classify from latent space.\n",
        "        outputs = classifier(images)\n",
        "        loss = criterion(outputs, labels)\n",
        "        loss.backward()              # Backprop.\n",
        "        classifier_optimizer.step()  # Update parameters.\n",
        "\n",
        "        loss_history.append(loss.item())\n",
        "        print('[%d, %d] loss: %.3f' % (epoch + 1, i, loss.item()))"
      ],
      "execution_count": 0,
      "outputs": []
    },
    {
      "cell_type": "code",
      "metadata": {
        "id": "gJnplDxAQCJQ",
        "colab_type": "code",
        "colab": {}
      },
      "source": [
        "def new_classification_test(classifier, dataloader, criterion, epoch, loss_history):\n",
        "    loss = 0\n",
        "    total = 0\n",
        "    correct = 0\n",
        "    for i, (images, labels) in enumerate(dataloader):\n",
        "        images, labels = images.to(device), labels.to(device, torch.long)\n",
        "        outputs = classifier(images)\n",
        "        loss += criterion(outputs, labels).item()\n",
        "        # Compute average accuracy.\n",
        "        _, predicted = torch.max(outputs.data, 1)\n",
        "        total += labels.size(0)\n",
        "        correct += (predicted == labels).sum().item()\n",
        "\n",
        "    mean_loss = loss / (i + 1)\n",
        "    loss_history.append(mean_loss)  \n",
        "    print('[%d, validation] loss: %.3f accuracy: %.3f' % (epoch + 1, mean_loss, 100 * correct / total))\n",
        "    return mean_loss"
      ],
      "execution_count": 0,
      "outputs": []
    },
    {
      "cell_type": "code",
      "metadata": {
        "id": "iHljTyDkQINO",
        "colab_type": "code",
        "colab": {}
      },
      "source": [
        "cross_entropy = torch.nn.CrossEntropyLoss()\n",
        "new_classifier_adam = torch.optim.Adam(new_classifier.parameters(), lr=0.001)"
      ],
      "execution_count": 0,
      "outputs": []
    },
    {
      "cell_type": "code",
      "metadata": {
        "id": "Po-AZQH0QSsc",
        "colab_type": "code",
        "colab": {
          "base_uri": "https://localhost:8080/",
          "height": 1000
        },
        "outputId": "bfa63fa4-5dbe-4358-8a87-e1415a0b0d99"
      },
      "source": [
        "new_training_loss = []\n",
        "new_validation_loss = []\n",
        "min_loss = float('inf')\n",
        "\n",
        "for epoch in range(2 * EPOCHS + 20):\n",
        "    new_classifier.eval()\n",
        "    with torch.no_grad():\n",
        "        loss = new_classification_test(new_classifier, val_dataloader, cross_entropy, epoch, new_validation_loss)\n",
        "        if loss < min_loss:\n",
        "            min_loss = loss\n",
        "            torch.save(new_classifier.state_dict(), 'best_from-scratch.pt')\n",
        "    new_classifier.train()\n",
        "    new_classification_train(new_classifier, subset_dataloader,\n",
        "                         cross_entropy, new_classifier_adam, epoch, new_training_loss)\n",
        "\n",
        "new_classifier.eval()\n",
        "with torch.no_grad():\n",
        "    loss = new_classification_test(new_classifier, val_dataloader, cross_entropy, epoch, new_validation_loss)\n",
        "    if loss < min_loss:\n",
        "        min_loss = loss\n",
        "        torch.save(new_classifier.state_dict(), 'best_from-scratch.pt')"
      ],
      "execution_count": 50,
      "outputs": [
        {
          "output_type": "stream",
          "text": [
            "[1, validation] loss: 2.323 accuracy: 9.000\n",
            "[1, 0] loss: 2.296\n",
            "[1, 1] loss: 2.323\n",
            "[1, 2] loss: 2.314\n",
            "[1, 3] loss: 2.324\n",
            "[2, validation] loss: 2.309 accuracy: 9.333\n",
            "[2, 0] loss: 2.264\n",
            "[2, 1] loss: 2.282\n",
            "[2, 2] loss: 2.328\n",
            "[2, 3] loss: 2.198\n",
            "[3, validation] loss: 2.315 accuracy: 10.200\n",
            "[3, 0] loss: 2.322\n",
            "[3, 1] loss: 2.254\n",
            "[3, 2] loss: 2.188\n",
            "[3, 3] loss: 2.135\n",
            "[4, validation] loss: 2.258 accuracy: 12.433\n",
            "[4, 0] loss: 2.174\n",
            "[4, 1] loss: 2.228\n",
            "[4, 2] loss: 2.135\n",
            "[4, 3] loss: 2.307\n",
            "[5, validation] loss: 2.196 accuracy: 15.400\n",
            "[5, 0] loss: 2.069\n",
            "[5, 1] loss: 2.203\n",
            "[5, 2] loss: 1.998\n",
            "[5, 3] loss: 1.844\n",
            "[6, validation] loss: 2.114 accuracy: 13.833\n",
            "[6, 0] loss: 1.767\n",
            "[6, 1] loss: 2.056\n",
            "[6, 2] loss: 1.949\n",
            "[6, 3] loss: 2.373\n",
            "[7, validation] loss: 1.997 accuracy: 28.233\n",
            "[7, 0] loss: 1.871\n",
            "[7, 1] loss: 1.934\n",
            "[7, 2] loss: 1.873\n",
            "[7, 3] loss: 2.125\n",
            "[8, validation] loss: 1.983 accuracy: 27.000\n",
            "[8, 0] loss: 1.797\n",
            "[8, 1] loss: 1.804\n",
            "[8, 2] loss: 1.702\n",
            "[8, 3] loss: 1.335\n",
            "[9, validation] loss: 1.837 accuracy: 32.067\n",
            "[9, 0] loss: 1.640\n",
            "[9, 1] loss: 1.277\n",
            "[9, 2] loss: 1.751\n",
            "[9, 3] loss: 1.087\n",
            "[10, validation] loss: 1.745 accuracy: 36.933\n",
            "[10, 0] loss: 1.328\n",
            "[10, 1] loss: 1.372\n",
            "[10, 2] loss: 1.331\n",
            "[10, 3] loss: 1.513\n",
            "[11, validation] loss: 1.624 accuracy: 41.567\n",
            "[11, 0] loss: 1.369\n",
            "[11, 1] loss: 1.244\n",
            "[11, 2] loss: 1.377\n",
            "[11, 3] loss: 0.516\n",
            "[12, validation] loss: 1.644 accuracy: 42.500\n",
            "[12, 0] loss: 1.127\n",
            "[12, 1] loss: 1.226\n",
            "[12, 2] loss: 1.121\n",
            "[12, 3] loss: 0.752\n",
            "[13, validation] loss: 1.729 accuracy: 44.867\n",
            "[13, 0] loss: 1.452\n",
            "[13, 1] loss: 0.940\n",
            "[13, 2] loss: 0.840\n",
            "[13, 3] loss: 0.577\n",
            "[14, validation] loss: 1.720 accuracy: 44.533\n",
            "[14, 0] loss: 1.088\n",
            "[14, 1] loss: 1.173\n",
            "[14, 2] loss: 0.865\n",
            "[14, 3] loss: 0.485\n",
            "[15, validation] loss: 1.546 accuracy: 47.333\n",
            "[15, 0] loss: 0.696\n",
            "[15, 1] loss: 0.925\n",
            "[15, 2] loss: 0.974\n",
            "[15, 3] loss: 1.898\n",
            "[16, validation] loss: 1.504 accuracy: 48.433\n",
            "[16, 0] loss: 0.974\n",
            "[16, 1] loss: 1.111\n",
            "[16, 2] loss: 0.499\n",
            "[16, 3] loss: 1.221\n",
            "[17, validation] loss: 1.430 accuracy: 51.967\n",
            "[17, 0] loss: 0.680\n",
            "[17, 1] loss: 0.814\n",
            "[17, 2] loss: 0.731\n",
            "[17, 3] loss: 0.675\n",
            "[18, validation] loss: 1.523 accuracy: 53.633\n",
            "[18, 0] loss: 0.673\n",
            "[18, 1] loss: 0.464\n",
            "[18, 2] loss: 0.905\n",
            "[18, 3] loss: 0.708\n",
            "[19, validation] loss: 1.629 accuracy: 53.100\n",
            "[19, 0] loss: 0.685\n",
            "[19, 1] loss: 0.542\n",
            "[19, 2] loss: 0.608\n",
            "[19, 3] loss: 0.548\n",
            "[20, validation] loss: 1.501 accuracy: 53.000\n",
            "[20, 0] loss: 0.460\n",
            "[20, 1] loss: 0.584\n",
            "[20, 2] loss: 0.639\n",
            "[20, 3] loss: 1.263\n",
            "[21, validation] loss: 1.543 accuracy: 52.500\n",
            "[21, 0] loss: 0.709\n",
            "[21, 1] loss: 0.524\n",
            "[21, 2] loss: 0.532\n",
            "[21, 3] loss: 0.578\n",
            "[22, validation] loss: 1.576 accuracy: 52.500\n",
            "[22, 0] loss: 0.512\n",
            "[22, 1] loss: 0.532\n",
            "[22, 2] loss: 0.508\n",
            "[22, 3] loss: 0.012\n",
            "[23, validation] loss: 1.660 accuracy: 53.733\n",
            "[23, 0] loss: 0.321\n",
            "[23, 1] loss: 0.448\n",
            "[23, 2] loss: 0.638\n",
            "[23, 3] loss: 0.521\n",
            "[24, validation] loss: 1.600 accuracy: 54.500\n",
            "[24, 0] loss: 0.599\n",
            "[24, 1] loss: 0.216\n",
            "[24, 2] loss: 0.409\n",
            "[24, 3] loss: 0.995\n",
            "[25, validation] loss: 1.543 accuracy: 55.600\n",
            "[25, 0] loss: 0.641\n",
            "[25, 1] loss: 0.353\n",
            "[25, 2] loss: 0.239\n",
            "[25, 3] loss: 0.016\n",
            "[26, validation] loss: 1.550 accuracy: 56.433\n",
            "[26, 0] loss: 0.241\n",
            "[26, 1] loss: 0.331\n",
            "[26, 2] loss: 0.564\n",
            "[26, 3] loss: 0.385\n",
            "[27, validation] loss: 1.611 accuracy: 54.067\n",
            "[27, 0] loss: 0.326\n",
            "[27, 1] loss: 0.382\n",
            "[27, 2] loss: 0.521\n",
            "[27, 3] loss: 0.517\n",
            "[28, validation] loss: 1.688 accuracy: 47.233\n",
            "[28, 0] loss: 0.585\n",
            "[28, 1] loss: 0.499\n",
            "[28, 2] loss: 0.286\n",
            "[28, 3] loss: 0.325\n",
            "[29, validation] loss: 1.417 accuracy: 58.133\n",
            "[29, 0] loss: 0.192\n",
            "[29, 1] loss: 0.528\n",
            "[29, 2] loss: 0.384\n",
            "[29, 3] loss: 0.014\n",
            "[30, validation] loss: 1.595 accuracy: 61.967\n",
            "[30, 0] loss: 0.365\n",
            "[30, 1] loss: 0.235\n",
            "[30, 2] loss: 0.496\n",
            "[30, 3] loss: 0.036\n",
            "[31, validation] loss: 1.634 accuracy: 64.567\n",
            "[31, 0] loss: 0.302\n",
            "[31, 1] loss: 0.180\n",
            "[31, 2] loss: 0.439\n",
            "[31, 3] loss: 0.152\n",
            "[32, validation] loss: 1.857 accuracy: 62.733\n",
            "[32, 0] loss: 0.376\n",
            "[32, 1] loss: 0.256\n",
            "[32, 2] loss: 0.288\n",
            "[32, 3] loss: 0.014\n",
            "[33, validation] loss: 1.872 accuracy: 64.300\n",
            "[33, 0] loss: 0.208\n",
            "[33, 1] loss: 0.195\n",
            "[33, 2] loss: 0.257\n",
            "[33, 3] loss: 1.034\n",
            "[34, validation] loss: 2.038 accuracy: 65.167\n",
            "[34, 0] loss: 0.233\n",
            "[34, 1] loss: 0.217\n",
            "[34, 2] loss: 0.275\n",
            "[34, 3] loss: 0.086\n",
            "[35, validation] loss: 2.306 accuracy: 64.833\n",
            "[35, 0] loss: 0.319\n",
            "[35, 1] loss: 0.162\n",
            "[35, 2] loss: 0.228\n",
            "[35, 3] loss: 0.000\n",
            "[36, validation] loss: 2.516 accuracy: 64.400\n",
            "[36, 0] loss: 0.275\n",
            "[36, 1] loss: 0.240\n",
            "[36, 2] loss: 0.138\n",
            "[36, 3] loss: 0.010\n",
            "[37, validation] loss: 2.778 accuracy: 67.767\n",
            "[37, 0] loss: 0.238\n",
            "[37, 1] loss: 0.154\n",
            "[37, 2] loss: 0.246\n",
            "[37, 3] loss: 0.021\n",
            "[38, validation] loss: 2.723 accuracy: 68.900\n",
            "[38, 0] loss: 0.274\n",
            "[38, 1] loss: 0.115\n",
            "[38, 2] loss: 0.220\n",
            "[38, 3] loss: 0.000\n",
            "[39, validation] loss: 2.738 accuracy: 69.200\n",
            "[39, 0] loss: 0.308\n",
            "[39, 1] loss: 0.083\n",
            "[39, 2] loss: 0.205\n",
            "[39, 3] loss: 0.004\n",
            "[40, validation] loss: 2.820 accuracy: 69.167\n",
            "[40, 0] loss: 0.212\n",
            "[40, 1] loss: 0.243\n",
            "[40, 2] loss: 0.130\n",
            "[40, 3] loss: 0.017\n",
            "[40, validation] loss: 2.953 accuracy: 68.533\n"
          ],
          "name": "stdout"
        }
      ]
    },
    {
      "cell_type": "code",
      "metadata": {
        "colab_type": "code",
        "id": "q1sJt-axRznj",
        "colab": {
          "base_uri": "https://localhost:8080/",
          "height": 295
        },
        "outputId": "56356fd7-036c-4607-c8f3-6a84d4f75a71"
      },
      "source": [
        "plt.title('From scratch classification loss curves')\n",
        "plt.plot(new_training_loss, label='training loss')\n",
        "plt.plot(np.linspace(0, len(new_training_loss), len(new_validation_loss)), new_validation_loss, '-x', label='validation loss')\n",
        "plt.xlabel('iteration')\n",
        "plt.ylabel('cross entropy')\n",
        "plt.legend();"
      ],
      "execution_count": 51,
      "outputs": [
        {
          "output_type": "display_data",
          "data": {
            "image/png": "[encoded data removed]",
            "text/plain": [
              "<Figure size 432x288 with 1 Axes>"
            ]
          },
          "metadata": {
            "tags": []
          }
        }
      ]
    },
    {
      "cell_type": "markdown",
      "metadata": {
        "id": "lWd8_HtUSguK",
        "colab_type": "text"
      },
      "source": [
        "This learning curves show clear symptoms of overfitting."
      ]
    },
    {
      "cell_type": "code",
      "metadata": {
        "id": "f9GyHMWoRDjZ",
        "colab_type": "code",
        "colab": {
          "base_uri": "https://localhost:8080/",
          "height": 52
        },
        "outputId": "6f38d222-afc0-4ca2-d37d-1eb5be18f499"
      },
      "source": [
        "new_classification_test(new_classifier, test_dataloader, cross_entropy, epoch, [])"
      ],
      "execution_count": 52,
      "outputs": [
        {
          "output_type": "stream",
          "text": [
            "[40, validation] loss: 2.957 accuracy: 69.450\n"
          ],
          "name": "stdout"
        },
        {
          "output_type": "execute_result",
          "data": {
            "text/plain": [
              "2.956862673687097"
            ]
          },
          "metadata": {
            "tags": []
          },
          "execution_count": 52
        }
      ]
    },
    {
      "cell_type": "markdown",
      "metadata": {
        "id": "zsLmkdiZSrdB",
        "colab_type": "text"
      },
      "source": [
        "We get a worse performance than in the pretraining+finetunning case."
      ]
    },
    {
      "cell_type": "markdown",
      "metadata": {
        "id": "IAs0TTL4VXcM",
        "colab_type": "text"
      },
      "source": [
        "## Comparison"
      ]
    },
    {
      "cell_type": "markdown",
      "metadata": {
        "id": "NSHVbYMIcWKi",
        "colab_type": "text"
      },
      "source": [
        "Load best models (early-stopping)."
      ]
    },
    {
      "cell_type": "code",
      "metadata": {
        "id": "_-Mvz-UgVZ0j",
        "colab_type": "code",
        "colab": {}
      },
      "source": [
        "autoencoder_pretrain = ConvolutionalAutoencoderReducedLatentDim(\n",
        "    input_shape=(28, 28),\n",
        "    n_blocks=2,\n",
        "    downsampling_method='max-pooling',\n",
        "    upsampling_method='nearest',\n",
        "    layers_per_block=2,\n",
        "    latent_dimensionality=bottleneck_size\n",
        ").to(device)\n",
        "classifier_pretrain = torch.nn.Linear(bottleneck_size, 10).to(device)\n",
        "\n",
        "pretrain_checkpoint = torch.load('best_pretrain.pt')\n",
        "autoencoder_pretrain.encoder.load_state_dict(pretrain_checkpoint['encoder'])\n",
        "classifier_pretrain.load_state_dict(pretrain_checkpoint['classifier'])\n",
        "\n",
        "autoencoder_finetuning = ConvolutionalAutoencoderReducedLatentDim(\n",
        "    input_shape=(28, 28),\n",
        "    n_blocks=2,\n",
        "    downsampling_method='max-pooling',\n",
        "    upsampling_method='nearest',\n",
        "    layers_per_block=2,\n",
        "    latent_dimensionality=bottleneck_size\n",
        ").to(device)\n",
        "classifier_finetuning = torch.nn.Linear(bottleneck_size, 10).to(device)\n",
        "\n",
        "finetuning_checkpoint = torch.load('best_fine-tuning.pt')\n",
        "autoencoder_finetuning.encoder.load_state_dict(finetuning_checkpoint['encoder'])\n",
        "classifier_finetuning.load_state_dict(finetuning_checkpoint['classifier'])\n",
        "\n",
        "autoencoder_pretrain_finetuning = ConvolutionalAutoencoderReducedLatentDim(\n",
        "    input_shape=(28, 28),\n",
        "    n_blocks=2,\n",
        "    downsampling_method='max-pooling',\n",
        "    upsampling_method='nearest',\n",
        "    layers_per_block=2,\n",
        "    latent_dimensionality=bottleneck_size\n",
        ").to(device)\n",
        "classifier_pretrain_finetuning= torch.nn.Linear(bottleneck_size, 10).to(device)\n",
        "\n",
        "pretrain_finetuning_checkpoint = torch.load('best_pretraining+fine-tuning.pt')\n",
        "autoencoder_pretrain_finetuning.encoder.load_state_dict(pretrain_finetuning_checkpoint['encoder'])\n",
        "classifier_pretrain_finetuning.load_state_dict(pretrain_finetuning_checkpoint['classifier'])\n",
        "\n",
        "autoencoder_fromscratch = ConvolutionalAutoencoderReducedLatentDim(\n",
        "    input_shape=(28, 28),\n",
        "    n_blocks=2,\n",
        "    downsampling_method='max-pooling',\n",
        "    upsampling_method='nearest',\n",
        "    layers_per_block=2,\n",
        "    latent_dimensionality=bottleneck_size\n",
        ").to(device)\n",
        "\n",
        "classifier_fromscratch = torch.nn.Sequential(\n",
        "    autoencoder_fromscratch.encoder,\n",
        "    torch.nn.Linear(bottleneck_size, 10)\n",
        ").to(device)\n",
        "\n",
        "classifier_fromscratch.load_state_dict(torch.load('best_from-scratch.pt'));"
      ],
      "execution_count": 0,
      "outputs": []
    },
    {
      "cell_type": "markdown",
      "metadata": {
        "id": "_llxE7lmcqDZ",
        "colab_type": "text"
      },
      "source": [
        "Compare cross entropy loss and accuracy on validation and test sets."
      ]
    },
    {
      "cell_type": "code",
      "metadata": {
        "id": "SIz4O90lcsdK",
        "colab_type": "code",
        "colab": {
          "base_uri": "https://localhost:8080/",
          "height": 225
        },
        "outputId": "79379273-8c6f-4692-cb0f-c839ffcef407"
      },
      "source": [
        "print(\"Pretrain\")\n",
        "classification_test(classifier_pretrain, autoencoder_pretrain.encoder, val_dataloader, cross_entropy, epoch, [])\n",
        "classification_test(classifier_pretrain, autoencoder_pretrain.encoder, test_dataloader, cross_entropy, epoch, [])\n",
        "\n",
        "print(\"Finetuning\")\n",
        "classification_test(classifier_finetuning, autoencoder_finetuning.encoder, val_dataloader, cross_entropy, epoch, [])\n",
        "classification_test(classifier_finetuning, autoencoder_finetuning.encoder, test_dataloader, cross_entropy, epoch, [])\n",
        "\n",
        "print(\"Pretraining + Finetuning\")\n",
        "classification_test(classifier_pretrain_finetuning, autoencoder_pretrain_finetuning.encoder, val_dataloader, cross_entropy, epoch, [])\n",
        "classification_test(classifier_pretrain_finetuning, autoencoder_pretrain_finetuning.encoder, test_dataloader, cross_entropy, epoch, [])\n",
        "\n",
        "print(\"From scratch\")\n",
        "new_classification_test(classifier_fromscratch, val_dataloader, cross_entropy, epoch, [])\n",
        "new_classification_test(classifier_fromscratch, test_dataloader, cross_entropy, epoch, []);"
      ],
      "execution_count": 54,
      "outputs": [
        {
          "output_type": "stream",
          "text": [
            "Pretrain\n",
            "[40, validation] loss: 2.136 accuracy: 18.833\n",
            "[40, validation] loss: 2.142 accuracy: 19.340\n",
            "Finetuning\n",
            "[40, validation] loss: 1.750 accuracy: 40.567\n",
            "[40, validation] loss: 1.728 accuracy: 41.770\n",
            "Pretraining + Finetuning\n",
            "[40, validation] loss: 1.267 accuracy: 58.200\n",
            "[40, validation] loss: 1.256 accuracy: 58.750\n",
            "From scratch\n",
            "[40, validation] loss: 1.417 accuracy: 58.133\n",
            "[40, validation] loss: 1.393 accuracy: 59.350\n"
          ],
          "name": "stdout"
        }
      ]
    },
    {
      "cell_type": "markdown",
      "metadata": {
        "id": "gq3lg4d0O7d5",
        "colab_type": "text"
      },
      "source": [
        "|                     | validation loss | validation acc. | test loss | test acc. |\n",
        "|---------------------|-|------------|-|-------|\n",
        "| pretraining         | 2.136 | 18.8%      | 2.142 | 19.3% |\n",
        "| finetune | 1.750 | 40.6%      | 1.728 | 41.8% |\n",
        "| pretrain + finetune | 1.267 | 58.2%      | 1.256 | 58.8% |\n",
        "| from scratch        | 0.698 | 58.1%      | 1.393 | 59.4% |"
      ]
    },
    {
      "cell_type": "markdown",
      "metadata": {
        "id": "nIvHHXWBqZe2",
        "colab_type": "text"
      },
      "source": [
        "We expected to see a better performance on the model trained with the pretrain+finetuning proceidure, but the model trained from scratch actually performs slightly better on the validation and test set. If the model had more parameters we would expect the model trained from scratch to not generalize on the validation nor test set."
      ]
    },
    {
      "cell_type": "markdown",
      "metadata": {
        "id": "Ns7oGWd2EZVY",
        "colab_type": "text"
      },
      "source": [
        "## Optional Exercise A: Variational Autoencoder\n",
        "\n",
        "Steps:\n",
        "\n",
        "1. Implement an autoencoder like that from Exercise 1, but turning the deterministic bottleneck into a stochastic bottleneck, with an isotropic Gaussian as distribution for the latent variables.\n",
        "2. Train the model optimizing the Evidence Lower Bound (ELBO).\n",
        "3. Generate samples with the decoder and show them.\n"
      ]
    },
    {
      "cell_type": "markdown",
      "metadata": {
        "id": "xFiIlaOnOCzC",
        "colab_type": "text"
      },
      "source": [
        "New class for variational autoencoder based on the previous autoencoder."
      ]
    },
    {
      "cell_type": "code",
      "metadata": {
        "id": "2LJFzsBeSC6k",
        "colab_type": "code",
        "colab": {}
      },
      "source": [
        "class ConvolutionalVAE(torch.nn.Module):\n",
        "\n",
        "    def __init__(self, input_shape, n_blocks, downsampling_method, upsampling_method,\n",
        "                 layers_per_block=2, latent_dimensionality=50):\n",
        "        super().__init__()\n",
        "        self.n_blocks = n_blocks\n",
        "        self.downsampling_method = downsampling_method\n",
        "        self.upsampling_method = upsampling_method\n",
        "        self.latent_dimensionality = latent_dimensionality\n",
        "\n",
        "        # Encoder: Convolutional blocks + Linear\n",
        "        self.convolutional_encoder = ConvolutionalEncoder(\n",
        "            n_blocks, downsampling_method, layers_per_block=layers_per_block)\n",
        "        self.encoder_output_shape = (self.convolutional_encoder.init_filters * 2 ** (n_blocks - 1),\n",
        "                                     input_shape[0] // 2 ** n_blocks,\n",
        "                                     input_shape[1] // 2 ** n_blocks)\n",
        "        self.mu = torch.nn.Sequential(\n",
        "            torch.nn.Flatten(),\n",
        "            torch.nn.Linear(self.encoder_output_shape[0] * self.encoder_output_shape[1] * self.encoder_output_shape[2],\n",
        "                            latent_dimensionality),\n",
        "        )\n",
        "        self.log_var = torch.nn.Sequential(\n",
        "            torch.nn.Flatten(),\n",
        "            torch.nn.Linear(self.encoder_output_shape[0] * self.encoder_output_shape[1] * self.encoder_output_shape[2],\n",
        "                            latent_dimensionality),\n",
        "        )\n",
        "\n",
        "        # Decoder: Linear + Convolutional blocks\n",
        "        self.linear_decoder = torch.nn.Sequential(\n",
        "            torch.nn.Linear(latent_dimensionality,\n",
        "                            self.encoder_output_shape[0] * self.encoder_output_shape[1] * self.encoder_output_shape[2]),\n",
        "            torch.nn.ReLU()\n",
        "        )\n",
        "        self.convolutional_decoder = ConvolutionalDecoder(\n",
        "            n_blocks, upsampling_method,\n",
        "            self.convolutional_encoder.output_channels, layers_per_block)\n",
        "\n",
        "    def reparameterize(self, mu, log_var):\n",
        "        std = torch.exp(0.5 * log_var)\n",
        "        return torch.randn_like(std).mul(std).add_(mu)\n",
        "\n",
        "    def forward(self, x):\n",
        "        encoder_output = self.convolutional_encoder(x)\n",
        "        # Get mean and variance.\n",
        "        mu = self.mu(encoder_output)\n",
        "        log_var = self.log_var(encoder_output)\n",
        "        # Sample from a normal distribution of mean mu and variance var.\n",
        "        code = self.reparameterize(mu, log_var)\n",
        "\n",
        "        reconstruction = self.convolutional_decoder(\n",
        "            self.linear_decoder(code).view((-1,) + self.encoder_output_shape))\n",
        "        \n",
        "        # Return reconstruction and mean and variance for the loss computation.  \n",
        "        return reconstruction, mu, log_var"
      ],
      "execution_count": 0,
      "outputs": []
    },
    {
      "cell_type": "markdown",
      "metadata": {
        "id": "_86btVGNP-e4",
        "colab_type": "text"
      },
      "source": [
        "Reconstruction + KL divergence losses summed over all elements and batch\n"
      ]
    },
    {
      "cell_type": "code",
      "metadata": {
        "id": "ubi766EfQJu0",
        "colab_type": "code",
        "colab": {}
      },
      "source": [
        "from torch.nn.functional import binary_cross_entropy"
      ],
      "execution_count": 0,
      "outputs": []
    },
    {
      "cell_type": "code",
      "metadata": {
        "id": "hJa6GgbZOB4a",
        "colab_type": "code",
        "colab": {}
      },
      "source": [
        "def loss_function(recon_x, x, mu, logvar):\n",
        "    # print(recon_x.size(), x.size())\n",
        "    BCE = F.binary_cross_entropy(recon_x.view(-1, 784), x.view(-1, 784), reduction='sum')\n",
        "    # see Appendix B from VAE paper:\n",
        "    # Kingma and Welling. Auto-Encoding Variational Bayes. ICLR, 2014\n",
        "    # https://arxiv.org/abs/1312.6114\n",
        "    # 0.5 * sum(1 + log(sigma^2) - mu^2 - sigma^2)\n",
        "    KLD = -0.5 * torch.sum(1 + logvar - mu.pow(2) - logvar.exp())\n",
        "    # return BCE + KLD\n",
        "    return BCE + KLD\n"
      ],
      "execution_count": 0,
      "outputs": []
    }
  ]
}