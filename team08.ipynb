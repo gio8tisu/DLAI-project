{
 "cells": [
  {
   "cell_type": "code",
   "execution_count": 1,
   "metadata": {
    "colab": {},
    "colab_type": "code",
    "id": "FaWaYXG1fIRm"
   },
   "outputs": [],
   "source": [
    "import torch\n",
    "import torch.nn\n",
    "import torch.optim\n",
    "import torchvision.datasets\n",
    "import torchvision.transforms\n",
    "import torch.utils.data\n",
    "import matplotlib.pyplot as plt\n",
    "import numpy as np\n",
    "from prettytable import PrettyTable\n",
    "from random import randint"
   ]
  },
  {
   "cell_type": "code",
   "execution_count": 2,
   "metadata": {
    "colab": {},
    "colab_type": "code",
    "id": "GA4Aiz2Giu5e"
   },
   "outputs": [],
   "source": [
    "torch.manual_seed(0)\n",
    "device = 'cuda:0' if torch.cuda.is_available() else 'cpu'"
   ]
  },
  {
   "cell_type": "code",
   "execution_count": 3,
   "metadata": {
    "colab": {},
    "colab_type": "code",
    "id": "-MjS3A1UNFJF"
   },
   "outputs": [],
   "source": [
    "BATCH_SIZE = 128\n",
    "EPOCHS_AUTOENCODER = 10\n",
    "EPOCHS_PRETRAINING = 20\n",
    "EPOCHS_FINETUNING = 20\n",
    "EPOCHS_VAE = 50"
   ]
  },
  {
   "cell_type": "markdown",
   "metadata": {
    "colab_type": "text",
    "id": "iyK3i7pS9gSH"
   },
   "source": [
    "# Exercise 1: Convolutional Autoencoder\n",
    "\n",
    "Steps:\n",
    "1. Load MNIST train and test sets. Split the original training data into 95% training and 5% validation data.\n",
    "2. Implement a convolutional autoencoder (with separate Encoder and Decoder modules).\n",
    "3. Train the convolutional autoencoder, with different bottleneck sizes. Plot the train and validation loss curves of all autoencoders in the same figure.\n",
    "4. Compute the avg. image reconstruction error (MSE) of the trained models on the MNIST validation and test sets. Show the results in a table, including #params of each model.\n",
    "5. Select one of the autoencoders and feed it 5 random MNIST images from the test set. Show them along with their reconstructions.\n",
    "Generate 5 new images by injecting random values as input to the decoder. Show them.\n"
   ]
  },
  {
   "cell_type": "markdown",
   "metadata": {
    "colab_type": "text",
    "id": "-Vf3xEV29k0y",
    "pycharm": {
     "name": "#%% md\n"
    }
   },
   "source": [
    "## Module definition\n",
    "\n",
    "Our autoencoder will be defined by the `ConvolutionalAutoencoder` class which uses a `ConvolutionalEncoder` object to encode followed a `ConvolutionalDecoder` object to decode. The `ConvolutionalEncoder` and `ConvolutionalDecoder` classes make use of `n_blocks` `ConvolutionalBlock`s or `DeconvolutionalBlock`s which are composed of `layer_per_block` convolution layers with the same number of filters.\n",
    "\n",
    "The dimensionality is reduced by applying 2-factor spatial downsampling at each block. The number of filters is doubled for each subsequent block. The decoder makes the exact oposite process.\n",
    "\n",
    "The final layer uses a tanh activation.\n",
    "\n",
    "Very similar to the `ConvolutionalAutoencoder`, there is the `ConvolutionalAutoencoderReducedLatentDim` class which includes 2 fully-connected layers between the encoder and decoder. The first one projects from the encoder's feature maps to a vector of `latent_dimensionality` dimensions, the second one does the opposite."
   ]
  },
  {
   "cell_type": "code",
   "execution_count": 4,
   "metadata": {
    "colab": {},
    "colab_type": "code",
    "id": "EknaWIjxJUZ1",
    "pycharm": {
     "name": "#%%\n"
    }
   },
   "outputs": [],
   "source": [
    "# %load models.py\n",
    "import torch\n",
    "import torch.nn\n",
    "\n",
    "\n",
    "class ConvolutionalAutoencoder(torch.nn.Module):\n",
    "\n",
    "    def __init__(self, n_blocks, downsampling_method, upsampling_method,\n",
    "                 layers_per_block=2):\n",
    "        super().__init__()\n",
    "        self.n_blocks = n_blocks\n",
    "        self.downsampling_method = downsampling_method\n",
    "        self.upsampling_method = upsampling_method\n",
    "\n",
    "        self.encoder = ConvolutionalEncoder(n_blocks, downsampling_method,\n",
    "                                            layers_per_block=layers_per_block)\n",
    "        self.decoder = ConvolutionalDecoder(n_blocks, upsampling_method,\n",
    "                                            self.encoder.output_channels,\n",
    "                                            layers_per_block)\n",
    "\n",
    "    def forward(self, x):\n",
    "        code = self.encoder(x)\n",
    "        reconstruction = self.decoder(code)\n",
    "        return reconstruction\n",
    "\n",
    "\n",
    "class ConvolutionalAutoencoderReducedLatentDim(torch.nn.Module):\n",
    "\n",
    "    def __init__(self, input_shape, n_blocks, downsampling_method, upsampling_method,\n",
    "                 layers_per_block=2, latent_dimensionality=50):\n",
    "        super().__init__()\n",
    "        self.n_blocks = n_blocks\n",
    "        self.downsampling_method = downsampling_method\n",
    "        self.upsampling_method = upsampling_method\n",
    "        self.latent_dimensionality = latent_dimensionality\n",
    "\n",
    "        # Encoder: Convolutional blocks + Linear\n",
    "        self.convolutional_encoder = ConvolutionalEncoder(\n",
    "            n_blocks, downsampling_method, layers_per_block=layers_per_block)\n",
    "        self.encoder_output_shape = (self.convolutional_encoder.init_filters * 2 ** (n_blocks - 1),\n",
    "                                     input_shape[0] // 2 ** n_blocks,\n",
    "                                     input_shape[1] // 2 ** n_blocks)\n",
    "        self.encoder = torch.nn.Sequential(\n",
    "            self.convolutional_encoder,\n",
    "            torch.nn.Flatten(),\n",
    "            torch.nn.Linear(self.encoder_output_shape[0] * self.encoder_output_shape[1] * self.encoder_output_shape[2],\n",
    "                            latent_dimensionality),\n",
    "            torch.nn.ReLU()\n",
    "        )\n",
    "\n",
    "        # Decoder: Linear + Convolutional blocks\n",
    "        self.linear_decoder = torch.nn.Sequential(\n",
    "            torch.nn.Linear(latent_dimensionality,\n",
    "                            self.encoder_output_shape[0] * self.encoder_output_shape[1] * self.encoder_output_shape[2]),\n",
    "            torch.nn.ReLU()\n",
    "        )\n",
    "        self.convolutional_decoder = ConvolutionalDecoder(\n",
    "            n_blocks, upsampling_method,\n",
    "            self.convolutional_encoder.output_channels, layers_per_block)\n",
    "\n",
    "    def forward(self, x):\n",
    "        code = self.encoder(x)\n",
    "        reconstruction = self.convolutional_decoder(\n",
    "            self.linear_decoder(code).view((-1,) + self.encoder_output_shape))\n",
    "        return reconstruction\n",
    "\n",
    "\n",
    "class ConvolutionalEncoder(torch.nn.Module):\n",
    "    DOWNSAMPLING_METHODS = [\"max-pooling\", \"avg-pooling\", \"stride-2\"]\n",
    "\n",
    "    def __init__(self, n_blocks, downsampling_method, init_filters=16,\n",
    "                 layers_per_block=2, kernel_size=5, input_channels=1):\n",
    "        super().__init__()\n",
    "        self.n_blocks = n_blocks\n",
    "        assert downsampling_method in self.DOWNSAMPLING_METHODS\n",
    "        self.downsampling_method = downsampling_method\n",
    "        self.layers_per_block = layers_per_block\n",
    "        self.init_filters = init_filters\n",
    "        self.kernel_size = kernel_size\n",
    "        self.input_channels = input_channels\n",
    "\n",
    "        layers = []\n",
    "\n",
    "        # First layer so we have <input_channels> channels.\n",
    "        n_filters = init_filters\n",
    "        layers.append(\n",
    "            ConvolutionalBlock(input_channels, n_filters, kernel_size, 1))\n",
    "\n",
    "        # Encoding blocks.\n",
    "        input_channels = n_filters\n",
    "        for _ in range(n_blocks):\n",
    "            if downsampling_method == \"max-pooling\":\n",
    "                # Convolutional block + max pooling.\n",
    "                conv_block = torch.nn.Sequential(\n",
    "                    ConvolutionalBlock(input_channels, n_filters, kernel_size,\n",
    "                                       layers_per_block),\n",
    "                    torch.nn.MaxPool2d(2)\n",
    "                )\n",
    "            elif downsampling_method == \"avg-pooling\":\n",
    "                # Convolutional block + average pooling.\n",
    "                conv_block = torch.nn.Sequential(\n",
    "                    ConvolutionalBlock(input_channels, n_filters, kernel_size,\n",
    "                                       layers_per_block),\n",
    "                    torch.nn.AvgPool2d(2)\n",
    "                )\n",
    "            else:\n",
    "                # Stride-2 convolution.\n",
    "                conv_block = ConvolutionalBlock(input_channels, n_filters,\n",
    "                                                kernel_size,\n",
    "                                                layers_per_block,\n",
    "                                                last_stride=2)\n",
    "            layers.append(conv_block)\n",
    "            # Double the number of filters.\n",
    "            input_channels = n_filters\n",
    "            n_filters = 2 * n_filters\n",
    "\n",
    "        self.encoder = torch.nn.Sequential(*layers)\n",
    "        self.output_channels = input_channels\n",
    "\n",
    "    def forward(self, x):\n",
    "        return self.encoder(x)\n",
    "\n",
    "\n",
    "class ConvolutionalDecoder(torch.nn.Module):\n",
    "    UPSAMPLING_METHODS = [\"transposed\", \"bilinear\", \"bicubic\", \"nearest\"]\n",
    "\n",
    "    def __init__(self, n_blocks, upsampling_method, input_channels,\n",
    "                 layers_per_block=2, kernel_size=5, output_channels=1,\n",
    "                 activation=\"tanh\"):\n",
    "        super().__init__()\n",
    "        self.n_blocks = n_blocks\n",
    "        assert upsampling_method in self.UPSAMPLING_METHODS\n",
    "        self.upsampling_method = upsampling_method\n",
    "        self.layers_per_block = layers_per_block\n",
    "        self.input_channels = input_channels\n",
    "        self.kernel_size = kernel_size\n",
    "        self.output_channels = output_channels\n",
    "        self.activation = activation\n",
    "\n",
    "        layers = []\n",
    "\n",
    "        # Decoding blocks.\n",
    "        n_filters = input_channels\n",
    "        for _ in range(n_blocks):\n",
    "            if upsampling_method == \"transposed\":\n",
    "                # Deconvolutional block\n",
    "                conv_block = DeconvolutionalBlock(input_channels, n_filters,\n",
    "                                                  kernel_size, layers_per_block,\n",
    "                                                  stride=2)\n",
    "            else:\n",
    "                # Upsampling.\n",
    "                conv_block = torch.nn.Sequential(\n",
    "                    ConvolutionalBlock(input_channels, n_filters, kernel_size,\n",
    "                                       layers_per_block),\n",
    "                    torch.nn.Upsample(scale_factor=2, mode=upsampling_method)\n",
    "                )\n",
    "            layers.append(conv_block)\n",
    "            # Half the number of filters.\n",
    "            input_channels = n_filters\n",
    "            n_filters = n_filters // 2\n",
    "\n",
    "        # Last layer so we have <output_channels> channel.\n",
    "        layers.append(torch.nn.Conv2d(input_channels, output_channels, kernel_size,\n",
    "                                      padding=kernel_size // 2))\n",
    "        if activation == \"tanh\":\n",
    "            layers.append(torch.nn.Tanh())\n",
    "        elif activation == \"sigmoid\":\n",
    "            layers.append(torch.nn.Sigmoid())\n",
    "\n",
    "        self.decoder = torch.nn.Sequential(*layers)\n",
    "\n",
    "    def forward(self, x):\n",
    "        return self.decoder(x)\n",
    "\n",
    "\n",
    "class ConvolutionalBlock(torch.nn.Module):\n",
    "    \"\"\"\n",
    "\n",
    "    Applies n_layers convolutional layers with the same number of\n",
    "    filters and filter sizes with ReLU activations\n",
    "    keeping the same spacial size.\n",
    "    \"\"\"\n",
    "\n",
    "    def __init__(self, input_channels, n_filters, kernel_size, n_layers,\n",
    "                 last_stride=1):\n",
    "        super().__init__()\n",
    "        layers = []\n",
    "        padding = kernel_size // 2  # To keep the same size.\n",
    "\n",
    "        for i in range(n_layers):\n",
    "            if i == 0:  # First layer with correct input channels.\n",
    "                layers.append(torch.nn.Conv2d(input_channels, n_filters,\n",
    "                                              kernel_size, padding=padding))\n",
    "            elif 0 < i < n_layers:  # Intermediate layers.\n",
    "                layers.append(torch.nn.Conv2d(n_filters, n_filters,\n",
    "                                              kernel_size, padding=padding))\n",
    "            else:  # Last layer with stride.\n",
    "                layers.append(torch.nn.Conv2d(n_filters, n_filters,\n",
    "                                              kernel_size, last_stride, padding))\n",
    "            layers.append(torch.nn.ReLU())\n",
    "\n",
    "        # To sequentially apply the layers.\n",
    "        self.block = torch.nn.Sequential(*layers)\n",
    "\n",
    "    def forward(self, x):\n",
    "        return self.block(x)\n",
    "\n",
    "\n",
    "class DeconvolutionalBlock(torch.nn.Module):\n",
    "    \"\"\"\n",
    "\n",
    "    Applies a transposed convolution followed by n_layers-1 convolutional\n",
    "    layers with the same number of filters and filter sizes with ReLU\n",
    "    activations keeping the same spacial size.\n",
    "    \"\"\"\n",
    "\n",
    "    def __init__(self, input_channels, n_filters, kernel_size, n_layers, stride):\n",
    "        super().__init__()\n",
    "        layers = []\n",
    "        padding = kernel_size // 2\n",
    "\n",
    "        # Transposed convolution layer.\n",
    "        layers.append(torch.nn.ConvTranspose2d(input_channels, n_filters,\n",
    "                                               kernel_size, stride, padding, 1))\n",
    "        layers.append(torch.nn.ReLU())\n",
    "\n",
    "        for _ in range(n_layers - 1):\n",
    "            layers.append(torch.nn.Conv2d(n_filters, n_filters, kernel_size,\n",
    "                                          padding=padding))\n",
    "            layers.append(torch.nn.ReLU())\n",
    "\n",
    "        # To sequentially apply the layers.\n",
    "        self.block = torch.nn.Sequential(*layers)\n",
    "\n",
    "    def forward(self, x):\n",
    "        return self.block(x)"
   ]
  },
  {
   "cell_type": "markdown",
   "metadata": {
    "colab_type": "text",
    "id": "u_ZD0rgWBhJa",
    "pycharm": {
     "name": "#%% md\n"
    }
   },
   "source": [
    "To do a quick test, we will pass a random image and check if the output is of the same size as the input."
   ]
  },
  {
   "cell_type": "code",
   "execution_count": 5,
   "metadata": {
    "colab": {},
    "colab_type": "code",
    "id": "hIO0AZWCfIR2",
    "pycharm": {
     "name": "#%%\n"
    }
   },
   "outputs": [],
   "source": [
    "image = torch.randn((10, 1, 128, 128))\n",
    "autoencoder = ConvolutionalAutoencoderReducedLatentDim(input_shape=(128, 128),\n",
    "                                                       n_blocks=2,\n",
    "                                                       downsampling_method='max-pooling',\n",
    "                                                       upsampling_method='nearest',\n",
    "                                                       layers_per_block=2,\n",
    "                                                       latent_dimensionality=50)\n",
    "output = autoencoder(image)\n",
    "assert output.shape == (10, 1, 128, 128)"
   ]
  },
  {
   "cell_type": "markdown",
   "metadata": {
    "colab_type": "text",
    "id": "z25DsijeCNvi",
    "pycharm": {
     "name": "#%% md\n"
    }
   },
   "source": [
    "## Dataset\n",
    "\n",
    "We split the training set and normalize the input images with mean and variance of the training set found on the internet."
   ]
  },
  {
   "cell_type": "code",
   "execution_count": 6,
   "metadata": {
    "colab": {},
    "colab_type": "code",
    "id": "ObQndlPufIR9"
   },
   "outputs": [],
   "source": [
    "transform = torchvision.transforms.Compose([\n",
    "     torchvision.transforms.ToTensor(),\n",
    "     # torchvision.transforms.Normalize((0.1307,), (0.3081,))  # Mean and std from internet...\n",
    "])"
   ]
  },
  {
   "cell_type": "code",
   "execution_count": 7,
   "metadata": {
    "colab": {},
    "colab_type": "code",
    "id": "1VIGvzG4fISD"
   },
   "outputs": [],
   "source": [
    "mnist = torchvision.datasets.MNIST('mnist_dataset', train=True, transform=transform, download=True)"
   ]
  },
  {
   "cell_type": "code",
   "execution_count": 8,
   "metadata": {
    "colab": {},
    "colab_type": "code",
    "id": "K5cYwBL2fISH"
   },
   "outputs": [],
   "source": [
    "dataset_len = len(mnist)"
   ]
  },
  {
   "cell_type": "code",
   "execution_count": 9,
   "metadata": {
    "colab": {
     "base_uri": "https://localhost:8080/",
     "height": 34
    },
    "colab_type": "code",
    "id": "QPrTXSnZfISN",
    "outputId": "9ac1916a-ed75-486d-d96a-b91f6efe7728"
   },
   "outputs": [
    {
     "data": {
      "text/plain": [
       "57000.0"
      ]
     },
     "execution_count": 9,
     "metadata": {},
     "output_type": "execute_result"
    }
   ],
   "source": [
    "dataset_len * 0.95"
   ]
  },
  {
   "cell_type": "code",
   "execution_count": 10,
   "metadata": {
    "colab": {},
    "colab_type": "code",
    "id": "B1BwFJY_fISU"
   },
   "outputs": [],
   "source": [
    "mnist_train, mnist_val = torch.utils.data.random_split(mnist, [57000, dataset_len - 57000])"
   ]
  },
  {
   "cell_type": "code",
   "execution_count": 11,
   "metadata": {
    "colab": {},
    "colab_type": "code",
    "id": "b5yH0O1kfISY"
   },
   "outputs": [],
   "source": [
    "train_dataloader = torch.utils.data.DataLoader(mnist_train,\n",
    "                                               batch_size=BATCH_SIZE,\n",
    "                                               shuffle=True,\n",
    "                                               num_workers=4)"
   ]
  },
  {
   "cell_type": "code",
   "execution_count": 12,
   "metadata": {
    "colab": {},
    "colab_type": "code",
    "id": "Ybj6UC1qJUaN",
    "pycharm": {
     "name": "#%%\n"
    }
   },
   "outputs": [],
   "source": [
    "val_dataloader = torch.utils.data.DataLoader(mnist_val, batch_size=BATCH_SIZE)"
   ]
  },
  {
   "cell_type": "markdown",
   "metadata": {
    "colab_type": "text",
    "id": "DZpKJsSBcc4b",
    "pycharm": {
     "name": "#%% md\n"
    }
   },
   "source": [
    "To create our autoencoder we need to know the size of our images."
   ]
  },
  {
   "cell_type": "code",
   "execution_count": 13,
   "metadata": {
    "colab": {
     "base_uri": "https://localhost:8080/",
     "height": 34
    },
    "colab_type": "code",
    "id": "fqt6_aCtJUaR",
    "outputId": "5c81f17e-00b3-42fe-f83f-fb5c431227c6",
    "pycharm": {
     "name": "#%%\n"
    }
   },
   "outputs": [
    {
     "data": {
      "text/plain": [
       "torch.Size([1, 28, 28])"
      ]
     },
     "execution_count": 13,
     "metadata": {},
     "output_type": "execute_result"
    }
   ],
   "source": [
    "image, label = mnist_train[0]\n",
    "image.shape"
   ]
  },
  {
   "cell_type": "markdown",
   "metadata": {
    "colab_type": "text",
    "id": "HCP_Zd2rDqlW"
   },
   "source": [
    "## Training"
   ]
  },
  {
   "cell_type": "markdown",
   "metadata": {
    "colab_type": "text",
    "id": "wEm9Aahock8U",
    "pycharm": {
     "name": "#%% md\n"
    }
   },
   "source": [
    "We will first train an autoencoder with a bottleneck of size 50, **2 blocks of 2 convolutional layers** on each block (each in the encoder and decoder), using **max-pooling** for downsampling and **nearest-neighbour** for upsampling."
   ]
  },
  {
   "cell_type": "code",
   "execution_count": 14,
   "metadata": {
    "colab": {},
    "colab_type": "code",
    "id": "sIYstBcDJUaV",
    "pycharm": {
     "name": "#%%\n"
    }
   },
   "outputs": [],
   "source": [
    "autoencoder = ConvolutionalAutoencoderReducedLatentDim(\n",
    "    input_shape=(28, 28),\n",
    "    n_blocks=2,\n",
    "    downsampling_method='max-pooling',\n",
    "    upsampling_method='nearest',\n",
    "    layers_per_block=2,\n",
    "    latent_dimensionality=50\n",
    ").to(device)"
   ]
  },
  {
   "cell_type": "markdown",
   "metadata": {
    "colab_type": "text",
    "id": "xt3wsOghdxHh",
    "pycharm": {
     "name": "#%% md\n"
    }
   },
   "source": [
    "We use the mean square error as our loss function and Adam as our optimization algorithm with a learning rate of 0.001.  \n",
    "We use 'sum' as reduction to compute the image reconstruction error instead of the pixel reconstruction error."
   ]
  },
  {
   "cell_type": "code",
   "execution_count": 15,
   "metadata": {
    "colab": {},
    "colab_type": "code",
    "id": "fNNQ25Z-fISe",
    "pycharm": {
     "name": "#%%\n"
    }
   },
   "outputs": [],
   "source": [
    "mse = torch.nn.MSELoss(reduction='sum')\n",
    "adam = torch.optim.Adam(autoencoder.parameters(), lr=0.001)"
   ]
  },
  {
   "cell_type": "markdown",
   "metadata": {
    "colab_type": "text",
    "id": "RX893gG4eEf2",
    "pycharm": {
     "name": "#%% md\n"
    }
   },
   "source": [
    "Define our `train` function that will be called at each epoch."
   ]
  },
  {
   "cell_type": "code",
   "execution_count": 16,
   "metadata": {
    "colab": {},
    "colab_type": "code",
    "id": "AEwsot_KfISi",
    "pycharm": {
     "name": "#%%\n"
    }
   },
   "outputs": [],
   "source": [
    "def train(model, dataloader, criterion, optimizer, epoch, loss_history, log_interval=100):\n",
    "    for i, batch in enumerate(dataloader):\n",
    "        images = batch[0].to(device)\n",
    "        optimizer.zero_grad()\n",
    "        reconstructed = model(images)\n",
    "        # Divide by batch size to compute mean image reconstruction error.\n",
    "        loss = criterion(reconstructed, images) / images.shape[0]\n",
    "        loss.backward()   # Backprop.\n",
    "        optimizer.step()  # Parameter updates.\n",
    "\n",
    "        loss_history.append(loss.item())\n",
    "        if i % log_interval == 0:\n",
    "            print('[%d, %d] loss: %.3f' % (epoch + 1, i, loss.item()))"
   ]
  },
  {
   "cell_type": "markdown",
   "metadata": {
    "colab_type": "text",
    "id": "zo8uYtLgeC6o",
    "pycharm": {
     "name": "#%% md\n"
    }
   },
   "source": [
    "Very similar to the `train` function, we define our `test` function to validate. In this case we don't backpropagate and update our parameters."
   ]
  },
  {
   "cell_type": "code",
   "execution_count": 17,
   "metadata": {
    "colab": {},
    "colab_type": "code",
    "id": "GoV4rvPyJUac",
    "pycharm": {
     "name": "#%%\n"
    }
   },
   "outputs": [],
   "source": [
    "def test(model, dataloader, criterion, epoch, loss_history):\n",
    "    loss = 0\n",
    "    total = 0\n",
    "    for batch in dataloader:\n",
    "        images = batch[0].to(device)\n",
    "        reconstructed = model(images)\n",
    "        loss += criterion(reconstructed, images).item()\n",
    "        total += images.shape[0]\n",
    "\n",
    "    mean_loss = loss / total\n",
    "    loss_history.append(mean_loss)  \n",
    "    print('[%d, test] loss: %.3f' % (epoch + 1, mean_loss))\n",
    "    return mean_loss"
   ]
  },
  {
   "cell_type": "markdown",
   "metadata": {
    "colab_type": "text",
    "id": "8vfBCQHqepWO",
    "pycharm": {
     "name": "#%% md\n"
    }
   },
   "source": [
    "This is our training loop. Firstly, we call the `test` function so our validation loss curve includes the initial/untrained \"behaviour\"."
   ]
  },
  {
   "cell_type": "code",
   "execution_count": 18,
   "metadata": {
    "colab": {
     "base_uri": "https://localhost:8080/",
     "height": 1000
    },
    "colab_type": "code",
    "id": "CXQlTiq2fISm",
    "outputId": "9129f914-d77e-4365-825f-bc3ba9d16498",
    "scrolled": true
   },
   "outputs": [
    {
     "name": "stdout",
     "output_type": "stream",
     "text": [
      "[1, test] loss: 100.729\n",
      "[1, 0] loss: 95.390\n",
      "[1, 100] loss: 52.128\n",
      "[1, 200] loss: 51.179\n",
      "[1, 300] loss: 53.715\n",
      "[1, 400] loss: 54.406\n",
      "[2, test] loss: 53.320\n",
      "[2, 0] loss: 50.304\n",
      "[2, 100] loss: 38.084\n",
      "[2, 200] loss: 24.764\n",
      "[2, 300] loss: 19.892\n",
      "[2, 400] loss: 16.899\n",
      "[3, test] loss: 16.242\n",
      "[3, 0] loss: 16.269\n",
      "[3, 100] loss: 13.912\n",
      "[3, 200] loss: 14.396\n",
      "[3, 300] loss: 12.585\n",
      "[3, 400] loss: 11.925\n",
      "[4, test] loss: 12.332\n",
      "[4, 0] loss: 11.620\n",
      "[4, 100] loss: 12.256\n",
      "[4, 200] loss: 10.659\n",
      "[4, 300] loss: 11.703\n",
      "[4, 400] loss: 10.163\n",
      "[5, test] loss: 11.068\n",
      "[5, 0] loss: 11.128\n",
      "[5, 100] loss: 10.741\n",
      "[5, 200] loss: 10.541\n",
      "[5, 300] loss: 11.209\n",
      "[5, 400] loss: 10.598\n",
      "[6, test] loss: 10.292\n",
      "[6, 0] loss: 10.222\n",
      "[6, 100] loss: 10.726\n",
      "[6, 200] loss: 10.522\n",
      "[6, 300] loss: 9.127\n",
      "[6, 400] loss: 9.909\n",
      "[7, test] loss: 10.109\n",
      "[7, 0] loss: 10.031\n",
      "[7, 100] loss: 9.251\n",
      "[7, 200] loss: 9.235\n",
      "[7, 300] loss: 9.464\n",
      "[7, 400] loss: 8.912\n",
      "[8, test] loss: 9.637\n",
      "[8, 0] loss: 9.913\n",
      "[8, 100] loss: 8.807\n",
      "[8, 200] loss: 9.362\n",
      "[8, 300] loss: 8.566\n",
      "[8, 400] loss: 8.157\n",
      "[9, test] loss: 8.800\n",
      "[9, 0] loss: 7.632\n",
      "[9, 100] loss: 8.536\n",
      "[9, 200] loss: 9.686\n",
      "[9, 300] loss: 8.848\n",
      "[9, 400] loss: 8.301\n",
      "[10, test] loss: 8.675\n",
      "[10, 0] loss: 8.214\n",
      "[10, 100] loss: 8.432\n",
      "[10, 200] loss: 7.599\n",
      "[10, 300] loss: 8.498\n",
      "[10, 400] loss: 8.660\n",
      "[10, test] loss: 8.326\n"
     ]
    }
   ],
   "source": [
    "training_loss = []    #\n",
    "validation_loss = []  # Here we save the training process.\n",
    "\n",
    "for epoch in range(EPOCHS_AUTOENCODER):\n",
    "    autoencoder.eval()\n",
    "    with torch.no_grad():\n",
    "        _ = test(autoencoder, val_dataloader, mse, epoch, validation_loss)\n",
    "    autoencoder.train()\n",
    "    train(autoencoder, train_dataloader, mse, adam, epoch, training_loss)\n",
    "    # if early_stopping(validation_loss):\n",
    "    #     break\n",
    "\n",
    "autoencoder.eval()\n",
    "with torch.no_grad():\n",
    "    test(autoencoder, val_dataloader, mse, epoch, validation_loss)"
   ]
  },
  {
   "cell_type": "code",
   "execution_count": 19,
   "metadata": {
    "colab": {
     "base_uri": "https://localhost:8080/",
     "height": 295
    },
    "colab_type": "code",
    "id": "4I6vt-OjST-I",
    "outputId": "e3892f27-a2d1-4baa-8623-4f1ffcd7df09",
    "pycharm": {
     "name": "#%%\n"
    }
   },
   "outputs": [
    {
     "data": {
      "image/png": "[encoded data removed]",
      "text/plain": [
       "<Figure size 432x288 with 1 Axes>"
      ]
     },
     "metadata": {
      "needs_background": "light"
     },
     "output_type": "display_data"
    }
   ],
   "source": [
    "plt.title('Autoencoder reconstruction loss curves')\n",
    "plt.plot(training_loss, label='training loss')\n",
    "plt.plot(np.linspace(0, len(training_loss), len(validation_loss)), validation_loss, '-x', label='validation loss')\n",
    "plt.xlabel('Iteration')\n",
    "plt.ylabel('MSE')\n",
    "plt.legend();"
   ]
  },
  {
   "cell_type": "markdown",
   "metadata": {
    "colab_type": "text",
    "id": "NXnbmjhLfaTR",
    "pycharm": {
     "name": "#%% md\n"
    }
   },
   "source": [
    "We can see that the loss quickly reduces and then it doesn't improve much. The validation curve is similar to the training one, so we can say it doesn't overfit the training data.\n",
    "\n",
    "In log-scale:"
   ]
  },
  {
   "cell_type": "code",
   "execution_count": 20,
   "metadata": {
    "colab": {
     "base_uri": "https://localhost:8080/",
     "height": 295
    },
    "colab_type": "code",
    "id": "BxrbIH0Qgcpn",
    "outputId": "f471e937-8d34-4734-b65a-de90a8b3f134",
    "pycharm": {
     "name": "#%%\n"
    }
   },
   "outputs": [
    {
     "data": {
      "image/png": "[encoded data removed]",
      "text/plain": [
       "<Figure size 432x288 with 1 Axes>"
      ]
     },
     "metadata": {
      "needs_background": "light"
     },
     "output_type": "display_data"
    }
   ],
   "source": [
    "plt.title('Autoencoder reconstruction loss curves in log-scale')\n",
    "plt.yscale('log')\n",
    "plt.plot(training_loss, label='training loss')\n",
    "plt.plot(np.linspace(0, len(training_loss), len(validation_loss)), validation_loss, '-x', label='validation loss')\n",
    "plt.xlabel('Iteration')\n",
    "plt.ylabel('MSE')\n",
    "plt.legend();"
   ]
  },
  {
   "cell_type": "markdown",
   "metadata": {
    "colab_type": "text",
    "id": "3FTDWqo4NcF0",
    "pycharm": {
     "name": "#%% md\n"
    }
   },
   "source": [
    "Now we'll try to reconstruct a image from the test dataset."
   ]
  },
  {
   "cell_type": "code",
   "execution_count": 21,
   "metadata": {
    "colab": {},
    "colab_type": "code",
    "id": "3OKrrQKRfISs"
   },
   "outputs": [],
   "source": [
    "mnist_test = torchvision.datasets.MNIST('mnist_dataset', train=False, transform=transform)\n",
    "test_dataloader = torch.utils.data.DataLoader(mnist_test, batch_size=BATCH_SIZE)"
   ]
  },
  {
   "cell_type": "code",
   "execution_count": 22,
   "metadata": {
    "colab": {},
    "colab_type": "code",
    "id": "NfXE9nSUQBV1"
   },
   "outputs": [],
   "source": [
    "def show_image(image, autoencoder, title=None):\n",
    "    reconstructed = autoencoder(image.to(device).unsqueeze(0))\n",
    "    if title:\n",
    "        plt.suptitle(title)\n",
    "    plt.subplot(121).set_title('Original image')\n",
    "    plt.imshow(image.reshape((28, 28)), cmap='gray')\n",
    "    plt.subplot(122).set_title('Reconstructed image')\n",
    "    plt.imshow(reconstructed.reshape((28, 28)).detach().cpu().numpy(), cmap='gray');"
   ]
  },
  {
   "cell_type": "code",
   "execution_count": 23,
   "metadata": {
    "colab": {
     "base_uri": "https://localhost:8080/",
     "height": 216
    },
    "colab_type": "code",
    "id": "7YUCupgTgYt3",
    "outputId": "1cb7abca-b402-4b9d-ac00-f70298ea59e7",
    "pycharm": {
     "name": "#%%\n"
    }
   },
   "outputs": [
    {
     "data": {
      "image/png": "[encoded data removed]",
      "text/plain": [
       "<Figure size 432x288 with 2 Axes>"
      ]
     },
     "metadata": {
      "needs_background": "light"
     },
     "output_type": "display_data"
    }
   ],
   "source": [
    "show_image(mnist_test[6][0], autoencoder)"
   ]
  },
  {
   "cell_type": "markdown",
   "metadata": {
    "colab_type": "text",
    "id": "Lxb8rpY3goVF"
   },
   "source": [
    "We can see some information is loss, but the reconstruction is pretty accurate."
   ]
  },
  {
   "cell_type": "markdown",
   "metadata": {
    "colab_type": "text",
    "id": "qQfkKa71EQ9s",
    "pycharm": {
     "name": "#%% md\n"
    }
   },
   "source": [
    "## Varying bottleneck size\n"
   ]
  },
  {
   "cell_type": "code",
   "execution_count": 24,
   "metadata": {
    "colab": {},
    "colab_type": "code",
    "id": "34WQ01WqLcmz"
   },
   "outputs": [],
   "source": [
    "mse = torch.nn.MSELoss(reduction='sum')"
   ]
  },
  {
   "cell_type": "code",
   "execution_count": null,
   "metadata": {
    "colab": {
     "base_uri": "https://localhost:8080/",
     "height": 1000
    },
    "colab_type": "code",
    "id": "3ctr05S_Edn6",
    "outputId": "1542a107-a3a9-40eb-93e5-ef0f50355ef6"
   },
   "outputs": [
    {
     "name": "stdout",
     "output_type": "stream",
     "text": [
      "***************Autoencoder bottleneck size 2***************\n",
      "[1, test] loss: 90.189\n",
      "[1, 0] loss: 91.768\n",
      "[2, test] loss: 53.590\n",
      "[2, 0] loss: 53.133\n",
      "[3, test] loss: 53.535\n",
      "[3, 0] loss: 52.375\n",
      "[4, test] loss: 53.441\n",
      "[4, 0] loss: 53.638\n",
      "[5, test] loss: 53.488\n",
      "[5, 0] loss: 53.553\n",
      "[6, test] loss: 53.529\n",
      "[6, 0] loss: 53.808\n",
      "[7, test] loss: 53.463\n",
      "[7, 0] loss: 53.843\n",
      "[8, test] loss: 53.475\n",
      "[8, 0] loss: 52.555\n",
      "[9, test] loss: 53.460\n",
      "[9, 0] loss: 51.315\n",
      "[10, test] loss: 53.529\n",
      "[10, 0] loss: 52.256\n",
      "[10, test] loss: 53.573\n",
      "***************Autoencoder bottleneck size 5***************\n",
      "[1, test] loss: 91.055\n",
      "[1, 0] loss: 93.222\n",
      "[2, test] loss: 46.335\n",
      "[2, 0] loss: 44.590\n",
      "[3, test] loss: 42.626\n",
      "[3, 0] loss: 44.064\n",
      "[4, test] loss: 41.153\n",
      "[4, 0] loss: 39.162\n",
      "[5, test] loss: 39.752\n",
      "[5, 0] loss: 38.617\n",
      "[6, test] loss: 39.180\n",
      "[6, 0] loss: 38.470\n",
      "[7, test] loss: 40.017\n",
      "[7, 0] loss: 40.171\n",
      "[8, test] loss: 38.858\n",
      "[8, 0] loss: 40.320\n",
      "[9, test] loss: 38.882\n",
      "[9, 0] loss: 37.639\n",
      "[10, test] loss: 38.714\n",
      "[10, 0] loss: 38.666\n",
      "[10, test] loss: 37.969\n",
      "***************Autoencoder bottleneck size 10***************\n",
      "[1, test] loss: 88.450\n",
      "[1, 0] loss: 88.846\n",
      "[2, test] loss: 31.834\n",
      "[2, 0] loss: 30.109\n",
      "[3, test] loss: 27.759\n",
      "[3, 0] loss: 28.155\n",
      "[4, test] loss: 26.129\n",
      "[4, 0] loss: 27.129\n",
      "[5, test] loss: 25.488\n",
      "[5, 0] loss: 25.392\n"
     ]
    }
   ],
   "source": [
    "bottleneck_sizes = [2, 5, 10, 50]\n",
    "autoencoders = {}\n",
    "min_loss = float(\"inf\")\n",
    "for bottleneck_size in bottleneck_sizes:\n",
    "    training_loss = []    # Here we save the training process.\n",
    "    validation_loss = []  # And here the validation loss after each epoch\n",
    "\n",
    "    print(\"*\"*15 + f\"Autoencoder bottleneck size {bottleneck_size}\" + \"*\"*15)\n",
    "  \n",
    "    autoencoder = ConvolutionalAutoencoderReducedLatentDim(\n",
    "        input_shape=(28, 28),\n",
    "        n_blocks=2,\n",
    "        downsampling_method='max-pooling',\n",
    "        upsampling_method='nearest',\n",
    "        layers_per_block=2,\n",
    "        latent_dimensionality=bottleneck_size\n",
    "    ).to(device)\n",
    "    adam = torch.optim.Adam(autoencoder.parameters(), lr=0.001)\n",
    "\n",
    "    for epoch in range(EPOCHS_AUTOENCODER):\n",
    "        autoencoder.eval()\n",
    "        with torch.no_grad():\n",
    "            loss = test(autoencoder, val_dataloader, mse, epoch, validation_loss)\n",
    "        if loss < min_loss:\n",
    "            torch.save({'encoder': autoencoder.encoder.state_dict(),\n",
    "                        'bottleneck_size': bottleneck_size}, 'encoder.pt')\n",
    "        autoencoder.train()\n",
    "        train(autoencoder, train_dataloader, mse, adam, epoch, training_loss, 500)\n",
    "        \n",
    "        # if early_stopping(validation_loss):\n",
    "        #     break\n",
    "\n",
    "    autoencoder.eval()\n",
    "    with torch.no_grad():\n",
    "        test(autoencoder, val_dataloader, mse, epoch, validation_loss)\n",
    "    autoencoders[f\"bottleneck_{bottleneck_size}\"] = {\"val_loss\": validation_loss, \"model\": autoencoder}"
   ]
  },
  {
   "cell_type": "code",
   "execution_count": null,
   "metadata": {
    "colab": {
     "base_uri": "https://localhost:8080/",
     "height": 279
    },
    "colab_type": "code",
    "id": "ySmvQV1_PQML",
    "outputId": "d1c46b9c-2c76-423b-a940-d0b57f50c2e5"
   },
   "outputs": [],
   "source": [
    "plt.figure()\n",
    "for bottleneck_size in autoencoders:\n",
    "    plt.plot(autoencoders[bottleneck_size][\"val_loss\"], label=bottleneck_size.replace(\"_\", \"=\"))\n",
    "plt.xlabel('epoch')\n",
    "plt.ylabel('MSE')\n",
    "plt.legend();"
   ]
  },
  {
   "cell_type": "markdown",
   "metadata": {
    "colab_type": "text",
    "id": "YUdfmbcuEoh-"
   },
   "source": [
    "### Average image reconstruction loss"
   ]
  },
  {
   "cell_type": "markdown",
   "metadata": {
    "colab_type": "text",
    "id": "CRodHIYQEoh_"
   },
   "source": [
    "This section presents the average image reconstruction loss for the different autoencoders from previous section."
   ]
  },
  {
   "cell_type": "code",
   "execution_count": null,
   "metadata": {
    "colab": {},
    "colab_type": "code",
    "id": "AWw5Pz6hEoiA"
   },
   "outputs": [],
   "source": [
    "def get_num_parameters(model):\n",
    "    return sum([p.numel() for p in model.parameters() if p.requires_grad])\n",
    "\n",
    "def get_avg_image_reconstruction_loss(model, dataloader, criterion):\n",
    "    loss = 0\n",
    "    total = 0\n",
    "    for batch in dataloader:\n",
    "        images = batch[0].to(device)\n",
    "        reconstructed = model(images)\n",
    "        loss += criterion(reconstructed, images).item()\n",
    "        total += images.shape[0]\n",
    "\n",
    "    mean_loss = loss / total\n",
    "    return mean_loss"
   ]
  },
  {
   "cell_type": "code",
   "execution_count": null,
   "metadata": {
    "colab": {
     "base_uri": "https://localhost:8080/",
     "height": 153
    },
    "colab_type": "code",
    "id": "7m-KrRnwEoiC",
    "outputId": "9d793e94-bf57-4a91-b683-4d45ceaf2478"
   },
   "outputs": [],
   "source": [
    "tbl = PrettyTable()\n",
    "tbl.field_names = [\"Model\", \"Number of parameters\", \"Validation loss\", \"Test loss\"]\n",
    "for model_name, model_info in autoencoders.items():\n",
    "    autoencoder = model_info[\"model\"]\n",
    "    num_params = get_num_parameters(autoencoder)\n",
    "    val_loss = get_avg_image_reconstruction_loss(autoencoder, val_dataloader, mse)\n",
    "    test_loss = get_avg_image_reconstruction_loss(autoencoder, test_dataloader, mse)\n",
    "    tbl.add_row([model_name, num_params, val_loss, test_loss])\n",
    "\n",
    "print(tbl)"
   ]
  },
  {
   "cell_type": "markdown",
   "metadata": {
    "colab_type": "text",
    "id": "yA_kBSDuEoiF"
   },
   "source": [
    "Generating random images taking 5 elements from the test set."
   ]
  },
  {
   "cell_type": "code",
   "execution_count": null,
   "metadata": {
    "colab": {
     "base_uri": "https://localhost:8080/",
     "height": 1000
    },
    "colab_type": "code",
    "id": "cJEtvBU5EoiF",
    "outputId": "9a1be508-cdb0-4da6-8256-751c19b75450"
   },
   "outputs": [],
   "source": [
    "autoencoder = autoencoders[\"bottleneck_50\"][\"model\"]\n",
    "random_indexes = [randint(0,len(test_dataloader)) for _ in range(5)]\n",
    "for index in random_indexes:\n",
    "    plt.figure()\n",
    "    show_image(mnist_test[index][0], autoencoder)"
   ]
  },
  {
   "cell_type": "markdown",
   "metadata": {
    "colab_type": "text",
    "id": "9LXq7cHWEoiI"
   },
   "source": [
    "Presenting 5 random generated images to the autoencoder."
   ]
  },
  {
   "cell_type": "code",
   "execution_count": null,
   "metadata": {
    "colab": {},
    "colab_type": "code",
    "id": "yNrIKhXZHSb7"
   },
   "outputs": [],
   "source": [
    "def generate_image():\n",
    "    noise = torch.randn((1, 50)).to(device)\n",
    "    generated = autoencoder.convolutional_decoder(autoencoder.linear_decoder(noise).view((1,) + autoencoder.encoder_output_shape))\n",
    "    plt.imshow(generated.squeeze().detach().cpu().numpy(), cmap='gray')\n"
   ]
  },
  {
   "cell_type": "code",
   "execution_count": null,
   "metadata": {
    "colab": {
     "base_uri": "https://localhost:8080/",
     "height": 1000
    },
    "colab_type": "code",
    "id": "6N-oELrGEoiI",
    "outputId": "462e1394-7efe-4d30-dcde-8016e6784ec4",
    "pycharm": {
     "name": "#%%\n"
    }
   },
   "outputs": [],
   "source": [
    "for _ in range(5):\n",
    "    plt.figure()\n",
    "    generate_image()"
   ]
  },
  {
   "cell_type": "markdown",
   "metadata": {
    "colab_type": "text",
    "id": "04ODN1xHIHEL"
   },
   "source": [
    "# Exercise 2: Transfer Learning\n",
    "\n",
    "## Steps:\n",
    "\n",
    "1. Select a subset of 100 images and their associated labels from the MNIST training data.\n",
    "2. Select one of the previously trained autoencoders.\n",
    "3. Create a digit (0-9) classification model reusing the encoder of the autoencoder and adding the needed fully connected (projection) layer.\n",
    "3. Pretraining: use the weights of the autoencoder as initial values for the network weights and train a classification model on the subset of 100 samples.\n",
    "4. Fine-tuning: do the same, but train the new projection layer with a normal learning rate and the reused part with a very low learning rate.\n",
    "5. From scratch: train the model on the 100 samples without reusing the decoder weights at all.\n",
    "6. Show the accuracy of the four models on the MNIST test set in a table.\n"
   ]
  },
  {
   "cell_type": "markdown",
   "metadata": {
    "colab_type": "text",
    "id": "__skvBbtjABn",
    "pycharm": {
     "name": "#%% md\n"
    }
   },
   "source": [
    "## Pretraining"
   ]
  },
  {
   "cell_type": "markdown",
   "metadata": {
    "colab_type": "text",
    "id": "v0jvg9aSh70E"
   },
   "source": [
    "We don't need to define a softmax layer, as the `CrossEntropyLoss` class internally applies it."
   ]
  },
  {
   "cell_type": "code",
   "execution_count": null,
   "metadata": {
    "colab": {},
    "colab_type": "code",
    "id": "A6AdTRqxEoiP"
   },
   "outputs": [],
   "source": [
    "# Load saved autoencoder training checkpoint.\n",
    "autoencoder_checkpoint = torch.load('encoder.pt')\n",
    "bottleneck_size = autoencoder_checkpoint['bottleneck_size']\n",
    "encoder = ConvolutionalAutoencoderReducedLatentDim(\n",
    "    input_shape=(28, 28),\n",
    "    n_blocks=2,\n",
    "    downsampling_method='max-pooling',\n",
    "    upsampling_method='nearest',\n",
    "    layers_per_block=2,\n",
    "    latent_dimensionality=bottleneck_size\n",
    ").encoder.to(device)\n",
    "encoder.load_state_dict(autoencoder_checkpoint['encoder'])\n",
    "\n",
    "# Define classification layer.\n",
    "classifier = torch.nn.Linear(bottleneck_size, 10).to(device)"
   ]
  },
  {
   "cell_type": "markdown",
   "metadata": {
    "colab_type": "text",
    "id": "qqvqjkE5h2jR"
   },
   "source": [
    "We use the cross-entropy as our loss function and Adam as our optimization algorithm with a learning rate of 0.01."
   ]
  },
  {
   "cell_type": "code",
   "execution_count": null,
   "metadata": {
    "colab": {},
    "colab_type": "code",
    "id": "adq2d7EnJaW5"
   },
   "outputs": [],
   "source": [
    "cross_entropy = torch.nn.CrossEntropyLoss()\n",
    "optimizer_adam = torch.optim.Adam(classifier.parameters(), lr=0.01)"
   ]
  },
  {
   "cell_type": "markdown",
   "metadata": {
    "colab_type": "text",
    "id": "GyA7pTDyiZH8"
   },
   "source": [
    "We create a subset dataset using the pytorch's `Subset` class with the first 100 samples from the training split."
   ]
  },
  {
   "cell_type": "code",
   "execution_count": null,
   "metadata": {
    "colab": {},
    "colab_type": "code",
    "id": "M8UWsjOhJqKN"
   },
   "outputs": [],
   "source": [
    "training_subset = torch.utils.data.Subset(mnist_train, range(100))\n",
    "subset_dataloader = torch.utils.data.DataLoader(training_subset,\n",
    "                                                batch_size=BATCH_SIZE,\n",
    "                                                shuffle=True,\n",
    "                                                num_workers=4)"
   ]
  },
  {
   "cell_type": "markdown",
   "metadata": {
    "colab_type": "text",
    "id": "xrkIqayBiubF"
   },
   "source": [
    "Define our `classification_train` function that will be called at each epoch. The function takes the classifier network as well as the encoder network. It first projects the input image to the latent space and then applies the classification layer.\n",
    "\n",
    "The output of the encoder is detached so the gradients are not computed (because we dont need them)."
   ]
  },
  {
   "cell_type": "code",
   "execution_count": null,
   "metadata": {
    "colab": {},
    "colab_type": "code",
    "id": "UWTRqkZ6MEgf"
   },
   "outputs": [],
   "source": [
    "def classification_train(classifier, encoder, dataloader, criterion, optimizer, epoch, loss_history):\n",
    "    for i, (images, labels) in enumerate(dataloader):\n",
    "        images, labels = images.to(device), labels.to(device, torch.long)\n",
    "        optimizer.zero_grad()\n",
    "        # To latent space.\n",
    "        codes = encoder(images).detach()\n",
    "        # Classify from latent space.\n",
    "        outputs = classifier(codes)\n",
    "        loss = criterion(outputs, labels)\n",
    "        loss.backward()   # Backprop.\n",
    "        optimizer.step()  # Parameter updates.\n",
    "\n",
    "        loss_history.append(loss.item())\n",
    "        print('[%d, %d] loss: %.3f' % (epoch + 1, i, loss.item()))"
   ]
  },
  {
   "cell_type": "markdown",
   "metadata": {
    "colab_type": "text",
    "id": "BL_Pz6KhizE8"
   },
   "source": [
    "Very similar to the `classification_train` function, we define our `classification_test` function to validate. In this case we don't backpropagate and update our parameters. We also compute the accuracy by summing all the correct predictions and dividing by the total number of images."
   ]
  },
  {
   "cell_type": "code",
   "execution_count": null,
   "metadata": {
    "colab": {},
    "colab_type": "code",
    "id": "nv5E5Xc6QiKV"
   },
   "outputs": [],
   "source": [
    "def classification_test(classifier, encoder, dataloader, criterion, epoch, loss_history):\n",
    "    loss = 0\n",
    "    total = 0\n",
    "    correct = 0\n",
    "    for i, (images, labels) in enumerate(dataloader):\n",
    "        images, labels = images.to(device), labels.to(device, torch.long)\n",
    "        codes = encoder(images)\n",
    "        outputs = classifier(codes)\n",
    "        loss += criterion(outputs, labels).item()\n",
    "        # Compute average accuracy.\n",
    "        _, predicted = torch.max(outputs.data, 1)\n",
    "        total += labels.size(0)\n",
    "        correct += (predicted == labels).sum().item()\n",
    "\n",
    "    mean_loss = loss / (i + 1)\n",
    "    acc = 100 * correct / total\n",
    "    loss_history.append(mean_loss)  \n",
    "    print('[%d, test] loss: %.3f accuracy: %.3f' % (epoch + 1, mean_loss, acc))\n",
    "    return mean_loss, acc"
   ]
  },
  {
   "cell_type": "markdown",
   "metadata": {
    "colab_type": "text",
    "id": "fub5vuTJkmGN"
   },
   "source": [
    "We pass the `encoder` submodule of the `autoencoder` object as the `encoder` parameter of the above-defined functions."
   ]
  },
  {
   "cell_type": "code",
   "execution_count": null,
   "metadata": {
    "colab": {
     "base_uri": "https://localhost:8080/",
     "height": 714
    },
    "colab_type": "code",
    "id": "Tx50jNQdNaoX",
    "outputId": "499335b3-549a-4393-ff1c-2d9a0314576b"
   },
   "outputs": [],
   "source": [
    "pretraining_training_loss = []\n",
    "pretraining_validation_loss = []  # Here we save the training process.\n",
    "min_loss = float('inf')\n",
    "\n",
    "for epoch in range(EPOCHS_PRETRAINING):\n",
    "    classifier.eval()\n",
    "    with torch.no_grad():\n",
    "        loss, _ = classification_test(classifier, encoder, val_dataloader, cross_entropy, epoch, pretraining_validation_loss)\n",
    "        if loss < min_loss:\n",
    "            min_loss = loss\n",
    "            torch.save({'classifier': classifier.state_dict(),\n",
    "                        'encoder': encoder.state_dict()},\n",
    "                       'best_pretrain.pt')\n",
    "    classifier.train()\n",
    "    classification_train(classifier, encoder, subset_dataloader, cross_entropy, optimizer_adam, epoch, pretraining_training_loss)\n",
    "\n",
    "classifier.eval()\n",
    "with torch.no_grad():\n",
    "    loss, _ = classification_test(classifier, encoder, val_dataloader, cross_entropy, epoch, pretraining_validation_loss)\n",
    "    if loss < min_loss:\n",
    "            min_loss = loss\n",
    "            torch.save({'classifier': classifier.state_dict(),\n",
    "                        'encoder': encoder.state_dict()},\n",
    "                       'best_pretrain.pt')"
   ]
  },
  {
   "cell_type": "code",
   "execution_count": null,
   "metadata": {
    "colab": {
     "base_uri": "https://localhost:8080/",
     "height": 295
    },
    "colab_type": "code",
    "id": "3g7sNGZChB9G",
    "outputId": "d67495b9-233e-41dc-83d1-be793e1bba4f"
   },
   "outputs": [],
   "source": [
    "plt.title('Pretraining classification loss curves')\n",
    "plt.plot(pretraining_training_loss, label='training loss')\n",
    "plt.plot(np.linspace(0, len(pretraining_training_loss), len(pretraining_validation_loss)), pretraining_validation_loss, '-x', label='validation loss')\n",
    "plt.xlabel('iteration')\n",
    "plt.ylabel('cross entropy')\n",
    "plt.legend();"
   ]
  },
  {
   "cell_type": "code",
   "execution_count": null,
   "metadata": {
    "colab": {},
    "colab_type": "code",
    "id": "f8HSHSVvRmjS"
   },
   "outputs": [],
   "source": [
    "test_dataloader = torch.utils.data.DataLoader(mnist_test, batch_size=BATCH_SIZE)"
   ]
  },
  {
   "cell_type": "code",
   "execution_count": null,
   "metadata": {
    "colab": {
     "base_uri": "https://localhost:8080/",
     "height": 34
    },
    "colab_type": "code",
    "id": "B2dNc7aeap_8",
    "outputId": "5d4b550f-ccc5-44bf-a995-fb47f7214af0"
   },
   "outputs": [],
   "source": [
    "classification_test(classifier, encoder, test_dataloader, cross_entropy, epoch, []);"
   ]
  },
  {
   "cell_type": "markdown",
   "metadata": {
    "colab_type": "text",
    "id": "27T_v5UkjACE"
   },
   "source": [
    "## Pretrain + Fine-tuning"
   ]
  },
  {
   "cell_type": "markdown",
   "metadata": {
    "colab_type": "text",
    "id": "BZgsgSfHmYWH"
   },
   "source": [
    "We modify the optimizer in order to have different learning rates for the encoder and the classifier.\n",
    "\n",
    "The `classification_test` function doesn't need to be modified."
   ]
  },
  {
   "cell_type": "markdown",
   "metadata": {
    "colab_type": "text",
    "id": "JZUYo_X3m9D3"
   },
   "source": [
    "We define a new Adam optimizer for the encoder network with a small learning rate of 0.0001. The classification network optimizer is reused."
   ]
  },
  {
   "cell_type": "code",
   "execution_count": null,
   "metadata": {
    "colab": {},
    "colab_type": "code",
    "id": "-PPua7XNEoiy"
   },
   "outputs": [],
   "source": [
    "optimizer_adam = torch.optim.Adam([\n",
    "    {\"params\": classifier.parameters()},\n",
    "    {\"params\": encoder.parameters(), \"lr\":0.0001}\n",
    "])"
   ]
  },
  {
   "cell_type": "markdown",
   "metadata": {
    "colab_type": "text",
    "id": "lxBX3gRtnOV9"
   },
   "source": [
    "Note that we don't redefine the `training_loss` and `validation_loss` list, so they will have the values of the pretraining stage too."
   ]
  },
  {
   "cell_type": "code",
   "execution_count": null,
   "metadata": {
    "colab": {
     "base_uri": "https://localhost:8080/",
     "height": 714
    },
    "colab_type": "code",
    "id": "RdqDkdgwjACN",
    "outputId": "060208e4-242e-40e5-b611-e047ba9f7b27"
   },
   "outputs": [],
   "source": [
    "min_loss = float('inf')\n",
    "\n",
    "for epoch in range(EPOCHS_FINETUNING):\n",
    "    classifier.eval()\n",
    "    encoder.eval()\n",
    "    with torch.no_grad():\n",
    "        loss, _ = classification_test(classifier, encoder, val_dataloader, cross_entropy, epoch, pretraining_validation_loss)\n",
    "        if loss < min_loss:\n",
    "            min_loss = loss\n",
    "            torch.save({'classifier': classifier.state_dict(),\n",
    "                        'encoder': encoder.state_dict()},\n",
    "                       'best_pretraining+fine-tuning.pt')\n",
    "    classifier.train()\n",
    "    encoder.train()\n",
    "    classification_train(classifier, encoder, subset_dataloader,\n",
    "                         cross_entropy, optimizer_adam, epoch, pretraining_training_loss)\n",
    "\n",
    "classifier.eval()\n",
    "encoder.eval()\n",
    "with torch.no_grad():\n",
    "    loss, _ = classification_test(classifier, encoder, val_dataloader, cross_entropy, epoch, pretraining_validation_loss)\n",
    "    if loss < min_loss:\n",
    "            min_loss = loss\n",
    "            torch.save({'classifier': classifier.state_dict(),\n",
    "                        'encoder': encoder.state_dict()},\n",
    "                       'best_pretraining+fine-tuning.pt')"
   ]
  },
  {
   "cell_type": "code",
   "execution_count": null,
   "metadata": {
    "colab": {
     "base_uri": "https://localhost:8080/",
     "height": 295
    },
    "colab_type": "code",
    "id": "ge4JD9dpaYXZ",
    "outputId": "52817669-9ad4-4b6b-fb51-ab3af70ae609"
   },
   "outputs": [],
   "source": [
    "plt.title('Fine-tunning classification loss curves')\n",
    "plt.plot(pretraining_training_loss, label='training loss')\n",
    "plt.plot(np.linspace(0, len(pretraining_training_loss), len(pretraining_validation_loss)), pretraining_validation_loss, '-x', label='validation loss')\n",
    "plt.xlabel('iteration')\n",
    "plt.ylabel('cross entropy')\n",
    "plt.legend();"
   ]
  },
  {
   "cell_type": "code",
   "execution_count": null,
   "metadata": {
    "colab": {
     "base_uri": "https://localhost:8080/",
     "height": 34
    },
    "colab_type": "code",
    "id": "zMB42WyHPNmA",
    "outputId": "02c1a40d-0633-45bf-a4ef-83aff389c702"
   },
   "outputs": [],
   "source": [
    "classification_test(classifier, encoder, test_dataloader, cross_entropy, epoch, []);"
   ]
  },
  {
   "cell_type": "markdown",
   "metadata": {
    "colab_type": "text",
    "id": "6bOuf5XxEoi6"
   },
   "source": [
    "## Fine-tuning"
   ]
  },
  {
   "cell_type": "code",
   "execution_count": null,
   "metadata": {
    "colab": {},
    "colab_type": "code",
    "id": "thwBf-MrEoi7"
   },
   "outputs": [],
   "source": [
    "encoder = ConvolutionalAutoencoderReducedLatentDim(\n",
    "    input_shape=(28, 28),\n",
    "    n_blocks=2,\n",
    "    downsampling_method='max-pooling',\n",
    "    upsampling_method='nearest',\n",
    "    layers_per_block=2,\n",
    "    latent_dimensionality=bottleneck_size\n",
    ").encoder.to(device)\n",
    "encoder.load_state_dict(autoencoder_checkpoint[\"encoder\"])\n",
    "# Define classification layer.\n",
    "classifier = torch.nn.Linear(bottleneck_size, 10).to(device)"
   ]
  },
  {
   "cell_type": "code",
   "execution_count": null,
   "metadata": {
    "colab": {},
    "colab_type": "code",
    "id": "R7dpDhjUMbx0"
   },
   "outputs": [],
   "source": [
    "optimizer_adam = torch.optim.Adam([\n",
    "    {'params': classifier.parameters(), 'lr': 1e-2},\n",
    "    {'params': encoder.parameters(), 'lr': 1e-5}\n",
    "], lr=1e-3)"
   ]
  },
  {
   "cell_type": "code",
   "execution_count": null,
   "metadata": {
    "colab": {
     "base_uri": "https://localhost:8080/",
     "height": 1000
    },
    "colab_type": "code",
    "id": "77x5A8L9Eoi8",
    "outputId": "7fdbbfeb-3e3f-45da-9e5e-0244c2245cf0",
    "scrolled": true
   },
   "outputs": [],
   "source": [
    "finetuning_training_loss = []\n",
    "finetuning_validation_loss = []\n",
    "min_loss = float('inf')\n",
    "\n",
    "for epoch in range(EPOCHS_PRETRAINING + EPOCHS_FINETUNING):\n",
    "    classifier.eval()\n",
    "    encoder.eval()\n",
    "    with torch.no_grad():\n",
    "        loss, _ = classification_test(classifier, encoder, val_dataloader, cross_entropy, epoch, finetuning_validation_loss)\n",
    "        if loss < min_loss:\n",
    "            min_loss = loss\n",
    "            torch.save({'classifier': classifier.state_dict(),\n",
    "                        'encoder': encoder.state_dict()},\n",
    "                       'best_fine-tuning.pt')\n",
    "    classifier.train()\n",
    "    encoder.train()\n",
    "    classification_train(classifier, encoder, subset_dataloader,\n",
    "                         cross_entropy, optimizer_adam, epoch, finetuning_training_loss)\n",
    "\n",
    "classifier.eval()\n",
    "encoder.eval()\n",
    "with torch.no_grad():\n",
    "    loss, _ = classification_test(classifier, encoder, val_dataloader, cross_entropy, epoch, finetuning_validation_loss)\n",
    "    if loss < min_loss:\n",
    "            min_loss = loss\n",
    "            torch.save({'classifier': classifier.state_dict(),\n",
    "                        'encoder': encoder.state_dict()},\n",
    "                       'best_fine-tuning.pt')"
   ]
  },
  {
   "cell_type": "code",
   "execution_count": null,
   "metadata": {
    "colab": {
     "base_uri": "https://localhost:8080/",
     "height": 295
    },
    "colab_type": "code",
    "id": "ALjFferxPcR4",
    "outputId": "bfaa18f9-b1dc-4697-e784-25cf3d5dd59e"
   },
   "outputs": [],
   "source": [
    "plt.title('Fine-tunning classification loss curves')\n",
    "plt.plot(finetuning_training_loss, label='training loss')\n",
    "plt.plot(np.linspace(0, len(finetuning_training_loss), len(finetuning_validation_loss)), finetuning_validation_loss, '-x', label='validation loss')\n",
    "plt.xlabel('iteration')\n",
    "plt.ylabel('cross entropy')\n",
    "plt.legend();"
   ]
  },
  {
   "cell_type": "markdown",
   "metadata": {
    "colab_type": "text",
    "id": "3mVz45k1PWee"
   },
   "source": [
    "## From scratch"
   ]
  },
  {
   "cell_type": "code",
   "execution_count": null,
   "metadata": {
    "colab": {},
    "colab_type": "code",
    "id": "n8s58B_XoSis"
   },
   "outputs": [],
   "source": [
    "new_autoencoder = ConvolutionalAutoencoderReducedLatentDim(\n",
    "    input_shape=(28, 28),\n",
    "    n_blocks=2,\n",
    "    downsampling_method='max-pooling',\n",
    "    upsampling_method='nearest',\n",
    "    layers_per_block=2,\n",
    "    latent_dimensionality=50\n",
    ").to(device)\n",
    "\n",
    "new_classifier = torch.nn.Sequential(\n",
    "    new_autoencoder.encoder,\n",
    "    torch.nn.Linear(50, 10)\n",
    ").to(device)"
   ]
  },
  {
   "cell_type": "code",
   "execution_count": null,
   "metadata": {
    "colab": {},
    "colab_type": "code",
    "id": "4DjdCLKOPqBJ"
   },
   "outputs": [],
   "source": [
    "def new_classification_train(classifier, dataloader, criterion, classifier_optimizer, epoch, loss_history):\n",
    "    for i, (images, labels) in enumerate(dataloader):\n",
    "        images, labels = images.to(device), labels.to(device, torch.long)\n",
    "        classifier_optimizer.zero_grad()\n",
    "        # To latent space + Classify from latent space.\n",
    "        outputs = classifier(images)\n",
    "        loss = criterion(outputs, labels)\n",
    "        loss.backward()              # Backprop.\n",
    "        classifier_optimizer.step()  # Update parameters.\n",
    "\n",
    "        loss_history.append(loss.item())\n",
    "        print('[%d, %d] loss: %.3f' % (epoch + 1, i, loss.item()))"
   ]
  },
  {
   "cell_type": "code",
   "execution_count": null,
   "metadata": {
    "colab": {},
    "colab_type": "code",
    "id": "gJnplDxAQCJQ"
   },
   "outputs": [],
   "source": [
    "def new_classification_test(classifier, dataloader, criterion, epoch, loss_history):\n",
    "    loss = 0\n",
    "    total = 0\n",
    "    correct = 0\n",
    "    for i, (images, labels) in enumerate(dataloader):\n",
    "        images, labels = images.to(device), labels.to(device, torch.long)\n",
    "        outputs = classifier(images)\n",
    "        loss += criterion(outputs, labels).item()\n",
    "        # Compute average accuracy.\n",
    "        _, predicted = torch.max(outputs.data, 1)\n",
    "        total += labels.size(0)\n",
    "        correct += (predicted == labels).sum().item()\n",
    "\n",
    "    mean_loss = loss / (i + 1)\n",
    "    acc = 100 * correct / total\n",
    "    loss_history.append(mean_loss)  \n",
    "    print('[%d, validation] loss: %.3f accuracy: %.3f' % (epoch + 1, mean_loss, acc))\n",
    "    return mean_loss, acc"
   ]
  },
  {
   "cell_type": "code",
   "execution_count": null,
   "metadata": {
    "colab": {},
    "colab_type": "code",
    "id": "iHljTyDkQINO"
   },
   "outputs": [],
   "source": [
    "cross_entropy = torch.nn.CrossEntropyLoss()\n",
    "new_classifier_adam = torch.optim.Adam(new_classifier.parameters(), lr=0.001)"
   ]
  },
  {
   "cell_type": "code",
   "execution_count": null,
   "metadata": {
    "colab": {
     "base_uri": "https://localhost:8080/",
     "height": 1000
    },
    "colab_type": "code",
    "id": "Po-AZQH0QSsc",
    "outputId": "32a9f711-1dc0-476d-da13-53d5b1a98407"
   },
   "outputs": [],
   "source": [
    "new_training_loss = []\n",
    "new_validation_loss = []\n",
    "min_loss = float('inf')\n",
    "\n",
    "for epoch in range(EPOCHS_AUTOENCODER + EPOCHS_PRETRAINING + EPOCHS_FINETUNING):\n",
    "    new_classifier.eval()\n",
    "    with torch.no_grad():\n",
    "        loss, _ = new_classification_test(new_classifier, val_dataloader, cross_entropy, epoch, new_validation_loss)\n",
    "        if loss < min_loss:\n",
    "            min_loss = loss\n",
    "            torch.save(new_classifier.state_dict(), 'best_from-scratch.pt')\n",
    "    new_classifier.train()\n",
    "    new_classification_train(new_classifier, subset_dataloader,\n",
    "                         cross_entropy, new_classifier_adam, epoch, new_training_loss)\n",
    "\n",
    "new_classifier.eval()\n",
    "with torch.no_grad():\n",
    "    loss, _ = new_classification_test(new_classifier, val_dataloader, cross_entropy, epoch, new_validation_loss)\n",
    "    if loss < min_loss:\n",
    "        min_loss = loss\n",
    "        torch.save(new_classifier.state_dict(), 'best_from-scratch.pt')"
   ]
  },
  {
   "cell_type": "code",
   "execution_count": null,
   "metadata": {
    "colab": {
     "base_uri": "https://localhost:8080/",
     "height": 295
    },
    "colab_type": "code",
    "id": "q1sJt-axRznj",
    "outputId": "6361785f-8d52-4fd5-fbb9-152d69705263",
    "scrolled": true
   },
   "outputs": [],
   "source": [
    "plt.title('From scratch classification loss curves')\n",
    "plt.plot(new_training_loss, label='training loss')\n",
    "plt.plot(np.linspace(0, len(new_training_loss), len(new_validation_loss)), new_validation_loss, '-x', label='validation loss')\n",
    "plt.xlabel('iteration')\n",
    "plt.ylabel('cross entropy')\n",
    "plt.legend();"
   ]
  },
  {
   "cell_type": "markdown",
   "metadata": {
    "colab_type": "text",
    "id": "lWd8_HtUSguK"
   },
   "source": [
    "This learning curves show clear symptoms of overfitting."
   ]
  },
  {
   "cell_type": "code",
   "execution_count": null,
   "metadata": {
    "colab": {
     "base_uri": "https://localhost:8080/",
     "height": 34
    },
    "colab_type": "code",
    "id": "f9GyHMWoRDjZ",
    "outputId": "aace7fdd-8cce-4684-f866-998cebff1e2a"
   },
   "outputs": [],
   "source": [
    "new_classification_test(new_classifier, test_dataloader, cross_entropy, epoch, []);"
   ]
  },
  {
   "cell_type": "markdown",
   "metadata": {
    "colab_type": "text",
    "id": "IAs0TTL4VXcM"
   },
   "source": [
    "## Comparison"
   ]
  },
  {
   "cell_type": "markdown",
   "metadata": {
    "colab_type": "text",
    "id": "NSHVbYMIcWKi"
   },
   "source": [
    "Load best models (early-stopping)."
   ]
  },
  {
   "cell_type": "code",
   "execution_count": null,
   "metadata": {
    "colab": {},
    "colab_type": "code",
    "id": "_-Mvz-UgVZ0j",
    "pycharm": {
     "name": "#%%\n"
    }
   },
   "outputs": [],
   "source": [
    "autoencoder_pretrain = ConvolutionalAutoencoderReducedLatentDim(\n",
    "    input_shape=(28, 28),\n",
    "    n_blocks=2,\n",
    "    downsampling_method='max-pooling',\n",
    "    upsampling_method='nearest',\n",
    "    layers_per_block=2,\n",
    "    latent_dimensionality=bottleneck_size\n",
    ").to(device)\n",
    "classifier_pretrain = torch.nn.Linear(bottleneck_size, 10).to(device)\n",
    "\n",
    "pretrain_checkpoint = torch.load('best_pretrain.pt')\n",
    "autoencoder_pretrain.encoder.load_state_dict(pretrain_checkpoint['encoder'])\n",
    "classifier_pretrain.load_state_dict(pretrain_checkpoint['classifier'])\n",
    "\n",
    "autoencoder_finetuning = ConvolutionalAutoencoderReducedLatentDim(\n",
    "    input_shape=(28, 28),\n",
    "    n_blocks=2,\n",
    "    downsampling_method='max-pooling',\n",
    "    upsampling_method='nearest',\n",
    "    layers_per_block=2,\n",
    "    latent_dimensionality=bottleneck_size\n",
    ").to(device)\n",
    "classifier_finetuning = torch.nn.Linear(bottleneck_size, 10).to(device)\n",
    "\n",
    "finetuning_checkpoint = torch.load('best_fine-tuning.pt')\n",
    "autoencoder_finetuning.encoder.load_state_dict(finetuning_checkpoint['encoder'])\n",
    "classifier_finetuning.load_state_dict(finetuning_checkpoint['classifier'])\n",
    "\n",
    "autoencoder_pretrain_finetuning = ConvolutionalAutoencoderReducedLatentDim(\n",
    "    input_shape=(28, 28),\n",
    "    n_blocks=2,\n",
    "    downsampling_method='max-pooling',\n",
    "    upsampling_method='nearest',\n",
    "    layers_per_block=2,\n",
    "    latent_dimensionality=bottleneck_size\n",
    ").to(device)\n",
    "classifier_pretrain_finetuning= torch.nn.Linear(bottleneck_size, 10).to(device)\n",
    "\n",
    "pretrain_finetuning_checkpoint = torch.load('best_pretraining+fine-tuning.pt')\n",
    "autoencoder_pretrain_finetuning.encoder.load_state_dict(pretrain_finetuning_checkpoint['encoder'])\n",
    "classifier_pretrain_finetuning.load_state_dict(pretrain_finetuning_checkpoint['classifier'])\n",
    "\n",
    "autoencoder_fromscratch = ConvolutionalAutoencoderReducedLatentDim(\n",
    "    input_shape=(28, 28),\n",
    "    n_blocks=2,\n",
    "    downsampling_method='max-pooling',\n",
    "    upsampling_method='nearest',\n",
    "    layers_per_block=2,\n",
    "    latent_dimensionality=bottleneck_size\n",
    ").to(device)\n",
    "\n",
    "classifier_fromscratch = torch.nn.Sequential(\n",
    "    autoencoder_fromscratch.encoder,\n",
    "    torch.nn.Linear(bottleneck_size, 10)\n",
    ").to(device)\n",
    "\n",
    "classifier_fromscratch.load_state_dict(torch.load('best_from-scratch.pt'));"
   ]
  },
  {
   "cell_type": "markdown",
   "metadata": {
    "colab_type": "text",
    "id": "_llxE7lmcqDZ",
    "pycharm": {
     "name": "#%% md\n"
    }
   },
   "source": [
    "Compare cross entropy loss and accuracy on validation and test sets."
   ]
  },
  {
   "cell_type": "code",
   "execution_count": null,
   "metadata": {
    "colab": {
     "base_uri": "https://localhost:8080/",
     "height": 425
    },
    "colab_type": "code",
    "id": "SIz4O90lcsdK",
    "outputId": "e02adb6e-2144-48b9-d159-b50234a138e2",
    "pycharm": {
     "name": "#%%\n"
    }
   },
   "outputs": [],
   "source": [
    "tbl = PrettyTable()\n",
    "tbl.field_names = [\"model\",\"validation loss\", \"validation acc.\", \"test loss\", \"test acc.\"]\n",
    "pair_models = {\"pretrained\": (classifier_pretrain, autoencoder_pretrain.encoder), \n",
    "               \"pretrain+finetuning\": (classifier_pretrain_finetuning, autoencoder_pretrain_finetuning.encoder),\n",
    "               \"finetuned\": (classifier_finetuning, autoencoder_finetuning.encoder)\n",
    "              }\n",
    "losses = {\"pretrained\": None, \"pretrain+finetuning\": None, \"finetuned\": None, \"scratch\": None}\n",
    "for name, models in pair_models.items():\n",
    "    print(name + \" train:\")\n",
    "    val_loss, val_acc = classification_test(models[0], models[1], val_dataloader, cross_entropy, epoch, [])\n",
    "    print(name + \" test:\")\n",
    "    test_loss, test_acc = classification_test(models[0], models[1], test_dataloader, cross_entropy, epoch, [])\n",
    "    losses[name] = test_loss\n",
    "    tbl.add_row([name,val_loss,val_acc,test_loss,test_acc])\n",
    "\n",
    "print(\"scratch train\")\n",
    "val_loss, val_acc = new_classification_test(classifier_fromscratch, val_dataloader, cross_entropy, epoch, [])\n",
    "print(\"scratch test\")\n",
    "test_loss, test_acc = new_classification_test(classifier_fromscratch, test_dataloader, cross_entropy, epoch, [])\n",
    "losses[\"scratch\"] = test_loss\n",
    "tbl.add_row(\n",
    "    [\"scratch\", val_loss, val_acc, test_loss, test_acc])\n",
    "print(tbl)\n",
    "\n"
   ]
  },
  {
   "cell_type": "code",
   "execution_count": null,
   "metadata": {
    "colab": {
     "base_uri": "https://localhost:8080/",
     "height": 295
    },
    "colab_type": "code",
    "id": "bT6u4qk0EojV",
    "outputId": "9c8f3c12-bd22-42af-a9a9-a5137073303f",
    "scrolled": true
   },
   "outputs": [],
   "source": [
    "models_names = tuple(losses.keys())\n",
    "loss = tuple(losses.values())\n",
    "y_pos = np.arange(len(loss))\n",
    "\n",
    "plt.bar(y_pos, loss, color=(\"r\", \"g\", \"b\", \"y\"))\n",
    "plt.xticks(y_pos, models_names)\n",
    "plt.xlabel(\"Model names\")\n",
    "plt.ylabel(\"Loss\")\n",
    "plt.title(\"Models loss, the lower the better\")\n",
    "plt.show();"
   ]
  },
  {
   "cell_type": "code",
   "execution_count": null,
   "metadata": {
    "colab": {
     "base_uri": "https://localhost:8080/",
     "height": 295
    },
    "colab_type": "code",
    "id": "v-KZMZkkP6tw",
    "outputId": "b647f505-c10d-40ee-bcb2-a5617b6756d3"
   },
   "outputs": [],
   "source": [
    "plt.title('classification loss curves')\n",
    "plt.plot(pretraining_validation_loss, '-x', label='pretraining loss')\n",
    "plt.plot(finetuning_validation_loss, '-o', label='finetuning loss')\n",
    "plt.plot(new_validation_loss, '-+', label='from-scratch loss')\n",
    "plt.xlabel('epoch')\n",
    "plt.ylabel('cross entropy')\n",
    "plt.legend();"
   ]
  },
  {
   "cell_type": "markdown",
   "metadata": {
    "colab_type": "text",
    "id": "nIvHHXWBqZe2"
   },
   "source": [
    "We expected to see a better performance on the model trained with the pretrain+finetuning proceidure, but the model trained from scratch actually performs slightly better on the validation and test set. If the model had more parameters we would expect the model trained from scratch to not generalize on the validation nor test set."
   ]
  },
  {
   "cell_type": "markdown",
   "metadata": {
    "colab_type": "text",
    "id": "Ns7oGWd2EZVY"
   },
   "source": [
    "## Optional Exercise A: Variational Autoencoder\n",
    "\n",
    "Steps:\n",
    "\n",
    "1. Implement an autoencoder like that from Exercise 1, but turning the deterministic bottleneck into a stochastic bottleneck, with an isotropic Gaussian as distribution for the latent variables.\n",
    "2. Train the model optimizing the Evidence Lower Bound (ELBO).\n",
    "3. Generate samples with the decoder and show them.\n"
   ]
  },
  {
   "cell_type": "markdown",
   "metadata": {
    "colab_type": "text",
    "id": "xFiIlaOnOCzC"
   },
   "source": [
    "New class for variational autoencoder based on the previous autoencoder."
   ]
  },
  {
   "cell_type": "code",
   "execution_count": null,
   "metadata": {
    "colab": {},
    "colab_type": "code",
    "id": "2LJFzsBeSC6k"
   },
   "outputs": [],
   "source": [
    "class ConvolutionalVAE(torch.nn.Module):\n",
    "\n",
    "    def __init__(self, input_shape, n_blocks, downsampling_method, upsampling_method,\n",
    "                 layers_per_block=2, latent_dimensionality=50):\n",
    "        super().__init__()\n",
    "        self.n_blocks = n_blocks\n",
    "        self.downsampling_method = downsampling_method\n",
    "        self.upsampling_method = upsampling_method\n",
    "        self.latent_dimensionality = latent_dimensionality\n",
    "\n",
    "        # Encoder: Convolutional blocks + Linear\n",
    "        self.convolutional_encoder = ConvolutionalEncoder(\n",
    "            n_blocks, downsampling_method, layers_per_block=layers_per_block)\n",
    "        self.encoder_output_shape = (self.convolutional_encoder.init_filters * 2 ** (n_blocks - 1),\n",
    "                                     input_shape[0] // 2 ** n_blocks,\n",
    "                                     input_shape[1] // 2 ** n_blocks)\n",
    "        self.mu = torch.nn.Sequential(\n",
    "            torch.nn.Flatten(),\n",
    "            torch.nn.Linear(self.encoder_output_shape[0] * self.encoder_output_shape[1] * self.encoder_output_shape[2],\n",
    "                            latent_dimensionality),\n",
    "        )\n",
    "        self.log_var = torch.nn.Sequential(\n",
    "            torch.nn.Flatten(),\n",
    "            torch.nn.Linear(self.encoder_output_shape[0] * self.encoder_output_shape[1] * self.encoder_output_shape[2],\n",
    "                            latent_dimensionality),\n",
    "        )\n",
    "\n",
    "        # Decoder: Linear + Convolutional blocks\n",
    "        self.linear_decoder = torch.nn.Sequential(\n",
    "            torch.nn.Linear(latent_dimensionality,\n",
    "                            self.encoder_output_shape[0] * self.encoder_output_shape[1] * self.encoder_output_shape[2]),\n",
    "            torch.nn.ReLU()\n",
    "        )\n",
    "        self.convolutional_decoder = ConvolutionalDecoder(\n",
    "            n_blocks, upsampling_method,\n",
    "            self.convolutional_encoder.output_channels, layers_per_block,\n",
    "            activation=\"sigmoid\")\n",
    "\n",
    "    def reparameterize(self, mu, log_var):\n",
    "        std = torch.exp(0.5 * log_var)\n",
    "        return torch.randn_like(std).mul(std).add_(mu)\n",
    "\n",
    "    def forward(self, x):\n",
    "        encoder_output = self.convolutional_encoder(x)\n",
    "        # Get mean and variance.\n",
    "        mu = self.mu(encoder_output)\n",
    "        log_var = self.log_var(encoder_output)\n",
    "        # Sample from a normal distribution of mean mu and variance var.\n",
    "        code = self.reparameterize(mu, log_var)\n",
    "\n",
    "        reconstruction = self.convolutional_decoder(\n",
    "            self.linear_decoder(code).view((-1,) + self.encoder_output_shape))\n",
    "        \n",
    "        # Return reconstruction and mean and variance for the loss computation.  \n",
    "        return reconstruction, mu, log_var"
   ]
  },
  {
   "cell_type": "markdown",
   "metadata": {
    "colab_type": "text",
    "id": "_86btVGNP-e4"
   },
   "source": [
    "Reconstruction + KL divergence losses summed over all elements and batch\n"
   ]
  },
  {
   "cell_type": "code",
   "execution_count": null,
   "metadata": {
    "colab": {},
    "colab_type": "code",
    "id": "ubi766EfQJu0"
   },
   "outputs": [],
   "source": [
    "from torch.nn.functional import binary_cross_entropy"
   ]
  },
  {
   "cell_type": "code",
   "execution_count": null,
   "metadata": {
    "colab": {},
    "colab_type": "code",
    "id": "hJa6GgbZOB4a"
   },
   "outputs": [],
   "source": [
    "def loss_function(recon_x, x, mu, logvar):\n",
    "    BCE = binary_cross_entropy(recon_x.view(-1, 28 * 28), x.view(-1, 28 * 28), reduction='sum')\n",
    "    # see Appendix B from VAE paper:\n",
    "    # Kingma and Welling. Auto-Encoding Variational Bayes. ICLR, 2014\n",
    "    # https://arxiv.org/abs/1312.6114\n",
    "    # 0.5 * sum(1 + log(sigma^2) - mu^2 - sigma^2)\n",
    "    KLD = -0.5 * torch.sum(1 + logvar - mu.pow(2) - logvar.exp())\n",
    "    return BCE + KLD"
   ]
  },
  {
   "cell_type": "code",
   "execution_count": null,
   "metadata": {
    "pycharm": {
     "name": "#%%\n"
    }
   },
   "outputs": [],
   "source": [
    "def train(vae, dataloader, optimizer, epoch, loss_history, log_interval=100):\n",
    "    for i, batch in enumerate(dataloader):\n",
    "        images = batch[0].to(device)\n",
    "        optimizer.zero_grad()\n",
    "        reconstructed, mu, log_var = vae(images)\n",
    "        # Divide by batch size to compute mean image reconstruction error.\n",
    "        loss = loss_function(reconstructed, images, mu, log_var)\n",
    "        loss.backward()   # Backprop.\n",
    "        optimizer.step()  # Parameter updates.\n",
    "\n",
    "        loss_history.append(loss.item())\n",
    "        if i % log_interval == 0:\n",
    "            print('[%d, %d] loss: %.3f' % (epoch + 1, i, loss.item()))\n"
   ]
  },
  {
   "cell_type": "code",
   "execution_count": null,
   "metadata": {
    "pycharm": {
     "name": "#%%\n"
    }
   },
   "outputs": [],
   "source": [
    "vae = ConvolutionalVAE(\n",
    "    input_shape=(28, 28),\n",
    "    n_blocks=2,\n",
    "    downsampling_method='max-pooling',\n",
    "    upsampling_method='nearest',\n",
    "    layers_per_block=2,\n",
    "    latent_dimensionality=50\n",
    ").to(device)\n",
    "\n",
    "adam = torch.optim.Adam(vae.parameters(), lr=0.0001)"
   ]
  },
  {
   "cell_type": "code",
   "execution_count": null,
   "metadata": {
    "pycharm": {
     "name": "#%%\n"
    }
   },
   "outputs": [],
   "source": [
    "training_loss = []    #\n",
    "validation_loss = []  # Here we save the training process.\n",
    "\n",
    "vae.train()\n",
    "for epoch in range(EPOCHS_VAE):\n",
    "    train(vae, train_dataloader, adam, epoch, training_loss)\n",
    "\n",
    "vae.eval();"
   ]
  },
  {
   "cell_type": "code",
   "execution_count": null,
   "metadata": {
    "pycharm": {
     "name": "#%%\n"
    }
   },
   "outputs": [],
   "source": [
    "def generate_image(vae):\n",
    "    noise = torch.randn((1, 50)).to(device)\n",
    "    generated = vae.convolutional_decoder(vae.linear_decoder(noise).view((1,) + vae.encoder_output_shape))\n",
    "    plt.imshow(generated.squeeze().detach().cpu().numpy(), cmap='gray')"
   ]
  },
  {
   "cell_type": "code",
   "execution_count": null,
   "metadata": {
    "pycharm": {
     "name": "#%%\n"
    }
   },
   "outputs": [],
   "source": [
    "for _ in range(5):\n",
    "    plt.figure()\n",
    "    generate_image(vae)\n"
   ]
  },
  {
   "cell_type": "code",
   "execution_count": null,
   "metadata": {
    "colab": {},
    "colab_type": "code",
    "id": "bm5ubKrARmUW"
   },
   "outputs": [],
   "source": []
  },
  {
   "cell_type": "code",
   "execution_count": null,
   "metadata": {
    "colab": {},
    "colab_type": "code",
    "id": "hhlyRO23Eojd"
   },
   "outputs": [],
   "source": [
    "vae = ConvolutionalVAE(\n",
    "    input_shape=(28, 28),\n",
    "    n_blocks=2,\n",
    "    downsampling_method='max-pooling',\n",
    "    upsampling_method='nearest',\n",
    "    layers_per_block=2,\n",
    "    latent_dimensionality=50\n",
    ").to(device)\n",
    "\n",
    "adam = torch.optim.Adam(vae.parameters(), lr=0.0001)"
   ]
  },
  {
   "cell_type": "code",
   "execution_count": null,
   "metadata": {
    "colab": {
     "base_uri": "https://localhost:8080/",
     "height": 1000
    },
    "colab_type": "code",
    "id": "rAOe-6dVRF8d",
    "outputId": "7728af62-bb9c-44e3-c9da-30bbe0f628d8"
   },
   "outputs": [],
   "source": [
    "training_loss = []    #\n",
    "validation_loss = []  # Here we save the training process.\n",
    "\n",
    "vae.train()\n",
    "for epoch in range(EPOCHS_VAE):\n",
    "    train(vae, train_dataloader, adam, epoch, training_loss)\n",
    "\n",
    "vae.eval();"
   ]
  },
  {
   "cell_type": "code",
   "execution_count": null,
   "metadata": {
    "colab": {},
    "colab_type": "code",
    "id": "5qVgx9VbSSOo"
   },
   "outputs": [],
   "source": [
    "def generate_image(vae):\n",
    "    noise = torch.randn((1, 50)).to(device)\n",
    "    generated = vae.convolutional_decoder(vae.linear_decoder(noise).view((1,) + vae.encoder_output_shape))\n",
    "    plt.imshow(generated.squeeze().detach().cpu().numpy(), cmap='gray')"
   ]
  },
  {
   "cell_type": "code",
   "execution_count": null,
   "metadata": {
    "colab": {
     "base_uri": "https://localhost:8080/",
     "height": 1000
    },
    "colab_type": "code",
    "id": "dgM2Upt6Liwt",
    "outputId": "ce0919b3-2569-4f56-c5ec-ce22c984a63c"
   },
   "outputs": [],
   "source": [
    "for _ in range(5):\n",
    "    plt.figure()\n",
    "    generate_image(vae)\n"
   ]
  },
  {
   "cell_type": "code",
   "execution_count": null,
   "metadata": {
    "colab": {},
    "colab_type": "code",
    "id": "z1h4e45LLon2"
   },
   "outputs": [],
   "source": []
  }
 ],
 "metadata": {
  "accelerator": "GPU",
  "colab": {
   "collapsed_sections": [],
   "name": "team08.ipynb",
   "provenance": []
  },
  "kernelspec": {
   "display_name": "Python 3",
   "language": "python",
   "name": "python3"
  },
  "language_info": {
   "codemirror_mode": {
    "name": "ipython",
    "version": 3
   },
   "file_extension": ".py",
   "mimetype": "text/x-python",
   "name": "python",
   "nbconvert_exporter": "python",
   "pygments_lexer": "ipython3",
   "version": "3.6.6"
  },
  "pycharm": {
   "stem_cell": {
    "cell_type": "raw",
    "metadata": {
     "collapsed": false
    },
    "source": []
   }
  }
 },
 "nbformat": 4,
 "nbformat_minor": 1
}
