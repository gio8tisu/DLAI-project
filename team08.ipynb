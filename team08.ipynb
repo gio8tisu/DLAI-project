{
  "nbformat": 4,
  "nbformat_minor": 0,
  "metadata": {
    "accelerator": "GPU",
    "colab": {
      "name": "team08.ipynb",
      "provenance": [],
      "collapsed_sections": []
    },
    "kernelspec": {
      "display_name": "Python 3",
      "language": "python",
      "name": "python3"
    },
    "language_info": {
      "codemirror_mode": {
        "name": "ipython",
        "version": 3
      },
      "file_extension": ".py",
      "mimetype": "text/x-python",
      "name": "python",
      "nbconvert_exporter": "python",
      "pygments_lexer": "ipython3",
      "version": "3.7.4"
    }
  },
  "cells": [
    {
      "cell_type": "code",
      "metadata": {
        "colab_type": "code",
        "id": "FaWaYXG1fIRm",
        "colab": {}
      },
      "source": [
        "import torch\n",
        "import torch.nn\n",
        "import torch.optim\n",
        "import torchvision.datasets\n",
        "import torchvision.transforms\n",
        "import torch.utils.data\n",
        "import matplotlib.pyplot as plt\n",
        "import numpy as np"
      ],
      "execution_count": 0,
      "outputs": []
    },
    {
      "cell_type": "code",
      "metadata": {
        "colab_type": "code",
        "id": "GA4Aiz2Giu5e",
        "colab": {}
      },
      "source": [
        "torch.manual_seed(0)\n",
        "device = 'cuda:0' if torch.cuda.is_available() else 'cpu'"
      ],
      "execution_count": 0,
      "outputs": []
    },
    {
      "cell_type": "code",
      "metadata": {
        "colab_type": "code",
        "id": "-MjS3A1UNFJF",
        "colab": {}
      },
      "source": [
        "BATCH_SIZE = 32\n",
        "EPOCHS = 10"
      ],
      "execution_count": 0,
      "outputs": []
    },
    {
      "cell_type": "markdown",
      "metadata": {
        "colab_type": "text",
        "id": "GgHZsI0VyaUJ"
      },
      "source": [
        "# TODO\n",
        "\n",
        "* Early stopping at minimum validation loss\n",
        "* Plot with loss curves for autoencoder with different bottleneck sizes"
      ]
    },
    {
      "cell_type": "markdown",
      "metadata": {
        "colab_type": "text",
        "id": "iyK3i7pS9gSH"
      },
      "source": [
        "# Exercise 1: Convolutional Autoencoder\n",
        "\n",
        "Steps:\n",
        "1. Load MNIST train and test sets. Split the original training data into 95% training and 5% validation data.\n",
        "2. Implement a convolutional autoencoder (with separate Encoder and Decoder modules).\n",
        "3. Train the convolutional autoencoder, with different bottleneck sizes. Plot the train and validation loss curves of all autoencoders in the same figure.\n",
        "4. Compute the avg. image reconstruction error (MSE) of the trained models on the MNIST validation and test sets. Show the results in a table, including #params of each model.\n",
        "5. Select one of the autoencoders and feed it 5 random MNIST images from the test set. Show them along with their reconstructions.\n",
        "Generate 5 new images by injecting random values as input to the decoder. Show them.\n"
      ]
    },
    {
      "cell_type": "markdown",
      "metadata": {
        "colab_type": "text",
        "id": "-Vf3xEV29k0y"
      },
      "source": [
        "## Module definition\n",
        "\n",
        "Our autoencoder will be defined by the `ConvolutionalAutoencoder` class which uses a `ConvolutionalEncoder` object to encode followed a `ConvolutionalDecoder` object to decode. The `ConvolutionalEncoder` and `ConvolutionalDecoder` classes make use of `n_blocks` `ConvolutionalBlock`s or `DeconvolutionalBlock`s which are composed of `layer_per_block` convolution layers with the same number of filters.\n",
        "\n",
        "The dimensionality is reduced by applying 2-factor spatial downsampling at each block. The number of filters is doubled for each subsequent block. The decoder makes the exact oposite process.\n",
        "\n",
        "The final layer uses a tanh activation.\n",
        "\n",
        "Very similar to the `ConvolutionalAutoencoder`, there is the `ConvolutionalAutoencoderReducedLatentDim` class which includes 2 fully-connected layers between the encoder and decoder. The first one projects from the encoder's feature maps to a vector of `latent_dimensionality` dimensions, the second one does the opposite."
      ]
    },
    {
      "cell_type": "code",
      "metadata": {
        "colab_type": "code",
        "id": "EknaWIjxJUZ1",
        "colab": {}
      },
      "source": [
        "# %load models.py\n",
        "import torch\n",
        "import torch.nn\n",
        "\n",
        "\n",
        "class ConvolutionalAutoencoder(torch.nn.Module):\n",
        "\n",
        "    def __init__(self, n_blocks, downsampling_method, upsampling_method,\n",
        "                 layers_per_block=2):\n",
        "        super().__init__()\n",
        "        self.n_blocks = n_blocks\n",
        "        self.downsampling_method = downsampling_method\n",
        "        self.upsampling_method = upsampling_method\n",
        "\n",
        "        self.encoder = ConvolutionalEncoder(n_blocks, downsampling_method,\n",
        "                                            layers_per_block=layers_per_block)\n",
        "        self.decoder = ConvolutionalDecoder(n_blocks, upsampling_method,\n",
        "                                            self.encoder.output_channels,\n",
        "                                            layers_per_block)\n",
        "\n",
        "    def forward(self, x):\n",
        "        code = self.encoder(x)\n",
        "        reconstruction = self.decoder(code)\n",
        "        return reconstruction\n",
        "\n",
        "\n",
        "class ConvolutionalAutoencoderReducedLatentDim(torch.nn.Module):\n",
        "\n",
        "    def __init__(self, input_shape, n_blocks, downsampling_method, upsampling_method,\n",
        "                 layers_per_block=2, latent_dimensionality=50):\n",
        "        super().__init__()\n",
        "        self.n_blocks = n_blocks\n",
        "        self.downsampling_method = downsampling_method\n",
        "        self.upsampling_method = upsampling_method\n",
        "        self.latent_dimensionality = latent_dimensionality\n",
        "\n",
        "        # Encoder: Convolutional blocks + Linear\n",
        "        self.convolutional_encoder = ConvolutionalEncoder(\n",
        "            n_blocks, downsampling_method, layers_per_block=layers_per_block)\n",
        "        self.encoder_output_shape = (self.convolutional_encoder.init_filters * 2 ** (n_blocks - 1),\n",
        "                                     input_shape[0] // 2 ** n_blocks,\n",
        "                                     input_shape[1] // 2 ** n_blocks)\n",
        "        self.encoder = torch.nn.Sequential(\n",
        "            self.convolutional_encoder,\n",
        "            torch.nn.Flatten(),\n",
        "            torch.nn.Linear(self.encoder_output_shape[0] * self.encoder_output_shape[1] * self.encoder_output_shape[2],\n",
        "                            latent_dimensionality),\n",
        "            torch.nn.ReLU()\n",
        "        )\n",
        "\n",
        "        # Decoder: Linear + Convolutional blocks\n",
        "        self.linear_decoder = torch.nn.Sequential(\n",
        "            torch.nn.Linear(latent_dimensionality,\n",
        "                            self.encoder_output_shape[0] * self.encoder_output_shape[1] * self.encoder_output_shape[2]),\n",
        "            torch.nn.ReLU()\n",
        "        )\n",
        "        self.convolutional_decoder = ConvolutionalDecoder(\n",
        "            n_blocks, upsampling_method,\n",
        "            self.convolutional_encoder.output_channels, layers_per_block)\n",
        "\n",
        "    def forward(self, x):\n",
        "        code = self.encoder(x)\n",
        "        reconstruction = self.convolutional_decoder(\n",
        "            self.linear_decoder(code).view((-1,) + self.encoder_output_shape))\n",
        "        return reconstruction\n",
        "\n",
        "\n",
        "class ConvolutionalEncoder(torch.nn.Module):\n",
        "    DOWNSAMPLING_METHODS = [\"max-pooling\", \"avg-pooling\", \"stride-2\"]\n",
        "\n",
        "    def __init__(self, n_blocks, downsampling_method, init_filters=16,\n",
        "                 layers_per_block=2, kernel_size=5, input_channels=1):\n",
        "        super().__init__()\n",
        "        self.n_blocks = n_blocks\n",
        "        assert downsampling_method in self.DOWNSAMPLING_METHODS\n",
        "        self.downsampling_method = downsampling_method\n",
        "        self.layers_per_block = layers_per_block\n",
        "        self.init_filters = init_filters\n",
        "        self.kernel_size = kernel_size\n",
        "        self.input_channels = input_channels\n",
        "\n",
        "        layers = []\n",
        "\n",
        "        # First layer so we have <input_channels> channels.\n",
        "        n_filters = init_filters\n",
        "        layers.append(\n",
        "            ConvolutionalBlock(input_channels, n_filters, kernel_size, 1))\n",
        "\n",
        "        # Encoding blocks.\n",
        "        input_channels = n_filters\n",
        "        for _ in range(n_blocks):\n",
        "            if downsampling_method == \"max-pooling\":\n",
        "                # Convolutional block + max pooling.\n",
        "                conv_block = torch.nn.Sequential(\n",
        "                    ConvolutionalBlock(input_channels, n_filters, kernel_size,\n",
        "                                       layers_per_block),\n",
        "                    torch.nn.MaxPool2d(2)\n",
        "                )\n",
        "            elif downsampling_method == \"avg-pooling\":\n",
        "                # Convolutional block + average pooling.\n",
        "                conv_block = torch.nn.Sequential(\n",
        "                    ConvolutionalBlock(input_channels, n_filters, kernel_size,\n",
        "                                       layers_per_block),\n",
        "                    torch.nn.AvgPool2d(2)\n",
        "                )\n",
        "            else:\n",
        "                # Stride-2 convolution.\n",
        "                conv_block = ConvolutionalBlock(input_channels, n_filters,\n",
        "                                                kernel_size,\n",
        "                                                layers_per_block,\n",
        "                                                last_stride=2)\n",
        "            layers.append(conv_block)\n",
        "            # Double the number of filters.\n",
        "            input_channels = n_filters\n",
        "            n_filters = 2 * n_filters\n",
        "\n",
        "        self.encoder = torch.nn.Sequential(*layers)\n",
        "        self.output_channels = input_channels\n",
        "\n",
        "    def forward(self, x):\n",
        "        return self.encoder(x)\n",
        "\n",
        "\n",
        "class ConvolutionalDecoder(torch.nn.Module):\n",
        "    UPSAMPLING_METHODS = [\"transposed\", \"bilinear\", \"bicubic\", \"nearest\"]\n",
        "\n",
        "    def __init__(self, n_blocks, upsampling_method, input_channels,\n",
        "                 layers_per_block=2, kernel_size=5, output_channels=1):\n",
        "        super().__init__()\n",
        "        self.n_blocks = n_blocks\n",
        "        assert upsampling_method in self.UPSAMPLING_METHODS\n",
        "        self.upsampling_method = upsampling_method\n",
        "        self.layers_per_block = layers_per_block\n",
        "        self.input_channels = input_channels\n",
        "        self.kernel_size = kernel_size\n",
        "        self.output_channels = output_channels\n",
        "\n",
        "        layers = []\n",
        "\n",
        "        # Decoding blocks.\n",
        "        n_filters = input_channels\n",
        "        for _ in range(n_blocks):\n",
        "            if upsampling_method == \"transposed\":\n",
        "                # Deconvolutional block\n",
        "                conv_block = DeconvolutionalBlock(input_channels, n_filters,\n",
        "                                                  kernel_size, layers_per_block,\n",
        "                                                  stride=2)\n",
        "            else:\n",
        "                # Upsampling.\n",
        "                conv_block = torch.nn.Sequential(\n",
        "                    ConvolutionalBlock(input_channels, n_filters, kernel_size,\n",
        "                                       layers_per_block),\n",
        "                    torch.nn.Upsample(scale_factor=2, mode=upsampling_method)\n",
        "                )\n",
        "            layers.append(conv_block)\n",
        "            # Half the number of filters.\n",
        "            input_channels = n_filters\n",
        "            n_filters = n_filters // 2\n",
        "\n",
        "        # Last layer so we have <output_channels> channel.\n",
        "        layers.append(torch.nn.Conv2d(input_channels, output_channels, kernel_size,\n",
        "                                      padding=kernel_size // 2))\n",
        "        layers.append(torch.nn.Tanh())\n",
        "\n",
        "        self.decoder = torch.nn.Sequential(*layers)\n",
        "\n",
        "    def forward(self, x):\n",
        "        return self.decoder(x)\n",
        "\n",
        "\n",
        "class ConvolutionalBlock(torch.nn.Module):\n",
        "    \"\"\"\n",
        "\n",
        "    Applies n_layers convolutional layers with the same number of\n",
        "    filters and filter sizes with ReLU activations\n",
        "    keeping the same spacial size.\n",
        "    \"\"\"\n",
        "\n",
        "    def __init__(self, input_channels, n_filters, kernel_size, n_layers,\n",
        "                 last_stride=1):\n",
        "        super().__init__()\n",
        "        layers = []\n",
        "        padding = kernel_size // 2  # To keep the same size.\n",
        "\n",
        "        for i in range(n_layers):\n",
        "            if i == 0:  # First layer with correct input channels.\n",
        "                layers.append(torch.nn.Conv2d(input_channels, n_filters,\n",
        "                                              kernel_size, padding=padding))\n",
        "            elif 0 < i < n_layers:  # Intermediate layers.\n",
        "                layers.append(torch.nn.Conv2d(n_filters, n_filters,\n",
        "                                              kernel_size, padding=padding))\n",
        "            else:  # Last layer with stride.\n",
        "                layers.append(torch.nn.Conv2d(n_filters, n_filters,\n",
        "                                              kernel_size, last_stride, padding))\n",
        "            layers.append(torch.nn.ReLU())\n",
        "\n",
        "        # To sequentially apply the layers.\n",
        "        self.block = torch.nn.Sequential(*layers)\n",
        "\n",
        "    def forward(self, x):\n",
        "        return self.block(x)\n",
        "\n",
        "\n",
        "class DeconvolutionalBlock(torch.nn.Module):\n",
        "    \"\"\"\n",
        "\n",
        "    Applies a transposed convolution followed by n_layers-1 convolutional\n",
        "    layers with the same number of filters and filter sizes with ReLU\n",
        "    activations keeping the same spacial size.\n",
        "    \"\"\"\n",
        "\n",
        "    def __init__(self, input_channels, n_filters, kernel_size, n_layers, stride):\n",
        "        super().__init__()\n",
        "        layers = []\n",
        "        padding = kernel_size // 2\n",
        "\n",
        "        # Transposed convolution layer.\n",
        "        layers.append(torch.nn.ConvTranspose2d(input_channels, n_filters,\n",
        "                                               kernel_size, stride, padding, 1))\n",
        "        layers.append(torch.nn.ReLU())\n",
        "\n",
        "        for _ in range(n_layers - 1):\n",
        "            layers.append(torch.nn.Conv2d(n_filters, n_filters, kernel_size,\n",
        "                                          padding=padding))\n",
        "            layers.append(torch.nn.ReLU())\n",
        "\n",
        "        # To sequentially apply the layers.\n",
        "        self.block = torch.nn.Sequential(*layers)\n",
        "\n",
        "    def forward(self, x):\n",
        "        return self.block(x)"
      ],
      "execution_count": 0,
      "outputs": []
    },
    {
      "cell_type": "markdown",
      "metadata": {
        "colab_type": "text",
        "id": "u_ZD0rgWBhJa"
      },
      "source": [
        "To do a quick test, we will pass a random image and check if the output is of the same size as the input."
      ]
    },
    {
      "cell_type": "code",
      "metadata": {
        "colab_type": "code",
        "id": "hIO0AZWCfIR2",
        "colab": {}
      },
      "source": [
        "image = torch.randn((10, 1, 128, 128))\n",
        "autoencoder = ConvolutionalAutoencoderReducedLatentDim(input_shape=(128, 128),\n",
        "                                                       n_blocks=2,\n",
        "                                                       downsampling_method='max-pooling',\n",
        "                                                       upsampling_method='nearest',\n",
        "                                                       layers_per_block=2,\n",
        "                                                       latent_dimensionality=50)\n",
        "output = autoencoder(image)\n",
        "assert output.shape == (10, 1, 128, 128)"
      ],
      "execution_count": 0,
      "outputs": []
    },
    {
      "cell_type": "markdown",
      "metadata": {
        "colab_type": "text",
        "id": "z25DsijeCNvi"
      },
      "source": [
        "## Dataset\n",
        "\n",
        "We split the training set and normalize the input images with mean and variance of the training set found on the internet."
      ]
    },
    {
      "cell_type": "code",
      "metadata": {
        "colab_type": "code",
        "id": "ObQndlPufIR9",
        "colab": {}
      },
      "source": [
        "transform = torchvision.transforms.Compose([\n",
        "     torchvision.transforms.ToTensor(),\n",
        "     torchvision.transforms.Normalize((0.1307,), (0.3081,))  # Mean and std from internet...\n",
        "])"
      ],
      "execution_count": 0,
      "outputs": []
    },
    {
      "cell_type": "code",
      "metadata": {
        "colab_type": "code",
        "id": "1VIGvzG4fISD",
        "colab": {}
      },
      "source": [
        "mnist = torchvision.datasets.MNIST('mnist_dataset', train=True, transform=transform, download=True)"
      ],
      "execution_count": 0,
      "outputs": []
    },
    {
      "cell_type": "code",
      "metadata": {
        "colab_type": "code",
        "id": "K5cYwBL2fISH",
        "colab": {}
      },
      "source": [
        "dataset_len = len(mnist)"
      ],
      "execution_count": 0,
      "outputs": []
    },
    {
      "cell_type": "code",
      "metadata": {
        "colab_type": "code",
        "id": "QPrTXSnZfISN",
        "outputId": "b250d87b-4ef5-4f06-c2bd-8f9f375ec996",
        "colab": {
          "base_uri": "https://localhost:8080/",
          "height": 34
        }
      },
      "source": [
        "dataset_len * 0.95"
      ],
      "execution_count": 9,
      "outputs": [
        {
          "output_type": "execute_result",
          "data": {
            "text/plain": [
              "57000.0"
            ]
          },
          "metadata": {
            "tags": []
          },
          "execution_count": 9
        }
      ]
    },
    {
      "cell_type": "code",
      "metadata": {
        "colab_type": "code",
        "id": "B1BwFJY_fISU",
        "colab": {}
      },
      "source": [
        "mnist_train, mnist_val = torch.utils.data.random_split(mnist, [57000, dataset_len - 57000])"
      ],
      "execution_count": 0,
      "outputs": []
    },
    {
      "cell_type": "code",
      "metadata": {
        "colab_type": "code",
        "id": "b5yH0O1kfISY",
        "colab": {}
      },
      "source": [
        "train_dataloader = torch.utils.data.DataLoader(mnist_train,\n",
        "                                               batch_size=BATCH_SIZE,\n",
        "                                               shuffle=True,\n",
        "                                               num_workers=4)"
      ],
      "execution_count": 0,
      "outputs": []
    },
    {
      "cell_type": "code",
      "metadata": {
        "colab_type": "code",
        "id": "Ybj6UC1qJUaN",
        "colab": {}
      },
      "source": [
        "val_dataloader = torch.utils.data.DataLoader(mnist_val, batch_size=BATCH_SIZE)"
      ],
      "execution_count": 0,
      "outputs": []
    },
    {
      "cell_type": "markdown",
      "metadata": {
        "id": "DZpKJsSBcc4b",
        "colab_type": "text"
      },
      "source": [
        "To create our autoencoder we need to know the size of our images."
      ]
    },
    {
      "cell_type": "code",
      "metadata": {
        "colab_type": "code",
        "id": "fqt6_aCtJUaR",
        "outputId": "fd8b2808-619e-40b0-d8df-cc367b2b7eeb",
        "colab": {
          "base_uri": "https://localhost:8080/",
          "height": 34
        }
      },
      "source": [
        "mnist_train[0][0].shape"
      ],
      "execution_count": 13,
      "outputs": [
        {
          "output_type": "execute_result",
          "data": {
            "text/plain": [
              "torch.Size([1, 28, 28])"
            ]
          },
          "metadata": {
            "tags": []
          },
          "execution_count": 13
        }
      ]
    },
    {
      "cell_type": "markdown",
      "metadata": {
        "id": "HCP_Zd2rDqlW",
        "colab_type": "text"
      },
      "source": [
        "## Training"
      ]
    },
    {
      "cell_type": "markdown",
      "metadata": {
        "id": "wEm9Aahock8U",
        "colab_type": "text"
      },
      "source": [
        "We will use **2 blocks of 2 convolutional layers** on each block (each in the encoder and decoder), using **max-pooling** for downsampling and **nearest-neighbour** for upsampling."
      ]
    },
    {
      "cell_type": "code",
      "metadata": {
        "colab_type": "code",
        "id": "sIYstBcDJUaV",
        "colab": {}
      },
      "source": [
        "autoencoder = ConvolutionalAutoencoderReducedLatentDim(\n",
        "    input_shape=(28, 28),\n",
        "    n_blocks=2,\n",
        "    downsampling_method='max-pooling',\n",
        "    upsampling_method='nearest',\n",
        "    layers_per_block=2,\n",
        "    latent_dimensionality=50\n",
        ").to(device)"
      ],
      "execution_count": 0,
      "outputs": []
    },
    {
      "cell_type": "markdown",
      "metadata": {
        "id": "xt3wsOghdxHh",
        "colab_type": "text"
      },
      "source": [
        "We use the mean square error as our loss function and Adam as our optimization algorithm with a learning rate of 0.001.  \n",
        "We use 'sum' as reduction to compute the image reconstruction error instead of the pixel reconstruction error."
      ]
    },
    {
      "cell_type": "code",
      "metadata": {
        "colab_type": "code",
        "id": "fNNQ25Z-fISe",
        "colab": {}
      },
      "source": [
        "mse = torch.nn.MSELoss(reduction='sum')\n",
        "adam = torch.optim.Adam(autoencoder.parameters(), lr=0.001)"
      ],
      "execution_count": 0,
      "outputs": []
    },
    {
      "cell_type": "markdown",
      "metadata": {
        "id": "RX893gG4eEf2",
        "colab_type": "text"
      },
      "source": [
        "Define our `train` function that will be called at each epoch."
      ]
    },
    {
      "cell_type": "code",
      "metadata": {
        "colab_type": "code",
        "id": "AEwsot_KfISi",
        "colab": {}
      },
      "source": [
        "def train(model, dataloader, criterion, optimizer, epoch, loss_history, log_interval=100):\n",
        "    for i, batch in enumerate(dataloader):\n",
        "        images = batch[0].to(device)\n",
        "        optimizer.zero_grad()\n",
        "        reconstructed = model(images)\n",
        "        # Divide by batch size to compute mean image reconstruction error.\n",
        "        loss = criterion(reconstructed, images) / images.shape[0]\n",
        "        loss.backward()   # Backprop.\n",
        "        optimizer.step()  # Parameter updates.\n",
        "\n",
        "        loss_history.append(loss.item())\n",
        "        if i % log_interval == 0:\n",
        "            print('[%d, %d] loss: %.3f' % (epoch + 1, i, loss.item()))"
      ],
      "execution_count": 0,
      "outputs": []
    },
    {
      "cell_type": "markdown",
      "metadata": {
        "id": "zo8uYtLgeC6o",
        "colab_type": "text"
      },
      "source": [
        "Very similar to the `train` function, we define our `test` function to validate. In this case we don't backpropagate and update our parameters."
      ]
    },
    {
      "cell_type": "code",
      "metadata": {
        "colab_type": "code",
        "id": "GoV4rvPyJUac",
        "colab": {}
      },
      "source": [
        "def test(model, dataloader, criterion, epoch, loss_history):\n",
        "    loss = 0\n",
        "    total = 0\n",
        "    for batch in dataloader:\n",
        "        images = batch[0].to(device)\n",
        "        reconstructed = model(images)\n",
        "        loss += criterion(reconstructed, images).item()\n",
        "        total += images.shape[0]\n",
        "\n",
        "    mean_loss = loss / total\n",
        "    loss_history.append(mean_loss)  \n",
        "    print('[%d, validation] loss: %.3f' % (epoch + 1, mean_loss))"
      ],
      "execution_count": 0,
      "outputs": []
    },
    {
      "cell_type": "markdown",
      "metadata": {
        "id": "8vfBCQHqepWO",
        "colab_type": "text"
      },
      "source": [
        "This is our training loop. Firstly, we call the `test` function so our validation loss curve includes the initial/untrained \"behaviour\"."
      ]
    },
    {
      "cell_type": "code",
      "metadata": {
        "colab_type": "code",
        "id": "CXQlTiq2fISm",
        "outputId": "fe5e0815-7ee1-49ec-968b-c05ed0f38ea8",
        "colab": {
          "base_uri": "https://localhost:8080/",
          "height": 1000
        }
      },
      "source": [
        "training_loss = []    #\n",
        "validation_loss = []  # Here we save the training process.\n",
        "\n",
        "for epoch in range(EPOCHS):\n",
        "    autoencoder.eval()\n",
        "    with torch.no_grad():\n",
        "        test(autoencoder, val_dataloader, mse, epoch, validation_loss)\n",
        "    autoencoder.train()\n",
        "    train(autoencoder, train_dataloader, mse, adam, epoch, training_loss)\n",
        "\n",
        "autoencoder.eval()\n",
        "with torch.no_grad():\n",
        "    test(autoencoder, val_dataloader, mse, epoch, validation_loss)"
      ],
      "execution_count": 18,
      "outputs": [
        {
          "output_type": "stream",
          "text": [
            "[1, validation] loss: 796.878\n",
            "[1, 0] loss: 797.393\n",
            "[1, 100] loss: 540.125\n",
            "[1, 200] loss: 465.304\n",
            "[1, 300] loss: 396.835\n",
            "[1, 400] loss: 337.469\n",
            "[1, 500] loss: 337.418\n",
            "[1, 600] loss: 352.566\n",
            "[1, 700] loss: 297.402\n",
            "[1, 800] loss: 324.664\n",
            "[1, 900] loss: 271.969\n",
            "[1, 1000] loss: 316.729\n",
            "[1, 1100] loss: 292.031\n",
            "[1, 1200] loss: 299.350\n",
            "[1, 1300] loss: 306.712\n",
            "[1, 1400] loss: 326.275\n",
            "[1, 1500] loss: 317.710\n",
            "[1, 1600] loss: 297.160\n",
            "[1, 1700] loss: 313.085\n",
            "[2, validation] loss: 303.649\n",
            "[2, 0] loss: 301.533\n",
            "[2, 100] loss: 270.314\n",
            "[2, 200] loss: 251.173\n",
            "[2, 300] loss: 286.894\n",
            "[2, 400] loss: 298.552\n",
            "[2, 500] loss: 271.000\n",
            "[2, 600] loss: 317.591\n",
            "[2, 700] loss: 265.928\n",
            "[2, 800] loss: 283.714\n",
            "[2, 900] loss: 234.556\n",
            "[2, 1000] loss: 265.654\n",
            "[2, 1100] loss: 282.063\n",
            "[2, 1200] loss: 310.503\n",
            "[2, 1300] loss: 346.900\n",
            "[2, 1400] loss: 279.846\n",
            "[2, 1500] loss: 293.431\n",
            "[2, 1600] loss: 287.501\n",
            "[2, 1700] loss: 275.174\n",
            "[3, validation] loss: 294.018\n",
            "[3, 0] loss: 292.754\n",
            "[3, 100] loss: 302.609\n",
            "[3, 200] loss: 332.334\n",
            "[3, 300] loss: 276.189\n",
            "[3, 400] loss: 314.795\n",
            "[3, 500] loss: 275.637\n",
            "[3, 600] loss: 286.382\n",
            "[3, 700] loss: 285.224\n",
            "[3, 800] loss: 278.449\n",
            "[3, 900] loss: 273.231\n",
            "[3, 1000] loss: 322.846\n",
            "[3, 1100] loss: 298.358\n",
            "[3, 1200] loss: 307.635\n",
            "[3, 1300] loss: 289.921\n",
            "[3, 1400] loss: 303.176\n",
            "[3, 1500] loss: 295.537\n",
            "[3, 1600] loss: 303.231\n",
            "[3, 1700] loss: 310.271\n",
            "[4, validation] loss: 290.690\n",
            "[4, 0] loss: 264.888\n",
            "[4, 100] loss: 276.203\n",
            "[4, 200] loss: 306.130\n",
            "[4, 300] loss: 281.875\n",
            "[4, 400] loss: 281.224\n",
            "[4, 500] loss: 266.284\n",
            "[4, 600] loss: 274.892\n",
            "[4, 700] loss: 301.374\n",
            "[4, 800] loss: 285.938\n",
            "[4, 900] loss: 317.432\n",
            "[4, 1000] loss: 289.725\n",
            "[4, 1100] loss: 271.147\n",
            "[4, 1200] loss: 319.687\n",
            "[4, 1300] loss: 289.341\n",
            "[4, 1400] loss: 270.014\n",
            "[4, 1500] loss: 286.009\n",
            "[4, 1600] loss: 312.579\n",
            "[4, 1700] loss: 293.398\n",
            "[5, validation] loss: 288.072\n",
            "[5, 0] loss: 287.190\n",
            "[5, 100] loss: 299.652\n",
            "[5, 200] loss: 289.238\n",
            "[5, 300] loss: 256.332\n",
            "[5, 400] loss: 257.213\n",
            "[5, 500] loss: 254.093\n",
            "[5, 600] loss: 299.466\n",
            "[5, 700] loss: 296.740\n",
            "[5, 800] loss: 289.238\n",
            "[5, 900] loss: 293.167\n",
            "[5, 1000] loss: 275.397\n",
            "[5, 1100] loss: 286.817\n",
            "[5, 1200] loss: 307.093\n",
            "[5, 1300] loss: 269.539\n",
            "[5, 1400] loss: 291.379\n",
            "[5, 1500] loss: 287.882\n",
            "[5, 1600] loss: 262.954\n",
            "[5, 1700] loss: 238.558\n",
            "[6, validation] loss: 286.475\n",
            "[6, 0] loss: 283.858\n",
            "[6, 100] loss: 257.233\n",
            "[6, 200] loss: 253.105\n",
            "[6, 300] loss: 272.927\n",
            "[6, 400] loss: 269.426\n",
            "[6, 500] loss: 272.420\n",
            "[6, 600] loss: 291.010\n",
            "[6, 700] loss: 286.410\n",
            "[6, 800] loss: 277.098\n",
            "[6, 900] loss: 290.952\n",
            "[6, 1000] loss: 260.483\n",
            "[6, 1100] loss: 286.373\n",
            "[6, 1200] loss: 288.935\n",
            "[6, 1300] loss: 259.412\n",
            "[6, 1400] loss: 299.146\n",
            "[6, 1500] loss: 309.437\n",
            "[6, 1600] loss: 318.339\n",
            "[6, 1700] loss: 290.787\n",
            "[7, validation] loss: 285.602\n",
            "[7, 0] loss: 280.593\n",
            "[7, 100] loss: 246.769\n",
            "[7, 200] loss: 292.998\n",
            "[7, 300] loss: 301.880\n",
            "[7, 400] loss: 262.243\n",
            "[7, 500] loss: 267.302\n",
            "[7, 600] loss: 292.600\n",
            "[7, 700] loss: 261.149\n",
            "[7, 800] loss: 271.127\n",
            "[7, 900] loss: 292.328\n",
            "[7, 1000] loss: 293.030\n",
            "[7, 1100] loss: 318.408\n",
            "[7, 1200] loss: 274.886\n",
            "[7, 1300] loss: 278.351\n",
            "[7, 1400] loss: 285.205\n",
            "[7, 1500] loss: 273.225\n",
            "[7, 1600] loss: 321.503\n",
            "[7, 1700] loss: 303.472\n",
            "[8, validation] loss: 283.699\n",
            "[8, 0] loss: 291.707\n",
            "[8, 100] loss: 295.926\n",
            "[8, 200] loss: 252.323\n",
            "[8, 300] loss: 263.086\n",
            "[8, 400] loss: 269.638\n",
            "[8, 500] loss: 267.553\n",
            "[8, 600] loss: 264.577\n",
            "[8, 700] loss: 280.261\n",
            "[8, 800] loss: 269.284\n",
            "[8, 900] loss: 258.846\n",
            "[8, 1000] loss: 250.420\n",
            "[8, 1100] loss: 332.573\n",
            "[8, 1200] loss: 275.907\n",
            "[8, 1300] loss: 275.946\n",
            "[8, 1400] loss: 301.907\n",
            "[8, 1500] loss: 292.907\n",
            "[8, 1600] loss: 297.343\n",
            "[8, 1700] loss: 277.115\n",
            "[9, validation] loss: 284.295\n",
            "[9, 0] loss: 250.763\n",
            "[9, 100] loss: 284.506\n",
            "[9, 200] loss: 272.861\n",
            "[9, 300] loss: 262.696\n",
            "[9, 400] loss: 273.721\n",
            "[9, 500] loss: 301.768\n",
            "[9, 600] loss: 280.124\n",
            "[9, 700] loss: 267.320\n",
            "[9, 800] loss: 278.491\n",
            "[9, 900] loss: 260.971\n",
            "[9, 1000] loss: 307.136\n",
            "[9, 1100] loss: 297.235\n",
            "[9, 1200] loss: 290.351\n",
            "[9, 1300] loss: 270.149\n",
            "[9, 1400] loss: 311.531\n",
            "[9, 1500] loss: 290.880\n",
            "[9, 1600] loss: 274.649\n",
            "[9, 1700] loss: 255.538\n",
            "[10, validation] loss: 283.843\n",
            "[10, 0] loss: 287.689\n",
            "[10, 100] loss: 253.868\n",
            "[10, 200] loss: 294.441\n",
            "[10, 300] loss: 283.321\n",
            "[10, 400] loss: 295.685\n",
            "[10, 500] loss: 283.503\n",
            "[10, 600] loss: 269.682\n",
            "[10, 700] loss: 269.724\n",
            "[10, 800] loss: 286.767\n",
            "[10, 900] loss: 299.565\n",
            "[10, 1000] loss: 267.782\n",
            "[10, 1100] loss: 275.440\n",
            "[10, 1200] loss: 278.772\n",
            "[10, 1300] loss: 280.540\n",
            "[10, 1400] loss: 292.741\n",
            "[10, 1500] loss: 310.011\n",
            "[10, 1600] loss: 258.067\n",
            "[10, 1700] loss: 266.641\n",
            "[10, validation] loss: 282.960\n"
          ],
          "name": "stdout"
        }
      ]
    },
    {
      "cell_type": "code",
      "metadata": {
        "colab_type": "code",
        "id": "4I6vt-OjST-I",
        "outputId": "c09ee5fa-d38e-474a-ce1f-fddd3b9799f0",
        "colab": {
          "base_uri": "https://localhost:8080/",
          "height": 295
        }
      },
      "source": [
        "plt.title('Autoencoder reconstruction loss curves')\n",
        "plt.plot(training_loss, label='training loss')\n",
        "plt.plot(np.linspace(0, len(training_loss), len(validation_loss)), validation_loss, '-x', label='validation loss')\n",
        "plt.xlabel('Iteration')\n",
        "plt.ylabel('MSE')\n",
        "plt.legend();"
      ],
      "execution_count": 19,
      "outputs": [
        {
          "output_type": "display_data",
          "data": {
            "image/png": "[encoded data removed]",
            "text/plain": [
              "<Figure size 432x288 with 1 Axes>"
            ]
          },
          "metadata": {
            "tags": []
          }
        }
      ]
    },
    {
      "cell_type": "markdown",
      "metadata": {
        "id": "NXnbmjhLfaTR",
        "colab_type": "text"
      },
      "source": [
        "We can see that the loss quickly reduces and then it doesn't improve much. The validation curve is similar to the training one, so we can say it doesn't overfit the training data.\n",
        "\n",
        "In log-scale:"
      ]
    },
    {
      "cell_type": "code",
      "metadata": {
        "colab_type": "code",
        "outputId": "65709502-117a-4210-b277-c94425211d34",
        "id": "BxrbIH0Qgcpn",
        "colab": {
          "base_uri": "https://localhost:8080/",
          "height": 295
        }
      },
      "source": [
        "plt.title('Autoencoder reconstruction loss curves in log-scale')\n",
        "plt.yscale('log')\n",
        "plt.plot(training_loss, label='training loss')\n",
        "plt.plot(np.linspace(0, len(training_loss), len(validation_loss)), validation_loss, '-x', label='validation loss')\n",
        "plt.xlabel('Iteration')\n",
        "plt.ylabel('MSE')\n",
        "plt.legend();"
      ],
      "execution_count": 20,
      "outputs": [
        {
          "output_type": "display_data",
          "data": {
            "image/png": "[encoded data removed]",
            "text/plain": [
              "<Figure size 432x288 with 1 Axes>"
            ]
          },
          "metadata": {
            "tags": []
          }
        }
      ]
    },
    {
      "cell_type": "markdown",
      "metadata": {
        "id": "3FTDWqo4NcF0",
        "colab_type": "text"
      },
      "source": [
        "Now we'll try to reconstruct a image from the test dataset."
      ]
    },
    {
      "cell_type": "code",
      "metadata": {
        "colab_type": "code",
        "id": "3OKrrQKRfISs",
        "colab": {}
      },
      "source": [
        "mnist_test = torchvision.datasets.MNIST('mnist_dataset', train=False, transform=transform)"
      ],
      "execution_count": 0,
      "outputs": []
    },
    {
      "cell_type": "code",
      "metadata": {
        "id": "NfXE9nSUQBV1",
        "colab_type": "code",
        "colab": {}
      },
      "source": [
        "def show_image(image, autoencoder, title=None):\n",
        "    reconstructed = autoencoder(image.to(device).unsqueeze(0))\n",
        "    if title:\n",
        "        plt.suptitle(title)\n",
        "    plt.subplot(121).set_title('Original image')\n",
        "    plt.imshow(image.reshape((28, 28)), cmap='gray')\n",
        "    plt.subplot(122).set_title('Reconstructed image')\n",
        "    plt.imshow(reconstructed.reshape((28, 28)).detach().cpu().numpy(), cmap='gray');"
      ],
      "execution_count": 0,
      "outputs": []
    },
    {
      "cell_type": "code",
      "metadata": {
        "id": "7YUCupgTgYt3",
        "colab_type": "code",
        "colab": {
          "base_uri": "https://localhost:8080/",
          "height": 216
        },
        "outputId": "20e31029-c1ee-458b-829c-72a296bc34ac"
      },
      "source": [
        "show_image(mnist_test[6][0], autoencoder)"
      ],
      "execution_count": 23,
      "outputs": [
        {
          "output_type": "display_data",
          "data": {
            "image/png": "[encoded data removed]",
            "text/plain": [
              "<Figure size 432x288 with 2 Axes>"
            ]
          },
          "metadata": {
            "tags": []
          }
        }
      ]
    },
    {
      "cell_type": "markdown",
      "metadata": {
        "id": "Lxb8rpY3goVF",
        "colab_type": "text"
      },
      "source": [
        "We can see some information is loss, but the reconstruction is pretty accurate."
      ]
    },
    {
      "cell_type": "markdown",
      "metadata": {
        "id": "qQfkKa71EQ9s",
        "colab_type": "text"
      },
      "source": [
        "## Varying bottleneck size\n"
      ]
    },
    {
      "cell_type": "code",
      "metadata": {
        "id": "34WQ01WqLcmz",
        "colab_type": "code",
        "colab": {}
      },
      "source": [
        "mse = torch.nn.MSELoss(reduction='sum')"
      ],
      "execution_count": 0,
      "outputs": []
    },
    {
      "cell_type": "code",
      "metadata": {
        "id": "3ctr05S_Edn6",
        "colab_type": "code",
        "colab": {
          "base_uri": "https://localhost:8080/",
          "height": 1000
        },
        "outputId": "2a000eca-2326-4f58-cdc6-71791fb6818e"
      },
      "source": [
        "bottleneck_sizes = [20, 50, 100]\n",
        "autoencoders = {}\n",
        "\n",
        "for bottleneck_size in bottleneck_sizes:\n",
        "    training_loss = []    #\n",
        "    validation_loss = []  # Here we save the training process.\n",
        "\n",
        "    print(\"*\"*15 + f\"Autoencoder bottleneck size {bottleneck_size}\" + \"*\"*15)\n",
        "  \n",
        "    autoencoder = ConvolutionalAutoencoderReducedLatentDim(\n",
        "        input_shape=(28, 28),\n",
        "        n_blocks=2,\n",
        "        downsampling_method='max-pooling',\n",
        "        upsampling_method='nearest',\n",
        "        layers_per_block=2,\n",
        "        latent_dimensionality=bottleneck_size\n",
        "    ).to(device)\n",
        "    adam = torch.optim.Adam(autoencoder.parameters(), lr=0.001)\n",
        "\n",
        "    for epoch in range(EPOCHS):\n",
        "        autoencoder.eval()\n",
        "        with torch.no_grad():\n",
        "            test(autoencoder, val_dataloader, mse, epoch, validation_loss)\n",
        "        autoencoder.train()\n",
        "        train(autoencoder, train_dataloader, mse, adam, epoch, training_loss, 500)\n",
        "\n",
        "    autoencoder.eval()\n",
        "    with torch.no_grad():\n",
        "        test(autoencoder, val_dataloader, mse, epoch, validation_loss)\n",
        "    autoencoders[f\"bottleneck_{bottleneck_size}\"] = {\"val_loss\": validation_loss, \"model\": autoencoder}"
      ],
      "execution_count": 25,
      "outputs": [
        {
          "output_type": "stream",
          "text": [
            "***************Autoencoder bottleneck size 20***************\n",
            "[1, validation] loss: 793.566\n",
            "[1, 0] loss: 762.416\n",
            "[1, 500] loss: 345.979\n",
            "[1, 1000] loss: 359.359\n",
            "[1, 1500] loss: 356.786\n",
            "[2, validation] loss: 330.682\n",
            "[2, 0] loss: 309.672\n",
            "[2, 500] loss: 333.853\n",
            "[2, 1000] loss: 314.244\n",
            "[2, 1500] loss: 291.269\n",
            "[3, validation] loss: 317.182\n",
            "[3, 0] loss: 325.048\n",
            "[3, 500] loss: 331.824\n",
            "[3, 1000] loss: 264.780\n",
            "[3, 1500] loss: 300.675\n",
            "[4, validation] loss: 313.374\n",
            "[4, 0] loss: 311.095\n",
            "[4, 500] loss: 314.138\n",
            "[4, 1000] loss: 340.093\n",
            "[4, 1500] loss: 326.607\n",
            "[5, validation] loss: 312.243\n",
            "[5, 0] loss: 330.110\n",
            "[5, 500] loss: 288.962\n",
            "[5, 1000] loss: 289.174\n",
            "[5, 1500] loss: 307.183\n",
            "[6, validation] loss: 310.490\n",
            "[6, 0] loss: 297.212\n",
            "[6, 500] loss: 333.015\n",
            "[6, 1000] loss: 284.055\n",
            "[6, 1500] loss: 292.667\n",
            "[7, validation] loss: 309.109\n",
            "[7, 0] loss: 319.109\n",
            "[7, 500] loss: 303.463\n",
            "[7, 1000] loss: 285.296\n",
            "[7, 1500] loss: 265.777\n",
            "[8, validation] loss: 307.235\n",
            "[8, 0] loss: 290.183\n",
            "[8, 500] loss: 308.742\n",
            "[8, 1000] loss: 294.319\n",
            "[8, 1500] loss: 281.778\n",
            "[9, validation] loss: 308.024\n",
            "[9, 0] loss: 296.953\n",
            "[9, 500] loss: 267.174\n",
            "[9, 1000] loss: 299.396\n",
            "[9, 1500] loss: 309.182\n",
            "[10, validation] loss: 306.462\n",
            "[10, 0] loss: 324.969\n",
            "[10, 500] loss: 290.473\n",
            "[10, 1000] loss: 281.485\n",
            "[10, 1500] loss: 341.048\n",
            "[10, validation] loss: 306.362\n",
            "***************Autoencoder bottleneck size 50***************\n",
            "[1, validation] loss: 793.469\n",
            "[1, 0] loss: 763.348\n",
            "[1, 500] loss: 326.300\n",
            "[1, 1000] loss: 313.518\n",
            "[1, 1500] loss: 275.632\n",
            "[2, validation] loss: 289.892\n",
            "[2, 0] loss: 281.616\n",
            "[2, 500] loss: 256.976\n",
            "[2, 1000] loss: 255.337\n",
            "[2, 1500] loss: 286.120\n",
            "[3, validation] loss: 281.066\n",
            "[3, 0] loss: 296.822\n",
            "[3, 500] loss: 253.232\n",
            "[3, 1000] loss: 284.676\n",
            "[3, 1500] loss: 274.339\n",
            "[4, validation] loss: 277.474\n",
            "[4, 0] loss: 257.034\n",
            "[4, 500] loss: 276.922\n",
            "[4, 1000] loss: 221.971\n",
            "[4, 1500] loss: 302.621\n",
            "[5, validation] loss: 276.382\n",
            "[5, 0] loss: 302.670\n",
            "[5, 500] loss: 304.430\n",
            "[5, 1000] loss: 320.403\n",
            "[5, 1500] loss: 277.272\n",
            "[6, validation] loss: 276.088\n",
            "[6, 0] loss: 289.290\n",
            "[6, 500] loss: 289.326\n",
            "[6, 1000] loss: 283.485\n",
            "[6, 1500] loss: 270.917\n",
            "[7, validation] loss: 275.017\n",
            "[7, 0] loss: 266.888\n",
            "[7, 500] loss: 265.934\n",
            "[7, 1000] loss: 277.165\n",
            "[7, 1500] loss: 253.164\n",
            "[8, validation] loss: 273.735\n",
            "[8, 0] loss: 283.895\n",
            "[8, 500] loss: 285.224\n",
            "[8, 1000] loss: 293.954\n",
            "[8, 1500] loss: 275.328\n",
            "[9, validation] loss: 273.172\n",
            "[9, 0] loss: 282.620\n",
            "[9, 500] loss: 288.084\n",
            "[9, 1000] loss: 278.528\n",
            "[9, 1500] loss: 229.766\n",
            "[10, validation] loss: 272.550\n",
            "[10, 0] loss: 228.334\n",
            "[10, 500] loss: 302.660\n",
            "[10, 1000] loss: 279.346\n",
            "[10, 1500] loss: 252.790\n",
            "[10, validation] loss: 273.484\n",
            "***************Autoencoder bottleneck size 100***************\n",
            "[1, validation] loss: 797.283\n",
            "[1, 0] loss: 745.618\n",
            "[1, 500] loss: 344.701\n",
            "[1, 1000] loss: 292.557\n",
            "[1, 1500] loss: 266.895\n",
            "[2, validation] loss: 284.754\n",
            "[2, 0] loss: 308.701\n",
            "[2, 500] loss: 273.753\n",
            "[2, 1000] loss: 284.867\n",
            "[2, 1500] loss: 301.363\n",
            "[3, validation] loss: 278.112\n",
            "[3, 0] loss: 290.407\n",
            "[3, 500] loss: 280.442\n",
            "[3, 1000] loss: 263.974\n",
            "[3, 1500] loss: 255.380\n",
            "[4, validation] loss: 270.526\n",
            "[4, 0] loss: 252.086\n",
            "[4, 500] loss: 243.874\n",
            "[4, 1000] loss: 238.919\n",
            "[4, 1500] loss: 278.757\n",
            "[5, validation] loss: 270.719\n",
            "[5, 0] loss: 263.821\n",
            "[5, 500] loss: 272.537\n",
            "[5, 1000] loss: 282.784\n",
            "[5, 1500] loss: 243.720\n",
            "[6, validation] loss: 267.438\n",
            "[6, 0] loss: 266.517\n",
            "[6, 500] loss: 226.146\n",
            "[6, 1000] loss: 245.334\n",
            "[6, 1500] loss: 251.563\n",
            "[7, validation] loss: 268.887\n",
            "[7, 0] loss: 248.480\n",
            "[7, 500] loss: 250.961\n",
            "[7, 1000] loss: 241.129\n",
            "[7, 1500] loss: 275.613\n",
            "[8, validation] loss: 267.821\n",
            "[8, 0] loss: 288.284\n",
            "[8, 500] loss: 268.683\n",
            "[8, 1000] loss: 253.066\n",
            "[8, 1500] loss: 260.770\n",
            "[9, validation] loss: 266.081\n",
            "[9, 0] loss: 282.134\n",
            "[9, 500] loss: 246.974\n",
            "[9, 1000] loss: 274.347\n",
            "[9, 1500] loss: 249.926\n",
            "[10, validation] loss: 265.853\n",
            "[10, 0] loss: 249.768\n",
            "[10, 500] loss: 263.495\n",
            "[10, 1000] loss: 254.298\n",
            "[10, 1500] loss: 307.809\n",
            "[10, validation] loss: 266.002\n"
          ],
          "name": "stdout"
        }
      ]
    },
    {
      "cell_type": "code",
      "metadata": {
        "id": "ySmvQV1_PQML",
        "colab_type": "code",
        "colab": {
          "base_uri": "https://localhost:8080/",
          "height": 279
        },
        "outputId": "a7683539-1603-451a-b8ef-b1b59dc3aa33"
      },
      "source": [
        "plt.figure()\n",
        "for bottleneck_size in autoencoders:\n",
        "    plt.plot(autoencoders[bottleneck_size][\"val_loss\"], label=\"=\".join(bottleneck_size.split(\"_\")))\n",
        "plt.xlabel('epoch')\n",
        "plt.ylabel('MSE')\n",
        "plt.legend();"
      ],
      "execution_count": 26,
      "outputs": [
        {
          "output_type": "display_data",
          "data": {
            "image/png": "[encoded data removed]",
            "text/plain": [
              "<Figure size 432x288 with 1 Axes>"
            ]
          },
          "metadata": {
            "tags": []
          }
        }
      ]
    },
    {
      "cell_type": "code",
      "metadata": {
        "id": "6j2LidLMQjiw",
        "colab_type": "code",
        "colab": {
          "base_uri": "https://localhost:8080/",
          "height": 752
        },
        "outputId": "6cc232dd-b9c0-428c-a586-1ee6dd8906cc"
      },
      "source": [
        "for bottleneck_size in autoencoders:\n",
        "    plt.figure()\n",
        "    show_image(mnist_val[0][0], autoencoders[bottleneck_size][\"model\"], bottleneck_size)"
      ],
      "execution_count": 27,
      "outputs": [
        {
          "output_type": "display_data",
          "data": {
            "image/png": "[encoded data removed]",
            "text/plain": [
              "<Figure size 432x288 with 2 Axes>"
            ]
          },
          "metadata": {
            "tags": []
          }
        },
        {
          "output_type": "display_data",
          "data": {
            "image/png": "[encoded data removed]",
            "text/plain": [
              "<Figure size 432x288 with 2 Axes>"
            ]
          },
          "metadata": {
            "tags": []
          }
        },
        {
          "output_type": "display_data",
          "data": {
            "image/png": "[encoded data removed]",
            "text/plain": [
              "<Figure size 432x288 with 2 Axes>"
            ]
          },
          "metadata": {
            "tags": []
          }
        }
      ]
    },
    {
      "cell_type": "markdown",
      "metadata": {
        "colab_type": "text",
        "id": "04ODN1xHIHEL"
      },
      "source": [
        "# Exercise 2: Transfer Learning\n",
        "\n",
        "## Steps:\n",
        "\n",
        "1. Select a subset of 100 images and their associated labels from the MNIST training data.\n",
        "2. Select one of the previously trained autoencoders.\n",
        "3. Create a digit (0-9) classification model reusing the encoder of the autoencoder and adding the needed fully connected (projection) layer.\n",
        "3. Pretraining: use the weights of the autoencoder as initial values for the network weights and train a classification model on the subset of 100 samples.\n",
        "4. Fine-tuning: do the same, but train the new projection layer with a normal learning rate and the reused part with a very low learning rate.\n",
        "5. From scratch: train the model on the 100 samples without reusing the decoder weights at all.\n",
        "6. Show the accuracy of the four models on the MNIST test set in a table.\n"
      ]
    },
    {
      "cell_type": "markdown",
      "metadata": {
        "id": "__skvBbtjABn",
        "colab_type": "text"
      },
      "source": [
        "## Pretraining"
      ]
    },
    {
      "cell_type": "markdown",
      "metadata": {
        "id": "v0jvg9aSh70E",
        "colab_type": "text"
      },
      "source": [
        "The number of outputs need to be 10 as we have 10 classes, and 50 as input because we will use the encoder with a latent dimensionality of 100.\n",
        "\n",
        "We don't need to define a softmax layer, as the `CrossEntropyLoss` class internally applies it."
      ]
    },
    {
      "cell_type": "code",
      "metadata": {
        "colab_type": "code",
        "id": "0oYtzXP8IUh5",
        "colab": {}
      },
      "source": [
        "classifier = torch.nn.Linear(50, 10).to(device)"
      ],
      "execution_count": 0,
      "outputs": []
    },
    {
      "cell_type": "markdown",
      "metadata": {
        "colab_type": "text",
        "id": "qqvqjkE5h2jR"
      },
      "source": [
        "We use the cross-entropy as our loss function and Adam as our optimization algorithm with a learning rate of 0.01."
      ]
    },
    {
      "cell_type": "code",
      "metadata": {
        "colab_type": "code",
        "id": "adq2d7EnJaW5",
        "colab": {}
      },
      "source": [
        "cross_entropy = torch.nn.CrossEntropyLoss()\n",
        "classifier_adam = torch.optim.Adam(classifier.parameters(), lr=0.01)"
      ],
      "execution_count": 0,
      "outputs": []
    },
    {
      "cell_type": "markdown",
      "metadata": {
        "id": "GyA7pTDyiZH8",
        "colab_type": "text"
      },
      "source": [
        "We create a subset daaset using the pytorch's `Subset` class with the first 100 samples from the training split."
      ]
    },
    {
      "cell_type": "code",
      "metadata": {
        "colab_type": "code",
        "id": "M8UWsjOhJqKN",
        "colab": {}
      },
      "source": [
        "training_subset = torch.utils.data.Subset(mnist_train, range(100))\n",
        "subset_dataloader = torch.utils.data.DataLoader(training_subset,\n",
        "                                                batch_size=BATCH_SIZE,\n",
        "                                                shuffle=True,\n",
        "                                                num_workers=4)"
      ],
      "execution_count": 0,
      "outputs": []
    },
    {
      "cell_type": "markdown",
      "metadata": {
        "colab_type": "text",
        "id": "xrkIqayBiubF"
      },
      "source": [
        "Define our `classification_train` function that will be called at each epoch. The funciton takes the classifier network as well as the encoder network. It first projects the input image to the latent space and then applies the classification layer.\n",
        "\n",
        "The output of the encoder is detached so the gradients are not computed (because we dont need them)."
      ]
    },
    {
      "cell_type": "code",
      "metadata": {
        "colab_type": "code",
        "id": "UWTRqkZ6MEgf",
        "colab": {}
      },
      "source": [
        "def classification_train(classifier, encoder, dataloader, criterion, optimizer, epoch, loss_history):\n",
        "    for i, (images, labels) in enumerate(dataloader):\n",
        "        images, labels = images.to(device), labels.to(device, torch.long)\n",
        "        optimizer.zero_grad()\n",
        "        # To latent space.\n",
        "        codes = encoder(images).detach()\n",
        "        # Classify from latent space.\n",
        "        outputs = classifier(codes)\n",
        "        loss = criterion(outputs, labels)\n",
        "        loss.backward()   # Backprop.\n",
        "        optimizer.step()  # Parameter updates.\n",
        "\n",
        "        loss_history.append(loss.item())\n",
        "        print('[%d, %d] loss: %.3f' % (epoch + 1, i, loss.item()))"
      ],
      "execution_count": 0,
      "outputs": []
    },
    {
      "cell_type": "markdown",
      "metadata": {
        "colab_type": "text",
        "id": "BL_Pz6KhizE8"
      },
      "source": [
        "Very similar to the `classification_train` function, we define our `classification_test` function to validate. In this case we don't backpropagate and update our parameters. We also compute the accuracy by summing all the correct predictions and dividing by the total number of images."
      ]
    },
    {
      "cell_type": "code",
      "metadata": {
        "colab_type": "code",
        "id": "nv5E5Xc6QiKV",
        "colab": {}
      },
      "source": [
        "def classification_test(classifier, encoder, dataloader, criterion, epoch, loss_history):\n",
        "    loss = 0\n",
        "    total = 0\n",
        "    correct = 0\n",
        "    for i, (images, labels) in enumerate(dataloader):\n",
        "        images, labels = images.to(device), labels.to(device, torch.long)\n",
        "        codes = encoder(images)\n",
        "        outputs = classifier(codes)\n",
        "        loss += criterion(outputs, labels).item()\n",
        "        # Compute average accuracy.\n",
        "        _, predicted = torch.max(outputs.data, 1)\n",
        "        total += labels.size(0)\n",
        "        correct += (predicted == labels).sum().item()\n",
        "\n",
        "    mean_loss = loss / (i + 1)\n",
        "    loss_history.append(mean_loss)  \n",
        "    print('[%d, validation] loss: %.3f accuracy: %.3f' % (epoch + 1, mean_loss, 100 * correct / total))\n",
        "    return mean_loss"
      ],
      "execution_count": 0,
      "outputs": []
    },
    {
      "cell_type": "markdown",
      "metadata": {
        "id": "fub5vuTJkmGN",
        "colab_type": "text"
      },
      "source": [
        "We pass the `encoder` submodule of the `autoencoder` object as the `encoder` parameter of the above-defined functions."
      ]
    },
    {
      "cell_type": "code",
      "metadata": {
        "colab_type": "code",
        "id": "Tx50jNQdNaoX",
        "outputId": "321bb9ba-9db3-47fc-e5c9-d5fd250b84c3",
        "colab": {
          "base_uri": "https://localhost:8080/",
          "height": 884
        }
      },
      "source": [
        "training_loss = []    #\n",
        "validation_loss = []  # Here we save the training process.\n",
        "min_loss = float('inf')\n",
        "\n",
        "encoder = autoencoders[\"bottleneck_50\"][\"model\"].encoder\n",
        "for epoch in range(EPOCHS):\n",
        "    classifier.eval()\n",
        "    with torch.no_grad():\n",
        "        loss = classification_test(classifier, encoder, val_dataloader, cross_entropy, epoch, validation_loss)\n",
        "        if loss < min_loss:\n",
        "            min_loss = loss\n",
        "            torch.save({'classifier': classifier.state_dict(),\n",
        "                        'encoder': encoder.state_dict()},\n",
        "                       'best_pretrain.pt')\n",
        "    classifier.train()\n",
        "    classification_train(classifier, encoder, subset_dataloader, cross_entropy, classifier_adam, epoch, training_loss)\n",
        "\n",
        "classifier.eval()\n",
        "with torch.no_grad():\n",
        "    loss = classification_test(classifier, encoder, val_dataloader, cross_entropy, epoch, validation_loss)\n",
        "    if loss < min_loss:\n",
        "            min_loss = loss\n",
        "            torch.save({'classifier': classifier.state_dict(),\n",
        "                        'encoder': encoder.state_dict()},\n",
        "                       'best_pretrain.pt')"
      ],
      "execution_count": 33,
      "outputs": [
        {
          "output_type": "stream",
          "text": [
            "[1, validation] loss: 2.583 accuracy: 9.367\n",
            "[1, 0] loss: 2.701\n",
            "[1, 1] loss: 2.495\n",
            "[1, 2] loss: 2.373\n",
            "[1, 3] loss: 2.227\n",
            "[2, validation] loss: 2.294 accuracy: 10.867\n",
            "[2, 0] loss: 2.313\n",
            "[2, 1] loss: 2.161\n",
            "[2, 2] loss: 2.278\n",
            "[2, 3] loss: 1.951\n",
            "[3, validation] loss: 2.226 accuracy: 13.733\n",
            "[3, 0] loss: 2.124\n",
            "[3, 1] loss: 2.118\n",
            "[3, 2] loss: 2.143\n",
            "[3, 3] loss: 2.288\n",
            "[4, validation] loss: 2.165 accuracy: 19.933\n",
            "[4, 0] loss: 2.072\n",
            "[4, 1] loss: 2.140\n",
            "[4, 2] loss: 1.922\n",
            "[4, 3] loss: 1.513\n",
            "[5, validation] loss: 2.056 accuracy: 31.533\n",
            "[5, 0] loss: 1.965\n",
            "[5, 1] loss: 1.859\n",
            "[5, 2] loss: 1.862\n",
            "[5, 3] loss: 1.737\n",
            "[6, validation] loss: 1.961 accuracy: 43.267\n",
            "[6, 0] loss: 1.773\n",
            "[6, 1] loss: 1.936\n",
            "[6, 2] loss: 1.668\n",
            "[6, 3] loss: 1.995\n",
            "[7, validation] loss: 1.894 accuracy: 41.900\n",
            "[7, 0] loss: 1.663\n",
            "[7, 1] loss: 1.739\n",
            "[7, 2] loss: 1.728\n",
            "[7, 3] loss: 1.997\n",
            "[8, validation] loss: 1.808 accuracy: 46.167\n",
            "[8, 0] loss: 1.816\n",
            "[8, 1] loss: 1.532\n",
            "[8, 2] loss: 1.509\n",
            "[8, 3] loss: 1.674\n",
            "[9, validation] loss: 1.710 accuracy: 62.767\n",
            "[9, 0] loss: 1.555\n",
            "[9, 1] loss: 1.565\n",
            "[9, 2] loss: 1.455\n",
            "[9, 3] loss: 1.642\n",
            "[10, validation] loss: 1.634 accuracy: 61.433\n",
            "[10, 0] loss: 1.415\n",
            "[10, 1] loss: 1.477\n",
            "[10, 2] loss: 1.468\n",
            "[10, 3] loss: 1.640\n",
            "[10, validation] loss: 1.575 accuracy: 64.733\n"
          ],
          "name": "stdout"
        }
      ]
    },
    {
      "cell_type": "code",
      "metadata": {
        "colab_type": "code",
        "id": "3g7sNGZChB9G",
        "outputId": "e226801c-e6da-4a6c-a560-66fbf62880f3",
        "colab": {
          "base_uri": "https://localhost:8080/",
          "height": 295
        }
      },
      "source": [
        "plt.title('Pretraining classification loss curves')\n",
        "plt.plot(training_loss, label='training loss')\n",
        "plt.plot(np.linspace(0, len(training_loss), len(validation_loss)), validation_loss, '-x', label='validation loss')\n",
        "plt.xlabel('iteration')\n",
        "plt.ylabel('cross entropy')\n",
        "plt.legend();"
      ],
      "execution_count": 34,
      "outputs": [
        {
          "output_type": "display_data",
          "data": {
            "image/png": "[encoded data removed]",
            "text/plain": [
              "<Figure size 432x288 with 1 Axes>"
            ]
          },
          "metadata": {
            "tags": []
          }
        }
      ]
    },
    {
      "cell_type": "code",
      "metadata": {
        "colab_type": "code",
        "id": "f8HSHSVvRmjS",
        "colab": {}
      },
      "source": [
        "test_dataloader = torch.utils.data.DataLoader(mnist_test, batch_size=BATCH_SIZE)"
      ],
      "execution_count": 0,
      "outputs": []
    },
    {
      "cell_type": "code",
      "metadata": {
        "colab_type": "code",
        "id": "B2dNc7aeap_8",
        "outputId": "22f2bdbf-3f6f-4ed0-cb77-9c3093f9dcd2",
        "colab": {
          "base_uri": "https://localhost:8080/",
          "height": 51
        }
      },
      "source": [
        "classification_test(classifier, encoder, test_dataloader, cross_entropy, epoch, [])"
      ],
      "execution_count": 36,
      "outputs": [
        {
          "output_type": "stream",
          "text": [
            "[10, validation] loss: 1.563 accuracy: 67.440\n"
          ],
          "name": "stdout"
        },
        {
          "output_type": "execute_result",
          "data": {
            "text/plain": [
              "1.56315031980935"
            ]
          },
          "metadata": {
            "tags": []
          },
          "execution_count": 36
        }
      ]
    },
    {
      "cell_type": "markdown",
      "metadata": {
        "id": "27T_v5UkjACE",
        "colab_type": "text"
      },
      "source": [
        "## Fine-tuning"
      ]
    },
    {
      "cell_type": "markdown",
      "metadata": {
        "id": "BZgsgSfHmYWH",
        "colab_type": "text"
      },
      "source": [
        "We modify the `classification_train` function to accept the encoder optimizer as a parameter and updates both the encoder and classification networks.\n",
        "\n",
        "The `classification_test` function doesn't need to be modified."
      ]
    },
    {
      "cell_type": "code",
      "metadata": {
        "colab_type": "code",
        "id": "a9DBFMs5jACF",
        "colab": {}
      },
      "source": [
        "def classification_train(classifier, encoder, dataloader, criterion, classifier_optimizer, encoder_optimizer, epoch, loss_history):\n",
        "    for i, (images, labels) in enumerate(dataloader):\n",
        "        images, labels = images.to(device), labels.to(device, torch.long)\n",
        "        encoder_optimizer.zero_grad()\n",
        "        classifier_optimizer.zero_grad()\n",
        "        # To latent space.\n",
        "        codes = encoder(images)\n",
        "        # Classify from latent space.\n",
        "        outputs = classifier(codes)\n",
        "        loss = criterion(outputs, labels)\n",
        "        loss.backward()              # Backprop.\n",
        "        encoder_optimizer.step()     # Update encoder parameters.\n",
        "        classifier_optimizer.step()  # Update classifier parameters.\n",
        "\n",
        "        loss_history.append(loss.item())\n",
        "        print('[%d, %d] loss: %.3f' % (epoch + 1, i, loss.item()))"
      ],
      "execution_count": 0,
      "outputs": []
    },
    {
      "cell_type": "markdown",
      "metadata": {
        "id": "JZUYo_X3m9D3",
        "colab_type": "text"
      },
      "source": [
        "We define a new Adam optimizer for the encoder network with a small learning rate of 0.0001. The classification network optimizer is reused."
      ]
    },
    {
      "cell_type": "code",
      "metadata": {
        "id": "lCsCfmPkjACJ",
        "colab_type": "code",
        "colab": {}
      },
      "source": [
        "encoder_adam = torch.optim.Adam(encoder.parameters(), lr=0.0001)"
      ],
      "execution_count": 0,
      "outputs": []
    },
    {
      "cell_type": "markdown",
      "metadata": {
        "id": "lxBX3gRtnOV9",
        "colab_type": "text"
      },
      "source": [
        "Note that we don't redefine the `training_loss` and `validation_loss` list, so they will have the values of the pretraining stage too."
      ]
    },
    {
      "cell_type": "code",
      "metadata": {
        "colab_type": "code",
        "outputId": "f0e3b4d8-ed0b-4b24-c0d9-8088c22f2332",
        "id": "RdqDkdgwjACN",
        "colab": {
          "base_uri": "https://localhost:8080/",
          "height": 1000
        }
      },
      "source": [
        "min_loss = float('inf')\n",
        "\n",
        "for epoch in range(20):\n",
        "    classifier.eval()\n",
        "    encoder.eval()\n",
        "    with torch.no_grad():\n",
        "        loss = classification_test(classifier, encoder, val_dataloader, cross_entropy, epoch, validation_loss)\n",
        "        if loss < min_loss:\n",
        "            min_loss = loss\n",
        "            torch.save({'classifier': classifier.state_dict(),\n",
        "                        'encoder': encoder.state_dict()},\n",
        "                       'best_fine-tuning.pt')\n",
        "    classifier.train()\n",
        "    encoder.train()\n",
        "    classification_train(classifier, encoder, subset_dataloader,\n",
        "                         cross_entropy, classifier_adam, encoder_adam, epoch, training_loss)\n",
        "\n",
        "classifier.eval()\n",
        "encoder.eval()\n",
        "with torch.no_grad():\n",
        "    loss = classification_test(classifier, encoder, val_dataloader, cross_entropy, epoch, validation_loss)\n",
        "    if loss < min_loss:\n",
        "            min_loss = loss\n",
        "            torch.save({'classifier': classifier.state_dict(),\n",
        "                        'encoder': encoder.state_dict()},\n",
        "                       'best_fine-tuning.pt')"
      ],
      "execution_count": 39,
      "outputs": [
        {
          "output_type": "stream",
          "text": [
            "[1, validation] loss: 1.575 accuracy: 64.733\n",
            "[1, 0] loss: 1.341\n",
            "[1, 1] loss: 1.451\n",
            "[1, 2] loss: 1.303\n",
            "[1, 3] loss: 1.511\n",
            "[2, validation] loss: 1.485 accuracy: 67.233\n",
            "[2, 0] loss: 1.255\n",
            "[2, 1] loss: 1.277\n",
            "[2, 2] loss: 1.213\n",
            "[2, 3] loss: 1.430\n",
            "[3, validation] loss: 1.405 accuracy: 66.500\n",
            "[3, 0] loss: 1.191\n",
            "[3, 1] loss: 1.127\n",
            "[3, 2] loss: 1.134\n",
            "[3, 3] loss: 0.633\n",
            "[4, validation] loss: 1.299 accuracy: 70.167\n",
            "[4, 0] loss: 1.048\n",
            "[4, 1] loss: 0.992\n",
            "[4, 2] loss: 0.966\n",
            "[4, 3] loss: 1.062\n",
            "[5, validation] loss: 1.206 accuracy: 71.667\n",
            "[5, 0] loss: 0.846\n",
            "[5, 1] loss: 0.792\n",
            "[5, 2] loss: 1.051\n",
            "[5, 3] loss: 0.663\n",
            "[6, validation] loss: 1.092 accuracy: 73.867\n",
            "[6, 0] loss: 0.759\n",
            "[6, 1] loss: 0.714\n",
            "[6, 2] loss: 0.847\n",
            "[6, 3] loss: 0.332\n",
            "[7, validation] loss: 0.998 accuracy: 74.567\n",
            "[7, 0] loss: 0.735\n",
            "[7, 1] loss: 0.480\n",
            "[7, 2] loss: 0.781\n",
            "[7, 3] loss: 0.518\n",
            "[8, validation] loss: 0.911 accuracy: 76.133\n",
            "[8, 0] loss: 0.568\n",
            "[8, 1] loss: 0.581\n",
            "[8, 2] loss: 0.649\n",
            "[8, 3] loss: 0.165\n",
            "[9, validation] loss: 0.835 accuracy: 78.100\n",
            "[9, 0] loss: 0.458\n",
            "[9, 1] loss: 0.534\n",
            "[9, 2] loss: 0.530\n",
            "[9, 3] loss: 0.313\n",
            "[10, validation] loss: 0.752 accuracy: 79.833\n",
            "[10, 0] loss: 0.422\n",
            "[10, 1] loss: 0.414\n",
            "[10, 2] loss: 0.421\n",
            "[10, 3] loss: 0.382\n",
            "[11, validation] loss: 0.715 accuracy: 80.467\n",
            "[11, 0] loss: 0.321\n",
            "[11, 1] loss: 0.373\n",
            "[11, 2] loss: 0.369\n",
            "[11, 3] loss: 0.405\n",
            "[12, validation] loss: 0.724 accuracy: 77.967\n",
            "[12, 0] loss: 0.335\n",
            "[12, 1] loss: 0.276\n",
            "[12, 2] loss: 0.364\n",
            "[12, 3] loss: 0.324\n",
            "[13, validation] loss: 0.688 accuracy: 78.100\n",
            "[13, 0] loss: 0.274\n",
            "[13, 1] loss: 0.309\n",
            "[13, 2] loss: 0.229\n",
            "[13, 3] loss: 0.245\n",
            "[14, validation] loss: 0.622 accuracy: 81.433\n",
            "[14, 0] loss: 0.205\n",
            "[14, 1] loss: 0.267\n",
            "[14, 2] loss: 0.210\n",
            "[14, 3] loss: 0.209\n",
            "[15, validation] loss: 0.591 accuracy: 81.733\n",
            "[15, 0] loss: 0.304\n",
            "[15, 1] loss: 0.149\n",
            "[15, 2] loss: 0.205\n",
            "[15, 3] loss: 0.055\n",
            "[16, validation] loss: 0.599 accuracy: 81.300\n",
            "[16, 0] loss: 0.194\n",
            "[16, 1] loss: 0.199\n",
            "[16, 2] loss: 0.199\n",
            "[16, 3] loss: 0.087\n",
            "[17, validation] loss: 0.578 accuracy: 82.300\n",
            "[17, 0] loss: 0.219\n",
            "[17, 1] loss: 0.084\n",
            "[17, 2] loss: 0.144\n",
            "[17, 3] loss: 0.209\n",
            "[18, validation] loss: 0.631 accuracy: 81.233\n",
            "[18, 0] loss: 0.152\n",
            "[18, 1] loss: 0.150\n",
            "[18, 2] loss: 0.080\n",
            "[18, 3] loss: 0.137\n",
            "[19, validation] loss: 0.631 accuracy: 80.433\n",
            "[19, 0] loss: 0.085\n",
            "[19, 1] loss: 0.118\n",
            "[19, 2] loss: 0.129\n",
            "[19, 3] loss: 0.344\n",
            "[20, validation] loss: 0.586 accuracy: 82.233\n",
            "[20, 0] loss: 0.090\n",
            "[20, 1] loss: 0.065\n",
            "[20, 2] loss: 0.169\n",
            "[20, 3] loss: 0.096\n",
            "[20, validation] loss: 0.674 accuracy: 78.100\n"
          ],
          "name": "stdout"
        }
      ]
    },
    {
      "cell_type": "code",
      "metadata": {
        "colab_type": "code",
        "id": "ge4JD9dpaYXZ",
        "outputId": "dfafff15-80b1-4d6c-a6f6-73960e842182",
        "colab": {
          "base_uri": "https://localhost:8080/",
          "height": 295
        }
      },
      "source": [
        "plt.title('Fine-tunning classification loss curves')\n",
        "plt.plot(training_loss, label='training loss')\n",
        "plt.plot(np.linspace(0, len(training_loss), len(validation_loss)), validation_loss, '-x', label='validation loss')\n",
        "plt.xlabel('iteration')\n",
        "plt.ylabel('cross entropy')\n",
        "plt.legend();"
      ],
      "execution_count": 40,
      "outputs": [
        {
          "output_type": "display_data",
          "data": {
            "image/png": "[encoded data removed]",
            "text/plain": [
              "<Figure size 432x288 with 1 Axes>"
            ]
          },
          "metadata": {
            "tags": []
          }
        }
      ]
    },
    {
      "cell_type": "code",
      "metadata": {
        "colab_type": "code",
        "outputId": "747d1da3-e29c-4151-aaeb-54a9a2030a64",
        "id": "zMB42WyHPNmA",
        "colab": {
          "base_uri": "https://localhost:8080/",
          "height": 51
        }
      },
      "source": [
        "classification_test(classifier, encoder, test_dataloader, cross_entropy, epoch, [])"
      ],
      "execution_count": 41,
      "outputs": [
        {
          "output_type": "stream",
          "text": [
            "[20, validation] loss: 0.623 accuracy: 80.290\n"
          ],
          "name": "stdout"
        },
        {
          "output_type": "execute_result",
          "data": {
            "text/plain": [
              "0.6234672706300458"
            ]
          },
          "metadata": {
            "tags": []
          },
          "execution_count": 41
        }
      ]
    },
    {
      "cell_type": "markdown",
      "metadata": {
        "id": "3mVz45k1PWee",
        "colab_type": "text"
      },
      "source": [
        "## From scratch"
      ]
    },
    {
      "cell_type": "code",
      "metadata": {
        "id": "n8s58B_XoSis",
        "colab_type": "code",
        "colab": {}
      },
      "source": [
        "new_autoencoder = ConvolutionalAutoencoderReducedLatentDim(\n",
        "    input_shape=(28, 28),\n",
        "    n_blocks=2,\n",
        "    downsampling_method='max-pooling',\n",
        "    upsampling_method='nearest',\n",
        "    layers_per_block=2,\n",
        "    latent_dimensionality=50\n",
        ").to(device)\n",
        "\n",
        "new_classifier = torch.nn.Sequential(\n",
        "    new_autoencoder.encoder,\n",
        "    torch.nn.Linear(50, 10)\n",
        ").to(device)"
      ],
      "execution_count": 0,
      "outputs": []
    },
    {
      "cell_type": "code",
      "metadata": {
        "id": "4DjdCLKOPqBJ",
        "colab_type": "code",
        "colab": {}
      },
      "source": [
        "def new_classification_train(classifier, dataloader, criterion, classifier_optimizer, epoch, loss_history):\n",
        "    for i, (images, labels) in enumerate(dataloader):\n",
        "        images, labels = images.to(device), labels.to(device, torch.long)\n",
        "        classifier_optimizer.zero_grad()\n",
        "        # To latent space + Classify from latent space.\n",
        "        outputs = classifier(images)\n",
        "        loss = criterion(outputs, labels)\n",
        "        loss.backward()              # Backprop.\n",
        "        classifier_optimizer.step()  # Update parameters.\n",
        "\n",
        "        loss_history.append(loss.item())\n",
        "        print('[%d, %d] loss: %.3f' % (epoch + 1, i, loss.item()))"
      ],
      "execution_count": 0,
      "outputs": []
    },
    {
      "cell_type": "code",
      "metadata": {
        "id": "gJnplDxAQCJQ",
        "colab_type": "code",
        "colab": {}
      },
      "source": [
        "def new_classification_test(classifier, dataloader, criterion, epoch, loss_history):\n",
        "    loss = 0\n",
        "    total = 0\n",
        "    correct = 0\n",
        "    for i, (images, labels) in enumerate(dataloader):\n",
        "        images, labels = images.to(device), labels.to(device, torch.long)\n",
        "        outputs = classifier(images)\n",
        "        loss += criterion(outputs, labels).item()\n",
        "        # Compute average accuracy.\n",
        "        _, predicted = torch.max(outputs.data, 1)\n",
        "        total += labels.size(0)\n",
        "        correct += (predicted == labels).sum().item()\n",
        "\n",
        "    mean_loss = loss / (i + 1)\n",
        "    loss_history.append(mean_loss)  \n",
        "    print('[%d, validation] loss: %.3f accuracy: %.3f' % (epoch + 1, mean_loss, 100 * correct / total))\n",
        "    return mean_loss"
      ],
      "execution_count": 0,
      "outputs": []
    },
    {
      "cell_type": "code",
      "metadata": {
        "id": "iHljTyDkQINO",
        "colab_type": "code",
        "colab": {}
      },
      "source": [
        "cross_entropy = torch.nn.CrossEntropyLoss()\n",
        "new_classifier_adam = torch.optim.Adam(new_classifier.parameters(), lr=0.001)"
      ],
      "execution_count": 0,
      "outputs": []
    },
    {
      "cell_type": "code",
      "metadata": {
        "id": "Po-AZQH0QSsc",
        "colab_type": "code",
        "outputId": "b9450ac1-9c09-4eb8-8d38-8720397e8d0f",
        "colab": {
          "base_uri": "https://localhost:8080/",
          "height": 1000
        }
      },
      "source": [
        "new_training_loss = []\n",
        "new_validation_loss = []\n",
        "min_loss = float('inf')\n",
        "\n",
        "for epoch in range(2 * EPOCHS + 20):\n",
        "    new_classifier.eval()\n",
        "    with torch.no_grad():\n",
        "        loss = new_classification_test(new_classifier, val_dataloader, cross_entropy, epoch, new_validation_loss)\n",
        "        if loss < min_loss:\n",
        "            min_loss = loss\n",
        "            torch.save(new_classifier.state_dict(), 'best_from-scratch.pt')\n",
        "    new_classifier.train()\n",
        "    new_classification_train(new_classifier, subset_dataloader,\n",
        "                         cross_entropy, new_classifier_adam, epoch, new_training_loss)\n",
        "\n",
        "new_classifier.eval()\n",
        "with torch.no_grad():\n",
        "    loss = new_classification_test(new_classifier, val_dataloader, cross_entropy, epoch, new_validation_loss)\n",
        "    if loss < min_loss:\n",
        "        min_loss = loss\n",
        "        torch.save(new_classifier.state_dict(), 'best_from-scratch.pt')"
      ],
      "execution_count": 46,
      "outputs": [
        {
          "output_type": "stream",
          "text": [
            "[1, validation] loss: 2.304 accuracy: 9.433\n",
            "[1, 0] loss: 2.297\n",
            "[1, 1] loss: 2.314\n",
            "[1, 2] loss: 2.338\n",
            "[1, 3] loss: 2.348\n",
            "[2, validation] loss: 2.302 accuracy: 10.400\n",
            "[2, 0] loss: 2.294\n",
            "[2, 1] loss: 2.310\n",
            "[2, 2] loss: 2.323\n",
            "[2, 3] loss: 2.262\n",
            "[3, validation] loss: 2.299 accuracy: 19.567\n",
            "[3, 0] loss: 2.312\n",
            "[3, 1] loss: 2.293\n",
            "[3, 2] loss: 2.291\n",
            "[3, 3] loss: 2.280\n",
            "[4, validation] loss: 2.285 accuracy: 11.767\n",
            "[4, 0] loss: 2.301\n",
            "[4, 1] loss: 2.254\n",
            "[4, 2] loss: 2.186\n",
            "[4, 3] loss: 2.329\n",
            "[5, validation] loss: 2.252 accuracy: 13.967\n",
            "[5, 0] loss: 2.136\n",
            "[5, 1] loss: 2.193\n",
            "[5, 2] loss: 2.214\n",
            "[5, 3] loss: 2.289\n",
            "[6, validation] loss: 2.161 accuracy: 17.067\n",
            "[6, 0] loss: 2.106\n",
            "[6, 1] loss: 2.119\n",
            "[6, 2] loss: 1.932\n",
            "[6, 3] loss: 1.916\n",
            "[7, validation] loss: 1.894 accuracy: 33.467\n",
            "[7, 0] loss: 1.615\n",
            "[7, 1] loss: 1.719\n",
            "[7, 2] loss: 1.424\n",
            "[7, 3] loss: 1.584\n",
            "[8, validation] loss: 1.416 accuracy: 57.233\n",
            "[8, 0] loss: 1.108\n",
            "[8, 1] loss: 1.113\n",
            "[8, 2] loss: 1.015\n",
            "[8, 3] loss: 1.055\n",
            "[9, validation] loss: 1.350 accuracy: 54.700\n",
            "[9, 0] loss: 1.111\n",
            "[9, 1] loss: 0.832\n",
            "[9, 2] loss: 0.638\n",
            "[9, 3] loss: 0.833\n",
            "[10, validation] loss: 1.154 accuracy: 56.967\n",
            "[10, 0] loss: 1.052\n",
            "[10, 1] loss: 0.666\n",
            "[10, 2] loss: 0.884\n",
            "[10, 3] loss: 0.573\n",
            "[11, validation] loss: 0.996 accuracy: 64.400\n",
            "[11, 0] loss: 0.545\n",
            "[11, 1] loss: 0.451\n",
            "[11, 2] loss: 0.681\n",
            "[11, 3] loss: 0.190\n",
            "[12, validation] loss: 0.951 accuracy: 70.167\n",
            "[12, 0] loss: 0.308\n",
            "[12, 1] loss: 0.469\n",
            "[12, 2] loss: 0.312\n",
            "[12, 3] loss: 0.358\n",
            "[13, validation] loss: 0.875 accuracy: 75.367\n",
            "[13, 0] loss: 0.244\n",
            "[13, 1] loss: 0.131\n",
            "[13, 2] loss: 0.352\n",
            "[13, 3] loss: 0.004\n",
            "[14, validation] loss: 1.076 accuracy: 76.033\n",
            "[14, 0] loss: 0.201\n",
            "[14, 1] loss: 0.050\n",
            "[14, 2] loss: 0.079\n",
            "[14, 3] loss: 0.004\n",
            "[15, validation] loss: 1.138 accuracy: 76.733\n",
            "[15, 0] loss: 0.055\n",
            "[15, 1] loss: 0.039\n",
            "[15, 2] loss: 0.080\n",
            "[15, 3] loss: 0.000\n",
            "[16, validation] loss: 1.254 accuracy: 77.100\n",
            "[16, 0] loss: 0.033\n",
            "[16, 1] loss: 0.012\n",
            "[16, 2] loss: 0.016\n",
            "[16, 3] loss: 0.002\n",
            "[17, validation] loss: 1.443 accuracy: 78.600\n",
            "[17, 0] loss: 0.024\n",
            "[17, 1] loss: 0.019\n",
            "[17, 2] loss: 0.078\n",
            "[17, 3] loss: 0.001\n",
            "[18, validation] loss: 1.468 accuracy: 79.967\n",
            "[18, 0] loss: 0.007\n",
            "[18, 1] loss: 0.016\n",
            "[18, 2] loss: 0.146\n",
            "[18, 3] loss: 0.000\n",
            "[19, validation] loss: 1.553 accuracy: 79.400\n",
            "[19, 0] loss: 0.002\n",
            "[19, 1] loss: 0.005\n",
            "[19, 2] loss: 0.182\n",
            "[19, 3] loss: 0.003\n",
            "[20, validation] loss: 1.890 accuracy: 77.300\n",
            "[20, 0] loss: 0.014\n",
            "[20, 1] loss: 0.008\n",
            "[20, 2] loss: 0.522\n",
            "[20, 3] loss: 0.000\n",
            "[21, validation] loss: 1.662 accuracy: 77.067\n",
            "[21, 0] loss: 0.254\n",
            "[21, 1] loss: 0.528\n",
            "[21, 2] loss: 0.379\n",
            "[21, 3] loss: 0.000\n",
            "[22, validation] loss: 1.132 accuracy: 80.300\n",
            "[22, 0] loss: 0.008\n",
            "[22, 1] loss: 0.016\n",
            "[22, 2] loss: 0.037\n",
            "[22, 3] loss: 0.151\n",
            "[23, validation] loss: 1.582 accuracy: 75.633\n",
            "[23, 0] loss: 0.208\n",
            "[23, 1] loss: 0.028\n",
            "[23, 2] loss: 0.175\n",
            "[23, 3] loss: 0.292\n",
            "[24, validation] loss: 0.998 accuracy: 80.167\n",
            "[24, 0] loss: 0.025\n",
            "[24, 1] loss: 0.239\n",
            "[24, 2] loss: 0.605\n",
            "[24, 3] loss: 0.002\n",
            "[25, validation] loss: 1.293 accuracy: 74.033\n",
            "[25, 0] loss: 0.128\n",
            "[25, 1] loss: 0.138\n",
            "[25, 2] loss: 0.245\n",
            "[25, 3] loss: 1.148\n",
            "[26, validation] loss: 0.762 accuracy: 81.233\n",
            "[26, 0] loss: 0.064\n",
            "[26, 1] loss: 0.241\n",
            "[26, 2] loss: 0.830\n",
            "[26, 3] loss: 0.197\n",
            "[27, validation] loss: 1.069 accuracy: 74.267\n",
            "[27, 0] loss: 0.302\n",
            "[27, 1] loss: 0.489\n",
            "[27, 2] loss: 0.839\n",
            "[27, 3] loss: 0.020\n",
            "[28, validation] loss: 1.047 accuracy: 72.033\n",
            "[28, 0] loss: 0.832\n",
            "[28, 1] loss: 0.133\n",
            "[28, 2] loss: 0.179\n",
            "[28, 3] loss: 0.050\n",
            "[29, validation] loss: 0.848 accuracy: 76.933\n",
            "[29, 0] loss: 0.337\n",
            "[29, 1] loss: 0.080\n",
            "[29, 2] loss: 0.125\n",
            "[29, 3] loss: 0.110\n",
            "[30, validation] loss: 0.737 accuracy: 80.700\n",
            "[30, 0] loss: 0.048\n",
            "[30, 1] loss: 0.167\n",
            "[30, 2] loss: 0.031\n",
            "[30, 3] loss: 0.070\n",
            "[31, validation] loss: 0.698 accuracy: 82.633\n",
            "[31, 0] loss: 0.089\n",
            "[31, 1] loss: 0.060\n",
            "[31, 2] loss: 0.028\n",
            "[31, 3] loss: 0.001\n",
            "[32, validation] loss: 0.731 accuracy: 82.067\n",
            "[32, 0] loss: 0.030\n",
            "[32, 1] loss: 0.023\n",
            "[32, 2] loss: 0.051\n",
            "[32, 3] loss: 0.008\n",
            "[33, validation] loss: 0.774 accuracy: 81.800\n",
            "[33, 0] loss: 0.046\n",
            "[33, 1] loss: 0.011\n",
            "[33, 2] loss: 0.020\n",
            "[33, 3] loss: 0.002\n",
            "[34, validation] loss: 0.782 accuracy: 82.700\n",
            "[34, 0] loss: 0.016\n",
            "[34, 1] loss: 0.007\n",
            "[34, 2] loss: 0.011\n",
            "[34, 3] loss: 0.018\n",
            "[35, validation] loss: 0.796 accuracy: 83.200\n",
            "[35, 0] loss: 0.003\n",
            "[35, 1] loss: 0.009\n",
            "[35, 2] loss: 0.004\n",
            "[35, 3] loss: 0.001\n",
            "[36, validation] loss: 0.836 accuracy: 83.233\n",
            "[36, 0] loss: 0.002\n",
            "[36, 1] loss: 0.002\n",
            "[36, 2] loss: 0.005\n",
            "[36, 3] loss: 0.002\n",
            "[37, validation] loss: 0.912 accuracy: 82.400\n",
            "[37, 0] loss: 0.002\n",
            "[37, 1] loss: 0.002\n",
            "[37, 2] loss: 0.003\n",
            "[37, 3] loss: 0.000\n",
            "[38, validation] loss: 1.000 accuracy: 81.400\n",
            "[38, 0] loss: 0.002\n",
            "[38, 1] loss: 0.001\n",
            "[38, 2] loss: 0.002\n",
            "[38, 3] loss: 0.000\n",
            "[39, validation] loss: 1.040 accuracy: 81.367\n",
            "[39, 0] loss: 0.001\n",
            "[39, 1] loss: 0.001\n",
            "[39, 2] loss: 0.001\n",
            "[39, 3] loss: 0.000\n",
            "[40, validation] loss: 1.042 accuracy: 81.700\n",
            "[40, 0] loss: 0.000\n",
            "[40, 1] loss: 0.001\n",
            "[40, 2] loss: 0.001\n",
            "[40, 3] loss: 0.002\n",
            "[40, validation] loss: 1.034 accuracy: 81.900\n"
          ],
          "name": "stdout"
        }
      ]
    },
    {
      "cell_type": "code",
      "metadata": {
        "colab_type": "code",
        "outputId": "48cf2109-7606-4f51-802b-4b92ca482737",
        "id": "q1sJt-axRznj",
        "colab": {
          "base_uri": "https://localhost:8080/",
          "height": 295
        }
      },
      "source": [
        "plt.title('From scratch classification loss curves')\n",
        "plt.plot(new_training_loss, label='training loss')\n",
        "plt.plot(np.linspace(0, len(new_training_loss), len(new_validation_loss)), new_validation_loss, '-x', label='validation loss')\n",
        "plt.xlabel('iteration')\n",
        "plt.ylabel('cross entropy')\n",
        "plt.legend();"
      ],
      "execution_count": 47,
      "outputs": [
        {
          "output_type": "display_data",
          "data": {
            "image/png": "[encoded data removed]",
            "text/plain": [
              "<Figure size 432x288 with 1 Axes>"
            ]
          },
          "metadata": {
            "tags": []
          }
        }
      ]
    },
    {
      "cell_type": "markdown",
      "metadata": {
        "id": "lWd8_HtUSguK",
        "colab_type": "text"
      },
      "source": [
        "This learning curves show clear symptoms of overfitting."
      ]
    },
    {
      "cell_type": "code",
      "metadata": {
        "id": "f9GyHMWoRDjZ",
        "colab_type": "code",
        "outputId": "9f07fbaf-0ac4-4615-9739-e3868d2f8d79",
        "colab": {
          "base_uri": "https://localhost:8080/",
          "height": 51
        }
      },
      "source": [
        "new_classification_test(new_classifier, test_dataloader, cross_entropy, epoch, [])"
      ],
      "execution_count": 48,
      "outputs": [
        {
          "output_type": "stream",
          "text": [
            "[40, validation] loss: 0.988 accuracy: 83.100\n"
          ],
          "name": "stdout"
        },
        {
          "output_type": "execute_result",
          "data": {
            "text/plain": [
              "0.9878613746013886"
            ]
          },
          "metadata": {
            "tags": []
          },
          "execution_count": 48
        }
      ]
    },
    {
      "cell_type": "markdown",
      "metadata": {
        "id": "zsLmkdiZSrdB",
        "colab_type": "text"
      },
      "source": [
        "We get a worse performance than in the pretraining+finetunning case."
      ]
    },
    {
      "cell_type": "markdown",
      "metadata": {
        "id": "IAs0TTL4VXcM",
        "colab_type": "text"
      },
      "source": [
        "## Comparison"
      ]
    },
    {
      "cell_type": "markdown",
      "metadata": {
        "id": "NSHVbYMIcWKi",
        "colab_type": "text"
      },
      "source": [
        "Load best models (early-stopping)."
      ]
    },
    {
      "cell_type": "code",
      "metadata": {
        "id": "_-Mvz-UgVZ0j",
        "colab_type": "code",
        "colab": {}
      },
      "source": [
        "autoencoder_pretrain = ConvolutionalAutoencoderReducedLatentDim(\n",
        "    input_shape=(28, 28),\n",
        "    n_blocks=2,\n",
        "    downsampling_method='max-pooling',\n",
        "    upsampling_method='nearest',\n",
        "    layers_per_block=2,\n",
        "    latent_dimensionality=50\n",
        ").to(device)\n",
        "classifier_pretrain = torch.nn.Linear(50, 10).to(device)\n",
        "\n",
        "pretrain_checkpoint = torch.load('best_pretrain.pt')\n",
        "autoencoder_pretrain.encoder.load_state_dict(pretrain_checkpoint['encoder'])\n",
        "classifier_pretrain.load_state_dict(pretrain_checkpoint['classifier'])\n",
        "\n",
        "autoencoder_finetuning = ConvolutionalAutoencoderReducedLatentDim(\n",
        "    input_shape=(28, 28),\n",
        "    n_blocks=2,\n",
        "    downsampling_method='max-pooling',\n",
        "    upsampling_method='nearest',\n",
        "    layers_per_block=2,\n",
        "    latent_dimensionality=50\n",
        ").to(device)\n",
        "classifier_finetuning = torch.nn.Linear(50, 10).to(device)\n",
        "\n",
        "finetuning_checkpoint = torch.load('best_fine-tuning.pt')\n",
        "autoencoder_finetuning.encoder.load_state_dict(finetuning_checkpoint['encoder'])\n",
        "classifier_finetuning.load_state_dict(finetuning_checkpoint['classifier'])\n",
        "\n",
        "autoencoder_fromscratch = ConvolutionalAutoencoderReducedLatentDim(\n",
        "    input_shape=(28, 28),\n",
        "    n_blocks=2,\n",
        "    downsampling_method='max-pooling',\n",
        "    upsampling_method='nearest',\n",
        "    layers_per_block=2,\n",
        "    latent_dimensionality=50\n",
        ").to(device)\n",
        "\n",
        "classifier_fromscratch = torch.nn.Sequential(\n",
        "    autoencoder_fromscratch.encoder,\n",
        "    torch.nn.Linear(50, 10)\n",
        ").to(device)\n",
        "\n",
        "classifier_fromscratch.load_state_dict(torch.load('best_from-scratch.pt'));"
      ],
      "execution_count": 0,
      "outputs": []
    },
    {
      "cell_type": "markdown",
      "metadata": {
        "id": "_llxE7lmcqDZ",
        "colab_type": "text"
      },
      "source": [
        "Compare cross entropy loss and accuracy on validation and test sets."
      ]
    },
    {
      "cell_type": "code",
      "metadata": {
        "id": "SIz4O90lcsdK",
        "colab_type": "code",
        "colab": {
          "base_uri": "https://localhost:8080/",
          "height": 170
        },
        "outputId": "3ec39130-4b73-41f1-f9ec-bf52f0cf09d2"
      },
      "source": [
        "print(\"Pretrain\")\n",
        "classification_test(classifier_pretrain, autoencoder_pretrain.encoder, val_dataloader, cross_entropy, epoch, [])\n",
        "classification_test(classifier_pretrain, autoencoder_pretrain.encoder, test_dataloader, cross_entropy, epoch, [])\n",
        "\n",
        "print(\"Finetuning\")\n",
        "classification_test(classifier_finetuning, autoencoder_finetuning.encoder, val_dataloader, cross_entropy, epoch, [])\n",
        "classification_test(classifier_finetuning, autoencoder_finetuning.encoder, test_dataloader, cross_entropy, epoch, [])\n",
        "\n",
        "print(\"From scratch\")\n",
        "new_classification_test(classifier_fromscratch, val_dataloader, cross_entropy, epoch, [])\n",
        "new_classification_test(classifier_fromscratch, test_dataloader, cross_entropy, epoch, []);"
      ],
      "execution_count": 50,
      "outputs": [
        {
          "output_type": "stream",
          "text": [
            "Pretrain\n",
            "[40, validation] loss: 1.575 accuracy: 64.733\n",
            "[40, validation] loss: 1.563 accuracy: 67.440\n",
            "Finetuning\n",
            "[40, validation] loss: 0.578 accuracy: 82.300\n",
            "[40, validation] loss: 0.545 accuracy: 83.290\n",
            "From scratch\n",
            "[40, validation] loss: 0.698 accuracy: 82.633\n",
            "[40, validation] loss: 0.645 accuracy: 83.750\n"
          ],
          "name": "stdout"
        }
      ]
    },
    {
      "cell_type": "markdown",
      "metadata": {
        "id": "gq3lg4d0O7d5",
        "colab_type": "text"
      },
      "source": [
        "|                     | validation loss | validation acc. | test loss | test acc. |\n",
        "|---------------------|-|------------|-|-------|\n",
        "| pretraining         | 1.575 | 64.7%      | 1.56 | 67.4% |\n",
        "| pretrain + finetune | 0.578 | 82.3%      | 0.545 | 83.3% |\n",
        "| from scratch        | 0.698 | 82.6%      | 0.645 | 83.8% |"
      ]
    },
    {
      "cell_type": "markdown",
      "metadata": {
        "id": "nIvHHXWBqZe2",
        "colab_type": "text"
      },
      "source": [
        "We expected to see a better performance on the model trained with the pretrain+finetuning proceidure, but the model trained from scratch actually performs slightly better on the validation and test set. If the model had more parameters we would expect the model trained from scratch to not generalize on the validation nor test set."
      ]
    },
    {
      "cell_type": "markdown",
      "metadata": {
        "id": "Ns7oGWd2EZVY",
        "colab_type": "text"
      },
      "source": [
        "## Optional Exercise A: Variational Autoencoder\n",
        "\n",
        "Steps:\n",
        "\n",
        "1. Implement an autoencoder like that from Exercise 1, but turning the deterministic bottleneck into a stochastic bottleneck, with an isotropic Gaussian as distribution for the latent variables.\n",
        "2. Train the model optimizing the Evidence Lower Bound (ELBO).\n",
        "3. Generate samples with the decoder and show them.\n"
      ]
    },
    {
      "cell_type": "markdown",
      "metadata": {
        "id": "xFiIlaOnOCzC",
        "colab_type": "text"
      },
      "source": [
        "New class for variational autoencoder based on the previous autoencoder."
      ]
    },
    {
      "cell_type": "code",
      "metadata": {
        "id": "2LJFzsBeSC6k",
        "colab_type": "code",
        "colab": {}
      },
      "source": [
        "class ConvolutionalVAE(torch.nn.Module):\n",
        "\n",
        "    def __init__(self, input_shape, n_blocks, downsampling_method, upsampling_method,\n",
        "                 layers_per_block=2, latent_dimensionality=50):\n",
        "        super().__init__()\n",
        "        self.n_blocks = n_blocks\n",
        "        self.downsampling_method = downsampling_method\n",
        "        self.upsampling_method = upsampling_method\n",
        "        self.latent_dimensionality = latent_dimensionality\n",
        "\n",
        "        # Encoder: Convolutional blocks + Linear\n",
        "        self.convolutional_encoder = ConvolutionalEncoder(\n",
        "            n_blocks, downsampling_method, layers_per_block=layers_per_block)\n",
        "        self.encoder_output_shape = (self.convolutional_encoder.init_filters * 2 ** (n_blocks - 1),\n",
        "                                     input_shape[0] // 2 ** n_blocks,\n",
        "                                     input_shape[1] // 2 ** n_blocks)\n",
        "        self.mu = torch.nn.Sequential(\n",
        "            torch.nn.Flatten(),\n",
        "            torch.nn.Linear(self.encoder_output_shape[0] * self.encoder_output_shape[1] * self.encoder_output_shape[2],\n",
        "                            latent_dimensionality),\n",
        "        )\n",
        "        self.log_var = torch.nn.Sequential(\n",
        "            torch.nn.Flatten(),\n",
        "            torch.nn.Linear(self.encoder_output_shape[0] * self.encoder_output_shape[1] * self.encoder_output_shape[2],\n",
        "                            latent_dimensionality),\n",
        "        )\n",
        "\n",
        "        # Decoder: Linear + Convolutional blocks\n",
        "        self.linear_decoder = torch.nn.Sequential(\n",
        "            torch.nn.Linear(latent_dimensionality,\n",
        "                            self.encoder_output_shape[0] * self.encoder_output_shape[1] * self.encoder_output_shape[2]),\n",
        "            torch.nn.ReLU()\n",
        "        )\n",
        "        self.convolutional_decoder = ConvolutionalDecoder(\n",
        "            n_blocks, upsampling_method,\n",
        "            self.convolutional_encoder.output_channels, layers_per_block)\n",
        "\n",
        "    def reparameterize(self, mu, log_var):\n",
        "        std = torch.exp(0.5 * log_var)\n",
        "        return torch.randn_like(std).mul(std).add_(mu)\n",
        "\n",
        "    def forward(self, x):\n",
        "        encoder_output = self.convolutional_encoder(x)\n",
        "        # Get mean and variance.\n",
        "        mu = self.mu(encoder_output)\n",
        "        log_var = self.log_var(encoder_output)\n",
        "        # Sample from a normal distribution of mean mu and variance var.\n",
        "        code = self.reparameterize(mu, log_var)\n",
        "\n",
        "        reconstruction = self.convolutional_decoder(\n",
        "            self.linear_decoder(code).view((-1,) + self.encoder_output_shape))\n",
        "        \n",
        "        # Return reconstruction and mean and variance for the loss computation.  \n",
        "        return reconstruction, mu, log_var"
      ],
      "execution_count": 0,
      "outputs": []
    },
    {
      "cell_type": "markdown",
      "metadata": {
        "id": "_86btVGNP-e4",
        "colab_type": "text"
      },
      "source": [
        "Reconstruction + KL divergence losses summed over all elements and batch\n"
      ]
    },
    {
      "cell_type": "code",
      "metadata": {
        "id": "ubi766EfQJu0",
        "colab_type": "code",
        "colab": {}
      },
      "source": [
        "from torch.nn.functional import binary_cross_entropy"
      ],
      "execution_count": 0,
      "outputs": []
    },
    {
      "cell_type": "code",
      "metadata": {
        "id": "hJa6GgbZOB4a",
        "colab_type": "code",
        "colab": {}
      },
      "source": [
        "def loss_function(recon_x, x, mu, logvar):\n",
        "    # print(recon_x.size(), x.size())\n",
        "    BCE = F.binary_cross_entropy(recon_x.view(-1, 784), x.view(-1, 784), reduction='sum')\n",
        "    # see Appendix B from VAE paper:\n",
        "    # Kingma and Welling. Auto-Encoding Variational Bayes. ICLR, 2014\n",
        "    # https://arxiv.org/abs/1312.6114\n",
        "    # 0.5 * sum(1 + log(sigma^2) - mu^2 - sigma^2)\n",
        "    KLD = -0.5 * torch.sum(1 + logvar - mu.pow(2) - logvar.exp())\n",
        "    # return BCE + KLD\n",
        "    return BCE + KLD\n"
      ],
      "execution_count": 0,
      "outputs": []
    }
  ]
}