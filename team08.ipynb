{
 "cells": [
  {
   "cell_type": "code",
   "execution_count": 1,
   "metadata": {
    "colab": {},
    "colab_type": "code",
    "id": "FaWaYXG1fIRm"
   },
   "outputs": [],
   "source": [
    "import torch\n",
    "import torch.nn\n",
    "import torch.optim\n",
    "import torchvision.datasets\n",
    "import torchvision.transforms\n",
    "import torch.utils.data\n",
    "import matplotlib.pyplot as plt\n",
    "import numpy as np\n",
    "from prettytable import PrettyTable\n",
    "from random import randint"
   ]
  },
  {
   "cell_type": "code",
   "execution_count": 2,
   "metadata": {
    "colab": {},
    "colab_type": "code",
    "id": "GA4Aiz2Giu5e"
   },
   "outputs": [],
   "source": [
    "torch.manual_seed(0)\n",
    "device = 'cuda:0' if torch.cuda.is_available() else 'cpu'"
   ]
  },
  {
   "cell_type": "code",
   "execution_count": 3,
   "metadata": {
    "colab": {},
    "colab_type": "code",
    "id": "-MjS3A1UNFJF"
   },
   "outputs": [],
   "source": [
    "BATCH_SIZE = 32\n",
    "EPOCHS = 10"
   ]
  },
  {
   "cell_type": "markdown",
   "metadata": {
    "colab_type": "text",
    "id": "iyK3i7pS9gSH"
   },
   "source": [
    "# Exercise 1: Convolutional Autoencoder\n",
    "\n",
    "Steps:\n",
    "1. Load MNIST train and test sets. Split the original training data into 95% training and 5% validation data.\n",
    "2. Implement a convolutional autoencoder (with separate Encoder and Decoder modules).\n",
    "3. Train the convolutional autoencoder, with different bottleneck sizes. Plot the train and validation loss curves of all autoencoders in the same figure.\n",
    "4. Compute the avg. image reconstruction error (MSE) of the trained models on the MNIST validation and test sets. Show the results in a table, including #params of each model.\n",
    "5. Select one of the autoencoders and feed it 5 random MNIST images from the test set. Show them along with their reconstructions.\n",
    "Generate 5 new images by injecting random values as input to the decoder. Show them.\n"
   ]
  },
  {
   "cell_type": "markdown",
   "metadata": {
    "colab_type": "text",
    "id": "-Vf3xEV29k0y"
   },
   "source": [
    "## Module definition\n",
    "\n",
    "Our autoencoder will be defined by the `ConvolutionalAutoencoder` class which uses a `ConvolutionalEncoder` object to encode followed a `ConvolutionalDecoder` object to decode. The `ConvolutionalEncoder` and `ConvolutionalDecoder` classes make use of `n_blocks` `ConvolutionalBlock`s or `DeconvolutionalBlock`s which are composed of `layer_per_block` convolution layers with the same number of filters.\n",
    "\n",
    "The dimensionality is reduced by applying 2-factor spatial downsampling at each block. The number of filters is doubled for each subsequent block. The decoder makes the exact oposite process.\n",
    "\n",
    "The final layer uses a tanh activation.\n",
    "\n",
    "Very similar to the `ConvolutionalAutoencoder`, there is the `ConvolutionalAutoencoderReducedLatentDim` class which includes 2 fully-connected layers between the encoder and decoder. The first one projects from the encoder's feature maps to a vector of `latent_dimensionality` dimensions, the second one does the opposite."
   ]
  },
  {
   "cell_type": "code",
   "execution_count": 4,
   "metadata": {
    "colab": {},
    "colab_type": "code",
    "id": "EknaWIjxJUZ1"
   },
   "outputs": [],
   "source": [
    "# %load models.py\n",
    "import torch\n",
    "import torch.nn\n",
    "\n",
    "\n",
    "class ConvolutionalAutoencoder(torch.nn.Module):\n",
    "\n",
    "    def __init__(self, n_blocks, downsampling_method, upsampling_method,\n",
    "                 layers_per_block=2):\n",
    "        super().__init__()\n",
    "        self.n_blocks = n_blocks\n",
    "        self.downsampling_method = downsampling_method\n",
    "        self.upsampling_method = upsampling_method\n",
    "\n",
    "        self.encoder = ConvolutionalEncoder(n_blocks, downsampling_method,\n",
    "                                            layers_per_block=layers_per_block)\n",
    "        self.decoder = ConvolutionalDecoder(n_blocks, upsampling_method,\n",
    "                                            self.encoder.output_channels,\n",
    "                                            layers_per_block)\n",
    "\n",
    "    def forward(self, x):\n",
    "        code = self.encoder(x)\n",
    "        reconstruction = self.decoder(code)\n",
    "        return reconstruction\n",
    "\n",
    "\n",
    "class ConvolutionalAutoencoderReducedLatentDim(torch.nn.Module):\n",
    "\n",
    "    def __init__(self, input_shape, n_blocks, downsampling_method, upsampling_method,\n",
    "                 layers_per_block=2, latent_dimensionality=50):\n",
    "        super().__init__()\n",
    "        self.n_blocks = n_blocks\n",
    "        self.downsampling_method = downsampling_method\n",
    "        self.upsampling_method = upsampling_method\n",
    "        self.latent_dimensionality = latent_dimensionality\n",
    "\n",
    "        # Encoder: Convolutional blocks + Linear\n",
    "        self.convolutional_encoder = ConvolutionalEncoder(\n",
    "            n_blocks, downsampling_method, layers_per_block=layers_per_block)\n",
    "        self.encoder_output_shape = (self.convolutional_encoder.init_filters * 2 ** (n_blocks - 1),\n",
    "                                     input_shape[0] // 2 ** n_blocks,\n",
    "                                     input_shape[1] // 2 ** n_blocks)\n",
    "        self.encoder = torch.nn.Sequential(\n",
    "            self.convolutional_encoder,\n",
    "            torch.nn.Flatten(),\n",
    "            torch.nn.Linear(self.encoder_output_shape[0] * self.encoder_output_shape[1] * self.encoder_output_shape[2],\n",
    "                            latent_dimensionality),\n",
    "            torch.nn.ReLU()\n",
    "        )\n",
    "\n",
    "        # Decoder: Linear + Convolutional blocks\n",
    "        self.linear_decoder = torch.nn.Sequential(\n",
    "            torch.nn.Linear(latent_dimensionality,\n",
    "                            self.encoder_output_shape[0] * self.encoder_output_shape[1] * self.encoder_output_shape[2]),\n",
    "            torch.nn.ReLU()\n",
    "        )\n",
    "        self.convolutional_decoder = ConvolutionalDecoder(\n",
    "            n_blocks, upsampling_method,\n",
    "            self.convolutional_encoder.output_channels, layers_per_block)\n",
    "\n",
    "    def forward(self, x):\n",
    "        code = self.encoder(x)\n",
    "        reconstruction = self.convolutional_decoder(\n",
    "            self.linear_decoder(code).view((-1,) + self.encoder_output_shape))\n",
    "        return reconstruction\n",
    "\n",
    "\n",
    "class ConvolutionalEncoder(torch.nn.Module):\n",
    "    DOWNSAMPLING_METHODS = [\"max-pooling\", \"avg-pooling\", \"stride-2\"]\n",
    "\n",
    "    def __init__(self, n_blocks, downsampling_method, init_filters=16,\n",
    "                 layers_per_block=2, kernel_size=5, input_channels=1):\n",
    "        super().__init__()\n",
    "        self.n_blocks = n_blocks\n",
    "        assert downsampling_method in self.DOWNSAMPLING_METHODS\n",
    "        self.downsampling_method = downsampling_method\n",
    "        self.layers_per_block = layers_per_block\n",
    "        self.init_filters = init_filters\n",
    "        self.kernel_size = kernel_size\n",
    "        self.input_channels = input_channels\n",
    "\n",
    "        layers = []\n",
    "\n",
    "        # First layer so we have <input_channels> channels.\n",
    "        n_filters = init_filters\n",
    "        layers.append(\n",
    "            ConvolutionalBlock(input_channels, n_filters, kernel_size, 1))\n",
    "\n",
    "        # Encoding blocks.\n",
    "        input_channels = n_filters\n",
    "        for _ in range(n_blocks):\n",
    "            if downsampling_method == \"max-pooling\":\n",
    "                # Convolutional block + max pooling.\n",
    "                conv_block = torch.nn.Sequential(\n",
    "                    ConvolutionalBlock(input_channels, n_filters, kernel_size,\n",
    "                                       layers_per_block),\n",
    "                    torch.nn.MaxPool2d(2)\n",
    "                )\n",
    "            elif downsampling_method == \"avg-pooling\":\n",
    "                # Convolutional block + average pooling.\n",
    "                conv_block = torch.nn.Sequential(\n",
    "                    ConvolutionalBlock(input_channels, n_filters, kernel_size,\n",
    "                                       layers_per_block),\n",
    "                    torch.nn.AvgPool2d(2)\n",
    "                )\n",
    "            else:\n",
    "                # Stride-2 convolution.\n",
    "                conv_block = ConvolutionalBlock(input_channels, n_filters,\n",
    "                                                kernel_size,\n",
    "                                                layers_per_block,\n",
    "                                                last_stride=2)\n",
    "            layers.append(conv_block)\n",
    "            # Double the number of filters.\n",
    "            input_channels = n_filters\n",
    "            n_filters = 2 * n_filters\n",
    "\n",
    "        self.encoder = torch.nn.Sequential(*layers)\n",
    "        self.output_channels = input_channels\n",
    "\n",
    "    def forward(self, x):\n",
    "        return self.encoder(x)\n",
    "\n",
    "\n",
    "class ConvolutionalDecoder(torch.nn.Module):\n",
    "    UPSAMPLING_METHODS = [\"transposed\", \"bilinear\", \"bicubic\", \"nearest\"]\n",
    "\n",
    "    def __init__(self, n_blocks, upsampling_method, input_channels,\n",
    "                 layers_per_block=2, kernel_size=5, output_channels=1):\n",
    "        super().__init__()\n",
    "        self.n_blocks = n_blocks\n",
    "        assert upsampling_method in self.UPSAMPLING_METHODS\n",
    "        self.upsampling_method = upsampling_method\n",
    "        self.layers_per_block = layers_per_block\n",
    "        self.input_channels = input_channels\n",
    "        self.kernel_size = kernel_size\n",
    "        self.output_channels = output_channels\n",
    "\n",
    "        layers = []\n",
    "\n",
    "        # Decoding blocks.\n",
    "        n_filters = input_channels\n",
    "        for _ in range(n_blocks):\n",
    "            if upsampling_method == \"transposed\":\n",
    "                # Deconvolutional block\n",
    "                conv_block = DeconvolutionalBlock(input_channels, n_filters,\n",
    "                                                  kernel_size, layers_per_block,\n",
    "                                                  stride=2)\n",
    "            else:\n",
    "                # Upsampling.\n",
    "                conv_block = torch.nn.Sequential(\n",
    "                    ConvolutionalBlock(input_channels, n_filters, kernel_size,\n",
    "                                       layers_per_block),\n",
    "                    torch.nn.Upsample(scale_factor=2, mode=upsampling_method)\n",
    "                )\n",
    "            layers.append(conv_block)\n",
    "            # Half the number of filters.\n",
    "            input_channels = n_filters\n",
    "            n_filters = n_filters // 2\n",
    "\n",
    "        # Last layer so we have <output_channels> channel.\n",
    "        layers.append(torch.nn.Conv2d(input_channels, output_channels, kernel_size,\n",
    "                                      padding=kernel_size // 2))\n",
    "        layers.append(torch.nn.Tanh())\n",
    "\n",
    "        self.decoder = torch.nn.Sequential(*layers)\n",
    "\n",
    "    def forward(self, x):\n",
    "        return self.decoder(x)\n",
    "\n",
    "\n",
    "class ConvolutionalBlock(torch.nn.Module):\n",
    "    \"\"\"\n",
    "\n",
    "    Applies n_layers convolutional layers with the same number of\n",
    "    filters and filter sizes with ReLU activations\n",
    "    keeping the same spacial size.\n",
    "    \"\"\"\n",
    "\n",
    "    def __init__(self, input_channels, n_filters, kernel_size, n_layers,\n",
    "                 last_stride=1):\n",
    "        super().__init__()\n",
    "        layers = []\n",
    "        padding = kernel_size // 2  # To keep the same size.\n",
    "\n",
    "        for i in range(n_layers):\n",
    "            if i == 0:  # First layer with correct input channels.\n",
    "                layers.append(torch.nn.Conv2d(input_channels, n_filters,\n",
    "                                              kernel_size, padding=padding))\n",
    "            elif 0 < i < n_layers:  # Intermediate layers.\n",
    "                layers.append(torch.nn.Conv2d(n_filters, n_filters,\n",
    "                                              kernel_size, padding=padding))\n",
    "            else:  # Last layer with stride.\n",
    "                layers.append(torch.nn.Conv2d(n_filters, n_filters,\n",
    "                                              kernel_size, last_stride, padding))\n",
    "            layers.append(torch.nn.ReLU())\n",
    "\n",
    "        # To sequentially apply the layers.\n",
    "        self.block = torch.nn.Sequential(*layers)\n",
    "\n",
    "    def forward(self, x):\n",
    "        return self.block(x)\n",
    "\n",
    "\n",
    "class DeconvolutionalBlock(torch.nn.Module):\n",
    "    \"\"\"\n",
    "\n",
    "    Applies a transposed convolution followed by n_layers-1 convolutional\n",
    "    layers with the same number of filters and filter sizes with ReLU\n",
    "    activations keeping the same spacial size.\n",
    "    \"\"\"\n",
    "\n",
    "    def __init__(self, input_channels, n_filters, kernel_size, n_layers, stride):\n",
    "        super().__init__()\n",
    "        layers = []\n",
    "        padding = kernel_size // 2\n",
    "\n",
    "        # Transposed convolution layer.\n",
    "        layers.append(torch.nn.ConvTranspose2d(input_channels, n_filters,\n",
    "                                               kernel_size, stride, padding, 1))\n",
    "        layers.append(torch.nn.ReLU())\n",
    "\n",
    "        for _ in range(n_layers - 1):\n",
    "            layers.append(torch.nn.Conv2d(n_filters, n_filters, kernel_size,\n",
    "                                          padding=padding))\n",
    "            layers.append(torch.nn.ReLU())\n",
    "\n",
    "        # To sequentially apply the layers.\n",
    "        self.block = torch.nn.Sequential(*layers)\n",
    "\n",
    "    def forward(self, x):\n",
    "        return self.block(x)"
   ]
  },
  {
   "cell_type": "markdown",
   "metadata": {
    "colab_type": "text",
    "id": "u_ZD0rgWBhJa"
   },
   "source": [
    "To do a quick test, we will pass a random image and check if the output is of the same size as the input."
   ]
  },
  {
   "cell_type": "code",
   "execution_count": 5,
   "metadata": {
    "colab": {},
    "colab_type": "code",
    "id": "hIO0AZWCfIR2"
   },
   "outputs": [],
   "source": [
    "image = torch.randn((10, 1, 128, 128))\n",
    "autoencoder = ConvolutionalAutoencoderReducedLatentDim(input_shape=(128, 128),\n",
    "                                                       n_blocks=2,\n",
    "                                                       downsampling_method='max-pooling',\n",
    "                                                       upsampling_method='nearest',\n",
    "                                                       layers_per_block=2,\n",
    "                                                       latent_dimensionality=50)\n",
    "output = autoencoder(image)\n",
    "assert output.shape == (10, 1, 128, 128)"
   ]
  },
  {
   "cell_type": "markdown",
   "metadata": {
    "colab_type": "text",
    "id": "z25DsijeCNvi"
   },
   "source": [
    "## Dataset\n",
    "\n",
    "We split the training set and normalize the input images with mean and variance of the training set found on the internet."
   ]
  },
  {
   "cell_type": "code",
   "execution_count": 6,
   "metadata": {
    "colab": {},
    "colab_type": "code",
    "id": "ObQndlPufIR9"
   },
   "outputs": [],
   "source": [
    "transform = torchvision.transforms.Compose([\n",
    "     torchvision.transforms.ToTensor(),\n",
    "     torchvision.transforms.Normalize((0.1307,), (0.3081,))  # Mean and std from internet...\n",
    "])"
   ]
  },
  {
   "cell_type": "code",
   "execution_count": 7,
   "metadata": {
    "colab": {},
    "colab_type": "code",
    "id": "1VIGvzG4fISD"
   },
   "outputs": [],
   "source": [
    "mnist = torchvision.datasets.MNIST('mnist_dataset', train=True, transform=transform, download=True)"
   ]
  },
  {
   "cell_type": "code",
   "execution_count": 8,
   "metadata": {
    "colab": {},
    "colab_type": "code",
    "id": "K5cYwBL2fISH"
   },
   "outputs": [],
   "source": [
    "dataset_len = len(mnist)"
   ]
  },
  {
   "cell_type": "code",
   "execution_count": 9,
   "metadata": {
    "colab": {
     "base_uri": "https://localhost:8080/",
     "height": 34
    },
    "colab_type": "code",
    "id": "QPrTXSnZfISN",
    "outputId": "b250d87b-4ef5-4f06-c2bd-8f9f375ec996"
   },
   "outputs": [
    {
     "data": {
      "text/plain": [
       "57000.0"
      ]
     },
     "execution_count": 9,
     "metadata": {},
     "output_type": "execute_result"
    }
   ],
   "source": [
    "dataset_len * 0.95"
   ]
  },
  {
   "cell_type": "code",
   "execution_count": 10,
   "metadata": {
    "colab": {},
    "colab_type": "code",
    "id": "B1BwFJY_fISU"
   },
   "outputs": [],
   "source": [
    "mnist_train, mnist_val = torch.utils.data.random_split(mnist, [57000, dataset_len - 57000])"
   ]
  },
  {
   "cell_type": "code",
   "execution_count": 11,
   "metadata": {
    "colab": {},
    "colab_type": "code",
    "id": "b5yH0O1kfISY"
   },
   "outputs": [],
   "source": [
    "train_dataloader = torch.utils.data.DataLoader(mnist_train,\n",
    "                                               batch_size=BATCH_SIZE,\n",
    "                                               shuffle=True,\n",
    "                                               num_workers=4)"
   ]
  },
  {
   "cell_type": "code",
   "execution_count": 12,
   "metadata": {
    "colab": {},
    "colab_type": "code",
    "id": "Ybj6UC1qJUaN"
   },
   "outputs": [],
   "source": [
    "val_dataloader = torch.utils.data.DataLoader(mnist_val, batch_size=BATCH_SIZE)"
   ]
  },
  {
   "cell_type": "markdown",
   "metadata": {
    "colab_type": "text",
    "id": "DZpKJsSBcc4b"
   },
   "source": [
    "To create our autoencoder we need to know the size of our images."
   ]
  },
  {
   "cell_type": "code",
   "execution_count": 13,
   "metadata": {
    "colab": {
     "base_uri": "https://localhost:8080/",
     "height": 34
    },
    "colab_type": "code",
    "id": "fqt6_aCtJUaR",
    "outputId": "fd8b2808-619e-40b0-d8df-cc367b2b7eeb"
   },
   "outputs": [
    {
     "data": {
      "text/plain": [
       "torch.Size([1, 28, 28])"
      ]
     },
     "execution_count": 13,
     "metadata": {},
     "output_type": "execute_result"
    }
   ],
   "source": [
    "mnist_train[0][0].shape"
   ]
  },
  {
   "cell_type": "markdown",
   "metadata": {
    "colab_type": "text",
    "id": "HCP_Zd2rDqlW"
   },
   "source": [
    "## Training"
   ]
  },
  {
   "cell_type": "markdown",
   "metadata": {
    "colab_type": "text",
    "id": "wEm9Aahock8U"
   },
   "source": [
    "We will use **2 blocks of 2 convolutional layers** on each block (each in the encoder and decoder), using **max-pooling** for downsampling and **nearest-neighbour** for upsampling."
   ]
  },
  {
   "cell_type": "code",
   "execution_count": 14,
   "metadata": {
    "colab": {},
    "colab_type": "code",
    "id": "sIYstBcDJUaV"
   },
   "outputs": [],
   "source": [
    "autoencoder = ConvolutionalAutoencoderReducedLatentDim(\n",
    "    input_shape=(28, 28),\n",
    "    n_blocks=2,\n",
    "    downsampling_method='max-pooling',\n",
    "    upsampling_method='nearest',\n",
    "    layers_per_block=2,\n",
    "    latent_dimensionality=50\n",
    ").to(device)"
   ]
  },
  {
   "cell_type": "markdown",
   "metadata": {
    "colab_type": "text",
    "id": "xt3wsOghdxHh"
   },
   "source": [
    "We use the mean square error as our loss function and Adam as our optimization algorithm with a learning rate of 0.001.  \n",
    "We use 'sum' as reduction to compute the image reconstruction error instead of the pixel reconstruction error."
   ]
  },
  {
   "cell_type": "code",
   "execution_count": 15,
   "metadata": {
    "colab": {},
    "colab_type": "code",
    "id": "fNNQ25Z-fISe"
   },
   "outputs": [],
   "source": [
    "mse = torch.nn.MSELoss(reduction='sum')\n",
    "adam = torch.optim.Adam(autoencoder.parameters(), lr=0.001)"
   ]
  },
  {
   "cell_type": "markdown",
   "metadata": {
    "colab_type": "text",
    "id": "RX893gG4eEf2"
   },
   "source": [
    "Define our `train` function that will be called at each epoch."
   ]
  },
  {
   "cell_type": "code",
   "execution_count": 16,
   "metadata": {
    "colab": {},
    "colab_type": "code",
    "id": "AEwsot_KfISi"
   },
   "outputs": [],
   "source": [
    "def train(model, dataloader, criterion, optimizer, epoch, loss_history, log_interval=100):\n",
    "    for i, batch in enumerate(dataloader):\n",
    "        images = batch[0].to(device)\n",
    "        optimizer.zero_grad()\n",
    "        reconstructed = model(images)\n",
    "        # Divide by batch size to compute mean image reconstruction error.\n",
    "        loss = criterion(reconstructed, images) / images.shape[0]\n",
    "        loss.backward()   # Backprop.\n",
    "        optimizer.step()  # Parameter updates.\n",
    "\n",
    "        loss_history.append(loss.item())\n",
    "        if i % log_interval == 0:\n",
    "            print('[%d, %d] loss: %.3f' % (epoch + 1, i, loss.item()))"
   ]
  },
  {
   "cell_type": "markdown",
   "metadata": {
    "colab_type": "text",
    "id": "zo8uYtLgeC6o"
   },
   "source": [
    "Very similar to the `train` function, we define our `test` function to validate. In this case we don't backpropagate and update our parameters."
   ]
  },
  {
   "cell_type": "code",
   "execution_count": 17,
   "metadata": {
    "colab": {},
    "colab_type": "code",
    "id": "GoV4rvPyJUac"
   },
   "outputs": [],
   "source": [
    "def test(model, dataloader, criterion, epoch, loss_history):\n",
    "    loss = 0\n",
    "    total = 0\n",
    "    for batch in dataloader:\n",
    "        images = batch[0].to(device)\n",
    "        reconstructed = model(images)\n",
    "        loss += criterion(reconstructed, images).item()\n",
    "        total += images.shape[0]\n",
    "\n",
    "    mean_loss = loss / total\n",
    "    loss_history.append(mean_loss)  \n",
    "    print('[%d, validation] loss: %.3f' % (epoch + 1, mean_loss))\n",
    "    return mean_loss"
   ]
  },
  {
   "cell_type": "markdown",
   "metadata": {
    "colab_type": "text",
    "id": "8vfBCQHqepWO"
   },
   "source": [
    "This is our training loop. Firstly, we call the `test` function so our validation loss curve includes the initial/untrained \"behaviour\"."
   ]
  },
  {
   "cell_type": "code",
   "execution_count": 19,
   "metadata": {
    "colab": {
     "base_uri": "https://localhost:8080/",
     "height": 1000
    },
    "colab_type": "code",
    "id": "CXQlTiq2fISm",
    "outputId": "fe5e0815-7ee1-49ec-968b-c05ed0f38ea8",
    "scrolled": true
   },
   "outputs": [
    {
     "name": "stdout",
     "output_type": "stream",
     "text": [
      "[1, validation] loss: 796.878\n",
      "[1, 0] loss: 797.393\n",
      "[1, 100] loss: 512.594\n",
      "[1, 200] loss: 437.178\n",
      "[1, 300] loss: 382.753\n",
      "[1, 400] loss: 326.872\n",
      "[1, 500] loss: 327.991\n",
      "[1, 600] loss: 339.489\n",
      "[1, 700] loss: 289.714\n",
      "[1, 800] loss: 310.806\n",
      "[1, 900] loss: 264.632\n",
      "[1, 1000] loss: 305.799\n",
      "[1, 1100] loss: 281.502\n",
      "[1, 1200] loss: 288.573\n",
      "[1, 1300] loss: 294.832\n",
      "[1, 1400] loss: 316.911\n",
      "[1, 1500] loss: 306.995\n",
      "[1, 1600] loss: 289.246\n",
      "[1, 1700] loss: 300.027\n",
      "[2, validation] loss: 295.409\n",
      "[2, 0] loss: 294.352\n",
      "[2, 100] loss: 258.415\n",
      "[2, 200] loss: 242.650\n",
      "[2, 300] loss: 281.046\n",
      "[2, 400] loss: 291.055\n",
      "[2, 500] loss: 266.223\n",
      "[2, 600] loss: 312.323\n",
      "[2, 700] loss: 258.940\n",
      "[2, 800] loss: 277.121\n",
      "[2, 900] loss: 229.413\n",
      "[2, 1000] loss: 256.759\n",
      "[2, 1100] loss: 277.593\n",
      "[2, 1200] loss: 302.697\n",
      "[2, 1300] loss: 336.528\n",
      "[2, 1400] loss: 266.183\n",
      "[2, 1500] loss: 284.973\n",
      "[2, 1600] loss: 279.691\n",
      "[2, 1700] loss: 266.474\n",
      "[3, validation] loss: 287.484\n",
      "[3, 0] loss: 286.484\n",
      "[3, 100] loss: 290.580\n",
      "[3, 200] loss: 321.906\n",
      "[3, 300] loss: 267.752\n",
      "[3, 400] loss: 307.872\n",
      "[3, 500] loss: 267.041\n",
      "[3, 600] loss: 280.237\n",
      "[3, 700] loss: 276.872\n",
      "[3, 800] loss: 269.414\n",
      "[3, 900] loss: 264.179\n",
      "[3, 1000] loss: 311.884\n",
      "[3, 1100] loss: 290.856\n",
      "[3, 1200] loss: 299.629\n",
      "[3, 1300] loss: 283.778\n",
      "[3, 1400] loss: 299.650\n",
      "[3, 1500] loss: 286.289\n",
      "[3, 1600] loss: 296.905\n",
      "[3, 1700] loss: 300.247\n",
      "[4, validation] loss: 282.901\n",
      "[4, 0] loss: 257.912\n",
      "[4, 100] loss: 267.651\n",
      "[4, 200] loss: 301.867\n",
      "[4, 300] loss: 272.859\n",
      "[4, 400] loss: 276.048\n",
      "[4, 500] loss: 259.194\n",
      "[4, 600] loss: 265.068\n",
      "[4, 700] loss: 291.657\n",
      "[4, 800] loss: 278.654\n",
      "[4, 900] loss: 309.720\n",
      "[4, 1000] loss: 282.796\n",
      "[4, 1100] loss: 258.559\n",
      "[4, 1200] loss: 309.418\n",
      "[4, 1300] loss: 283.088\n",
      "[4, 1400] loss: 262.683\n",
      "[4, 1500] loss: 277.789\n",
      "[4, 1600] loss: 303.621\n",
      "[4, 1700] loss: 283.465\n",
      "[5, validation] loss: 281.551\n",
      "[5, 0] loss: 280.979\n",
      "[5, 100] loss: 291.657\n",
      "[5, 200] loss: 281.237\n",
      "[5, 300] loss: 248.463\n",
      "[5, 400] loss: 253.587\n",
      "[5, 500] loss: 245.695\n",
      "[5, 600] loss: 286.834\n",
      "[5, 700] loss: 291.104\n",
      "[5, 800] loss: 283.287\n",
      "[5, 900] loss: 287.769\n",
      "[5, 1000] loss: 270.098\n",
      "[5, 1100] loss: 280.440\n",
      "[5, 1200] loss: 298.394\n",
      "[5, 1300] loss: 262.114\n",
      "[5, 1400] loss: 278.388\n",
      "[5, 1500] loss: 281.749\n",
      "[5, 1600] loss: 254.629\n",
      "[5, 1700] loss: 236.259\n",
      "[6, validation] loss: 278.809\n",
      "[6, 0] loss: 278.032\n",
      "[6, 100] loss: 246.662\n",
      "[6, 200] loss: 247.311\n",
      "[6, 300] loss: 264.723\n",
      "[6, 400] loss: 264.589\n",
      "[6, 500] loss: 266.887\n",
      "[6, 600] loss: 281.584\n",
      "[6, 700] loss: 277.164\n",
      "[6, 800] loss: 268.342\n",
      "[6, 900] loss: 284.103\n",
      "[6, 1000] loss: 255.696\n",
      "[6, 1100] loss: 279.699\n",
      "[6, 1200] loss: 276.661\n",
      "[6, 1300] loss: 253.891\n",
      "[6, 1400] loss: 291.738\n",
      "[6, 1500] loss: 300.113\n",
      "[6, 1600] loss: 313.599\n",
      "[6, 1700] loss: 281.515\n",
      "[7, validation] loss: 278.399\n",
      "[7, 0] loss: 271.888\n",
      "[7, 100] loss: 241.085\n",
      "[7, 200] loss: 286.697\n",
      "[7, 300] loss: 294.414\n",
      "[7, 400] loss: 257.638\n",
      "[7, 500] loss: 258.616\n",
      "[7, 600] loss: 286.078\n",
      "[7, 700] loss: 254.679\n",
      "[7, 800] loss: 265.268\n",
      "[7, 900] loss: 285.489\n",
      "[7, 1000] loss: 285.232\n",
      "[7, 1100] loss: 310.331\n",
      "[7, 1200] loss: 267.722\n",
      "[7, 1300] loss: 272.537\n",
      "[7, 1400] loss: 277.375\n",
      "[7, 1500] loss: 265.457\n",
      "[7, 1600] loss: 316.362\n",
      "[7, 1700] loss: 296.327\n",
      "[8, validation] loss: 278.182\n",
      "[8, 0] loss: 286.406\n",
      "[8, 100] loss: 286.901\n",
      "[8, 200] loss: 246.307\n",
      "[8, 300] loss: 258.465\n",
      "[8, 400] loss: 263.763\n",
      "[8, 500] loss: 260.268\n",
      "[8, 600] loss: 257.474\n",
      "[8, 700] loss: 276.404\n",
      "[8, 800] loss: 263.884\n",
      "[8, 900] loss: 250.590\n",
      "[8, 1000] loss: 246.283\n",
      "[8, 1100] loss: 326.192\n",
      "[8, 1200] loss: 271.628\n",
      "[8, 1300] loss: 269.552\n",
      "[8, 1400] loss: 296.578\n",
      "[8, 1500] loss: 283.144\n",
      "[8, 1600] loss: 291.880\n",
      "[8, 1700] loss: 271.628\n",
      "[9, validation] loss: 277.630\n",
      "[9, 0] loss: 245.083\n",
      "[9, 100] loss: 276.555\n",
      "[9, 200] loss: 266.324\n",
      "[9, 300] loss: 257.873\n",
      "[9, 400] loss: 267.541\n",
      "[9, 500] loss: 292.621\n",
      "[9, 600] loss: 272.981\n",
      "[9, 700] loss: 260.139\n",
      "[9, 800] loss: 271.845\n",
      "[9, 900] loss: 255.549\n",
      "[9, 1000] loss: 298.703\n",
      "[9, 1100] loss: 290.132\n",
      "[9, 1200] loss: 285.181\n",
      "[9, 1300] loss: 265.654\n",
      "[9, 1400] loss: 300.618\n",
      "[9, 1500] loss: 284.108\n",
      "[9, 1600] loss: 269.940\n",
      "[9, 1700] loss: 248.911\n",
      "[10, validation] loss: 276.988\n",
      "[10, 0] loss: 280.640\n",
      "[10, 100] loss: 247.680\n",
      "[10, 200] loss: 282.616\n",
      "[10, 300] loss: 277.379\n",
      "[10, 400] loss: 287.378\n",
      "[10, 500] loss: 273.625\n",
      "[10, 600] loss: 265.971\n",
      "[10, 700] loss: 261.201\n",
      "[10, 800] loss: 280.316\n",
      "[10, 900] loss: 292.368\n",
      "[10, 1000] loss: 261.828\n",
      "[10, 1100] loss: 270.677\n",
      "[10, 1200] loss: 271.566\n",
      "[10, 1300] loss: 275.701\n",
      "[10, 1400] loss: 288.605\n",
      "[10, 1500] loss: 301.158\n",
      "[10, 1600] loss: 250.034\n",
      "[10, 1700] loss: 259.296\n",
      "[10, validation] loss: 276.096\n"
     ]
    }
   ],
   "source": [
    "training_loss = []    #\n",
    "validation_loss = []  # Here we save the training process.\n",
    "\n",
    "for epoch in range(EPOCHS):\n",
    "    autoencoder.eval()\n",
    "    with torch.no_grad():\n",
    "        _ = test(autoencoder, val_dataloader, mse, epoch, validation_loss)\n",
    "    autoencoder.train()\n",
    "    train(autoencoder, train_dataloader, mse, adam, epoch, training_loss)\n",
    "    if early_stopping(validation_loss):\n",
    "        break\n",
    "\n",
    "autoencoder.eval()\n",
    "with torch.no_grad():\n",
    "    test(autoencoder, val_dataloader, mse, epoch, validation_loss)"
   ]
  },
  {
   "cell_type": "code",
   "execution_count": 20,
   "metadata": {
    "colab": {
     "base_uri": "https://localhost:8080/",
     "height": 295
    },
    "colab_type": "code",
    "id": "4I6vt-OjST-I",
    "outputId": "c09ee5fa-d38e-474a-ce1f-fddd3b9799f0"
   },
   "outputs": [
    {
     "data": {
      "image/png": "[encoded data removed]",
      "text/plain": [
       "<Figure size 432x288 with 1 Axes>"
      ]
     },
     "metadata": {
      "needs_background": "light"
     },
     "output_type": "display_data"
    }
   ],
   "source": [
    "plt.title('Autoencoder reconstruction loss curves')\n",
    "plt.plot(training_loss, label='training loss')\n",
    "plt.plot(np.linspace(0, len(training_loss), len(validation_loss)), validation_loss, '-x', label='validation loss')\n",
    "plt.xlabel('Iteration')\n",
    "plt.ylabel('MSE')\n",
    "plt.legend();"
   ]
  },
  {
   "cell_type": "markdown",
   "metadata": {
    "colab_type": "text",
    "id": "NXnbmjhLfaTR"
   },
   "source": [
    "We can see that the loss quickly reduces and then it doesn't improve much. The validation curve is similar to the training one, so we can say it doesn't overfit the training data.\n",
    "\n",
    "In log-scale:"
   ]
  },
  {
   "cell_type": "code",
   "execution_count": 21,
   "metadata": {
    "colab": {
     "base_uri": "https://localhost:8080/",
     "height": 295
    },
    "colab_type": "code",
    "id": "BxrbIH0Qgcpn",
    "outputId": "65709502-117a-4210-b277-c94425211d34"
   },
   "outputs": [
    {
     "data": {
      "image/png": "[encoded data removed]",
      "text/plain": [
       "<Figure size 432x288 with 1 Axes>"
      ]
     },
     "metadata": {
      "needs_background": "light"
     },
     "output_type": "display_data"
    }
   ],
   "source": [
    "plt.title('Autoencoder reconstruction loss curves in log-scale')\n",
    "plt.yscale('log')\n",
    "plt.plot(training_loss, label='training loss')\n",
    "plt.plot(np.linspace(0, len(training_loss), len(validation_loss)), validation_loss, '-x', label='validation loss')\n",
    "plt.xlabel('Iteration')\n",
    "plt.ylabel('MSE')\n",
    "plt.legend();"
   ]
  },
  {
   "cell_type": "markdown",
   "metadata": {
    "colab_type": "text",
    "id": "3FTDWqo4NcF0"
   },
   "source": [
    "Now we'll try to reconstruct a image from the test dataset."
   ]
  },
  {
   "cell_type": "code",
   "execution_count": 22,
   "metadata": {
    "colab": {},
    "colab_type": "code",
    "id": "3OKrrQKRfISs"
   },
   "outputs": [],
   "source": [
    "mnist_test = torchvision.datasets.MNIST('mnist_dataset', train=False, transform=transform)\n",
    "test_dataloader = torch.utils.data.DataLoader(mnist_test, batch_size=BATCH_SIZE)"
   ]
  },
  {
   "cell_type": "code",
   "execution_count": 23,
   "metadata": {
    "colab": {},
    "colab_type": "code",
    "id": "NfXE9nSUQBV1"
   },
   "outputs": [],
   "source": [
    "def show_image(image, autoencoder, title=None):\n",
    "    reconstructed = autoencoder(image.to(device).unsqueeze(0))\n",
    "    if title:\n",
    "        plt.suptitle(title)\n",
    "    plt.subplot(121).set_title('Original image')\n",
    "    plt.imshow(image.reshape((28, 28)), cmap='gray')\n",
    "    plt.subplot(122).set_title('Reconstructed image')\n",
    "    plt.imshow(reconstructed.reshape((28, 28)).detach().cpu().numpy(), cmap='gray');"
   ]
  },
  {
   "cell_type": "code",
   "execution_count": 24,
   "metadata": {
    "colab": {
     "base_uri": "https://localhost:8080/",
     "height": 216
    },
    "colab_type": "code",
    "id": "7YUCupgTgYt3",
    "outputId": "20e31029-c1ee-458b-829c-72a296bc34ac"
   },
   "outputs": [
    {
     "data": {
      "image/png": "[encoded data removed]",
      "text/plain": [
       "<Figure size 432x288 with 2 Axes>"
      ]
     },
     "metadata": {
      "needs_background": "light"
     },
     "output_type": "display_data"
    }
   ],
   "source": [
    "show_image(mnist_test[6][0], autoencoder)"
   ]
  },
  {
   "cell_type": "markdown",
   "metadata": {
    "colab_type": "text",
    "id": "Lxb8rpY3goVF"
   },
   "source": [
    "We can see some information is loss, but the reconstruction is pretty accurate."
   ]
  },
  {
   "cell_type": "markdown",
   "metadata": {
    "colab_type": "text",
    "id": "qQfkKa71EQ9s"
   },
   "source": [
    "## Varying bottleneck size\n"
   ]
  },
  {
   "cell_type": "code",
   "execution_count": 25,
   "metadata": {
    "colab": {},
    "colab_type": "code",
    "id": "34WQ01WqLcmz"
   },
   "outputs": [],
   "source": [
    "mse = torch.nn.MSELoss(reduction='sum')"
   ]
  },
  {
   "cell_type": "code",
   "execution_count": 26,
   "metadata": {
    "colab": {
     "base_uri": "https://localhost:8080/",
     "height": 1000
    },
    "colab_type": "code",
    "id": "3ctr05S_Edn6",
    "outputId": "2a000eca-2326-4f58-cdc6-71791fb6818e"
   },
   "outputs": [
    {
     "name": "stdout",
     "output_type": "stream",
     "text": [
      "***************Autoencoder bottleneck size 2***************\n",
      "[1, validation] loss: 792.791\n",
      "[1, 0] loss: 787.256\n",
      "[1, 500] loss: 475.357\n",
      "[1, 1000] loss: 465.158\n",
      "[1, 1500] loss: 429.492\n",
      "[2, validation] loss: 437.065\n",
      "[2, 0] loss: 426.261\n",
      "[2, 500] loss: 399.191\n",
      "[2, 1000] loss: 417.562\n",
      "[2, 1500] loss: 432.087\n",
      "[3, validation] loss: 424.424\n",
      "[3, 0] loss: 411.834\n",
      "[3, 500] loss: 413.957\n",
      "[3, 1000] loss: 395.331\n",
      "[3, 1500] loss: 446.595\n",
      "[4, validation] loss: 416.432\n",
      "[4, 0] loss: 430.833\n",
      "[4, 500] loss: 361.073\n",
      "[4, 1000] loss: 410.083\n",
      "[4, 1500] loss: 432.352\n",
      "[5, validation] loss: 410.774\n",
      "[5, 0] loss: 394.778\n",
      "[5, 500] loss: 359.638\n",
      "[5, 1000] loss: 404.319\n",
      "[5, 1500] loss: 412.664\n",
      "[6, validation] loss: 408.770\n",
      "[6, 0] loss: 445.817\n",
      "[6, 500] loss: 443.179\n",
      "[6, 1000] loss: 387.785\n",
      "[6, 1500] loss: 475.580\n",
      "[7, validation] loss: 409.358\n",
      "[7, 0] loss: 406.119\n",
      "[7, 500] loss: 367.261\n",
      "[7, 1000] loss: 383.727\n",
      "[7, 1500] loss: 396.591\n",
      "[8, validation] loss: 405.512\n",
      "[8, 0] loss: 333.445\n",
      "[8, 500] loss: 375.994\n",
      "[8, 1000] loss: 382.065\n",
      "[8, 1500] loss: 365.690\n",
      "[9, validation] loss: 404.507\n",
      "[9, 0] loss: 394.177\n",
      "[9, 500] loss: 424.034\n",
      "[9, 1000] loss: 348.018\n",
      "[9, 1500] loss: 379.593\n",
      "[10, validation] loss: 402.262\n",
      "[10, 0] loss: 391.187\n",
      "[10, 500] loss: 434.563\n",
      "[10, 1000] loss: 402.026\n",
      "[10, 1500] loss: 453.003\n",
      "[10, validation] loss: 401.626\n",
      "***************Autoencoder bottleneck size 5***************\n",
      "[1, validation] loss: 792.000\n",
      "[1, 0] loss: 797.568\n",
      "[1, 500] loss: 574.733\n",
      "[1, 1000] loss: 506.682\n",
      "[1, 1500] loss: 534.609\n",
      "[2, validation] loss: 565.154\n",
      "[2, 0] loss: 509.590\n",
      "[2, 500] loss: 600.299\n",
      "[2, 1000] loss: 590.032\n",
      "[2, 1500] loss: 529.085\n",
      "[3, validation] loss: 564.835\n",
      "[3, 0] loss: 537.400\n",
      "[3, 500] loss: 595.846\n",
      "[3, 1000] loss: 544.278\n",
      "[3, 1500] loss: 557.090\n",
      "[4, validation] loss: 564.769\n",
      "[4, 0] loss: 549.623\n",
      "[4, 500] loss: 532.014\n",
      "[4, 1000] loss: 526.182\n",
      "[4, 1500] loss: 501.496\n",
      "[5, validation] loss: 565.171\n",
      "[5, 0] loss: 579.968\n",
      "[5, 500] loss: 579.801\n",
      "[5, 1000] loss: 583.900\n",
      "[5, 1500] loss: 557.293\n",
      "[6, validation] loss: 564.512\n",
      "[6, 0] loss: 578.132\n",
      "[6, 500] loss: 563.035\n",
      "[6, 1000] loss: 628.191\n",
      "[6, 1500] loss: 538.346\n",
      "[7, validation] loss: 564.498\n",
      "[7, 0] loss: 594.808\n",
      "[7, 500] loss: 521.773\n",
      "[7, 1000] loss: 554.038\n",
      "[7, 1500] loss: 530.881\n",
      "[8, validation] loss: 564.765\n",
      "[8, 0] loss: 533.621\n",
      "[8, 500] loss: 573.875\n",
      "[8, 1000] loss: 558.913\n",
      "[8, 1500] loss: 583.530\n",
      "[9, validation] loss: 564.456\n",
      "[9, 0] loss: 543.686\n",
      "[9, 500] loss: 563.426\n",
      "[9, 1000] loss: 560.491\n",
      "[9, 1500] loss: 555.779\n",
      "[10, validation] loss: 565.237\n",
      "[10, 0] loss: 593.329\n",
      "[10, 500] loss: 540.169\n",
      "[10, 1000] loss: 564.363\n",
      "[10, 1500] loss: 568.096\n",
      "[10, validation] loss: 564.602\n",
      "***************Autoencoder bottleneck size 10***************\n",
      "[1, validation] loss: 792.882\n",
      "[1, 0] loss: 752.042\n",
      "[1, 500] loss: 365.521\n",
      "[1, 1000] loss: 366.096\n",
      "[1, 1500] loss: 356.848\n",
      "[2, validation] loss: 372.486\n",
      "[2, 0] loss: 367.112\n",
      "[2, 500] loss: 394.664\n",
      "[2, 1000] loss: 353.608\n",
      "[2, 1500] loss: 326.410\n",
      "[3, validation] loss: 369.624\n",
      "[3, 0] loss: 373.909\n",
      "[3, 500] loss: 382.336\n",
      "[3, 1000] loss: 372.847\n",
      "[3, 1500] loss: 356.823\n",
      "[4, validation] loss: 364.334\n",
      "[4, 0] loss: 383.658\n",
      "[4, 500] loss: 283.899\n",
      "[4, 1000] loss: 359.274\n",
      "[4, 1500] loss: 364.386\n",
      "[5, validation] loss: 357.487\n",
      "[5, 0] loss: 336.973\n",
      "[5, 500] loss: 345.051\n",
      "[5, 1000] loss: 316.725\n",
      "[5, 1500] loss: 356.184\n",
      "[6, validation] loss: 356.027\n",
      "[6, 0] loss: 365.014\n",
      "[6, 500] loss: 383.509\n",
      "[6, 1000] loss: 381.178\n",
      "[6, 1500] loss: 361.027\n",
      "[7, validation] loss: 352.729\n",
      "[7, 0] loss: 305.751\n",
      "[7, 500] loss: 347.956\n",
      "[7, 1000] loss: 346.184\n",
      "[7, 1500] loss: 331.044\n",
      "[8, validation] loss: 352.337\n",
      "[8, 0] loss: 361.871\n",
      "[8, 500] loss: 321.427\n",
      "[8, 1000] loss: 362.688\n",
      "[8, 1500] loss: 352.002\n",
      "[9, validation] loss: 352.379\n",
      "[9, 0] loss: 350.589\n",
      "[9, 500] loss: 370.359\n",
      "[9, 1000] loss: 351.224\n",
      "[9, 1500] loss: 347.916\n",
      "[10, validation] loss: 351.202\n",
      "[10, 0] loss: 326.305\n",
      "[10, 500] loss: 339.279\n",
      "[10, 1000] loss: 336.948\n",
      "[10, 1500] loss: 349.354\n",
      "[10, validation] loss: 350.149\n",
      "***************Autoencoder bottleneck size 50***************\n",
      "[1, validation] loss: 797.638\n",
      "[1, 0] loss: 831.759\n",
      "[1, 500] loss: 304.772\n",
      "[1, 1000] loss: 288.681\n",
      "[1, 1500] loss: 297.558\n",
      "[2, validation] loss: 290.525\n",
      "[2, 0] loss: 305.104\n",
      "[2, 500] loss: 310.412\n",
      "[2, 1000] loss: 263.846\n",
      "[2, 1500] loss: 266.284\n",
      "[3, validation] loss: 289.506\n",
      "[3, 0] loss: 267.954\n",
      "[3, 500] loss: 280.945\n",
      "[3, 1000] loss: 286.450\n",
      "[3, 1500] loss: 271.366\n",
      "[4, validation] loss: 281.315\n",
      "[4, 0] loss: 288.685\n",
      "[4, 500] loss: 276.040\n",
      "[4, 1000] loss: 299.455\n",
      "[4, 1500] loss: 264.949\n",
      "[5, validation] loss: 278.401\n",
      "[5, 0] loss: 244.026\n",
      "[5, 500] loss: 326.897\n",
      "[5, 1000] loss: 287.487\n",
      "[5, 1500] loss: 278.495\n",
      "[6, validation] loss: 278.518\n",
      "[6, 0] loss: 262.866\n",
      "[6, 500] loss: 287.943\n",
      "[6, 1000] loss: 281.765\n",
      "[6, 1500] loss: 282.823\n",
      "[7, validation] loss: 276.490\n",
      "[7, 0] loss: 281.663\n",
      "[7, 500] loss: 253.887\n",
      "[7, 1000] loss: 257.701\n",
      "[7, 1500] loss: 273.454\n",
      "[8, validation] loss: 276.896\n",
      "[8, 0] loss: 277.504\n",
      "[8, 500] loss: 279.528\n",
      "[8, 1000] loss: 295.097\n",
      "[8, 1500] loss: 256.524\n",
      "[9, validation] loss: 275.575\n",
      "[9, 0] loss: 306.352\n",
      "[9, 500] loss: 286.118\n",
      "[9, 1000] loss: 264.056\n",
      "[9, 1500] loss: 253.417\n",
      "[10, validation] loss: 274.677\n",
      "[10, 0] loss: 274.361\n",
      "[10, 500] loss: 283.047\n",
      "[10, 1000] loss: 291.434\n",
      "[10, 1500] loss: 279.789\n",
      "[10, validation] loss: 274.308\n"
     ]
    }
   ],
   "source": [
    "bottleneck_sizes = [2, 5, 10, 50]\n",
    "autoencoders = {}\n",
    "min_loss = float(\"inf\")\n",
    "for bottleneck_size in bottleneck_sizes:\n",
    "    training_loss = []    # Here we save the training process.\n",
    "    validation_loss = []  # And here the validation loss after each epoch\n",
    "\n",
    "    print(\"*\"*15 + f\"Autoencoder bottleneck size {bottleneck_size}\" + \"*\"*15)\n",
    "  \n",
    "    autoencoder = ConvolutionalAutoencoderReducedLatentDim(\n",
    "        input_shape=(28, 28),\n",
    "        n_blocks=2,\n",
    "        downsampling_method='max-pooling',\n",
    "        upsampling_method='nearest',\n",
    "        layers_per_block=2,\n",
    "        latent_dimensionality=bottleneck_size\n",
    "    ).to(device)\n",
    "    adam = torch.optim.Adam(autoencoder.parameters(), lr=0.001)\n",
    "\n",
    "    for epoch in range(EPOCHS):\n",
    "        autoencoder.eval()\n",
    "        with torch.no_grad():\n",
    "            loss = test(autoencoder, val_dataloader, mse, epoch, validation_loss)\n",
    "        if loss < min_loss:\n",
    "            torch.save({'encoder': autoencoder.encoder.state_dict(),\n",
    "                        'bottleneck_size': bottleneck_size}, 'encoder.pt')\n",
    "        autoencoder.train()\n",
    "        train(autoencoder, train_dataloader, mse, adam, epoch, training_loss, 500)\n",
    "        \n",
    "        if early_stopping(validation_loss):\n",
    "            break\n",
    "\n",
    "    autoencoder.eval()\n",
    "    with torch.no_grad():\n",
    "        test(autoencoder, val_dataloader, mse, epoch, validation_loss)\n",
    "    autoencoders[f\"bottleneck_{bottleneck_size}\"] = {\"val_loss\": validation_loss, \"model\": autoencoder}"
   ]
  },
  {
   "cell_type": "code",
   "execution_count": 27,
   "metadata": {
    "colab": {
     "base_uri": "https://localhost:8080/",
     "height": 279
    },
    "colab_type": "code",
    "id": "ySmvQV1_PQML",
    "outputId": "a7683539-1603-451a-b8ef-b1b59dc3aa33"
   },
   "outputs": [
    {
     "data": {
      "image/png": "[encoded data removed]",
      "text/plain": [
       "<Figure size 432x288 with 1 Axes>"
      ]
     },
     "metadata": {
      "needs_background": "light"
     },
     "output_type": "display_data"
    }
   ],
   "source": [
    "plt.figure()\n",
    "for bottleneck_size in autoencoders:\n",
    "    plt.plot(autoencoders[bottleneck_size][\"val_loss\"], label=\"=\".join(bottleneck_size.split(\"_\")))\n",
    "plt.xlabel('epoch')\n",
    "plt.ylabel('MSE')\n",
    "plt.legend();"
   ]
  },
  {
   "cell_type": "code",
   "execution_count": 28,
   "metadata": {
    "colab": {
     "base_uri": "https://localhost:8080/",
     "height": 752
    },
    "colab_type": "code",
    "id": "6j2LidLMQjiw",
    "outputId": "6cc232dd-b9c0-428c-a586-1ee6dd8906cc"
   },
   "outputs": [
    {
     "data": {
      "image/png": "[encoded data removed]",
      "text/plain": [
       "<Figure size 432x288 with 2 Axes>"
      ]
     },
     "metadata": {
      "needs_background": "light"
     },
     "output_type": "display_data"
    },
    {
     "data": {
      "image/png": "[encoded data removed]",
      "text/plain": [
       "<Figure size 432x288 with 2 Axes>"
      ]
     },
     "metadata": {
      "needs_background": "light"
     },
     "output_type": "display_data"
    },
    {
     "data": {
      "image/png": "[encoded data removed]",
      "text/plain": [
       "<Figure size 432x288 with 2 Axes>"
      ]
     },
     "metadata": {
      "needs_background": "light"
     },
     "output_type": "display_data"
    },
    {
     "data": {
      "image/png": "[encoded data removed]",
      "text/plain": [
       "<Figure size 432x288 with 2 Axes>"
      ]
     },
     "metadata": {
      "needs_background": "light"
     },
     "output_type": "display_data"
    }
   ],
   "source": [
    "for bottleneck_size in autoencoders:\n",
    "    plt.figure()\n",
    "    show_image(mnist_val[0][0], autoencoders[bottleneck_size][\"model\"], bottleneck_size)"
   ]
  },
  {
   "cell_type": "markdown",
   "metadata": {},
   "source": [
    "### Average image reconstruction loss"
   ]
  },
  {
   "cell_type": "markdown",
   "metadata": {},
   "source": [
    "This section presents the average image reconstruction loss for the different autoencoders from previous section."
   ]
  },
  {
   "cell_type": "code",
   "execution_count": 29,
   "metadata": {},
   "outputs": [],
   "source": [
    "def get_num_parameters(model):\n",
    "    return sum([p.numel() for p in model.parameters() if p.requires_grad])\n",
    "\n",
    "def get_avg_image_reconstruction_loss(model, dataloader, criterion):\n",
    "    loss = 0\n",
    "    total = 0\n",
    "    for batch in dataloader:\n",
    "        images = batch[0].to(device)\n",
    "        reconstructed = model(images)\n",
    "        loss += criterion(reconstructed, images).item()\n",
    "        total += images.shape[0]\n",
    "\n",
    "    mean_loss = loss / total\n",
    "    return mean_loss"
   ]
  },
  {
   "cell_type": "code",
   "execution_count": 30,
   "metadata": {},
   "outputs": [
    {
     "name": "stdout",
     "output_type": "stream",
     "text": [
      "+---------------+----------------------+--------------------+--------------------+\n",
      "|     Model     | Number of parameters |  Validation loss   |     Test loss      |\n",
      "+---------------+----------------------+--------------------+--------------------+\n",
      "|  bottleneck_2 |        130451        | 401.6259993489583  | 398.6188647460938  |\n",
      "|  bottleneck_5 |        139862        | 564.6016845703125  | 559.5110014648437  |\n",
      "| bottleneck_10 |        155547        | 350.14921842447916 | 348.9492932128906  |\n",
      "| bottleneck_50 |        281027        |  274.307548828125  | 274.81557758789063 |\n",
      "+---------------+----------------------+--------------------+--------------------+\n"
     ]
    }
   ],
   "source": [
    "tbl = PrettyTable()\n",
    "tbl.field_names = [\"Model\", \"Number of parameters\", \"Validation loss\", \"Test loss\"]\n",
    "for model_name, model_info in autoencoders.items():\n",
    "    autoencoder = model_info[\"model\"]\n",
    "    num_params = get_num_parameters(autoencoder)\n",
    "    val_loss = get_avg_image_reconstruction_loss(autoencoder, val_dataloader, mse)\n",
    "    test_loss = get_avg_image_reconstruction_loss(autoencoder, test_dataloader, mse)\n",
    "    tbl.add_row([model_name, num_params, val_loss, test_loss])\n",
    "\n",
    "print(tbl)"
   ]
  },
  {
   "cell_type": "markdown",
   "metadata": {},
   "source": [
    "Generating random images taking 5 elements from the test set."
   ]
  },
  {
   "cell_type": "code",
   "execution_count": 31,
   "metadata": {},
   "outputs": [
    {
     "data": {
      "image/png": "[encoded data removed]",
      "text/plain": [
       "<Figure size 432x288 with 2 Axes>"
      ]
     },
     "metadata": {
      "needs_background": "light"
     },
     "output_type": "display_data"
    },
    {
     "data": {
      "image/png": "[encoded data removed]",
      "text/plain": [
       "<Figure size 432x288 with 2 Axes>"
      ]
     },
     "metadata": {
      "needs_background": "light"
     },
     "output_type": "display_data"
    },
    {
     "data": {
      "image/png": "[encoded data removed]",
      "text/plain": [
       "<Figure size 432x288 with 2 Axes>"
      ]
     },
     "metadata": {
      "needs_background": "light"
     },
     "output_type": "display_data"
    },
    {
     "data": {
      "image/png": "[encoded data removed]",
      "text/plain": [
       "<Figure size 432x288 with 2 Axes>"
      ]
     },
     "metadata": {
      "needs_background": "light"
     },
     "output_type": "display_data"
    },
    {
     "data": {
      "image/png": "[encoded data removed]",
      "text/plain": [
       "<Figure size 432x288 with 2 Axes>"
      ]
     },
     "metadata": {
      "needs_background": "light"
     },
     "output_type": "display_data"
    }
   ],
   "source": [
    "autoencoder = autoencoders[\"bottleneck_50\"][\"model\"]\n",
    "random_indexes = [randint(0,len(test_dataloader)) for _ in range(5)]\n",
    "for index in random_indexes:\n",
    "    plt.figure()\n",
    "    show_image(mnist_test[index][0], autoencoder)"
   ]
  },
  {
   "cell_type": "markdown",
   "metadata": {},
   "source": [
    "Presenting 5 random generated images to the autoencoder"
   ]
  },
  {
   "cell_type": "code",
   "execution_count": 32,
   "metadata": {},
   "outputs": [
    {
     "data": {
      "image/png": "[encoded data removed]",
      "text/plain": [
       "<Figure size 432x288 with 2 Axes>"
      ]
     },
     "metadata": {
      "needs_background": "light"
     },
     "output_type": "display_data"
    },
    {
     "data": {
      "image/png": "[encoded data removed]",
      "text/plain": [
       "<Figure size 432x288 with 2 Axes>"
      ]
     },
     "metadata": {
      "needs_background": "light"
     },
     "output_type": "display_data"
    },
    {
     "data": {
      "image/png": "[encoded data removed]",
      "text/plain": [
       "<Figure size 432x288 with 2 Axes>"
      ]
     },
     "metadata": {
      "needs_background": "light"
     },
     "output_type": "display_data"
    },
    {
     "data": {
      "image/png": "[encoded data removed]",
      "text/plain": [
       "<Figure size 432x288 with 2 Axes>"
      ]
     },
     "metadata": {
      "needs_background": "light"
     },
     "output_type": "display_data"
    },
    {
     "data": {
      "image/png": "[encoded data removed]",
      "text/plain": [
       "<Figure size 432x288 with 2 Axes>"
      ]
     },
     "metadata": {
      "needs_background": "light"
     },
     "output_type": "display_data"
    }
   ],
   "source": [
    "for _ in range(5):\n",
    "    image = torch.randn((1, 28, 28))\n",
    "    plt.figure()\n",
    "    show_image(image, autoencoder)    "
   ]
  },
  {
   "cell_type": "markdown",
   "metadata": {
    "colab_type": "text",
    "id": "04ODN1xHIHEL"
   },
   "source": [
    "# Exercise 2: Transfer Learning\n",
    "\n",
    "## Steps:\n",
    "\n",
    "1. Select a subset of 100 images and their associated labels from the MNIST training data.\n",
    "2. Select one of the previously trained autoencoders.\n",
    "3. Create a digit (0-9) classification model reusing the encoder of the autoencoder and adding the needed fully connected (projection) layer.\n",
    "3. Pretraining: use the weights of the autoencoder as initial values for the network weights and train a classification model on the subset of 100 samples.\n",
    "4. Fine-tuning: do the same, but train the new projection layer with a normal learning rate and the reused part with a very low learning rate.\n",
    "5. From scratch: train the model on the 100 samples without reusing the decoder weights at all.\n",
    "6. Show the accuracy of the four models on the MNIST test set in a table.\n"
   ]
  },
  {
   "cell_type": "markdown",
   "metadata": {
    "colab_type": "text",
    "id": "__skvBbtjABn"
   },
   "source": [
    "## Pretraining"
   ]
  },
  {
   "cell_type": "code",
   "execution_count": 224,
   "metadata": {},
   "outputs": [],
   "source": [
    "EPOCHS = 30"
   ]
  },
  {
   "cell_type": "markdown",
   "metadata": {
    "colab_type": "text",
    "id": "v0jvg9aSh70E"
   },
   "source": [
    "The number of outputs need to be 10 as we have 10 classes, and 50 as input because we will use the encoder with a latent dimensionality of 50.\n",
    "\n",
    "We don't need to define a softmax layer, as the `CrossEntropyLoss` class internally applies it."
   ]
  },
  {
   "cell_type": "code",
   "execution_count": 225,
   "metadata": {},
   "outputs": [],
   "source": [
    "# Load saved autoencoder training checkpoint.\n",
    "autoencoder_checkpoint = torch.load('encoder.pt')\n",
    "bottleneck_size = autoencoder_checkpoint['bottleneck_size']\n",
    "encoder = ConvolutionalAutoencoderReducedLatentDim(\n",
    "    input_shape=(28, 28),\n",
    "    n_blocks=2,\n",
    "    downsampling_method='max-pooling',\n",
    "    upsampling_method='nearest',\n",
    "    layers_per_block=2,\n",
    "    latent_dimensionality=bottleneck_size\n",
    ").encoder.to(device)\n",
    "encoder.load_state_dict(autoencoder_checkpoint['encoder'])\n",
    "\n",
    "# Define classification layer.\n",
    "classifier = torch.nn.Linear(bottleneck_size, 10).to(device)"
   ]
  },
  {
   "cell_type": "markdown",
   "metadata": {
    "colab_type": "text",
    "id": "qqvqjkE5h2jR"
   },
   "source": [
    "We use the `cross-entropy` as our loss function and `Adam` as our optimization algorithm with a `learning rate` of 0.01."
   ]
  },
  {
   "cell_type": "code",
   "execution_count": 226,
   "metadata": {
    "colab": {},
    "colab_type": "code",
    "id": "adq2d7EnJaW5"
   },
   "outputs": [],
   "source": [
    "cross_entropy = torch.nn.CrossEntropyLoss()\n",
    "optimizer_adam = torch.optim.Adam(classifier.parameters(), lr=0.01)"
   ]
  },
  {
   "cell_type": "markdown",
   "metadata": {
    "colab_type": "text",
    "id": "GyA7pTDyiZH8"
   },
   "source": [
    "We create a subset dataset using the pytorch's `Subset` class with the first 100 samples from the training split."
   ]
  },
  {
   "cell_type": "code",
   "execution_count": 227,
   "metadata": {
    "colab": {},
    "colab_type": "code",
    "id": "M8UWsjOhJqKN"
   },
   "outputs": [],
   "source": [
    "training_subset = torch.utils.data.Subset(mnist_train, range(100))\n",
    "subset_dataloader = torch.utils.data.DataLoader(training_subset,\n",
    "                                                batch_size=BATCH_SIZE,\n",
    "                                                shuffle=True,\n",
    "                                                num_workers=4)"
   ]
  },
  {
   "cell_type": "markdown",
   "metadata": {
    "colab_type": "text",
    "id": "xrkIqayBiubF"
   },
   "source": [
    "Define our `classification_train` function that will be called at each epoch. The function takes the classifier network as well as the encoder network. It first projects the input image to the latent space and then applies the classification layer.\n",
    "\n",
    "The output of the encoder is detached so the gradients are not computed (because we dont need them)."
   ]
  },
  {
   "cell_type": "code",
   "execution_count": 228,
   "metadata": {
    "colab": {},
    "colab_type": "code",
    "id": "UWTRqkZ6MEgf"
   },
   "outputs": [],
   "source": [
    "def classification_train(classifier, encoder, dataloader, criterion, optimizer, epoch, loss_history):\n",
    "    for i, (images, labels) in enumerate(dataloader):\n",
    "        images, labels = images.to(device), labels.to(device, torch.long)\n",
    "        optimizer.zero_grad()\n",
    "        # To latent space.\n",
    "        codes = encoder(images).detach()\n",
    "        # Classify from latent space.\n",
    "        outputs = classifier(codes)\n",
    "        loss = criterion(outputs, labels)\n",
    "        loss.backward()   # Backprop.\n",
    "        optimizer.step()  # Parameter updates.\n",
    "\n",
    "        loss_history.append(loss.item())\n",
    "        print('[%d, %d] loss: %.3f' % (epoch + 1, i, loss.item()))"
   ]
  },
  {
   "cell_type": "markdown",
   "metadata": {
    "colab_type": "text",
    "id": "BL_Pz6KhizE8"
   },
   "source": [
    "Very similar to the `classification_train` function, we define our `classification_test` function to validate. In this case we don't backpropagate and update our parameters. We also compute the accuracy by summing all the correct predictions and dividing by the total number of images."
   ]
  },
  {
   "cell_type": "code",
   "execution_count": 229,
   "metadata": {
    "colab": {},
    "colab_type": "code",
    "id": "nv5E5Xc6QiKV"
   },
   "outputs": [],
   "source": [
    "def classification_test(classifier, encoder, dataloader, criterion, epoch, loss_history):\n",
    "    loss = 0\n",
    "    total = 0\n",
    "    correct = 0\n",
    "    for i, (images, labels) in enumerate(dataloader):\n",
    "        images, labels = images.to(device), labels.to(device, torch.long)\n",
    "        codes = encoder(images)\n",
    "        outputs = classifier(codes)\n",
    "        loss += criterion(outputs, labels).item()\n",
    "        # Compute average accuracy.\n",
    "        _, predicted = torch.max(outputs.data, 1)\n",
    "        total += labels.size(0)\n",
    "        correct += (predicted == labels).sum().item()\n",
    "\n",
    "    mean_loss = loss / (i + 1)\n",
    "    acc = 100 * correct / total\n",
    "    loss_history.append(mean_loss)  \n",
    "    print('[%d, validation] loss: %.3f accuracy: %.3f' % (epoch + 1, mean_loss, acc))\n",
    "    return mean_loss, acc"
   ]
  },
  {
   "cell_type": "markdown",
   "metadata": {
    "colab_type": "text",
    "id": "fub5vuTJkmGN"
   },
   "source": [
    "We pass the `encoder` submodule of the `autoencoder` object as the `encoder` parameter of the above-defined functions."
   ]
  },
  {
   "cell_type": "code",
   "execution_count": 230,
   "metadata": {
    "colab": {
     "base_uri": "https://localhost:8080/",
     "height": 884
    },
    "colab_type": "code",
    "id": "Tx50jNQdNaoX",
    "outputId": "321bb9ba-9db3-47fc-e5c9-d5fd250b84c3"
   },
   "outputs": [
    {
     "name": "stdout",
     "output_type": "stream",
     "text": [
      "[1, validation] loss: 2.769 accuracy: 11.533\n",
      "[1, 0] loss: 2.892\n",
      "[1, 1] loss: 2.535\n",
      "[1, 2] loss: 2.538\n",
      "[1, 3] loss: 2.298\n",
      "[2, validation] loss: 2.332 accuracy: 16.367\n",
      "[2, 0] loss: 2.184\n",
      "[2, 1] loss: 2.268\n",
      "[2, 2] loss: 2.296\n",
      "[2, 3] loss: 2.144\n",
      "[3, validation] loss: 2.244 accuracy: 10.533\n",
      "[3, 0] loss: 2.096\n",
      "[3, 1] loss: 2.152\n",
      "[3, 2] loss: 2.189\n",
      "[3, 3] loss: 2.024\n",
      "[4, validation] loss: 2.188 accuracy: 17.800\n",
      "[4, 0] loss: 2.084\n",
      "[4, 1] loss: 2.032\n",
      "[4, 2] loss: 2.017\n",
      "[4, 3] loss: 1.831\n",
      "[5, validation] loss: 2.104 accuracy: 32.500\n",
      "[5, 0] loss: 2.007\n",
      "[5, 1] loss: 2.034\n",
      "[5, 2] loss: 1.835\n",
      "[5, 3] loss: 1.653\n",
      "[6, validation] loss: 2.039 accuracy: 36.767\n",
      "[6, 0] loss: 1.974\n",
      "[6, 1] loss: 1.812\n",
      "[6, 2] loss: 1.797\n",
      "[6, 3] loss: 2.157\n",
      "[7, validation] loss: 1.964 accuracy: 43.700\n",
      "[7, 0] loss: 1.676\n",
      "[7, 1] loss: 1.873\n",
      "[7, 2] loss: 1.800\n",
      "[7, 3] loss: 1.821\n",
      "[8, validation] loss: 1.875 accuracy: 50.300\n",
      "[8, 0] loss: 1.612\n",
      "[8, 1] loss: 1.784\n",
      "[8, 2] loss: 1.656\n",
      "[8, 3] loss: 2.291\n",
      "[9, validation] loss: 1.805 accuracy: 50.600\n",
      "[9, 0] loss: 1.570\n",
      "[9, 1] loss: 1.661\n",
      "[9, 2] loss: 1.652\n",
      "[9, 3] loss: 1.575\n",
      "[10, validation] loss: 1.734 accuracy: 52.567\n",
      "[10, 0] loss: 1.544\n",
      "[10, 1] loss: 1.507\n",
      "[10, 2] loss: 1.652\n",
      "[10, 3] loss: 1.456\n",
      "[11, validation] loss: 1.689 accuracy: 48.800\n",
      "[11, 0] loss: 1.572\n",
      "[11, 1] loss: 1.414\n",
      "[11, 2] loss: 1.472\n",
      "[11, 3] loss: 1.888\n",
      "[12, validation] loss: 1.631 accuracy: 57.867\n",
      "[12, 0] loss: 1.459\n",
      "[12, 1] loss: 1.358\n",
      "[12, 2] loss: 1.428\n",
      "[12, 3] loss: 1.728\n",
      "[13, validation] loss: 1.571 accuracy: 67.233\n",
      "[13, 0] loss: 1.419\n",
      "[13, 1] loss: 1.227\n",
      "[13, 2] loss: 1.480\n",
      "[13, 3] loss: 1.100\n",
      "[14, validation] loss: 1.518 accuracy: 72.333\n",
      "[14, 0] loss: 1.342\n",
      "[14, 1] loss: 1.253\n",
      "[14, 2] loss: 1.323\n",
      "[14, 3] loss: 1.225\n",
      "[15, validation] loss: 1.479 accuracy: 73.000\n",
      "[15, 0] loss: 1.245\n",
      "[15, 1] loss: 1.318\n",
      "[15, 2] loss: 1.260\n",
      "[15, 3] loss: 0.907\n",
      "[16, validation] loss: 1.450 accuracy: 71.367\n",
      "[16, 0] loss: 1.238\n",
      "[16, 1] loss: 1.220\n",
      "[16, 2] loss: 1.178\n",
      "[16, 3] loss: 1.387\n",
      "[17, validation] loss: 1.431 accuracy: 68.367\n",
      "[17, 0] loss: 1.178\n",
      "[17, 1] loss: 1.188\n",
      "[17, 2] loss: 1.187\n",
      "[17, 3] loss: 1.260\n",
      "[18, validation] loss: 1.389 accuracy: 70.400\n",
      "[18, 0] loss: 1.134\n",
      "[18, 1] loss: 1.074\n",
      "[18, 2] loss: 1.184\n",
      "[18, 3] loss: 1.167\n",
      "[19, validation] loss: 1.345 accuracy: 73.533\n",
      "[19, 0] loss: 1.058\n",
      "[19, 1] loss: 1.020\n",
      "[19, 2] loss: 1.107\n",
      "[19, 3] loss: 1.743\n",
      "[20, validation] loss: 1.310 accuracy: 73.500\n",
      "[20, 0] loss: 1.038\n",
      "[20, 1] loss: 0.991\n",
      "[20, 2] loss: 1.068\n",
      "[20, 3] loss: 1.547\n",
      "[21, validation] loss: 1.254 accuracy: 75.267\n",
      "[21, 0] loss: 1.109\n",
      "[21, 1] loss: 1.043\n",
      "[21, 2] loss: 0.923\n",
      "[21, 3] loss: 1.025\n",
      "[22, validation] loss: 1.215 accuracy: 79.033\n",
      "[22, 0] loss: 1.084\n",
      "[22, 1] loss: 1.008\n",
      "[22, 2] loss: 0.931\n",
      "[22, 3] loss: 1.058\n",
      "[23, validation] loss: 1.189 accuracy: 79.300\n",
      "[23, 0] loss: 1.029\n",
      "[23, 1] loss: 0.973\n",
      "[23, 2] loss: 0.917\n",
      "[23, 3] loss: 0.899\n",
      "[24, validation] loss: 1.166 accuracy: 78.700\n",
      "[24, 0] loss: 0.917\n",
      "[24, 1] loss: 1.050\n",
      "[24, 2] loss: 0.876\n",
      "[24, 3] loss: 0.687\n",
      "[25, validation] loss: 1.151 accuracy: 77.567\n",
      "[25, 0] loss: 0.926\n",
      "[25, 1] loss: 0.869\n",
      "[25, 2] loss: 0.903\n",
      "[25, 3] loss: 0.990\n",
      "[26, validation] loss: 1.142 accuracy: 76.433\n",
      "[26, 0] loss: 0.874\n",
      "[26, 1] loss: 0.928\n",
      "[26, 2] loss: 0.876\n",
      "[26, 3] loss: 0.527\n",
      "[27, validation] loss: 1.125 accuracy: 76.200\n",
      "[27, 0] loss: 0.848\n",
      "[27, 1] loss: 0.763\n",
      "[27, 2] loss: 0.990\n",
      "[27, 3] loss: 0.710\n",
      "[28, validation] loss: 1.117 accuracy: 75.400\n",
      "[28, 0] loss: 0.810\n",
      "[28, 1] loss: 0.788\n",
      "[28, 2] loss: 0.905\n",
      "[28, 3] loss: 0.832\n",
      "[29, validation] loss: 1.092 accuracy: 75.700\n",
      "[29, 0] loss: 0.876\n",
      "[29, 1] loss: 0.854\n",
      "[29, 2] loss: 0.713\n",
      "[29, 3] loss: 0.675\n",
      "[30, validation] loss: 1.057 accuracy: 76.733\n",
      "[30, 0] loss: 0.798\n",
      "[30, 1] loss: 0.661\n",
      "[30, 2] loss: 0.881\n",
      "[30, 3] loss: 0.855\n",
      "[30, validation] loss: 1.037 accuracy: 77.367\n"
     ]
    }
   ],
   "source": [
    "training_loss = []\n",
    "validation_loss = []  # Here we save the training process.\n",
    "min_loss = float('inf')\n",
    "\n",
    "for epoch in range(EPOCHS):\n",
    "    classifier.eval()\n",
    "    with torch.no_grad():\n",
    "        loss, _ = classification_test(classifier, encoder, val_dataloader, cross_entropy, epoch, validation_loss)\n",
    "        if loss < min_loss:\n",
    "            min_loss = loss\n",
    "            torch.save({'classifier': classifier.state_dict(),\n",
    "                        'encoder': encoder.state_dict()},\n",
    "                       'best_pretrain.pt')\n",
    "    classifier.train()\n",
    "    classification_train(classifier, encoder, subset_dataloader, cross_entropy, optimizer_adam, epoch, training_loss)\n",
    "\n",
    "classifier.eval()\n",
    "with torch.no_grad():\n",
    "    loss, _ = classification_test(classifier, encoder, val_dataloader, cross_entropy, epoch, validation_loss)\n",
    "    if loss < min_loss:\n",
    "            min_loss = loss\n",
    "            torch.save({'classifier': classifier.state_dict(),\n",
    "                        'encoder': encoder.state_dict()},\n",
    "                       'best_pretrain.pt')"
   ]
  },
  {
   "cell_type": "code",
   "execution_count": 231,
   "metadata": {
    "colab": {
     "base_uri": "https://localhost:8080/",
     "height": 295
    },
    "colab_type": "code",
    "id": "3g7sNGZChB9G",
    "outputId": "e226801c-e6da-4a6c-a560-66fbf62880f3"
   },
   "outputs": [
    {
     "data": {
      "image/png": "[encoded data removed]",
      "text/plain": [
       "<Figure size 432x288 with 1 Axes>"
      ]
     },
     "metadata": {
      "needs_background": "light"
     },
     "output_type": "display_data"
    }
   ],
   "source": [
    "plt.title('Pretraining classification loss curves')\n",
    "plt.plot(training_loss, label='training loss')\n",
    "plt.plot(np.linspace(0, len(training_loss), len(validation_loss)), validation_loss, '-x', label='validation loss')\n",
    "plt.xlabel('iteration')\n",
    "plt.ylabel('cross entropy')\n",
    "plt.legend();"
   ]
  },
  {
   "cell_type": "code",
   "execution_count": 232,
   "metadata": {
    "colab": {},
    "colab_type": "code",
    "id": "f8HSHSVvRmjS"
   },
   "outputs": [],
   "source": [
    "test_dataloader = torch.utils.data.DataLoader(mnist_test, batch_size=BATCH_SIZE)"
   ]
  },
  {
   "cell_type": "code",
   "execution_count": 233,
   "metadata": {
    "colab": {
     "base_uri": "https://localhost:8080/",
     "height": 51
    },
    "colab_type": "code",
    "id": "B2dNc7aeap_8",
    "outputId": "22f2bdbf-3f6f-4ed0-cb77-9c3093f9dcd2"
   },
   "outputs": [
    {
     "name": "stdout",
     "output_type": "stream",
     "text": [
      "[30, validation] loss: 1.024 accuracy: 77.890\n"
     ]
    }
   ],
   "source": [
    "_ =classification_test(classifier, encoder, test_dataloader, cross_entropy, epoch, [])"
   ]
  },
  {
   "cell_type": "markdown",
   "metadata": {
    "colab_type": "text",
    "id": "27T_v5UkjACE"
   },
   "source": [
    "## Pretrain + Fine-tuning"
   ]
  },
  {
   "cell_type": "markdown",
   "metadata": {
    "colab_type": "text",
    "id": "BZgsgSfHmYWH"
   },
   "source": [
    "We modify the optimizer in order to have different learning rates for the encoder and the classifier.\n",
    "\n",
    "The `classification_test` function doesn't need to be modified."
   ]
  },
  {
   "cell_type": "markdown",
   "metadata": {
    "colab_type": "text",
    "id": "JZUYo_X3m9D3"
   },
   "source": [
    "We define a new Adam optimizer for the encoder network with a small learning rate of 0.0001. The classification network optimizer is reused."
   ]
  },
  {
   "cell_type": "code",
   "execution_count": 234,
   "metadata": {},
   "outputs": [],
   "source": [
    "optimizer_adam = torch.optim.Adam([\n",
    "    {\"params\": classifier.parameters()},\n",
    "    {\"params\": encoder.parameters(), \"lr\":0.0001}\n",
    "], lr=1e-3)"
   ]
  },
  {
   "cell_type": "markdown",
   "metadata": {
    "colab_type": "text",
    "id": "lxBX3gRtnOV9"
   },
   "source": [
    "Note that we don't redefine the `training_loss` and `validation_loss` list, so they will have the values of the pretraining stage too."
   ]
  },
  {
   "cell_type": "code",
   "execution_count": 235,
   "metadata": {
    "colab": {
     "base_uri": "https://localhost:8080/",
     "height": 1000
    },
    "colab_type": "code",
    "id": "RdqDkdgwjACN",
    "outputId": "f0e3b4d8-ed0b-4b24-c0d9-8088c22f2332"
   },
   "outputs": [
    {
     "name": "stdout",
     "output_type": "stream",
     "text": [
      "[1, validation] loss: 1.037 accuracy: 77.367\n",
      "[1, 0] loss: 0.760\n",
      "[1, 1] loss: 0.738\n",
      "[1, 2] loss: 0.825\n",
      "[1, 3] loss: 0.538\n",
      "[2, validation] loss: 1.030 accuracy: 77.367\n",
      "[2, 0] loss: 0.682\n",
      "[2, 1] loss: 0.818\n",
      "[2, 2] loss: 0.766\n",
      "[2, 3] loss: 0.777\n",
      "[3, validation] loss: 1.024 accuracy: 77.533\n",
      "[3, 0] loss: 0.791\n",
      "[3, 1] loss: 0.638\n",
      "[3, 2] loss: 0.780\n",
      "[3, 3] loss: 1.102\n",
      "[4, validation] loss: 1.019 accuracy: 77.767\n",
      "[4, 0] loss: 0.720\n",
      "[4, 1] loss: 0.705\n",
      "[4, 2] loss: 0.793\n",
      "[4, 3] loss: 0.946\n",
      "[5, validation] loss: 1.016 accuracy: 77.867\n",
      "[5, 0] loss: 0.906\n",
      "[5, 1] loss: 0.722\n",
      "[5, 2] loss: 0.621\n",
      "[5, 3] loss: 0.624\n",
      "[6, validation] loss: 1.013 accuracy: 77.867\n",
      "[6, 0] loss: 0.789\n",
      "[6, 1] loss: 0.725\n",
      "[6, 2] loss: 0.691\n",
      "[6, 3] loss: 0.894\n",
      "[7, validation] loss: 1.010 accuracy: 77.800\n",
      "[7, 0] loss: 0.658\n",
      "[7, 1] loss: 0.764\n",
      "[7, 2] loss: 0.794\n",
      "[7, 3] loss: 0.727\n",
      "[8, validation] loss: 1.006 accuracy: 77.800\n",
      "[8, 0] loss: 0.820\n",
      "[8, 1] loss: 0.736\n",
      "[8, 2] loss: 0.680\n",
      "[8, 3] loss: 0.472\n",
      "[9, validation] loss: 1.002 accuracy: 77.967\n",
      "[9, 0] loss: 0.846\n",
      "[9, 1] loss: 0.585\n",
      "[9, 2] loss: 0.803\n",
      "[9, 3] loss: 0.411\n",
      "[10, validation] loss: 0.999 accuracy: 78.200\n",
      "[10, 0] loss: 0.822\n",
      "[10, 1] loss: 0.747\n",
      "[10, 2] loss: 0.630\n",
      "[10, 3] loss: 0.620\n",
      "[11, validation] loss: 0.996 accuracy: 78.167\n",
      "[11, 0] loss: 0.815\n",
      "[11, 1] loss: 0.664\n",
      "[11, 2] loss: 0.695\n",
      "[11, 3] loss: 0.729\n",
      "[12, validation] loss: 0.993 accuracy: 78.167\n",
      "[12, 0] loss: 0.783\n",
      "[12, 1] loss: 0.696\n",
      "[12, 2] loss: 0.690\n",
      "[12, 3] loss: 0.704\n",
      "[13, validation] loss: 0.990 accuracy: 78.267\n",
      "[13, 0] loss: 0.664\n",
      "[13, 1] loss: 0.818\n",
      "[13, 2] loss: 0.700\n",
      "[13, 3] loss: 0.537\n",
      "[14, validation] loss: 0.987 accuracy: 78.500\n",
      "[14, 0] loss: 0.780\n",
      "[14, 1] loss: 0.726\n",
      "[14, 2] loss: 0.674\n",
      "[14, 3] loss: 0.488\n",
      "[15, validation] loss: 0.985 accuracy: 78.700\n",
      "[15, 0] loss: 0.732\n",
      "[15, 1] loss: 0.665\n",
      "[15, 2] loss: 0.704\n",
      "[15, 3] loss: 1.074\n",
      "[16, validation] loss: 0.983 accuracy: 78.767\n",
      "[16, 0] loss: 0.741\n",
      "[16, 1] loss: 0.708\n",
      "[16, 2] loss: 0.709\n",
      "[16, 3] loss: 0.553\n",
      "[17, validation] loss: 0.980 accuracy: 78.767\n",
      "[17, 0] loss: 0.691\n",
      "[17, 1] loss: 0.785\n",
      "[17, 2] loss: 0.690\n",
      "[17, 3] loss: 0.434\n",
      "[18, validation] loss: 0.978 accuracy: 78.867\n",
      "[18, 0] loss: 0.677\n",
      "[18, 1] loss: 0.705\n",
      "[18, 2] loss: 0.771\n",
      "[18, 3] loss: 0.478\n",
      "[19, validation] loss: 0.975 accuracy: 78.867\n",
      "[19, 0] loss: 0.678\n",
      "[19, 1] loss: 0.698\n",
      "[19, 2] loss: 0.776\n",
      "[19, 3] loss: 0.417\n",
      "[20, validation] loss: 0.973 accuracy: 78.900\n",
      "[20, 0] loss: 0.750\n",
      "[20, 1] loss: 0.725\n",
      "[20, 2] loss: 0.677\n",
      "[20, 3] loss: 0.353\n",
      "[21, validation] loss: 0.971 accuracy: 78.867\n",
      "[21, 0] loss: 0.628\n",
      "[21, 1] loss: 0.786\n",
      "[21, 2] loss: 0.625\n",
      "[21, 3] loss: 1.175\n",
      "[22, validation] loss: 0.967 accuracy: 78.967\n",
      "[22, 0] loss: 0.657\n",
      "[22, 1] loss: 0.571\n",
      "[22, 2] loss: 0.840\n",
      "[22, 3] loss: 0.872\n",
      "[23, validation] loss: 0.962 accuracy: 79.600\n",
      "[23, 0] loss: 0.774\n",
      "[23, 1] loss: 0.656\n",
      "[23, 2] loss: 0.615\n",
      "[23, 3] loss: 0.986\n",
      "[24, validation] loss: 0.957 accuracy: 79.800\n",
      "[24, 0] loss: 0.586\n",
      "[24, 1] loss: 0.709\n",
      "[24, 2] loss: 0.771\n",
      "[24, 3] loss: 0.702\n",
      "[25, validation] loss: 0.955 accuracy: 80.000\n",
      "[25, 0] loss: 0.733\n",
      "[25, 1] loss: 0.653\n",
      "[25, 2] loss: 0.644\n",
      "[25, 3] loss: 0.920\n",
      "[26, validation] loss: 0.951 accuracy: 80.133\n",
      "[26, 0] loss: 0.694\n",
      "[26, 1] loss: 0.626\n",
      "[26, 2] loss: 0.703\n",
      "[26, 3] loss: 0.931\n",
      "[27, validation] loss: 0.948 accuracy: 80.400\n",
      "[27, 0] loss: 0.715\n",
      "[27, 1] loss: 0.730\n",
      "[27, 2] loss: 0.636\n",
      "[27, 3] loss: 0.408\n",
      "[28, validation] loss: 0.946 accuracy: 80.600\n",
      "[28, 0] loss: 0.796\n",
      "[28, 1] loss: 0.606\n",
      "[28, 2] loss: 0.670\n",
      "[28, 3] loss: 0.442\n",
      "[29, validation] loss: 0.944 accuracy: 80.633\n",
      "[29, 0] loss: 0.667\n",
      "[29, 1] loss: 0.720\n",
      "[29, 2] loss: 0.676\n",
      "[29, 3] loss: 0.466\n",
      "[30, validation] loss: 0.942 accuracy: 80.700\n",
      "[30, 0] loss: 0.652\n",
      "[30, 1] loss: 0.854\n",
      "[30, 2] loss: 0.535\n",
      "[30, 3] loss: 0.576\n",
      "[30, validation] loss: 0.941 accuracy: 80.500\n"
     ]
    }
   ],
   "source": [
    "min_loss = float('inf')\n",
    "\n",
    "for epoch in range(EPOCHS):\n",
    "    classifier.eval()\n",
    "    encoder.eval()\n",
    "    with torch.no_grad():\n",
    "        loss, _ = classification_test(classifier, encoder, val_dataloader, cross_entropy, epoch, validation_loss)\n",
    "        if loss < min_loss:\n",
    "            min_loss = loss\n",
    "            torch.save({'classifier': classifier.state_dict(),\n",
    "                        'encoder': encoder.state_dict()},\n",
    "                       'best_pretraining+fine-tuning.pt')\n",
    "    classifier.train()\n",
    "    encoder.train()\n",
    "    classification_train(classifier, encoder, subset_dataloader,\n",
    "                         cross_entropy, optimizer_adam, epoch, training_loss)\n",
    "\n",
    "classifier.eval()\n",
    "encoder.eval()\n",
    "with torch.no_grad():\n",
    "    loss, _ = classification_test(classifier, encoder, val_dataloader, cross_entropy, epoch, validation_loss)\n",
    "    if loss < min_loss:\n",
    "            min_loss = loss\n",
    "            torch.save({'classifier': classifier.state_dict(),\n",
    "                        'encoder': encoder.state_dict()},\n",
    "                       'best_pretraining+fine-tuning.pt')"
   ]
  },
  {
   "cell_type": "code",
   "execution_count": 236,
   "metadata": {
    "colab": {
     "base_uri": "https://localhost:8080/",
     "height": 295
    },
    "colab_type": "code",
    "id": "ge4JD9dpaYXZ",
    "outputId": "dfafff15-80b1-4d6c-a6f6-73960e842182"
   },
   "outputs": [
    {
     "data": {
      "image/png": "[encoded data removed]",
      "text/plain": [
       "<Figure size 432x288 with 1 Axes>"
      ]
     },
     "metadata": {
      "needs_background": "light"
     },
     "output_type": "display_data"
    }
   ],
   "source": [
    "plt.title('Fine-tunning classification loss curves')\n",
    "plt.plot(training_loss, label='training loss')\n",
    "plt.plot(np.linspace(0, len(training_loss), len(validation_loss)), validation_loss, '-x', label='validation loss')\n",
    "plt.xlabel('iteration')\n",
    "plt.ylabel('cross entropy')\n",
    "plt.legend();"
   ]
  },
  {
   "cell_type": "code",
   "execution_count": 237,
   "metadata": {
    "colab": {
     "base_uri": "https://localhost:8080/",
     "height": 51
    },
    "colab_type": "code",
    "id": "zMB42WyHPNmA",
    "outputId": "747d1da3-e29c-4151-aaeb-54a9a2030a64"
   },
   "outputs": [
    {
     "name": "stdout",
     "output_type": "stream",
     "text": [
      "[30, validation] loss: 0.922 accuracy: 81.610\n"
     ]
    }
   ],
   "source": [
    "_ = classification_test(classifier, encoder, test_dataloader, cross_entropy, epoch, [])"
   ]
  },
  {
   "cell_type": "markdown",
   "metadata": {},
   "source": [
    "## Fine-tuning"
   ]
  },
  {
   "cell_type": "code",
   "execution_count": 238,
   "metadata": {},
   "outputs": [],
   "source": [
    "encoder = ConvolutionalAutoencoderReducedLatentDim(\n",
    "    input_shape=(28, 28),\n",
    "    n_blocks=2,\n",
    "    downsampling_method='max-pooling',\n",
    "    upsampling_method='nearest',\n",
    "    layers_per_block=2,\n",
    "    latent_dimensionality=bottleneck_size\n",
    ").encoder.to(device)\n",
    "encoder.load_state_dict(autoencoder_checkpoint['encoder'])\n",
    "\n",
    "# Define classification layer.\n",
    "classifier = torch.nn.Linear(bottleneck_size, 10).to(device)"
   ]
  },
  {
   "cell_type": "code",
   "execution_count": 239,
   "metadata": {},
   "outputs": [],
   "source": [
    "optimizer_adam = torch.optim.Adam([\n",
    "    {\"params\": classifier.parameters(), \"lr\": 1e-2},\n",
    "    {\"params\": encoder.parameters(), \"lr\":1e-5}\n",
    "], lr=1e-3)\n"
   ]
  },
  {
   "cell_type": "code",
   "execution_count": 240,
   "metadata": {
    "scrolled": true
   },
   "outputs": [
    {
     "name": "stdout",
     "output_type": "stream",
     "text": [
      "[1, validation] loss: 2.543 accuracy: 6.833\n",
      "[1, 0] loss: 2.628\n",
      "[1, 1] loss: 2.420\n",
      "[1, 2] loss: 2.359\n",
      "[1, 3] loss: 2.271\n",
      "[2, validation] loss: 2.305 accuracy: 9.667\n",
      "[2, 0] loss: 2.225\n",
      "[2, 1] loss: 2.302\n",
      "[2, 2] loss: 2.254\n",
      "[2, 3] loss: 2.075\n",
      "[3, validation] loss: 2.313 accuracy: 12.933\n",
      "[3, 0] loss: 2.398\n",
      "[3, 1] loss: 2.126\n",
      "[3, 2] loss: 2.095\n",
      "[3, 3] loss: 2.129\n",
      "[4, validation] loss: 2.229 accuracy: 15.267\n",
      "[4, 0] loss: 2.097\n",
      "[4, 1] loss: 2.091\n",
      "[4, 2] loss: 2.020\n",
      "[4, 3] loss: 2.314\n",
      "[5, validation] loss: 2.093 accuracy: 22.833\n",
      "[5, 0] loss: 2.041\n",
      "[5, 1] loss: 1.831\n",
      "[5, 2] loss: 1.960\n",
      "[5, 3] loss: 1.902\n",
      "[6, validation] loss: 1.971 accuracy: 47.667\n",
      "[6, 0] loss: 1.924\n",
      "[6, 1] loss: 1.770\n",
      "[6, 2] loss: 1.808\n",
      "[6, 3] loss: 1.735\n",
      "[7, validation] loss: 1.887 accuracy: 52.400\n",
      "[7, 0] loss: 1.681\n",
      "[7, 1] loss: 1.832\n",
      "[7, 2] loss: 1.753\n",
      "[7, 3] loss: 1.553\n",
      "[8, validation] loss: 1.822 accuracy: 52.100\n",
      "[8, 0] loss: 1.692\n",
      "[8, 1] loss: 1.692\n",
      "[8, 2] loss: 1.691\n",
      "[8, 3] loss: 1.413\n",
      "[9, validation] loss: 1.768 accuracy: 51.100\n",
      "[9, 0] loss: 1.576\n",
      "[9, 1] loss: 1.651\n",
      "[9, 2] loss: 1.605\n",
      "[9, 3] loss: 1.484\n",
      "[10, validation] loss: 1.709 accuracy: 52.833\n",
      "[10, 0] loss: 1.500\n",
      "[10, 1] loss: 1.635\n",
      "[10, 2] loss: 1.454\n",
      "[10, 3] loss: 1.603\n",
      "[11, validation] loss: 1.640 accuracy: 63.767\n",
      "[11, 0] loss: 1.439\n",
      "[11, 1] loss: 1.506\n",
      "[11, 2] loss: 1.389\n",
      "[11, 3] loss: 1.303\n",
      "[12, validation] loss: 1.582 accuracy: 69.133\n",
      "[12, 0] loss: 1.302\n",
      "[12, 1] loss: 1.362\n",
      "[12, 2] loss: 1.404\n",
      "[12, 3] loss: 1.671\n",
      "[13, validation] loss: 1.540 accuracy: 69.400\n",
      "[13, 0] loss: 1.467\n",
      "[13, 1] loss: 1.327\n",
      "[13, 2] loss: 1.201\n",
      "[13, 3] loss: 0.927\n",
      "[14, validation] loss: 1.499 accuracy: 67.533\n",
      "[14, 0] loss: 1.185\n",
      "[14, 1] loss: 1.213\n",
      "[14, 2] loss: 1.421\n",
      "[14, 3] loss: 1.081\n",
      "[15, validation] loss: 1.457 accuracy: 69.267\n",
      "[15, 0] loss: 1.226\n",
      "[15, 1] loss: 1.223\n",
      "[15, 2] loss: 1.217\n",
      "[15, 3] loss: 1.216\n",
      "[16, validation] loss: 1.415 accuracy: 69.467\n",
      "[16, 0] loss: 1.139\n",
      "[16, 1] loss: 1.260\n",
      "[16, 2] loss: 1.162\n",
      "[16, 3] loss: 0.784\n",
      "[17, validation] loss: 1.363 accuracy: 70.233\n",
      "[17, 0] loss: 1.105\n",
      "[17, 1] loss: 1.135\n",
      "[17, 2] loss: 1.132\n",
      "[17, 3] loss: 1.045\n",
      "[18, validation] loss: 1.316 accuracy: 72.000\n",
      "[18, 0] loss: 0.976\n",
      "[18, 1] loss: 1.077\n",
      "[18, 2] loss: 1.126\n",
      "[18, 3] loss: 1.399\n",
      "[19, validation] loss: 1.265 accuracy: 74.100\n",
      "[19, 0] loss: 1.036\n",
      "[19, 1] loss: 1.027\n",
      "[19, 2] loss: 0.938\n",
      "[19, 3] loss: 1.565\n",
      "[20, validation] loss: 1.223 accuracy: 74.233\n",
      "[20, 0] loss: 1.053\n",
      "[20, 1] loss: 1.007\n",
      "[20, 2] loss: 0.943\n",
      "[20, 3] loss: 0.723\n",
      "[21, validation] loss: 1.183 accuracy: 75.367\n",
      "[21, 0] loss: 0.953\n",
      "[21, 1] loss: 0.939\n",
      "[21, 2] loss: 1.022\n",
      "[21, 3] loss: 0.814\n",
      "[22, validation] loss: 1.148 accuracy: 76.033\n",
      "[22, 0] loss: 0.998\n",
      "[22, 1] loss: 0.864\n",
      "[22, 2] loss: 0.949\n",
      "[22, 3] loss: 0.744\n",
      "[23, validation] loss: 1.129 accuracy: 76.167\n",
      "[23, 0] loss: 0.813\n",
      "[23, 1] loss: 0.784\n",
      "[23, 2] loss: 1.141\n",
      "[23, 3] loss: 0.792\n",
      "[24, validation] loss: 1.122 accuracy: 74.967\n",
      "[24, 0] loss: 0.827\n",
      "[24, 1] loss: 0.932\n",
      "[24, 2] loss: 0.867\n",
      "[24, 3] loss: 1.122\n",
      "[25, validation] loss: 1.102 accuracy: 75.833\n",
      "[25, 0] loss: 0.845\n",
      "[25, 1] loss: 0.864\n",
      "[25, 2] loss: 0.806\n",
      "[25, 3] loss: 1.109\n",
      "[26, validation] loss: 1.081 accuracy: 77.000\n",
      "[26, 0] loss: 0.860\n",
      "[26, 1] loss: 0.731\n",
      "[26, 2] loss: 0.821\n",
      "[26, 3] loss: 1.180\n",
      "[27, validation] loss: 1.053 accuracy: 78.900\n",
      "[27, 0] loss: 0.827\n",
      "[27, 1] loss: 0.881\n",
      "[27, 2] loss: 0.754\n",
      "[27, 3] loss: 0.740\n",
      "[28, validation] loss: 1.035 accuracy: 80.867\n",
      "[28, 0] loss: 0.859\n",
      "[28, 1] loss: 0.778\n",
      "[28, 2] loss: 0.751\n",
      "[28, 3] loss: 1.143\n",
      "[29, validation] loss: 1.008 accuracy: 80.900\n",
      "[29, 0] loss: 0.836\n",
      "[29, 1] loss: 0.710\n",
      "[29, 2] loss: 0.805\n",
      "[29, 3] loss: 0.701\n",
      "[30, validation] loss: 0.977 accuracy: 81.400\n",
      "[30, 0] loss: 0.774\n",
      "[30, 1] loss: 0.822\n",
      "[30, 2] loss: 0.631\n",
      "[30, 3] loss: 0.694\n",
      "[30, validation] loss: 0.964 accuracy: 79.833\n"
     ]
    }
   ],
   "source": [
    "training_loss = []\n",
    "validation_loss = []\n",
    "min_loss = float('inf')\n",
    "\n",
    "for epoch in range(EPOCHS):\n",
    "    classifier.eval()\n",
    "    encoder.eval()\n",
    "    with torch.no_grad():\n",
    "        loss, _ = classification_test(classifier, encoder, val_dataloader, cross_entropy, epoch, validation_loss)\n",
    "        if loss < min_loss:\n",
    "            min_loss = loss\n",
    "            torch.save({'classifier': classifier.state_dict(),\n",
    "                        'encoder': encoder.state_dict()},\n",
    "                       'best_fine-tuning.pt')\n",
    "    classifier.train()\n",
    "    encoder.train()\n",
    "    classification_train(classifier, encoder, subset_dataloader,\n",
    "                         cross_entropy, optimizer_adam, epoch, training_loss)\n",
    "\n",
    "classifier.eval()\n",
    "encoder.eval()\n",
    "with torch.no_grad():\n",
    "    loss, _ = classification_test(classifier, encoder, val_dataloader, cross_entropy, epoch, validation_loss)\n",
    "    if loss < min_loss:\n",
    "            min_loss = loss\n",
    "            torch.save({'classifier': classifier.state_dict(),\n",
    "                        'encoder': encoder.state_dict()},\n",
    "                       'best_fine-tuning.pt')"
   ]
  },
  {
   "cell_type": "code",
   "execution_count": 241,
   "metadata": {},
   "outputs": [
    {
     "data": {
      "image/png": "[encoded data removed]",
      "text/plain": [
       "<Figure size 432x288 with 1 Axes>"
      ]
     },
     "metadata": {
      "needs_background": "light"
     },
     "output_type": "display_data"
    }
   ],
   "source": [
    "plt.title('Fine-tunning classification loss curves')\n",
    "plt.plot(training_loss, label='training loss')\n",
    "plt.plot(np.linspace(0, len(training_loss), len(validation_loss)), validation_loss, '-x', label='validation loss')\n",
    "plt.xlabel('iteration')\n",
    "plt.ylabel('cross entropy')\n",
    "plt.legend();"
   ]
  },
  {
   "cell_type": "markdown",
   "metadata": {
    "colab_type": "text",
    "id": "3mVz45k1PWee"
   },
   "source": [
    "## From scratch"
   ]
  },
  {
   "cell_type": "code",
   "execution_count": 242,
   "metadata": {
    "colab": {},
    "colab_type": "code",
    "id": "n8s58B_XoSis"
   },
   "outputs": [],
   "source": [
    "new_autoencoder = ConvolutionalAutoencoderReducedLatentDim(\n",
    "    input_shape=(28, 28),\n",
    "    n_blocks=2,\n",
    "    downsampling_method='max-pooling',\n",
    "    upsampling_method='nearest',\n",
    "    layers_per_block=2,\n",
    "    latent_dimensionality=50\n",
    ").to(device)\n",
    "\n",
    "new_classifier = torch.nn.Sequential(\n",
    "    new_autoencoder.encoder,\n",
    "    torch.nn.Linear(50, 10)\n",
    ").to(device)"
   ]
  },
  {
   "cell_type": "code",
   "execution_count": 243,
   "metadata": {
    "colab": {},
    "colab_type": "code",
    "id": "4DjdCLKOPqBJ"
   },
   "outputs": [],
   "source": [
    "def new_classification_train(classifier, dataloader, criterion, classifier_optimizer, epoch, loss_history):\n",
    "    for i, (images, labels) in enumerate(dataloader):\n",
    "        images, labels = images.to(device), labels.to(device, torch.long)\n",
    "        classifier_optimizer.zero_grad()\n",
    "        # To latent space + Classify from latent space.\n",
    "        outputs = classifier(images)\n",
    "        loss = criterion(outputs, labels)\n",
    "        loss.backward()              # Backprop.\n",
    "        classifier_optimizer.step()  # Update parameters.\n",
    "\n",
    "        loss_history.append(loss.item())\n",
    "        print('[%d, %d] loss: %.3f' % (epoch + 1, i, loss.item()))"
   ]
  },
  {
   "cell_type": "code",
   "execution_count": 244,
   "metadata": {
    "colab": {},
    "colab_type": "code",
    "id": "gJnplDxAQCJQ"
   },
   "outputs": [],
   "source": [
    "def new_classification_test(classifier, dataloader, criterion, epoch, loss_history):\n",
    "    loss = 0\n",
    "    total = 0\n",
    "    correct = 0\n",
    "    for i, (images, labels) in enumerate(dataloader):\n",
    "        images, labels = images.to(device), labels.to(device, torch.long)\n",
    "        outputs = classifier(images)\n",
    "        loss += criterion(outputs, labels).item()\n",
    "        # Compute average accuracy.\n",
    "        _, predicted = torch.max(outputs.data, 1)\n",
    "        total += labels.size(0)\n",
    "        correct += (predicted == labels).sum().item()\n",
    "\n",
    "    mean_loss = loss / (i + 1)\n",
    "    acc = 100 * correct / total\n",
    "    loss_history.append(mean_loss)  \n",
    "    print('[%d, validation] loss: %.3f accuracy: %.3f' % (epoch + 1, mean_loss, acc))\n",
    "    return mean_loss, acc"
   ]
  },
  {
   "cell_type": "code",
   "execution_count": 245,
   "metadata": {
    "colab": {},
    "colab_type": "code",
    "id": "iHljTyDkQINO"
   },
   "outputs": [],
   "source": [
    "cross_entropy = torch.nn.CrossEntropyLoss()\n",
    "new_classifier_adam = torch.optim.Adam(new_classifier.parameters(), lr=0.001)"
   ]
  },
  {
   "cell_type": "code",
   "execution_count": 246,
   "metadata": {
    "colab": {
     "base_uri": "https://localhost:8080/",
     "height": 1000
    },
    "colab_type": "code",
    "id": "Po-AZQH0QSsc",
    "outputId": "b9450ac1-9c09-4eb8-8d38-8720397e8d0f"
   },
   "outputs": [
    {
     "name": "stdout",
     "output_type": "stream",
     "text": [
      "[1, validation] loss: 2.306 accuracy: 9.300\n",
      "[1, 0] loss: 2.315\n",
      "[1, 1] loss: 2.301\n",
      "[1, 2] loss: 2.292\n",
      "[1, 3] loss: 2.314\n",
      "[2, validation] loss: 2.303 accuracy: 10.000\n",
      "[2, 0] loss: 2.275\n",
      "[2, 1] loss: 2.297\n",
      "[2, 2] loss: 2.290\n",
      "[2, 3] loss: 2.346\n",
      "[3, validation] loss: 2.304 accuracy: 10.167\n",
      "[3, 0] loss: 2.294\n",
      "[3, 1] loss: 2.251\n",
      "[3, 2] loss: 2.267\n",
      "[3, 3] loss: 2.212\n",
      "[4, validation] loss: 2.291 accuracy: 11.100\n",
      "[4, 0] loss: 2.235\n",
      "[4, 1] loss: 2.188\n",
      "[4, 2] loss: 2.321\n",
      "[4, 3] loss: 1.886\n",
      "[5, validation] loss: 2.309 accuracy: 18.767\n",
      "[5, 0] loss: 2.138\n",
      "[5, 1] loss: 2.340\n",
      "[5, 2] loss: 2.021\n",
      "[5, 3] loss: 2.250\n",
      "[6, validation] loss: 2.152 accuracy: 26.800\n",
      "[6, 0] loss: 1.940\n",
      "[6, 1] loss: 2.050\n",
      "[6, 2] loss: 2.041\n",
      "[6, 3] loss: 1.654\n",
      "[7, validation] loss: 2.067 accuracy: 30.000\n",
      "[7, 0] loss: 1.739\n",
      "[7, 1] loss: 1.962\n",
      "[7, 2] loss: 1.529\n",
      "[7, 3] loss: 1.717\n",
      "[8, validation] loss: 1.847 accuracy: 41.367\n",
      "[8, 0] loss: 1.491\n",
      "[8, 1] loss: 1.697\n",
      "[8, 2] loss: 1.158\n",
      "[8, 3] loss: 1.616\n",
      "[9, validation] loss: 1.564 accuracy: 49.367\n",
      "[9, 0] loss: 0.994\n",
      "[9, 1] loss: 1.085\n",
      "[9, 2] loss: 1.357\n",
      "[9, 3] loss: 0.730\n",
      "[10, validation] loss: 1.550 accuracy: 59.733\n",
      "[10, 0] loss: 0.686\n",
      "[10, 1] loss: 0.565\n",
      "[10, 2] loss: 1.080\n",
      "[10, 3] loss: 1.613\n",
      "[11, validation] loss: 1.532 accuracy: 58.333\n",
      "[11, 0] loss: 0.640\n",
      "[11, 1] loss: 0.751\n",
      "[11, 2] loss: 0.905\n",
      "[11, 3] loss: 0.471\n",
      "[12, validation] loss: 1.301 accuracy: 58.967\n",
      "[12, 0] loss: 0.760\n",
      "[12, 1] loss: 0.648\n",
      "[12, 2] loss: 0.376\n",
      "[12, 3] loss: 0.385\n",
      "[13, validation] loss: 1.140 accuracy: 70.067\n",
      "[13, 0] loss: 0.447\n",
      "[13, 1] loss: 0.187\n",
      "[13, 2] loss: 0.610\n",
      "[13, 3] loss: 0.352\n",
      "[14, validation] loss: 1.230 accuracy: 72.600\n",
      "[14, 0] loss: 0.227\n",
      "[14, 1] loss: 0.316\n",
      "[14, 2] loss: 0.255\n",
      "[14, 3] loss: 0.223\n",
      "[15, validation] loss: 1.272 accuracy: 75.233\n",
      "[15, 0] loss: 0.124\n",
      "[15, 1] loss: 0.136\n",
      "[15, 2] loss: 0.188\n",
      "[15, 3] loss: 0.006\n",
      "[16, validation] loss: 1.407 accuracy: 76.900\n",
      "[16, 0] loss: 0.175\n",
      "[16, 1] loss: 0.059\n",
      "[16, 2] loss: 0.029\n",
      "[16, 3] loss: 0.265\n",
      "[17, validation] loss: 1.463 accuracy: 77.167\n",
      "[17, 0] loss: 0.024\n",
      "[17, 1] loss: 0.166\n",
      "[17, 2] loss: 0.238\n",
      "[17, 3] loss: 1.082\n",
      "[18, validation] loss: 1.306 accuracy: 78.833\n",
      "[18, 0] loss: 0.021\n",
      "[18, 1] loss: 0.026\n",
      "[18, 2] loss: 0.036\n",
      "[18, 3] loss: 0.052\n",
      "[19, validation] loss: 1.677 accuracy: 72.233\n",
      "[19, 0] loss: 0.173\n",
      "[19, 1] loss: 0.127\n",
      "[19, 2] loss: 0.040\n",
      "[19, 3] loss: 0.254\n",
      "[20, validation] loss: 1.315 accuracy: 77.667\n",
      "[20, 0] loss: 0.057\n",
      "[20, 1] loss: 0.015\n",
      "[20, 2] loss: 0.074\n",
      "[20, 3] loss: 0.080\n",
      "[21, validation] loss: 1.417 accuracy: 75.500\n",
      "[21, 0] loss: 0.151\n",
      "[21, 1] loss: 0.079\n",
      "[21, 2] loss: 0.203\n",
      "[21, 3] loss: 0.079\n",
      "[22, validation] loss: 1.316 accuracy: 78.067\n",
      "[22, 0] loss: 0.032\n",
      "[22, 1] loss: 0.038\n",
      "[22, 2] loss: 0.150\n",
      "[22, 3] loss: 0.008\n",
      "[23, validation] loss: 1.698 accuracy: 73.500\n",
      "[23, 0] loss: 0.364\n",
      "[23, 1] loss: 0.016\n",
      "[23, 2] loss: 0.027\n",
      "[23, 3] loss: 0.071\n",
      "[24, validation] loss: 1.453 accuracy: 76.567\n",
      "[24, 0] loss: 0.060\n",
      "[24, 1] loss: 0.045\n",
      "[24, 2] loss: 0.008\n",
      "[24, 3] loss: 0.247\n",
      "[25, validation] loss: 1.511 accuracy: 77.633\n",
      "[25, 0] loss: 0.034\n",
      "[25, 1] loss: 0.037\n",
      "[25, 2] loss: 0.018\n",
      "[25, 3] loss: 0.009\n",
      "[26, validation] loss: 2.052 accuracy: 73.600\n",
      "[26, 0] loss: 0.289\n",
      "[26, 1] loss: 0.214\n",
      "[26, 2] loss: 0.048\n",
      "[26, 3] loss: 0.000\n",
      "[27, validation] loss: 1.826 accuracy: 74.367\n",
      "[27, 0] loss: 0.180\n",
      "[27, 1] loss: 0.016\n",
      "[27, 2] loss: 0.065\n",
      "[27, 3] loss: 0.000\n",
      "[28, validation] loss: 1.556 accuracy: 76.433\n",
      "[28, 0] loss: 0.045\n",
      "[28, 1] loss: 0.032\n",
      "[28, 2] loss: 0.003\n",
      "[28, 3] loss: 0.004\n",
      "[29, validation] loss: 1.352 accuracy: 78.333\n",
      "[29, 0] loss: 0.005\n",
      "[29, 1] loss: 0.014\n",
      "[29, 2] loss: 0.008\n",
      "[29, 3] loss: 0.001\n",
      "[30, validation] loss: 1.343 accuracy: 78.833\n",
      "[30, 0] loss: 0.009\n",
      "[30, 1] loss: 0.013\n",
      "[30, 2] loss: 0.004\n",
      "[30, 3] loss: 0.011\n",
      "[30, validation] loss: 1.374 accuracy: 79.133\n"
     ]
    }
   ],
   "source": [
    "new_training_loss = []\n",
    "new_validation_loss = []\n",
    "min_loss = float('inf')\n",
    "\n",
    "for epoch in range(EPOCHS):\n",
    "    new_classifier.eval()\n",
    "    with torch.no_grad():\n",
    "        loss, _ = new_classification_test(new_classifier, val_dataloader, cross_entropy, epoch, new_validation_loss)\n",
    "        if loss < min_loss:\n",
    "            min_loss = loss\n",
    "            torch.save(new_classifier.state_dict(), 'best_from-scratch.pt')\n",
    "    new_classifier.train()\n",
    "    new_classification_train(new_classifier, subset_dataloader,\n",
    "                         cross_entropy, new_classifier_adam, epoch, new_training_loss)\n",
    "\n",
    "new_classifier.eval()\n",
    "with torch.no_grad():\n",
    "    loss, _ = new_classification_test(new_classifier, val_dataloader, cross_entropy, epoch, new_validation_loss)\n",
    "    if loss < min_loss:\n",
    "        min_loss = loss\n",
    "        torch.save(new_classifier.state_dict(), 'best_from-scratch.pt')"
   ]
  },
  {
   "cell_type": "code",
   "execution_count": 247,
   "metadata": {
    "colab": {
     "base_uri": "https://localhost:8080/",
     "height": 295
    },
    "colab_type": "code",
    "id": "q1sJt-axRznj",
    "outputId": "48cf2109-7606-4f51-802b-4b92ca482737",
    "scrolled": true
   },
   "outputs": [
    {
     "data": {
      "image/png": "[encoded data removed]",
      "text/plain": [
       "<Figure size 432x288 with 1 Axes>"
      ]
     },
     "metadata": {
      "needs_background": "light"
     },
     "output_type": "display_data"
    }
   ],
   "source": [
    "plt.title('From scratch classification loss curves')\n",
    "plt.plot(new_training_loss, label='training loss')\n",
    "plt.plot(np.linspace(0, len(new_training_loss), len(new_validation_loss)), new_validation_loss, '-x', label='validation loss')\n",
    "plt.xlabel('iteration')\n",
    "plt.ylabel('cross entropy')\n",
    "plt.legend();"
   ]
  },
  {
   "cell_type": "markdown",
   "metadata": {
    "colab_type": "text",
    "id": "lWd8_HtUSguK"
   },
   "source": [
    "This learning curves show clear symptoms of overfitting."
   ]
  },
  {
   "cell_type": "code",
   "execution_count": 248,
   "metadata": {
    "colab": {
     "base_uri": "https://localhost:8080/",
     "height": 51
    },
    "colab_type": "code",
    "id": "f9GyHMWoRDjZ",
    "outputId": "9f07fbaf-0ac4-4615-9739-e3868d2f8d79"
   },
   "outputs": [
    {
     "name": "stdout",
     "output_type": "stream",
     "text": [
      "[30, validation] loss: 1.405 accuracy: 80.130\n"
     ]
    },
    {
     "data": {
      "text/plain": [
       "(1.4050586207058673, 80.13)"
      ]
     },
     "execution_count": 248,
     "metadata": {},
     "output_type": "execute_result"
    }
   ],
   "source": [
    "new_classification_test(new_classifier, test_dataloader, cross_entropy, epoch, [])"
   ]
  },
  {
   "cell_type": "markdown",
   "metadata": {
    "colab_type": "text",
    "id": "zsLmkdiZSrdB"
   },
   "source": [
    "We get a worse performance than in the pretraining+finetunning case."
   ]
  },
  {
   "cell_type": "markdown",
   "metadata": {
    "colab_type": "text",
    "id": "IAs0TTL4VXcM"
   },
   "source": [
    "## Comparison"
   ]
  },
  {
   "cell_type": "markdown",
   "metadata": {
    "colab_type": "text",
    "id": "NSHVbYMIcWKi"
   },
   "source": [
    "Load best models (early-stopping)."
   ]
  },
  {
   "cell_type": "code",
   "execution_count": 249,
   "metadata": {
    "colab": {},
    "colab_type": "code",
    "id": "_-Mvz-UgVZ0j"
   },
   "outputs": [],
   "source": [
    "autoencoder_pretrain = ConvolutionalAutoencoderReducedLatentDim(\n",
    "    input_shape=(28, 28),\n",
    "    n_blocks=2,\n",
    "    downsampling_method='max-pooling',\n",
    "    upsampling_method='nearest',\n",
    "    layers_per_block=2,\n",
    "    latent_dimensionality=bottleneck_size\n",
    ").to(device)\n",
    "classifier_pretrain = torch.nn.Linear(bottleneck_size, 10).to(device)\n",
    "\n",
    "pretrain_checkpoint = torch.load('best_pretrain.pt')\n",
    "autoencoder_pretrain.encoder.load_state_dict(pretrain_checkpoint['encoder'])\n",
    "classifier_pretrain.load_state_dict(pretrain_checkpoint['classifier'])\n",
    "\n",
    "autoencoder_finetuning = ConvolutionalAutoencoderReducedLatentDim(\n",
    "    input_shape=(28, 28),\n",
    "    n_blocks=2,\n",
    "    downsampling_method='max-pooling',\n",
    "    upsampling_method='nearest',\n",
    "    layers_per_block=2,\n",
    "    latent_dimensionality=bottleneck_size\n",
    ").to(device)\n",
    "classifier_finetuning = torch.nn.Linear(bottleneck_size, 10).to(device)\n",
    "\n",
    "finetuning_checkpoint = torch.load('best_fine-tuning.pt')\n",
    "autoencoder_finetuning.encoder.load_state_dict(finetuning_checkpoint['encoder'])\n",
    "classifier_finetuning.load_state_dict(finetuning_checkpoint['classifier'])\n",
    "\n",
    "autoencoder_pretrain_finetuning = ConvolutionalAutoencoderReducedLatentDim(\n",
    "    input_shape=(28, 28),\n",
    "    n_blocks=2,\n",
    "    downsampling_method='max-pooling',\n",
    "    upsampling_method='nearest',\n",
    "    layers_per_block=2,\n",
    "    latent_dimensionality=bottleneck_size\n",
    ").to(device)\n",
    "classifier_pretrain_finetuning= torch.nn.Linear(bottleneck_size, 10).to(device)\n",
    "\n",
    "pretrain_finetuning_checkpoint = torch.load('best_pretraining+fine-tuning.pt')\n",
    "autoencoder_pretrain_finetuning.encoder.load_state_dict(pretrain_finetuning_checkpoint['encoder'])\n",
    "classifier_pretrain_finetuning.load_state_dict(pretrain_finetuning_checkpoint['classifier'])\n",
    "\n",
    "autoencoder_fromscratch = ConvolutionalAutoencoderReducedLatentDim(\n",
    "    input_shape=(28, 28),\n",
    "    n_blocks=2,\n",
    "    downsampling_method='max-pooling',\n",
    "    upsampling_method='nearest',\n",
    "    layers_per_block=2,\n",
    "    latent_dimensionality=bottleneck_size\n",
    ").to(device)\n",
    "\n",
    "classifier_fromscratch = torch.nn.Sequential(\n",
    "    autoencoder_fromscratch.encoder,\n",
    "    torch.nn.Linear(bottleneck_size, 10)\n",
    ").to(device)\n",
    "\n",
    "classifier_fromscratch.load_state_dict(torch.load('best_from-scratch.pt'));"
   ]
  },
  {
   "cell_type": "markdown",
   "metadata": {
    "colab_type": "text",
    "id": "_llxE7lmcqDZ"
   },
   "source": [
    "Compare cross entropy loss and accuracy on validation and test sets."
   ]
  },
  {
   "cell_type": "code",
   "execution_count": 250,
   "metadata": {
    "colab": {
     "base_uri": "https://localhost:8080/",
     "height": 170
    },
    "colab_type": "code",
    "id": "SIz4O90lcsdK",
    "outputId": "3ec39130-4b73-41f1-f9ec-bf52f0cf09d2"
   },
   "outputs": [
    {
     "name": "stdout",
     "output_type": "stream",
     "text": [
      "pretrained train:\n",
      "[30, validation] loss: 1.037 accuracy: 77.367\n",
      "pretrained test:\n",
      "[30, validation] loss: 1.024 accuracy: 77.890\n",
      "pretrain+finetuning train:\n",
      "[30, validation] loss: 0.941 accuracy: 80.500\n",
      "pretrain+finetuning test:\n",
      "[30, validation] loss: 0.922 accuracy: 81.610\n",
      "finetuned train:\n",
      "[30, validation] loss: 0.964 accuracy: 79.833\n",
      "finetuned test:\n",
      "[30, validation] loss: 0.949 accuracy: 80.150\n",
      "scratch train\n",
      "[30, validation] loss: 1.140 accuracy: 70.067\n",
      "scratch test\n",
      "[30, validation] loss: 1.122 accuracy: 70.800\n",
      "+---------------------+--------------------+-------------------+--------------------+-----------+\n",
      "|        model        |  validation loss   |  validation acc.  |     test loss      | test acc. |\n",
      "+---------------------+--------------------+-------------------+--------------------+-----------+\n",
      "|      pretrained     | 1.0369923184526728 | 77.36666666666666 | 1.0237234484273405 |   77.89   |\n",
      "| pretrain+finetuning | 0.9409018412549445 |        80.5       | 0.9223311897664787 |   81.61   |\n",
      "|      finetuned      | 0.9641010792965584 | 79.83333333333333 | 0.9492076842929609 |   80.15   |\n",
      "|       scratch       | 1.1396065833086664 | 70.06666666666666 | 1.122441618206402  |    70.8   |\n",
      "+---------------------+--------------------+-------------------+--------------------+-----------+\n"
     ]
    }
   ],
   "source": [
    "tbl = PrettyTable()\n",
    "tbl.field_names = [\"model\",\"validation loss\", \"validation acc.\", \"test loss\", \"test acc.\"]\n",
    "pair_models = {\"pretrained\": (classifier_pretrain, autoencoder_pretrain.encoder), \n",
    "               \"pretrain+finetuning\": (classifier_pretrain_finetuning, autoencoder_pretrain_finetuning.encoder),\n",
    "               \"finetuned\": (classifier_finetuning, autoencoder_finetuning.encoder)\n",
    "              }\n",
    "losses = {\"pretrained\": None, \"pretrain+finetuning\": None, \"finetuned\": None, \"scratch\": None}\n",
    "for name, models in pair_models.items():\n",
    "    print(name + \" train:\")\n",
    "    val_loss, val_acc = classification_test(models[0], models[1], val_dataloader, cross_entropy, epoch, [])\n",
    "    print(name + \" test:\")\n",
    "    test_loss, test_acc = classification_test(models[0], models[1], test_dataloader, cross_entropy, epoch, [])\n",
    "    losses[name] = test_loss\n",
    "    tbl.add_row([name,val_loss,val_acc,test_loss,test_acc])\n",
    "\n",
    "print(\"scratch train\")\n",
    "val_loss, val_acc = new_classification_test(classifier_fromscratch, val_dataloader, cross_entropy, epoch, [])\n",
    "print(\"scratch test\")\n",
    "test_loss, test_acc = new_classification_test(classifier_fromscratch, test_dataloader, cross_entropy, epoch, [])\n",
    "losses[\"scratch\"] = test_loss\n",
    "tbl.add_row(\n",
    "    [\"scratch\", val_loss, val_acc, test_loss, test_acc])\n",
    "print(tbl)\n",
    "\n"
   ]
  },
  {
   "cell_type": "code",
   "execution_count": 251,
   "metadata": {
    "scrolled": true
   },
   "outputs": [
    {
     "data": {
      "image/png": "[encoded data removed]",
      "text/plain": [
       "<Figure size 432x288 with 1 Axes>"
      ]
     },
     "metadata": {
      "needs_background": "light"
     },
     "output_type": "display_data"
    }
   ],
   "source": [
    "models_names = tuple(losses.keys())\n",
    "loss = tuple(losses.values())\n",
    "y_pos = np.arange(len(loss))\n",
    "\n",
    "plt.bar(y_pos, loss, color=(\"r\", \"g\", \"b\", \"y\"))\n",
    "plt.xticks(y_pos, models_names)\n",
    "plt.xlabel(\"Model names\")\n",
    "plt.ylabel(\"Loss\")\n",
    "plt.title(\"Models loss, the lower the better\")\n",
    "plt.show();"
   ]
  },
  {
   "cell_type": "markdown",
   "metadata": {
    "colab_type": "text",
    "id": "nIvHHXWBqZe2"
   },
   "source": [
    "We expected to see a better performance on the model trained with the pretrain+finetuning proceidure, but the model trained from scratch actually performs slightly better on the validation and test set. If the model had more parameters we would expect the model trained from scratch to not generalize on the validation nor test set."
   ]
  },
  {
   "cell_type": "markdown",
   "metadata": {
    "colab_type": "text",
    "id": "Ns7oGWd2EZVY"
   },
   "source": [
    "## Optional Exercise A: Variational Autoencoder\n",
    "\n",
    "Steps:\n",
    "\n",
    "1. Implement an autoencoder like that from Exercise 1, but turning the deterministic bottleneck into a stochastic bottleneck, with an isotropic Gaussian as distribution for the latent variables.\n",
    "2. Train the model optimizing the Evidence Lower Bound (ELBO).\n",
    "3. Generate samples with the decoder and show them.\n"
   ]
  },
  {
   "cell_type": "markdown",
   "metadata": {
    "colab_type": "text",
    "id": "xFiIlaOnOCzC"
   },
   "source": [
    "New class for variational autoencoder based on the previous autoencoder."
   ]
  },
  {
   "cell_type": "code",
   "execution_count": 59,
   "metadata": {
    "colab": {},
    "colab_type": "code",
    "id": "2LJFzsBeSC6k"
   },
   "outputs": [],
   "source": [
    "class ConvolutionalVAE(torch.nn.Module):\n",
    "\n",
    "    def __init__(self, input_shape, n_blocks, downsampling_method, upsampling_method,\n",
    "                 layers_per_block=2, latent_dimensionality=50):\n",
    "        super().__init__()\n",
    "        self.n_blocks = n_blocks\n",
    "        self.downsampling_method = downsampling_method\n",
    "        self.upsampling_method = upsampling_method\n",
    "        self.latent_dimensionality = latent_dimensionality\n",
    "\n",
    "        # Encoder: Convolutional blocks + Linear\n",
    "        self.convolutional_encoder = ConvolutionalEncoder(\n",
    "            n_blocks, downsampling_method, layers_per_block=layers_per_block)\n",
    "        self.encoder_output_shape = (self.convolutional_encoder.init_filters * 2 ** (n_blocks - 1),\n",
    "                                     input_shape[0] // 2 ** n_blocks,\n",
    "                                     input_shape[1] // 2 ** n_blocks)\n",
    "        self.mu = torch.nn.Sequential(\n",
    "            torch.nn.Flatten(),\n",
    "            torch.nn.Linear(self.encoder_output_shape[0] * self.encoder_output_shape[1] * self.encoder_output_shape[2],\n",
    "                            latent_dimensionality),\n",
    "        )\n",
    "        self.log_var = torch.nn.Sequential(\n",
    "            torch.nn.Flatten(),\n",
    "            torch.nn.Linear(self.encoder_output_shape[0] * self.encoder_output_shape[1] * self.encoder_output_shape[2],\n",
    "                            latent_dimensionality),\n",
    "        )\n",
    "\n",
    "        # Decoder: Linear + Convolutional blocks\n",
    "        self.linear_decoder = torch.nn.Sequential(\n",
    "            torch.nn.Linear(latent_dimensionality,\n",
    "                            self.encoder_output_shape[0] * self.encoder_output_shape[1] * self.encoder_output_shape[2]),\n",
    "            torch.nn.ReLU()\n",
    "        )\n",
    "        self.convolutional_decoder = ConvolutionalDecoder(\n",
    "            n_blocks, upsampling_method,\n",
    "            self.convolutional_encoder.output_channels, layers_per_block)\n",
    "\n",
    "    def reparameterize(self, mu, log_var):\n",
    "        std = torch.exp(0.5 * log_var)\n",
    "        return torch.randn_like(std).mul(std).add_(mu)\n",
    "\n",
    "    def forward(self, x):\n",
    "        encoder_output = self.convolutional_encoder(x)\n",
    "        # Get mean and variance.\n",
    "        mu = self.mu(encoder_output)\n",
    "        log_var = self.log_var(encoder_output)\n",
    "        # Sample from a normal distribution of mean mu and variance var.\n",
    "        code = self.reparameterize(mu, log_var)\n",
    "\n",
    "        reconstruction = self.convolutional_decoder(\n",
    "            self.linear_decoder(code).view((-1,) + self.encoder_output_shape))\n",
    "        \n",
    "        # Return reconstruction and mean and variance for the loss computation.  \n",
    "        return reconstruction, mu, log_var"
   ]
  },
  {
   "cell_type": "markdown",
   "metadata": {
    "colab_type": "text",
    "id": "_86btVGNP-e4"
   },
   "source": [
    "Reconstruction + KL divergence losses summed over all elements and batch\n"
   ]
  },
  {
   "cell_type": "code",
   "execution_count": 60,
   "metadata": {
    "colab": {},
    "colab_type": "code",
    "id": "ubi766EfQJu0"
   },
   "outputs": [],
   "source": [
    "from torch.nn.functional import binary_cross_entropy"
   ]
  },
  {
   "cell_type": "code",
   "execution_count": 61,
   "metadata": {
    "colab": {},
    "colab_type": "code",
    "id": "hJa6GgbZOB4a"
   },
   "outputs": [],
   "source": [
    "def loss_function(recon_x, x, mu, logvar):\n",
    "    # print(recon_x.size(), x.size())\n",
    "    BCE = F.binary_cross_entropy(recon_x.view(-1, 784), x.view(-1, 784), reduction='sum')\n",
    "    # see Appendix B from VAE paper:\n",
    "    # Kingma and Welling. Auto-Encoding Variational Bayes. ICLR, 2014\n",
    "    # https://arxiv.org/abs/1312.6114\n",
    "    # 0.5 * sum(1 + log(sigma^2) - mu^2 - sigma^2)\n",
    "    KLD = -0.5 * torch.sum(1 + logvar - mu.pow(2) - logvar.exp())\n",
    "    return BCE + KLD"
   ]
  },
  {
   "cell_type": "code",
   "execution_count": null,
   "metadata": {},
   "outputs": [],
   "source": []
  }
 ],
 "metadata": {
  "accelerator": "GPU",
  "colab": {
   "collapsed_sections": [],
   "name": "team08.ipynb",
   "provenance": []
  },
  "kernelspec": {
   "display_name": "Python 3",
   "language": "python",
   "name": "python3"
  },
  "language_info": {
   "codemirror_mode": {
    "name": "ipython",
    "version": 3
   },
   "file_extension": ".py",
   "mimetype": "text/x-python",
   "name": "python",
   "nbconvert_exporter": "python",
   "pygments_lexer": "ipython3",
   "version": "3.6.6"
  },
  "pycharm": {
   "stem_cell": {
    "cell_type": "raw",
    "source": [],
    "metadata": {
     "collapsed": false
    }
   }
  }
 },
 "nbformat": 4,
 "nbformat_minor": 1
}