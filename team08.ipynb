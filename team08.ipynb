{
 "cells": [
  {
   "cell_type": "code",
   "execution_count": 0,
   "metadata": {
    "colab": {},
    "colab_type": "code",
    "id": "FaWaYXG1fIRm"
   },
   "outputs": [],
   "source": [
    "import torch\n",
    "import torch.nn\n",
    "import torch.optim\n",
    "import torchvision.datasets\n",
    "import torchvision.transforms\n",
    "import torch.utils.data\n",
    "import matplotlib.pyplot as plt\n",
    "import numpy as np\n",
    "from prettytable import PrettyTable\n",
    "from random import randint"
   ]
  },
  {
   "cell_type": "code",
   "execution_count": 0,
   "metadata": {
    "colab": {},
    "colab_type": "code",
    "id": "GA4Aiz2Giu5e"
   },
   "outputs": [],
   "source": [
    "torch.manual_seed(0)\n",
    "device = 'cuda:0' if torch.cuda.is_available() else 'cpu'"
   ]
  },
  {
   "cell_type": "code",
   "execution_count": 0,
   "metadata": {
    "colab": {},
    "colab_type": "code",
    "id": "-MjS3A1UNFJF"
   },
   "outputs": [],
   "source": [
    "BATCH_SIZE = 128\n",
    "EPOCHS_AUTOENCODER = 10\n",
    "EPOCHS_PRETRAINING = 20\n",
    "EPOCHS_FINETUNING = 20\n",
    "EPOCHS_VAE = 50"
   ]
  },
  {
   "cell_type": "markdown",
   "metadata": {
    "colab_type": "text",
    "id": "iyK3i7pS9gSH"
   },
   "source": [
    "# Exercise 1: Convolutional Autoencoder\n",
    "\n",
    "Steps:\n",
    "1. Load MNIST train and test sets. Split the original training data into 95% training and 5% validation data.\n",
    "2. Implement a convolutional autoencoder (with separate Encoder and Decoder modules).\n",
    "3. Train the convolutional autoencoder, with different bottleneck sizes. Plot the train and validation loss curves of all autoencoders in the same figure.\n",
    "4. Compute the avg. image reconstruction error (MSE) of the trained models on the MNIST validation and test sets. Show the results in a table, including #params of each model.\n",
    "5. Select one of the autoencoders and feed it 5 random MNIST images from the test set. Show them along with their reconstructions.\n",
    "Generate 5 new images by injecting random values as input to the decoder. Show them.\n"
   ]
  },
  {
   "cell_type": "markdown",
   "metadata": {
    "colab_type": "text",
    "id": "-Vf3xEV29k0y"
   },
   "source": [
    "## Module definition\n",
    "\n",
    "Our autoencoder will be defined by the `ConvolutionalAutoencoder` class which uses a `ConvolutionalEncoder` object to encode followed a `ConvolutionalDecoder` object to decode. The `ConvolutionalEncoder` and `ConvolutionalDecoder` classes make use of `n_blocks` `ConvolutionalBlock`s or `DeconvolutionalBlock`s which are composed of `layer_per_block` convolution layers with the same number of filters.\n",
    "\n",
    "The dimensionality is reduced by applying 2-factor spatial downsampling at each block. The number of filters is doubled for each subsequent block. The decoder makes the exact oposite process.\n",
    "\n",
    "The final layer uses a tanh activation.\n",
    "\n",
    "Very similar to the `ConvolutionalAutoencoder`, there is the `ConvolutionalAutoencoderReducedLatentDim` class which includes 2 fully-connected layers between the encoder and decoder. The first one projects from the encoder's feature maps to a vector of `latent_dimensionality` dimensions, the second one does the opposite."
   ]
  },
  {
   "cell_type": "code",
   "execution_count": 0,
   "metadata": {
    "colab": {},
    "colab_type": "code",
    "id": "EknaWIjxJUZ1"
   },
   "outputs": [],
   "source": [
    "# %load models.py\n",
    "import torch\n",
    "import torch.nn\n",
    "\n",
    "\n",
    "class ConvolutionalAutoencoder(torch.nn.Module):\n",
    "\n",
    "    def __init__(self, n_blocks, downsampling_method, upsampling_method,\n",
    "                 layers_per_block=2):\n",
    "        super().__init__()\n",
    "        self.n_blocks = n_blocks\n",
    "        self.downsampling_method = downsampling_method\n",
    "        self.upsampling_method = upsampling_method\n",
    "\n",
    "        self.encoder = ConvolutionalEncoder(n_blocks, downsampling_method,\n",
    "                                            layers_per_block=layers_per_block)\n",
    "        self.decoder = ConvolutionalDecoder(n_blocks, upsampling_method,\n",
    "                                            self.encoder.output_channels,\n",
    "                                            layers_per_block)\n",
    "\n",
    "    def forward(self, x):\n",
    "        code = self.encoder(x)\n",
    "        reconstruction = self.decoder(code)\n",
    "        return reconstruction\n",
    "\n",
    "\n",
    "class ConvolutionalAutoencoderReducedLatentDim(torch.nn.Module):\n",
    "\n",
    "    def __init__(self, input_shape, n_blocks, downsampling_method, upsampling_method,\n",
    "                 layers_per_block=2, latent_dimensionality=50):\n",
    "        super().__init__()\n",
    "        self.n_blocks = n_blocks\n",
    "        self.downsampling_method = downsampling_method\n",
    "        self.upsampling_method = upsampling_method\n",
    "        self.latent_dimensionality = latent_dimensionality\n",
    "\n",
    "        # Encoder: Convolutional blocks + Linear\n",
    "        self.convolutional_encoder = ConvolutionalEncoder(\n",
    "            n_blocks, downsampling_method, layers_per_block=layers_per_block)\n",
    "        self.encoder_output_shape = (self.convolutional_encoder.init_filters * 2 ** (n_blocks - 1),\n",
    "                                     input_shape[0] // 2 ** n_blocks,\n",
    "                                     input_shape[1] // 2 ** n_blocks)\n",
    "        self.encoder = torch.nn.Sequential(\n",
    "            self.convolutional_encoder,\n",
    "            torch.nn.Flatten(),\n",
    "            torch.nn.Linear(self.encoder_output_shape[0] * self.encoder_output_shape[1] * self.encoder_output_shape[2],\n",
    "                            latent_dimensionality),\n",
    "            torch.nn.ReLU()\n",
    "        )\n",
    "\n",
    "        # Decoder: Linear + Convolutional blocks\n",
    "        self.linear_decoder = torch.nn.Sequential(\n",
    "            torch.nn.Linear(latent_dimensionality,\n",
    "                            self.encoder_output_shape[0] * self.encoder_output_shape[1] * self.encoder_output_shape[2]),\n",
    "            torch.nn.ReLU()\n",
    "        )\n",
    "        self.convolutional_decoder = ConvolutionalDecoder(\n",
    "            n_blocks, upsampling_method,\n",
    "            self.convolutional_encoder.output_channels, layers_per_block)\n",
    "\n",
    "    def forward(self, x):\n",
    "        code = self.encoder(x)\n",
    "        reconstruction = self.convolutional_decoder(\n",
    "            self.linear_decoder(code).view((-1,) + self.encoder_output_shape))\n",
    "        return reconstruction\n",
    "\n",
    "\n",
    "class ConvolutionalEncoder(torch.nn.Module):\n",
    "    DOWNSAMPLING_METHODS = [\"max-pooling\", \"avg-pooling\", \"stride-2\"]\n",
    "\n",
    "    def __init__(self, n_blocks, downsampling_method, init_filters=16,\n",
    "                 layers_per_block=2, kernel_size=5, input_channels=1):\n",
    "        super().__init__()\n",
    "        self.n_blocks = n_blocks\n",
    "        assert downsampling_method in self.DOWNSAMPLING_METHODS\n",
    "        self.downsampling_method = downsampling_method\n",
    "        self.layers_per_block = layers_per_block\n",
    "        self.init_filters = init_filters\n",
    "        self.kernel_size = kernel_size\n",
    "        self.input_channels = input_channels\n",
    "\n",
    "        layers = []\n",
    "\n",
    "        # First layer so we have <input_channels> channels.\n",
    "        n_filters = init_filters\n",
    "        layers.append(\n",
    "            ConvolutionalBlock(input_channels, n_filters, kernel_size, 1))\n",
    "\n",
    "        # Encoding blocks.\n",
    "        input_channels = n_filters\n",
    "        for _ in range(n_blocks):\n",
    "            if downsampling_method == \"max-pooling\":\n",
    "                # Convolutional block + max pooling.\n",
    "                conv_block = torch.nn.Sequential(\n",
    "                    ConvolutionalBlock(input_channels, n_filters, kernel_size,\n",
    "                                       layers_per_block),\n",
    "                    torch.nn.MaxPool2d(2)\n",
    "                )\n",
    "            elif downsampling_method == \"avg-pooling\":\n",
    "                # Convolutional block + average pooling.\n",
    "                conv_block = torch.nn.Sequential(\n",
    "                    ConvolutionalBlock(input_channels, n_filters, kernel_size,\n",
    "                                       layers_per_block),\n",
    "                    torch.nn.AvgPool2d(2)\n",
    "                )\n",
    "            else:\n",
    "                # Stride-2 convolution.\n",
    "                conv_block = ConvolutionalBlock(input_channels, n_filters,\n",
    "                                                kernel_size,\n",
    "                                                layers_per_block,\n",
    "                                                last_stride=2)\n",
    "            layers.append(conv_block)\n",
    "            # Double the number of filters.\n",
    "            input_channels = n_filters\n",
    "            n_filters = 2 * n_filters\n",
    "\n",
    "        self.encoder = torch.nn.Sequential(*layers)\n",
    "        self.output_channels = input_channels\n",
    "\n",
    "    def forward(self, x):\n",
    "        return self.encoder(x)\n",
    "\n",
    "\n",
    "class ConvolutionalDecoder(torch.nn.Module):\n",
    "    UPSAMPLING_METHODS = [\"transposed\", \"bilinear\", \"bicubic\", \"nearest\"]\n",
    "\n",
    "    def __init__(self, n_blocks, upsampling_method, input_channels,\n",
    "                 layers_per_block=2, kernel_size=5, output_channels=1,\n",
    "                 activation=\"tanh\"):\n",
    "        super().__init__()\n",
    "        self.n_blocks = n_blocks\n",
    "        assert upsampling_method in self.UPSAMPLING_METHODS\n",
    "        self.upsampling_method = upsampling_method\n",
    "        self.layers_per_block = layers_per_block\n",
    "        self.input_channels = input_channels\n",
    "        self.kernel_size = kernel_size\n",
    "        self.output_channels = output_channels\n",
    "        self.activation = activation\n",
    "\n",
    "        layers = []\n",
    "\n",
    "        # Decoding blocks.\n",
    "        n_filters = input_channels\n",
    "        for _ in range(n_blocks):\n",
    "            if upsampling_method == \"transposed\":\n",
    "                # Deconvolutional block\n",
    "                conv_block = DeconvolutionalBlock(input_channels, n_filters,\n",
    "                                                  kernel_size, layers_per_block,\n",
    "                                                  stride=2)\n",
    "            else:\n",
    "                # Upsampling.\n",
    "                conv_block = torch.nn.Sequential(\n",
    "                    ConvolutionalBlock(input_channels, n_filters, kernel_size,\n",
    "                                       layers_per_block),\n",
    "                    torch.nn.Upsample(scale_factor=2, mode=upsampling_method)\n",
    "                )\n",
    "            layers.append(conv_block)\n",
    "            # Half the number of filters.\n",
    "            input_channels = n_filters\n",
    "            n_filters = n_filters // 2\n",
    "\n",
    "        # Last layer so we have <output_channels> channel.\n",
    "        layers.append(torch.nn.Conv2d(input_channels, output_channels, kernel_size,\n",
    "                                      padding=kernel_size // 2))\n",
    "        if activation == \"tanh\":\n",
    "            layers.append(torch.nn.Tanh())\n",
    "        elif activation == \"sigmoid\":\n",
    "            layers.append(torch.nn.Sigmoid())\n",
    "\n",
    "        self.decoder = torch.nn.Sequential(*layers)\n",
    "\n",
    "    def forward(self, x):\n",
    "        return self.decoder(x)\n",
    "\n",
    "\n",
    "class ConvolutionalBlock(torch.nn.Module):\n",
    "    \"\"\"\n",
    "\n",
    "    Applies n_layers convolutional layers with the same number of\n",
    "    filters and filter sizes with ReLU activations\n",
    "    keeping the same spacial size.\n",
    "    \"\"\"\n",
    "\n",
    "    def __init__(self, input_channels, n_filters, kernel_size, n_layers,\n",
    "                 last_stride=1):\n",
    "        super().__init__()\n",
    "        layers = []\n",
    "        padding = kernel_size // 2  # To keep the same size.\n",
    "\n",
    "        for i in range(n_layers):\n",
    "            if i == 0:  # First layer with correct input channels.\n",
    "                layers.append(torch.nn.Conv2d(input_channels, n_filters,\n",
    "                                              kernel_size, padding=padding))\n",
    "            elif 0 < i < n_layers:  # Intermediate layers.\n",
    "                layers.append(torch.nn.Conv2d(n_filters, n_filters,\n",
    "                                              kernel_size, padding=padding))\n",
    "            else:  # Last layer with stride.\n",
    "                layers.append(torch.nn.Conv2d(n_filters, n_filters,\n",
    "                                              kernel_size, last_stride, padding))\n",
    "            layers.append(torch.nn.ReLU())\n",
    "\n",
    "        # To sequentially apply the layers.\n",
    "        self.block = torch.nn.Sequential(*layers)\n",
    "\n",
    "    def forward(self, x):\n",
    "        return self.block(x)\n",
    "\n",
    "\n",
    "class DeconvolutionalBlock(torch.nn.Module):\n",
    "    \"\"\"\n",
    "\n",
    "    Applies a transposed convolution followed by n_layers-1 convolutional\n",
    "    layers with the same number of filters and filter sizes with ReLU\n",
    "    activations keeping the same spacial size.\n",
    "    \"\"\"\n",
    "\n",
    "    def __init__(self, input_channels, n_filters, kernel_size, n_layers, stride):\n",
    "        super().__init__()\n",
    "        layers = []\n",
    "        padding = kernel_size // 2\n",
    "\n",
    "        # Transposed convolution layer.\n",
    "        layers.append(torch.nn.ConvTranspose2d(input_channels, n_filters,\n",
    "                                               kernel_size, stride, padding, 1))\n",
    "        layers.append(torch.nn.ReLU())\n",
    "\n",
    "        for _ in range(n_layers - 1):\n",
    "            layers.append(torch.nn.Conv2d(n_filters, n_filters, kernel_size,\n",
    "                                          padding=padding))\n",
    "            layers.append(torch.nn.ReLU())\n",
    "\n",
    "        # To sequentially apply the layers.\n",
    "        self.block = torch.nn.Sequential(*layers)\n",
    "\n",
    "    def forward(self, x):\n",
    "        return self.block(x)"
   ]
  },
  {
   "cell_type": "markdown",
   "metadata": {
    "colab_type": "text",
    "id": "u_ZD0rgWBhJa"
   },
   "source": [
    "To do a quick test, we will pass a random image and check if the output is of the same size as the input."
   ]
  },
  {
   "cell_type": "code",
   "execution_count": 0,
   "metadata": {
    "colab": {},
    "colab_type": "code",
    "id": "hIO0AZWCfIR2"
   },
   "outputs": [],
   "source": [
    "image = torch.randn((10, 1, 128, 128))\n",
    "autoencoder = ConvolutionalAutoencoderReducedLatentDim(input_shape=(128, 128),\n",
    "                                                       n_blocks=2,\n",
    "                                                       downsampling_method='max-pooling',\n",
    "                                                       upsampling_method='nearest',\n",
    "                                                       layers_per_block=2,\n",
    "                                                       latent_dimensionality=50)\n",
    "output = autoencoder(image)\n",
    "assert output.shape == (10, 1, 128, 128)"
   ]
  },
  {
   "cell_type": "markdown",
   "metadata": {
    "colab_type": "text",
    "id": "z25DsijeCNvi"
   },
   "source": [
    "## Dataset\n",
    "\n",
    "We split the training set and normalize the input images with mean and variance of the training set found on the internet."
   ]
  },
  {
   "cell_type": "code",
   "execution_count": 0,
   "metadata": {
    "colab": {},
    "colab_type": "code",
    "id": "ObQndlPufIR9"
   },
   "outputs": [],
   "source": [
    "transform = torchvision.transforms.Compose([\n",
    "     torchvision.transforms.ToTensor(),\n",
    "     # torchvision.transforms.Normalize((0.1307,), (0.3081,))  # Mean and std from internet...\n",
    "])"
   ]
  },
  {
   "cell_type": "code",
   "execution_count": 0,
   "metadata": {
    "colab": {},
    "colab_type": "code",
    "id": "1VIGvzG4fISD"
   },
   "outputs": [],
   "source": [
    "mnist = torchvision.datasets.MNIST('mnist_dataset', train=True, transform=transform, download=True)"
   ]
  },
  {
   "cell_type": "code",
   "execution_count": 0,
   "metadata": {
    "colab": {},
    "colab_type": "code",
    "id": "K5cYwBL2fISH"
   },
   "outputs": [],
   "source": [
    "dataset_len = len(mnist)"
   ]
  },
  {
   "cell_type": "code",
   "execution_count": 9,
   "metadata": {
    "colab": {
     "base_uri": "https://localhost:8080/",
     "height": 34
    },
    "colab_type": "code",
    "id": "QPrTXSnZfISN",
    "outputId": "9ac1916a-ed75-486d-d96a-b91f6efe7728"
   },
   "outputs": [
    {
     "data": {
      "text/plain": [
       "57000.0"
      ]
     },
     "execution_count": 9,
     "metadata": {
      "tags": []
     },
     "output_type": "execute_result"
    }
   ],
   "source": [
    "dataset_len * 0.95"
   ]
  },
  {
   "cell_type": "code",
   "execution_count": 0,
   "metadata": {
    "colab": {},
    "colab_type": "code",
    "id": "B1BwFJY_fISU"
   },
   "outputs": [],
   "source": [
    "mnist_train, mnist_val = torch.utils.data.random_split(mnist, [57000, dataset_len - 57000])"
   ]
  },
  {
   "cell_type": "code",
   "execution_count": 0,
   "metadata": {
    "colab": {},
    "colab_type": "code",
    "id": "b5yH0O1kfISY"
   },
   "outputs": [],
   "source": [
    "train_dataloader = torch.utils.data.DataLoader(mnist_train,\n",
    "                                               batch_size=BATCH_SIZE,\n",
    "                                               shuffle=True,\n",
    "                                               num_workers=4)"
   ]
  },
  {
   "cell_type": "code",
   "execution_count": 0,
   "metadata": {
    "colab": {},
    "colab_type": "code",
    "id": "Ybj6UC1qJUaN"
   },
   "outputs": [],
   "source": [
    "val_dataloader = torch.utils.data.DataLoader(mnist_val, batch_size=BATCH_SIZE)"
   ]
  },
  {
   "cell_type": "markdown",
   "metadata": {
    "colab_type": "text",
    "id": "DZpKJsSBcc4b"
   },
   "source": [
    "To create our autoencoder we need to know the size of our images."
   ]
  },
  {
   "cell_type": "code",
   "execution_count": 13,
   "metadata": {
    "colab": {
     "base_uri": "https://localhost:8080/",
     "height": 34
    },
    "colab_type": "code",
    "id": "fqt6_aCtJUaR",
    "outputId": "5c81f17e-00b3-42fe-f83f-fb5c431227c6"
   },
   "outputs": [
    {
     "data": {
      "text/plain": [
       "torch.Size([1, 28, 28])"
      ]
     },
     "execution_count": 13,
     "metadata": {
      "tags": []
     },
     "output_type": "execute_result"
    }
   ],
   "source": [
    "image, label = mnist_train[0]\n",
    "image.shape"
   ]
  },
  {
   "cell_type": "markdown",
   "metadata": {
    "colab_type": "text",
    "id": "HCP_Zd2rDqlW"
   },
   "source": [
    "## Training"
   ]
  },
  {
   "cell_type": "markdown",
   "metadata": {
    "colab_type": "text",
    "id": "wEm9Aahock8U"
   },
   "source": [
    "We will first train an autoencoder with a bottleneck of size 50, **2 blocks of 2 convolutional layers** on each block (each in the encoder and decoder), using **max-pooling** for downsampling and **nearest-neighbour** for upsampling."
   ]
  },
  {
   "cell_type": "code",
   "execution_count": 0,
   "metadata": {
    "colab": {},
    "colab_type": "code",
    "id": "sIYstBcDJUaV"
   },
   "outputs": [],
   "source": [
    "autoencoder = ConvolutionalAutoencoderReducedLatentDim(\n",
    "    input_shape=(28, 28),\n",
    "    n_blocks=2,\n",
    "    downsampling_method='max-pooling',\n",
    "    upsampling_method='nearest',\n",
    "    layers_per_block=2,\n",
    "    latent_dimensionality=50\n",
    ").to(device)"
   ]
  },
  {
   "cell_type": "markdown",
   "metadata": {
    "colab_type": "text",
    "id": "xt3wsOghdxHh"
   },
   "source": [
    "We use the mean square error as our loss function and Adam as our optimization algorithm with a learning rate of 0.001.  \n",
    "We use 'sum' as reduction to compute the image reconstruction error instead of the pixel reconstruction error."
   ]
  },
  {
   "cell_type": "code",
   "execution_count": 0,
   "metadata": {
    "colab": {},
    "colab_type": "code",
    "id": "fNNQ25Z-fISe"
   },
   "outputs": [],
   "source": [
    "mse = torch.nn.MSELoss(reduction='sum')\n",
    "adam = torch.optim.Adam(autoencoder.parameters(), lr=0.001)"
   ]
  },
  {
   "cell_type": "markdown",
   "metadata": {
    "colab_type": "text",
    "id": "RX893gG4eEf2"
   },
   "source": [
    "Define our `train` function that will be called at each epoch."
   ]
  },
  {
   "cell_type": "code",
   "execution_count": 0,
   "metadata": {
    "colab": {},
    "colab_type": "code",
    "id": "AEwsot_KfISi"
   },
   "outputs": [],
   "source": [
    "def train(model, dataloader, criterion, optimizer, epoch, loss_history, log_interval=100):\n",
    "    for i, batch in enumerate(dataloader):\n",
    "        images = batch[0].to(device)\n",
    "        optimizer.zero_grad()\n",
    "        reconstructed = model(images)\n",
    "        # Divide by batch size to compute mean image reconstruction error.\n",
    "        loss = criterion(reconstructed, images) / images.shape[0]\n",
    "        loss.backward()   # Backprop.\n",
    "        optimizer.step()  # Parameter updates.\n",
    "\n",
    "        loss_history.append(loss.item())\n",
    "        if i % log_interval == 0:\n",
    "            print('[%d, %d] loss: %.3f' % (epoch + 1, i, loss.item()))"
   ]
  },
  {
   "cell_type": "markdown",
   "metadata": {
    "colab_type": "text",
    "id": "zo8uYtLgeC6o"
   },
   "source": [
    "Very similar to the `train` function, we define our `test` function to validate. In this case we don't backpropagate and update our parameters."
   ]
  },
  {
   "cell_type": "code",
   "execution_count": 0,
   "metadata": {
    "colab": {},
    "colab_type": "code",
    "id": "GoV4rvPyJUac"
   },
   "outputs": [],
   "source": [
    "def test(model, dataloader, criterion, epoch, loss_history):\n",
    "    loss = 0\n",
    "    total = 0\n",
    "    for batch in dataloader:\n",
    "        images = batch[0].to(device)\n",
    "        reconstructed = model(images)\n",
    "        loss += criterion(reconstructed, images).item()\n",
    "        total += images.shape[0]\n",
    "\n",
    "    mean_loss = loss / total\n",
    "    loss_history.append(mean_loss)  \n",
    "    print('[%d, test] loss: %.3f' % (epoch + 1, mean_loss))\n",
    "    return mean_loss"
   ]
  },
  {
   "cell_type": "markdown",
   "metadata": {
    "colab_type": "text",
    "id": "8vfBCQHqepWO"
   },
   "source": [
    "This is our training loop. Firstly, we call the `test` function so our validation loss curve includes the initial/untrained \"behaviour\"."
   ]
  },
  {
   "cell_type": "code",
   "execution_count": 18,
   "metadata": {
    "colab": {
     "base_uri": "https://localhost:8080/",
     "height": 1000
    },
    "colab_type": "code",
    "id": "CXQlTiq2fISm",
    "outputId": "9129f914-d77e-4365-825f-bc3ba9d16498",
    "scrolled": true
   },
   "outputs": [
    {
     "name": "stdout",
     "output_type": "stream",
     "text": [
      "[1, test] loss: 100.729\n",
      "[1, 0] loss: 95.390\n",
      "[1, 100] loss: 52.130\n",
      "[1, 200] loss: 51.185\n",
      "[1, 300] loss: 53.721\n",
      "[1, 400] loss: 54.407\n",
      "[2, test] loss: 53.502\n",
      "[2, 0] loss: 50.421\n",
      "[2, 100] loss: 38.876\n",
      "[2, 200] loss: 26.346\n",
      "[2, 300] loss: 21.146\n",
      "[2, 400] loss: 17.941\n",
      "[3, test] loss: 17.434\n",
      "[3, 0] loss: 17.651\n",
      "[3, 100] loss: 15.788\n",
      "[3, 200] loss: 15.460\n",
      "[3, 300] loss: 13.890\n",
      "[3, 400] loss: 13.233\n",
      "[4, test] loss: 13.970\n",
      "[4, 0] loss: 13.077\n",
      "[4, 100] loss: 14.049\n",
      "[4, 200] loss: 12.237\n",
      "[4, 300] loss: 12.498\n",
      "[4, 400] loss: 12.119\n",
      "[5, test] loss: 12.625\n",
      "[5, 0] loss: 12.439\n",
      "[5, 100] loss: 11.801\n",
      "[5, 200] loss: 11.697\n",
      "[5, 300] loss: 12.462\n",
      "[5, 400] loss: 12.073\n",
      "[6, test] loss: 11.696\n",
      "[6, 0] loss: 11.812\n",
      "[6, 100] loss: 11.762\n",
      "[6, 200] loss: 11.864\n",
      "[6, 300] loss: 10.341\n",
      "[6, 400] loss: 11.337\n",
      "[7, test] loss: 11.031\n",
      "[7, 0] loss: 10.630\n",
      "[7, 100] loss: 10.815\n",
      "[7, 200] loss: 10.663\n",
      "[7, 300] loss: 11.291\n",
      "[7, 400] loss: 9.857\n",
      "[8, test] loss: 10.819\n",
      "[8, 0] loss: 11.207\n",
      "[8, 100] loss: 9.731\n",
      "[8, 200] loss: 10.414\n",
      "[8, 300] loss: 9.830\n",
      "[8, 400] loss: 9.202\n",
      "[9, test] loss: 10.818\n",
      "[9, 0] loss: 9.502\n",
      "[9, 100] loss: 9.735\n",
      "[9, 200] loss: 11.547\n",
      "[9, 300] loss: 10.185\n",
      "[9, 400] loss: 9.458\n",
      "[10, test] loss: 10.033\n",
      "[10, 0] loss: 9.397\n",
      "[10, 100] loss: 9.719\n",
      "[10, 200] loss: 9.379\n",
      "[10, 300] loss: 9.931\n",
      "[10, 400] loss: 9.714\n",
      "[10, test] loss: 9.585\n"
     ]
    }
   ],
   "source": [
    "training_loss = []    #\n",
    "validation_loss = []  # Here we save the training process.\n",
    "\n",
    "for epoch in range(EPOCHS_AUTOENCODER):\n",
    "    autoencoder.eval()\n",
    "    with torch.no_grad():\n",
    "        _ = test(autoencoder, val_dataloader, mse, epoch, validation_loss)\n",
    "    autoencoder.train()\n",
    "    train(autoencoder, train_dataloader, mse, adam, epoch, training_loss)\n",
    "    # if early_stopping(validation_loss):\n",
    "    #     break\n",
    "\n",
    "autoencoder.eval()\n",
    "with torch.no_grad():\n",
    "    test(autoencoder, val_dataloader, mse, epoch, validation_loss)"
   ]
  },
  {
   "cell_type": "code",
   "execution_count": 19,
   "metadata": {
    "colab": {
     "base_uri": "https://localhost:8080/",
     "height": 295
    },
    "colab_type": "code",
    "id": "4I6vt-OjST-I",
    "outputId": "e3892f27-a2d1-4baa-8623-4f1ffcd7df09"
   },
   "outputs": [
    {
     "data": {
      "image/png": "[encoded data removed]",
      "text/plain": [
       "<Figure size 432x288 with 1 Axes>"
      ]
     },
     "metadata": {
      "tags": []
     },
     "output_type": "display_data"
    }
   ],
   "source": [
    "plt.title('Autoencoder reconstruction loss curves')\n",
    "plt.plot(training_loss, label='training loss')\n",
    "plt.plot(np.linspace(0, len(training_loss), len(validation_loss)), validation_loss, '-x', label='validation loss')\n",
    "plt.xlabel('Iteration')\n",
    "plt.ylabel('MSE')\n",
    "plt.legend();"
   ]
  },
  {
   "cell_type": "markdown",
   "metadata": {
    "colab_type": "text",
    "id": "NXnbmjhLfaTR"
   },
   "source": [
    "We can see that the loss quickly reduces and then it doesn't improve much. The validation curve is similar to the training one, so we can say it doesn't overfit the training data.\n",
    "\n",
    "In log-scale:"
   ]
  },
  {
   "cell_type": "code",
   "execution_count": 20,
   "metadata": {
    "colab": {
     "base_uri": "https://localhost:8080/",
     "height": 295
    },
    "colab_type": "code",
    "id": "BxrbIH0Qgcpn",
    "outputId": "f471e937-8d34-4734-b65a-de90a8b3f134"
   },
   "outputs": [
    {
     "data": {
      "image/png": "[encoded data removed]",
      "text/plain": [
       "<Figure size 432x288 with 1 Axes>"
      ]
     },
     "metadata": {
      "tags": []
     },
     "output_type": "display_data"
    }
   ],
   "source": [
    "plt.title('Autoencoder reconstruction loss curves in log-scale')\n",
    "plt.yscale('log')\n",
    "plt.plot(training_loss, label='training loss')\n",
    "plt.plot(np.linspace(0, len(training_loss), len(validation_loss)), validation_loss, '-x', label='validation loss')\n",
    "plt.xlabel('Iteration')\n",
    "plt.ylabel('MSE')\n",
    "plt.legend();"
   ]
  },
  {
   "cell_type": "markdown",
   "metadata": {
    "colab_type": "text",
    "id": "3FTDWqo4NcF0"
   },
   "source": [
    "Now we'll try to reconstruct a image from the test dataset."
   ]
  },
  {
   "cell_type": "code",
   "execution_count": 0,
   "metadata": {
    "colab": {},
    "colab_type": "code",
    "id": "3OKrrQKRfISs"
   },
   "outputs": [],
   "source": [
    "mnist_test = torchvision.datasets.MNIST('mnist_dataset', train=False, transform=transform)\n",
    "test_dataloader = torch.utils.data.DataLoader(mnist_test, batch_size=BATCH_SIZE)"
   ]
  },
  {
   "cell_type": "code",
   "execution_count": 0,
   "metadata": {
    "colab": {},
    "colab_type": "code",
    "id": "NfXE9nSUQBV1"
   },
   "outputs": [],
   "source": [
    "def show_image(image, autoencoder, title=None):\n",
    "    reconstructed = autoencoder(image.to(device).unsqueeze(0))\n",
    "    if title:\n",
    "        plt.suptitle(title)\n",
    "    plt.subplot(121).set_title('Original image')\n",
    "    plt.imshow(image.reshape((28, 28)), cmap='gray')\n",
    "    plt.subplot(122).set_title('Reconstructed image')\n",
    "    plt.imshow(reconstructed.reshape((28, 28)).detach().cpu().numpy(), cmap='gray');"
   ]
  },
  {
   "cell_type": "code",
   "execution_count": 23,
   "metadata": {
    "colab": {
     "base_uri": "https://localhost:8080/",
     "height": 216
    },
    "colab_type": "code",
    "id": "7YUCupgTgYt3",
    "outputId": "1cb7abca-b402-4b9d-ac00-f70298ea59e7"
   },
   "outputs": [
    {
     "data": {
      "image/png": "[encoded data removed]",
      "text/plain": [
       "<Figure size 432x288 with 2 Axes>"
      ]
     },
     "metadata": {
      "tags": []
     },
     "output_type": "display_data"
    }
   ],
   "source": [
    "show_image(mnist_test[6][0], autoencoder)"
   ]
  },
  {
   "cell_type": "markdown",
   "metadata": {
    "colab_type": "text",
    "id": "Lxb8rpY3goVF"
   },
   "source": [
    "We can see some information is loss, but the reconstruction is pretty accurate."
   ]
  },
  {
   "cell_type": "markdown",
   "metadata": {
    "colab_type": "text",
    "id": "qQfkKa71EQ9s"
   },
   "source": [
    "## Varying bottleneck size\n"
   ]
  },
  {
   "cell_type": "code",
   "execution_count": 0,
   "metadata": {
    "colab": {},
    "colab_type": "code",
    "id": "34WQ01WqLcmz"
   },
   "outputs": [],
   "source": [
    "mse = torch.nn.MSELoss(reduction='sum')"
   ]
  },
  {
   "cell_type": "code",
   "execution_count": 25,
   "metadata": {
    "colab": {
     "base_uri": "https://localhost:8080/",
     "height": 1000
    },
    "colab_type": "code",
    "id": "3ctr05S_Edn6",
    "outputId": "1542a107-a3a9-40eb-93e5-ef0f50355ef6"
   },
   "outputs": [
    {
     "name": "stdout",
     "output_type": "stream",
     "text": [
      "***************Autoencoder bottleneck size 2***************\n",
      "[1, test] loss: 90.189\n",
      "[1, 0] loss: 91.768\n",
      "[2, test] loss: 53.599\n",
      "[2, 0] loss: 53.154\n",
      "[3, test] loss: 53.509\n",
      "[3, 0] loss: 52.340\n",
      "[4, test] loss: 53.448\n",
      "[4, 0] loss: 53.651\n",
      "[5, test] loss: 53.472\n",
      "[5, 0] loss: 53.519\n",
      "[6, test] loss: 53.522\n",
      "[6, 0] loss: 53.807\n",
      "[7, test] loss: 53.461\n",
      "[7, 0] loss: 53.838\n",
      "[8, test] loss: 53.470\n",
      "[8, 0] loss: 52.547\n",
      "[9, test] loss: 53.466\n",
      "[9, 0] loss: 51.324\n",
      "[10, test] loss: 53.535\n",
      "[10, 0] loss: 52.259\n",
      "[10, test] loss: 53.571\n",
      "***************Autoencoder bottleneck size 5***************\n",
      "[1, test] loss: 91.055\n",
      "[1, 0] loss: 93.222\n",
      "[2, test] loss: 45.875\n",
      "[2, 0] loss: 44.058\n",
      "[3, test] loss: 43.030\n",
      "[3, 0] loss: 44.374\n",
      "[4, test] loss: 41.044\n",
      "[4, 0] loss: 39.050\n",
      "[5, test] loss: 40.465\n",
      "[5, 0] loss: 39.168\n",
      "[6, test] loss: 40.553\n",
      "[6, 0] loss: 39.940\n",
      "[7, test] loss: 40.034\n",
      "[7, 0] loss: 40.134\n",
      "[8, test] loss: 39.147\n",
      "[8, 0] loss: 41.131\n",
      "[9, test] loss: 38.912\n",
      "[9, 0] loss: 37.348\n",
      "[10, test] loss: 37.769\n",
      "[10, 0] loss: 37.176\n",
      "[10, test] loss: 37.628\n",
      "***************Autoencoder bottleneck size 10***************\n",
      "[1, test] loss: 88.450\n",
      "[1, 0] loss: 88.846\n",
      "[2, test] loss: 32.023\n",
      "[2, 0] loss: 30.041\n",
      "[3, test] loss: 27.644\n",
      "[3, 0] loss: 28.407\n",
      "[4, test] loss: 25.910\n",
      "[4, 0] loss: 27.215\n",
      "[5, test] loss: 24.798\n",
      "[5, 0] loss: 24.957\n",
      "[6, test] loss: 24.185\n",
      "[6, 0] loss: 23.426\n",
      "[7, test] loss: 23.575\n",
      "[7, 0] loss: 22.829\n",
      "[8, test] loss: 22.945\n",
      "[8, 0] loss: 22.221\n",
      "[9, test] loss: 22.911\n",
      "[9, 0] loss: 22.408\n",
      "[10, test] loss: 22.571\n",
      "[10, 0] loss: 21.279\n",
      "[10, test] loss: 22.467\n",
      "***************Autoencoder bottleneck size 50***************\n",
      "[1, test] loss: 101.101\n",
      "[1, 0] loss: 102.124\n",
      "[2, test] loss: 18.164\n",
      "[2, 0] loss: 18.572\n",
      "[3, test] loss: 10.658\n",
      "[3, 0] loss: 10.079\n",
      "[4, test] loss: 9.176\n",
      "[4, 0] loss: 9.275\n",
      "[5, test] loss: 8.251\n",
      "[5, 0] loss: 8.278\n",
      "[6, test] loss: 7.702\n",
      "[6, 0] loss: 8.024\n",
      "[7, test] loss: 7.306\n",
      "[7, 0] loss: 7.199\n",
      "[8, test] loss: 7.098\n",
      "[8, 0] loss: 6.445\n",
      "[9, test] loss: 7.113\n",
      "[9, 0] loss: 6.552\n",
      "[10, test] loss: 6.609\n",
      "[10, 0] loss: 6.211\n",
      "[10, test] loss: 6.496\n"
     ]
    }
   ],
   "source": [
    "bottleneck_sizes = [2, 5, 10, 50]\n",
    "autoencoders = {}\n",
    "min_loss = float(\"inf\")\n",
    "for bottleneck_size in bottleneck_sizes:\n",
    "    training_loss = []    # Here we save the training process.\n",
    "    validation_loss = []  # And here the validation loss after each epoch\n",
    "\n",
    "    print(\"*\"*15 + f\"Autoencoder bottleneck size {bottleneck_size}\" + \"*\"*15)\n",
    "  \n",
    "    autoencoder = ConvolutionalAutoencoderReducedLatentDim(\n",
    "        input_shape=(28, 28),\n",
    "        n_blocks=2,\n",
    "        downsampling_method='max-pooling',\n",
    "        upsampling_method='nearest',\n",
    "        layers_per_block=2,\n",
    "        latent_dimensionality=bottleneck_size\n",
    "    ).to(device)\n",
    "    adam = torch.optim.Adam(autoencoder.parameters(), lr=0.001)\n",
    "\n",
    "    for epoch in range(EPOCHS_AUTOENCODER):\n",
    "        autoencoder.eval()\n",
    "        with torch.no_grad():\n",
    "            loss = test(autoencoder, val_dataloader, mse, epoch, validation_loss)\n",
    "        if loss < min_loss:\n",
    "            torch.save({'encoder': autoencoder.encoder.state_dict(),\n",
    "                        'bottleneck_size': bottleneck_size}, 'encoder.pt')\n",
    "        autoencoder.train()\n",
    "        train(autoencoder, train_dataloader, mse, adam, epoch, training_loss, 500)\n",
    "        \n",
    "        # if early_stopping(validation_loss):\n",
    "        #     break\n",
    "\n",
    "    autoencoder.eval()\n",
    "    with torch.no_grad():\n",
    "        test(autoencoder, val_dataloader, mse, epoch, validation_loss)\n",
    "    autoencoders[f\"bottleneck_{bottleneck_size}\"] = {\"val_loss\": validation_loss, \"model\": autoencoder}"
   ]
  },
  {
   "cell_type": "code",
   "execution_count": 26,
   "metadata": {
    "colab": {
     "base_uri": "https://localhost:8080/",
     "height": 279
    },
    "colab_type": "code",
    "id": "ySmvQV1_PQML",
    "outputId": "d1c46b9c-2c76-423b-a940-d0b57f50c2e5"
   },
   "outputs": [
    {
     "data": {
      "image/png": "[encoded data removed]",
      "text/plain": [
       "<Figure size 432x288 with 1 Axes>"
      ]
     },
     "metadata": {
      "tags": []
     },
     "output_type": "display_data"
    }
   ],
   "source": [
    "plt.figure()\n",
    "for bottleneck_size in autoencoders:\n",
    "    plt.plot(autoencoders[bottleneck_size][\"val_loss\"], label=bottleneck_size.replace(\"_\", \"=\"))\n",
    "plt.xlabel('epoch')\n",
    "plt.ylabel('MSE')\n",
    "plt.legend();"
   ]
  },
  {
   "cell_type": "markdown",
   "metadata": {
    "colab_type": "text",
    "id": "YUdfmbcuEoh-"
   },
   "source": [
    "### Average image reconstruction loss"
   ]
  },
  {
   "cell_type": "markdown",
   "metadata": {
    "colab_type": "text",
    "id": "CRodHIYQEoh_"
   },
   "source": [
    "This section presents the average image reconstruction loss for the different autoencoders from previous section."
   ]
  },
  {
   "cell_type": "code",
   "execution_count": 0,
   "metadata": {
    "colab": {},
    "colab_type": "code",
    "id": "AWw5Pz6hEoiA"
   },
   "outputs": [],
   "source": [
    "def get_num_parameters(model):\n",
    "    return sum([p.numel() for p in model.parameters() if p.requires_grad])\n",
    "\n",
    "def get_avg_image_reconstruction_loss(model, dataloader, criterion):\n",
    "    loss = 0\n",
    "    total = 0\n",
    "    for batch in dataloader:\n",
    "        images = batch[0].to(device)\n",
    "        reconstructed = model(images)\n",
    "        loss += criterion(reconstructed, images).item()\n",
    "        total += images.shape[0]\n",
    "\n",
    "    mean_loss = loss / total\n",
    "    return mean_loss"
   ]
  },
  {
   "cell_type": "code",
   "execution_count": 28,
   "metadata": {
    "colab": {
     "base_uri": "https://localhost:8080/",
     "height": 153
    },
    "colab_type": "code",
    "id": "7m-KrRnwEoiC",
    "outputId": "9d793e94-bf57-4a91-b683-4d45ceaf2478"
   },
   "outputs": [
    {
     "name": "stdout",
     "output_type": "stream",
     "text": [
      "+---------------+----------------------+-------------------+--------------------+\n",
      "|     Model     | Number of parameters |  Validation loss  |     Test loss      |\n",
      "+---------------+----------------------+-------------------+--------------------+\n",
      "|  bottleneck_2 |        130451        | 53.57059977213542 | 52.96486076049805  |\n",
      "|  bottleneck_5 |        139862        |  37.628478515625  | 36.83166358642578  |\n",
      "| bottleneck_10 |        155547        | 22.46671785481771 | 22.158560461425783 |\n",
      "| bottleneck_50 |        281027        | 6.496461059570312 | 6.313737404632568  |\n",
      "+---------------+----------------------+-------------------+--------------------+\n"
     ]
    }
   ],
   "source": [
    "tbl = PrettyTable()\n",
    "tbl.field_names = [\"Model\", \"Number of parameters\", \"Validation loss\", \"Test loss\"]\n",
    "for model_name, model_info in autoencoders.items():\n",
    "    autoencoder = model_info[\"model\"]\n",
    "    num_params = get_num_parameters(autoencoder)\n",
    "    val_loss = get_avg_image_reconstruction_loss(autoencoder, val_dataloader, mse)\n",
    "    test_loss = get_avg_image_reconstruction_loss(autoencoder, test_dataloader, mse)\n",
    "    tbl.add_row([model_name, num_params, val_loss, test_loss])\n",
    "\n",
    "print(tbl)"
   ]
  },
  {
   "cell_type": "markdown",
   "metadata": {
    "colab_type": "text",
    "id": "yA_kBSDuEoiF"
   },
   "source": [
    "Generating random images taking 5 elements from the test set."
   ]
  },
  {
   "cell_type": "code",
   "execution_count": 29,
   "metadata": {
    "colab": {
     "base_uri": "https://localhost:8080/",
     "height": 1000
    },
    "colab_type": "code",
    "id": "cJEtvBU5EoiF",
    "outputId": "9a1be508-cdb0-4da6-8256-751c19b75450"
   },
   "outputs": [
    {
     "data": {
      "image/png": "[encoded data removed]",
      "text/plain": [
       "<Figure size 432x288 with 2 Axes>"
      ]
     },
     "metadata": {
      "tags": []
     },
     "output_type": "display_data"
    },
    {
     "data": {
      "image/png": "[encoded data removed]",
      "text/plain": [
       "<Figure size 432x288 with 2 Axes>"
      ]
     },
     "metadata": {
      "tags": []
     },
     "output_type": "display_data"
    },
    {
     "data": {
      "image/png": "[encoded data removed]",
      "text/plain": [
       "<Figure size 432x288 with 2 Axes>"
      ]
     },
     "metadata": {
      "tags": []
     },
     "output_type": "display_data"
    },
    {
     "data": {
      "image/png": "[encoded data removed]",
      "text/plain": [
       "<Figure size 432x288 with 2 Axes>"
      ]
     },
     "metadata": {
      "tags": []
     },
     "output_type": "display_data"
    },
    {
     "data": {
      "image/png": "[encoded data removed]",
      "text/plain": [
       "<Figure size 432x288 with 2 Axes>"
      ]
     },
     "metadata": {
      "tags": []
     },
     "output_type": "display_data"
    }
   ],
   "source": [
    "autoencoder = autoencoders[\"bottleneck_50\"][\"model\"]\n",
    "random_indexes = [randint(0,len(test_dataloader)) for _ in range(5)]\n",
    "for index in random_indexes:\n",
    "    plt.figure()\n",
    "    show_image(mnist_test[index][0], autoencoder)"
   ]
  },
  {
   "cell_type": "markdown",
   "metadata": {
    "colab_type": "text",
    "id": "9LXq7cHWEoiI"
   },
   "source": [
    "Presenting 5 random generated images to the autoencoder."
   ]
  },
  {
   "cell_type": "code",
   "execution_count": 0,
   "metadata": {
    "colab": {},
    "colab_type": "code",
    "id": "yNrIKhXZHSb7"
   },
   "outputs": [],
   "source": [
    "def generate_image():\n",
    "    noise = torch.randn((1, 50)).to(device)\n",
    "    generated = autoencoder.convolutional_decoder(autoencoder.linear_decoder(noise).view((1,) + autoencoder.encoder_output_shape))\n",
    "    plt.imshow(generated.squeeze().detach().cpu().numpy(), cmap='gray')\n"
   ]
  },
  {
   "cell_type": "code",
   "execution_count": 31,
   "metadata": {
    "colab": {
     "base_uri": "https://localhost:8080/",
     "height": 1000
    },
    "colab_type": "code",
    "id": "6N-oELrGEoiI",
    "outputId": "462e1394-7efe-4d30-dcde-8016e6784ec4"
   },
   "outputs": [
    {
     "data": {
      "image/png": "[encoded data removed]",
      "text/plain": [
       "<Figure size 432x288 with 1 Axes>"
      ]
     },
     "metadata": {
      "tags": []
     },
     "output_type": "display_data"
    },
    {
     "data": {
      "image/png": "[encoded data removed]",
      "text/plain": [
       "<Figure size 432x288 with 1 Axes>"
      ]
     },
     "metadata": {
      "tags": []
     },
     "output_type": "display_data"
    },
    {
     "data": {
      "image/png": "[encoded data removed]",
      "text/plain": [
       "<Figure size 432x288 with 1 Axes>"
      ]
     },
     "metadata": {
      "tags": []
     },
     "output_type": "display_data"
    },
    {
     "data": {
      "image/png": "[encoded data removed]",
      "text/plain": [
       "<Figure size 432x288 with 1 Axes>"
      ]
     },
     "metadata": {
      "tags": []
     },
     "output_type": "display_data"
    },
    {
     "data": {
      "image/png": "[encoded data removed]",
      "text/plain": [
       "<Figure size 432x288 with 1 Axes>"
      ]
     },
     "metadata": {
      "tags": []
     },
     "output_type": "display_data"
    }
   ],
   "source": [
    "for _ in range(5):\n",
    "    plt.figure()\n",
    "    generate_image()"
   ]
  },
  {
   "cell_type": "markdown",
   "metadata": {
    "colab_type": "text",
    "id": "04ODN1xHIHEL"
   },
   "source": [
    "# Exercise 2: Transfer Learning\n",
    "\n",
    "## Steps:\n",
    "\n",
    "1. Select a subset of 100 images and their associated labels from the MNIST training data.\n",
    "2. Select one of the previously trained autoencoders.\n",
    "3. Create a digit (0-9) classification model reusing the encoder of the autoencoder and adding the needed fully connected (projection) layer.\n",
    "3. Pretraining: use the weights of the autoencoder as initial values for the network weights and train a classification model on the subset of 100 samples.\n",
    "4. Fine-tuning: do the same, but train the new projection layer with a normal learning rate and the reused part with a very low learning rate.\n",
    "5. From scratch: train the model on the 100 samples without reusing the decoder weights at all.\n",
    "6. Show the accuracy of the four models on the MNIST test set in a table.\n"
   ]
  },
  {
   "cell_type": "markdown",
   "metadata": {
    "colab_type": "text",
    "id": "__skvBbtjABn"
   },
   "source": [
    "## Pretraining"
   ]
  },
  {
   "cell_type": "markdown",
   "metadata": {
    "colab_type": "text",
    "id": "v0jvg9aSh70E"
   },
   "source": [
    "We don't need to define a softmax layer, as the `CrossEntropyLoss` class internally applies it."
   ]
  },
  {
   "cell_type": "code",
   "execution_count": 0,
   "metadata": {
    "colab": {},
    "colab_type": "code",
    "id": "A6AdTRqxEoiP"
   },
   "outputs": [],
   "source": [
    "# Load saved autoencoder training checkpoint.\n",
    "autoencoder_checkpoint = torch.load('encoder.pt')\n",
    "bottleneck_size = autoencoder_checkpoint['bottleneck_size']\n",
    "encoder = ConvolutionalAutoencoderReducedLatentDim(\n",
    "    input_shape=(28, 28),\n",
    "    n_blocks=2,\n",
    "    downsampling_method='max-pooling',\n",
    "    upsampling_method='nearest',\n",
    "    layers_per_block=2,\n",
    "    latent_dimensionality=bottleneck_size\n",
    ").encoder.to(device)\n",
    "encoder.load_state_dict(autoencoder_checkpoint['encoder'])\n",
    "\n",
    "# Define classification layer.\n",
    "classifier = torch.nn.Linear(bottleneck_size, 10).to(device)"
   ]
  },
  {
   "cell_type": "markdown",
   "metadata": {
    "colab_type": "text",
    "id": "qqvqjkE5h2jR"
   },
   "source": [
    "We use the cross-entropy as our loss function and Adam as our optimization algorithm with a learning rate of 0.01."
   ]
  },
  {
   "cell_type": "code",
   "execution_count": 0,
   "metadata": {
    "colab": {},
    "colab_type": "code",
    "id": "adq2d7EnJaW5"
   },
   "outputs": [],
   "source": [
    "cross_entropy = torch.nn.CrossEntropyLoss()\n",
    "optimizer_adam = torch.optim.Adam(classifier.parameters(), lr=0.01)"
   ]
  },
  {
   "cell_type": "markdown",
   "metadata": {
    "colab_type": "text",
    "id": "GyA7pTDyiZH8"
   },
   "source": [
    "We create a subset dataset using the pytorch's `Subset` class with the first 100 samples from the training split."
   ]
  },
  {
   "cell_type": "code",
   "execution_count": 0,
   "metadata": {
    "colab": {},
    "colab_type": "code",
    "id": "M8UWsjOhJqKN"
   },
   "outputs": [],
   "source": [
    "training_subset = torch.utils.data.Subset(mnist_train, range(100))\n",
    "subset_dataloader = torch.utils.data.DataLoader(training_subset,\n",
    "                                                batch_size=BATCH_SIZE,\n",
    "                                                shuffle=True,\n",
    "                                                num_workers=4)"
   ]
  },
  {
   "cell_type": "markdown",
   "metadata": {
    "colab_type": "text",
    "id": "xrkIqayBiubF"
   },
   "source": [
    "Define our `classification_train` function that will be called at each epoch. The function takes the classifier network as well as the encoder network. It first projects the input image to the latent space and then applies the classification layer.\n",
    "\n",
    "The output of the encoder is detached so the gradients are not computed (because we dont need them)."
   ]
  },
  {
   "cell_type": "code",
   "execution_count": 0,
   "metadata": {
    "colab": {},
    "colab_type": "code",
    "id": "UWTRqkZ6MEgf"
   },
   "outputs": [],
   "source": [
    "def classification_train(classifier, encoder, dataloader, criterion, optimizer, epoch, loss_history):\n",
    "    for i, (images, labels) in enumerate(dataloader):\n",
    "        images, labels = images.to(device), labels.to(device, torch.long)\n",
    "        optimizer.zero_grad()\n",
    "        # To latent space.\n",
    "        codes = encoder(images).detach()\n",
    "        # Classify from latent space.\n",
    "        outputs = classifier(codes)\n",
    "        loss = criterion(outputs, labels)\n",
    "        loss.backward()   # Backprop.\n",
    "        optimizer.step()  # Parameter updates.\n",
    "\n",
    "        loss_history.append(loss.item())\n",
    "        print('[%d, %d] loss: %.3f' % (epoch + 1, i, loss.item()))"
   ]
  },
  {
   "cell_type": "markdown",
   "metadata": {
    "colab_type": "text",
    "id": "BL_Pz6KhizE8"
   },
   "source": [
    "Very similar to the `classification_train` function, we define our `classification_test` function to validate. In this case we don't backpropagate and update our parameters. We also compute the accuracy by summing all the correct predictions and dividing by the total number of images."
   ]
  },
  {
   "cell_type": "code",
   "execution_count": 0,
   "metadata": {
    "colab": {},
    "colab_type": "code",
    "id": "nv5E5Xc6QiKV"
   },
   "outputs": [],
   "source": [
    "def classification_test(classifier, encoder, dataloader, criterion, epoch, loss_history):\n",
    "    loss = 0\n",
    "    total = 0\n",
    "    correct = 0\n",
    "    for i, (images, labels) in enumerate(dataloader):\n",
    "        images, labels = images.to(device), labels.to(device, torch.long)\n",
    "        codes = encoder(images)\n",
    "        outputs = classifier(codes)\n",
    "        loss += criterion(outputs, labels).item()\n",
    "        # Compute average accuracy.\n",
    "        _, predicted = torch.max(outputs.data, 1)\n",
    "        total += labels.size(0)\n",
    "        correct += (predicted == labels).sum().item()\n",
    "\n",
    "    mean_loss = loss / (i + 1)\n",
    "    acc = 100 * correct / total\n",
    "    loss_history.append(mean_loss)  \n",
    "    print('[%d, test] loss: %.3f accuracy: %.3f' % (epoch + 1, mean_loss, acc))\n",
    "    return mean_loss, acc"
   ]
  },
  {
   "cell_type": "markdown",
   "metadata": {
    "colab_type": "text",
    "id": "fub5vuTJkmGN"
   },
   "source": [
    "We pass the `encoder` submodule of the `autoencoder` object as the `encoder` parameter of the above-defined functions."
   ]
  },
  {
   "cell_type": "code",
   "execution_count": 37,
   "metadata": {
    "colab": {
     "base_uri": "https://localhost:8080/",
     "height": 714
    },
    "colab_type": "code",
    "id": "Tx50jNQdNaoX",
    "outputId": "499335b3-549a-4393-ff1c-2d9a0314576b"
   },
   "outputs": [
    {
     "name": "stdout",
     "output_type": "stream",
     "text": [
      "[1, test] loss: 4.517 accuracy: 9.833\n",
      "[1, 0] loss: 4.704\n",
      "[2, test] loss: 3.486 accuracy: 9.433\n",
      "[2, 0] loss: 3.462\n",
      "[3, test] loss: 3.213 accuracy: 8.500\n",
      "[3, 0] loss: 3.047\n",
      "[4, test] loss: 3.140 accuracy: 13.100\n",
      "[4, 0] loss: 2.954\n",
      "[5, test] loss: 3.080 accuracy: 17.300\n",
      "[5, 0] loss: 2.919\n",
      "[6, test] loss: 2.900 accuracy: 19.667\n",
      "[6, 0] loss: 2.763\n",
      "[7, test] loss: 2.716 accuracy: 19.667\n",
      "[7, 0] loss: 2.595\n",
      "[8, test] loss: 2.592 accuracy: 17.433\n",
      "[8, 0] loss: 2.485\n",
      "[9, test] loss: 2.481 accuracy: 16.867\n",
      "[9, 0] loss: 2.380\n",
      "[10, test] loss: 2.348 accuracy: 16.700\n",
      "[10, 0] loss: 2.228\n",
      "[11, test] loss: 2.188 accuracy: 21.900\n",
      "[11, 0] loss: 2.028\n",
      "[12, test] loss: 2.027 accuracy: 29.267\n",
      "[12, 0] loss: 1.822\n",
      "[13, test] loss: 1.900 accuracy: 35.033\n",
      "[13, 0] loss: 1.656\n",
      "[14, test] loss: 1.809 accuracy: 38.700\n",
      "[14, 0] loss: 1.537\n",
      "[15, test] loss: 1.739 accuracy: 41.900\n",
      "[15, 0] loss: 1.451\n",
      "[16, test] loss: 1.684 accuracy: 45.133\n",
      "[16, 0] loss: 1.390\n",
      "[17, test] loss: 1.638 accuracy: 45.933\n",
      "[17, 0] loss: 1.345\n",
      "[18, test] loss: 1.583 accuracy: 47.467\n",
      "[18, 0] loss: 1.290\n",
      "[19, test] loss: 1.511 accuracy: 50.033\n",
      "[19, 0] loss: 1.215\n",
      "[20, test] loss: 1.431 accuracy: 53.533\n",
      "[20, 0] loss: 1.131\n",
      "[20, test] loss: 1.355 accuracy: 57.067\n"
     ]
    }
   ],
   "source": [
    "pretraining_training_loss = []\n",
    "pretraining_validation_loss = []  # Here we save the training process.\n",
    "min_loss = float('inf')\n",
    "\n",
    "for epoch in range(EPOCHS_PRETRAINING):\n",
    "    classifier.eval()\n",
    "    with torch.no_grad():\n",
    "        loss, _ = classification_test(classifier, encoder, val_dataloader, cross_entropy, epoch, pretraining_validation_loss)\n",
    "        if loss < min_loss:\n",
    "            min_loss = loss\n",
    "            torch.save({'classifier': classifier.state_dict(),\n",
    "                        'encoder': encoder.state_dict()},\n",
    "                       'best_pretrain.pt')\n",
    "    classifier.train()\n",
    "    classification_train(classifier, encoder, subset_dataloader, cross_entropy, optimizer_adam, epoch, pretraining_training_loss)\n",
    "\n",
    "classifier.eval()\n",
    "with torch.no_grad():\n",
    "    loss, _ = classification_test(classifier, encoder, val_dataloader, cross_entropy, epoch, pretraining_validation_loss)\n",
    "    if loss < min_loss:\n",
    "            min_loss = loss\n",
    "            torch.save({'classifier': classifier.state_dict(),\n",
    "                        'encoder': encoder.state_dict()},\n",
    "                       'best_pretrain.pt')"
   ]
  },
  {
   "cell_type": "code",
   "execution_count": 38,
   "metadata": {
    "colab": {
     "base_uri": "https://localhost:8080/",
     "height": 295
    },
    "colab_type": "code",
    "id": "3g7sNGZChB9G",
    "outputId": "d67495b9-233e-41dc-83d1-be793e1bba4f"
   },
   "outputs": [
    {
     "data": {
      "image/png": "[encoded data removed]",
      "text/plain": [
       "<Figure size 432x288 with 1 Axes>"
      ]
     },
     "metadata": {
      "tags": []
     },
     "output_type": "display_data"
    }
   ],
   "source": [
    "plt.title('Pretraining classification loss curves')\n",
    "plt.plot(pretraining_training_loss, label='training loss')\n",
    "plt.plot(np.linspace(0, len(pretraining_training_loss), len(pretraining_validation_loss)), pretraining_validation_loss, '-x', label='validation loss')\n",
    "plt.xlabel('iteration')\n",
    "plt.ylabel('cross entropy')\n",
    "plt.legend();"
   ]
  },
  {
   "cell_type": "code",
   "execution_count": 0,
   "metadata": {
    "colab": {},
    "colab_type": "code",
    "id": "f8HSHSVvRmjS"
   },
   "outputs": [],
   "source": [
    "test_dataloader = torch.utils.data.DataLoader(mnist_test, batch_size=BATCH_SIZE)"
   ]
  },
  {
   "cell_type": "code",
   "execution_count": 40,
   "metadata": {
    "colab": {
     "base_uri": "https://localhost:8080/",
     "height": 34
    },
    "colab_type": "code",
    "id": "B2dNc7aeap_8",
    "outputId": "5d4b550f-ccc5-44bf-a995-fb47f7214af0"
   },
   "outputs": [
    {
     "name": "stdout",
     "output_type": "stream",
     "text": [
      "[20, test] loss: 1.332 accuracy: 58.080\n"
     ]
    }
   ],
   "source": [
    "classification_test(classifier, encoder, test_dataloader, cross_entropy, epoch, []);"
   ]
  },
  {
   "cell_type": "markdown",
   "metadata": {
    "colab_type": "text",
    "id": "27T_v5UkjACE"
   },
   "source": [
    "## Pretrain + Fine-tuning"
   ]
  },
  {
   "cell_type": "markdown",
   "metadata": {
    "colab_type": "text",
    "id": "BZgsgSfHmYWH"
   },
   "source": [
    "We modify the optimizer in order to have different learning rates for the encoder and the classifier.\n",
    "\n",
    "The `classification_test` function doesn't need to be modified."
   ]
  },
  {
   "cell_type": "markdown",
   "metadata": {
    "colab_type": "text",
    "id": "JZUYo_X3m9D3"
   },
   "source": [
    "We define a new Adam optimizer for the encoder network with a small learning rate of 0.0001. The classification network optimizer is reused."
   ]
  },
  {
   "cell_type": "code",
   "execution_count": 0,
   "metadata": {
    "colab": {},
    "colab_type": "code",
    "id": "-PPua7XNEoiy"
   },
   "outputs": [],
   "source": [
    "optimizer_adam = torch.optim.Adam([\n",
    "    {\"params\": classifier.parameters()},\n",
    "    {\"params\": encoder.parameters(), \"lr\":0.0001}\n",
    "])"
   ]
  },
  {
   "cell_type": "markdown",
   "metadata": {
    "colab_type": "text",
    "id": "lxBX3gRtnOV9"
   },
   "source": [
    "Note that we don't redefine the `training_loss` and `validation_loss` list, so they will have the values of the pretraining stage too."
   ]
  },
  {
   "cell_type": "code",
   "execution_count": 42,
   "metadata": {
    "colab": {
     "base_uri": "https://localhost:8080/",
     "height": 714
    },
    "colab_type": "code",
    "id": "RdqDkdgwjACN",
    "outputId": "060208e4-242e-40e5-b611-e047ba9f7b27"
   },
   "outputs": [
    {
     "name": "stdout",
     "output_type": "stream",
     "text": [
      "[1, test] loss: 1.355 accuracy: 57.067\n",
      "[1, 0] loss: 1.054\n",
      "[2, test] loss: 1.326 accuracy: 58.367\n",
      "[2, 0] loss: 1.030\n",
      "[3, test] loss: 1.305 accuracy: 59.567\n",
      "[3, 0] loss: 1.013\n",
      "[4, test] loss: 1.289 accuracy: 60.467\n",
      "[4, 0] loss: 1.001\n",
      "[5, test] loss: 1.275 accuracy: 61.000\n",
      "[5, 0] loss: 0.991\n",
      "[6, test] loss: 1.264 accuracy: 61.400\n",
      "[6, 0] loss: 0.982\n",
      "[7, test] loss: 1.253 accuracy: 62.167\n",
      "[7, 0] loss: 0.972\n",
      "[8, test] loss: 1.243 accuracy: 62.800\n",
      "[8, 0] loss: 0.963\n",
      "[9, test] loss: 1.233 accuracy: 63.233\n",
      "[9, 0] loss: 0.953\n",
      "[10, test] loss: 1.223 accuracy: 64.000\n",
      "[10, 0] loss: 0.943\n",
      "[11, test] loss: 1.213 accuracy: 64.733\n",
      "[11, 0] loss: 0.934\n",
      "[12, test] loss: 1.204 accuracy: 65.267\n",
      "[12, 0] loss: 0.924\n",
      "[13, test] loss: 1.194 accuracy: 65.633\n",
      "[13, 0] loss: 0.915\n",
      "[14, test] loss: 1.184 accuracy: 66.000\n",
      "[14, 0] loss: 0.906\n",
      "[15, test] loss: 1.175 accuracy: 66.200\n",
      "[15, 0] loss: 0.897\n",
      "[16, test] loss: 1.166 accuracy: 66.367\n",
      "[16, 0] loss: 0.889\n",
      "[17, test] loss: 1.157 accuracy: 66.667\n",
      "[17, 0] loss: 0.880\n",
      "[18, test] loss: 1.148 accuracy: 66.967\n",
      "[18, 0] loss: 0.872\n",
      "[19, test] loss: 1.139 accuracy: 67.200\n",
      "[19, 0] loss: 0.864\n",
      "[20, test] loss: 1.130 accuracy: 67.467\n",
      "[20, 0] loss: 0.855\n",
      "[20, test] loss: 1.122 accuracy: 67.800\n"
     ]
    }
   ],
   "source": [
    "min_loss = float('inf')\n",
    "\n",
    "for epoch in range(EPOCHS_FINETUNING):\n",
    "    classifier.eval()\n",
    "    encoder.eval()\n",
    "    with torch.no_grad():\n",
    "        loss, _ = classification_test(classifier, encoder, val_dataloader, cross_entropy, epoch, pretraining_validation_loss)\n",
    "        if loss < min_loss:\n",
    "            min_loss = loss\n",
    "            torch.save({'classifier': classifier.state_dict(),\n",
    "                        'encoder': encoder.state_dict()},\n",
    "                       'best_pretraining+fine-tuning.pt')\n",
    "    classifier.train()\n",
    "    encoder.train()\n",
    "    classification_train(classifier, encoder, subset_dataloader,\n",
    "                         cross_entropy, optimizer_adam, epoch, pretraining_training_loss)\n",
    "\n",
    "classifier.eval()\n",
    "encoder.eval()\n",
    "with torch.no_grad():\n",
    "    loss, _ = classification_test(classifier, encoder, val_dataloader, cross_entropy, epoch, pretraining_validation_loss)\n",
    "    if loss < min_loss:\n",
    "            min_loss = loss\n",
    "            torch.save({'classifier': classifier.state_dict(),\n",
    "                        'encoder': encoder.state_dict()},\n",
    "                       'best_pretraining+fine-tuning.pt')"
   ]
  },
  {
   "cell_type": "code",
   "execution_count": 43,
   "metadata": {
    "colab": {
     "base_uri": "https://localhost:8080/",
     "height": 295
    },
    "colab_type": "code",
    "id": "ge4JD9dpaYXZ",
    "outputId": "52817669-9ad4-4b6b-fb51-ab3af70ae609"
   },
   "outputs": [
    {
     "data": {
      "image/png": "[encoded data removed]",
      "text/plain": [
       "<Figure size 432x288 with 1 Axes>"
      ]
     },
     "metadata": {
      "tags": []
     },
     "output_type": "display_data"
    }
   ],
   "source": [
    "plt.title('Fine-tunning classification loss curves')\n",
    "plt.plot(pretraining_training_loss, label='training loss')\n",
    "plt.plot(np.linspace(0, len(pretraining_training_loss), len(pretraining_validation_loss)), pretraining_validation_loss, '-x', label='validation loss')\n",
    "plt.xlabel('iteration')\n",
    "plt.ylabel('cross entropy')\n",
    "plt.legend();"
   ]
  },
  {
   "cell_type": "code",
   "execution_count": 44,
   "metadata": {
    "colab": {
     "base_uri": "https://localhost:8080/",
     "height": 34
    },
    "colab_type": "code",
    "id": "zMB42WyHPNmA",
    "outputId": "02c1a40d-0633-45bf-a4ef-83aff389c702"
   },
   "outputs": [
    {
     "name": "stdout",
     "output_type": "stream",
     "text": [
      "[20, test] loss: 1.095 accuracy: 69.330\n"
     ]
    }
   ],
   "source": [
    "classification_test(classifier, encoder, test_dataloader, cross_entropy, epoch, []);"
   ]
  },
  {
   "cell_type": "markdown",
   "metadata": {
    "colab_type": "text",
    "id": "6bOuf5XxEoi6"
   },
   "source": [
    "## Fine-tuning"
   ]
  },
  {
   "cell_type": "code",
   "execution_count": 0,
   "metadata": {
    "colab": {},
    "colab_type": "code",
    "id": "thwBf-MrEoi7"
   },
   "outputs": [],
   "source": [
    "encoder = ConvolutionalAutoencoderReducedLatentDim(\n",
    "    input_shape=(28, 28),\n",
    "    n_blocks=2,\n",
    "    downsampling_method='max-pooling',\n",
    "    upsampling_method='nearest',\n",
    "    layers_per_block=2,\n",
    "    latent_dimensionality=bottleneck_size\n",
    ").encoder.to(device)\n",
    "\n",
    "# Define classification layer.\n",
    "classifier = torch.nn.Linear(bottleneck_size, 10).to(device)"
   ]
  },
  {
   "cell_type": "code",
   "execution_count": 0,
   "metadata": {
    "colab": {},
    "colab_type": "code",
    "id": "R7dpDhjUMbx0"
   },
   "outputs": [],
   "source": [
    "optimizer_adam = torch.optim.Adam([\n",
    "    {'params': classifier.parameters(), 'lr': 1e-2},\n",
    "    {'params': encoder.parameters(), 'lr': 1e-5}\n",
    "], lr=1e-3)"
   ]
  },
  {
   "cell_type": "code",
   "execution_count": 47,
   "metadata": {
    "colab": {
     "base_uri": "https://localhost:8080/",
     "height": 1000
    },
    "colab_type": "code",
    "id": "77x5A8L9Eoi8",
    "outputId": "7fdbbfeb-3e3f-45da-9e5e-0244c2245cf0",
    "scrolled": true
   },
   "outputs": [
    {
     "name": "stdout",
     "output_type": "stream",
     "text": [
      "[1, test] loss: 2.312 accuracy: 10.867\n",
      "[1, 0] loss: 2.314\n",
      "[2, test] loss: 2.312 accuracy: 10.033\n",
      "[2, 0] loss: 2.311\n",
      "[3, test] loss: 2.312 accuracy: 9.333\n",
      "[3, 0] loss: 2.309\n",
      "[4, test] loss: 2.311 accuracy: 9.333\n",
      "[4, 0] loss: 2.307\n",
      "[5, test] loss: 2.311 accuracy: 9.333\n",
      "[5, 0] loss: 2.305\n",
      "[6, test] loss: 2.311 accuracy: 9.333\n",
      "[6, 0] loss: 2.303\n",
      "[7, test] loss: 2.311 accuracy: 9.333\n",
      "[7, 0] loss: 2.301\n",
      "[8, test] loss: 2.311 accuracy: 9.333\n",
      "[8, 0] loss: 2.299\n",
      "[9, test] loss: 2.312 accuracy: 9.333\n",
      "[9, 0] loss: 2.298\n",
      "[10, test] loss: 2.312 accuracy: 9.333\n",
      "[10, 0] loss: 2.296\n",
      "[11, test] loss: 2.312 accuracy: 9.333\n",
      "[11, 0] loss: 2.295\n",
      "[12, test] loss: 2.312 accuracy: 9.333\n",
      "[12, 0] loss: 2.294\n",
      "[13, test] loss: 2.313 accuracy: 9.333\n",
      "[13, 0] loss: 2.292\n",
      "[14, test] loss: 2.313 accuracy: 9.333\n",
      "[14, 0] loss: 2.291\n",
      "[15, test] loss: 2.313 accuracy: 9.333\n",
      "[15, 0] loss: 2.290\n",
      "[16, test] loss: 2.313 accuracy: 9.333\n",
      "[16, 0] loss: 2.289\n",
      "[17, test] loss: 2.313 accuracy: 9.333\n",
      "[17, 0] loss: 2.288\n",
      "[18, test] loss: 2.313 accuracy: 9.333\n",
      "[18, 0] loss: 2.286\n",
      "[19, test] loss: 2.313 accuracy: 9.333\n",
      "[19, 0] loss: 2.285\n",
      "[20, test] loss: 2.313 accuracy: 9.333\n",
      "[20, 0] loss: 2.284\n",
      "[21, test] loss: 2.313 accuracy: 9.333\n",
      "[21, 0] loss: 2.283\n",
      "[22, test] loss: 2.313 accuracy: 9.333\n",
      "[22, 0] loss: 2.282\n",
      "[23, test] loss: 2.313 accuracy: 9.333\n",
      "[23, 0] loss: 2.281\n",
      "[24, test] loss: 2.314 accuracy: 9.333\n",
      "[24, 0] loss: 2.280\n",
      "[25, test] loss: 2.314 accuracy: 9.333\n",
      "[25, 0] loss: 2.279\n",
      "[26, test] loss: 2.314 accuracy: 9.333\n",
      "[26, 0] loss: 2.279\n",
      "[27, test] loss: 2.314 accuracy: 9.333\n",
      "[27, 0] loss: 2.278\n",
      "[28, test] loss: 2.314 accuracy: 9.333\n",
      "[28, 0] loss: 2.277\n",
      "[29, test] loss: 2.314 accuracy: 10.800\n",
      "[29, 0] loss: 2.276\n",
      "[30, test] loss: 2.315 accuracy: 10.133\n",
      "[30, 0] loss: 2.276\n",
      "[31, test] loss: 2.315 accuracy: 9.867\n",
      "[31, 0] loss: 2.275\n",
      "[32, test] loss: 2.315 accuracy: 9.867\n",
      "[32, 0] loss: 2.274\n",
      "[33, test] loss: 2.316 accuracy: 9.867\n",
      "[33, 0] loss: 2.274\n",
      "[34, test] loss: 2.316 accuracy: 9.867\n",
      "[34, 0] loss: 2.273\n",
      "[35, test] loss: 2.317 accuracy: 9.867\n",
      "[35, 0] loss: 2.272\n",
      "[36, test] loss: 2.317 accuracy: 9.867\n",
      "[36, 0] loss: 2.272\n",
      "[37, test] loss: 2.317 accuracy: 9.867\n",
      "[37, 0] loss: 2.271\n",
      "[38, test] loss: 2.318 accuracy: 9.867\n",
      "[38, 0] loss: 2.271\n",
      "[39, test] loss: 2.318 accuracy: 9.867\n",
      "[39, 0] loss: 2.270\n",
      "[40, test] loss: 2.319 accuracy: 9.867\n",
      "[40, 0] loss: 2.270\n",
      "[40, test] loss: 2.319 accuracy: 9.867\n"
     ]
    }
   ],
   "source": [
    "finetuning_training_loss = []\n",
    "finetuning_validation_loss = []\n",
    "min_loss = float('inf')\n",
    "\n",
    "for epoch in range(EPOCHS_PRETRAINING + EPOCHS_FINETUNING):\n",
    "    classifier.eval()\n",
    "    encoder.eval()\n",
    "    with torch.no_grad():\n",
    "        loss, _ = classification_test(classifier, encoder, val_dataloader, cross_entropy, epoch, finetuning_validation_loss)\n",
    "        if loss < min_loss:\n",
    "            min_loss = loss\n",
    "            torch.save({'classifier': classifier.state_dict(),\n",
    "                        'encoder': encoder.state_dict()},\n",
    "                       'best_fine-tuning.pt')\n",
    "    classifier.train()\n",
    "    encoder.train()\n",
    "    classification_train(classifier, encoder, subset_dataloader,\n",
    "                         cross_entropy, optimizer_adam, epoch, finetuning_training_loss)\n",
    "\n",
    "classifier.eval()\n",
    "encoder.eval()\n",
    "with torch.no_grad():\n",
    "    loss, _ = classification_test(classifier, encoder, val_dataloader, cross_entropy, epoch, finetuning_validation_loss)\n",
    "    if loss < min_loss:\n",
    "            min_loss = loss\n",
    "            torch.save({'classifier': classifier.state_dict(),\n",
    "                        'encoder': encoder.state_dict()},\n",
    "                       'best_fine-tuning.pt')"
   ]
  },
  {
   "cell_type": "code",
   "execution_count": 48,
   "metadata": {
    "colab": {
     "base_uri": "https://localhost:8080/",
     "height": 295
    },
    "colab_type": "code",
    "id": "ALjFferxPcR4",
    "outputId": "bfaa18f9-b1dc-4697-e784-25cf3d5dd59e"
   },
   "outputs": [
    {
     "data": {
      "image/png": "[encoded data removed]",
      "text/plain": [
       "<Figure size 432x288 with 1 Axes>"
      ]
     },
     "metadata": {
      "tags": []
     },
     "output_type": "display_data"
    }
   ],
   "source": [
    "plt.title('Fine-tunning classification loss curves')\n",
    "plt.plot(finetuning_training_loss, label='training loss')\n",
    "plt.plot(np.linspace(0, len(finetuning_training_loss), len(finetuning_validation_loss)), finetuning_validation_loss, '-x', label='validation loss')\n",
    "plt.xlabel('iteration')\n",
    "plt.ylabel('cross entropy')\n",
    "plt.legend();"
   ]
  },
  {
   "cell_type": "markdown",
   "metadata": {
    "colab_type": "text",
    "id": "3mVz45k1PWee"
   },
   "source": [
    "## From scratch"
   ]
  },
  {
   "cell_type": "code",
   "execution_count": 0,
   "metadata": {
    "colab": {},
    "colab_type": "code",
    "id": "n8s58B_XoSis"
   },
   "outputs": [],
   "source": [
    "new_autoencoder = ConvolutionalAutoencoderReducedLatentDim(\n",
    "    input_shape=(28, 28),\n",
    "    n_blocks=2,\n",
    "    downsampling_method='max-pooling',\n",
    "    upsampling_method='nearest',\n",
    "    layers_per_block=2,\n",
    "    latent_dimensionality=50\n",
    ").to(device)\n",
    "\n",
    "new_classifier = torch.nn.Sequential(\n",
    "    new_autoencoder.encoder,\n",
    "    torch.nn.Linear(50, 10)\n",
    ").to(device)"
   ]
  },
  {
   "cell_type": "code",
   "execution_count": 0,
   "metadata": {
    "colab": {},
    "colab_type": "code",
    "id": "4DjdCLKOPqBJ"
   },
   "outputs": [],
   "source": [
    "def new_classification_train(classifier, dataloader, criterion, classifier_optimizer, epoch, loss_history):\n",
    "    for i, (images, labels) in enumerate(dataloader):\n",
    "        images, labels = images.to(device), labels.to(device, torch.long)\n",
    "        classifier_optimizer.zero_grad()\n",
    "        # To latent space + Classify from latent space.\n",
    "        outputs = classifier(images)\n",
    "        loss = criterion(outputs, labels)\n",
    "        loss.backward()              # Backprop.\n",
    "        classifier_optimizer.step()  # Update parameters.\n",
    "\n",
    "        loss_history.append(loss.item())\n",
    "        print('[%d, %d] loss: %.3f' % (epoch + 1, i, loss.item()))"
   ]
  },
  {
   "cell_type": "code",
   "execution_count": 0,
   "metadata": {
    "colab": {},
    "colab_type": "code",
    "id": "gJnplDxAQCJQ"
   },
   "outputs": [],
   "source": [
    "def new_classification_test(classifier, dataloader, criterion, epoch, loss_history):\n",
    "    loss = 0\n",
    "    total = 0\n",
    "    correct = 0\n",
    "    for i, (images, labels) in enumerate(dataloader):\n",
    "        images, labels = images.to(device), labels.to(device, torch.long)\n",
    "        outputs = classifier(images)\n",
    "        loss += criterion(outputs, labels).item()\n",
    "        # Compute average accuracy.\n",
    "        _, predicted = torch.max(outputs.data, 1)\n",
    "        total += labels.size(0)\n",
    "        correct += (predicted == labels).sum().item()\n",
    "\n",
    "    mean_loss = loss / (i + 1)\n",
    "    acc = 100 * correct / total\n",
    "    loss_history.append(mean_loss)  \n",
    "    print('[%d, validation] loss: %.3f accuracy: %.3f' % (epoch + 1, mean_loss, acc))\n",
    "    return mean_loss, acc"
   ]
  },
  {
   "cell_type": "code",
   "execution_count": 0,
   "metadata": {
    "colab": {},
    "colab_type": "code",
    "id": "iHljTyDkQINO"
   },
   "outputs": [],
   "source": [
    "cross_entropy = torch.nn.CrossEntropyLoss()\n",
    "new_classifier_adam = torch.optim.Adam(new_classifier.parameters(), lr=0.001)"
   ]
  },
  {
   "cell_type": "code",
   "execution_count": 53,
   "metadata": {
    "colab": {
     "base_uri": "https://localhost:8080/",
     "height": 1000
    },
    "colab_type": "code",
    "id": "Po-AZQH0QSsc",
    "outputId": "32a9f711-1dc0-476d-da13-53d5b1a98407"
   },
   "outputs": [
    {
     "name": "stdout",
     "output_type": "stream",
     "text": [
      "[1, validation] loss: 2.307 accuracy: 9.333\n",
      "[1, 0] loss: 2.304\n",
      "[2, validation] loss: 2.307 accuracy: 9.333\n",
      "[2, 0] loss: 2.302\n",
      "[3, validation] loss: 2.306 accuracy: 9.333\n",
      "[3, 0] loss: 2.299\n",
      "[4, validation] loss: 2.305 accuracy: 15.167\n",
      "[4, 0] loss: 2.293\n",
      "[5, validation] loss: 2.305 accuracy: 21.967\n",
      "[5, 0] loss: 2.282\n",
      "[6, validation] loss: 2.312 accuracy: 9.867\n",
      "[6, 0] loss: 2.266\n",
      "[7, validation] loss: 2.352 accuracy: 9.867\n",
      "[7, 0] loss: 2.262\n",
      "[8, validation] loss: 2.332 accuracy: 9.867\n",
      "[8, 0] loss: 2.244\n",
      "[9, validation] loss: 2.309 accuracy: 9.867\n",
      "[9, 0] loss: 2.229\n",
      "[10, validation] loss: 2.288 accuracy: 11.433\n",
      "[10, 0] loss: 2.207\n",
      "[11, validation] loss: 2.262 accuracy: 14.900\n",
      "[11, 0] loss: 2.169\n",
      "[12, validation] loss: 2.229 accuracy: 23.067\n",
      "[12, 0] loss: 2.110\n",
      "[13, validation] loss: 2.183 accuracy: 35.600\n",
      "[13, 0] loss: 2.022\n",
      "[14, validation] loss: 2.103 accuracy: 41.100\n",
      "[14, 0] loss: 1.885\n",
      "[15, validation] loss: 1.982 accuracy: 42.533\n",
      "[15, 0] loss: 1.704\n",
      "[16, validation] loss: 1.812 accuracy: 48.500\n",
      "[16, 0] loss: 1.468\n",
      "[17, validation] loss: 1.629 accuracy: 56.833\n",
      "[17, 0] loss: 1.223\n",
      "[18, validation] loss: 1.480 accuracy: 60.667\n",
      "[18, 0] loss: 1.015\n",
      "[19, validation] loss: 1.366 accuracy: 61.767\n",
      "[19, 0] loss: 0.850\n",
      "[20, validation] loss: 1.385 accuracy: 61.300\n",
      "[20, 0] loss: 0.758\n",
      "[21, validation] loss: 1.270 accuracy: 60.300\n",
      "[21, 0] loss: 0.631\n",
      "[22, validation] loss: 1.211 accuracy: 65.233\n",
      "[22, 0] loss: 0.481\n",
      "[23, validation] loss: 1.243 accuracy: 68.333\n",
      "[23, 0] loss: 0.396\n",
      "[24, validation] loss: 1.380 accuracy: 69.433\n",
      "[24, 0] loss: 0.371\n",
      "[25, validation] loss: 1.440 accuracy: 69.767\n",
      "[25, 0] loss: 0.255\n",
      "[26, validation] loss: 1.515 accuracy: 70.600\n",
      "[26, 0] loss: 0.183\n",
      "[27, validation] loss: 1.582 accuracy: 70.733\n",
      "[27, 0] loss: 0.160\n",
      "[28, validation] loss: 1.711 accuracy: 71.633\n",
      "[28, 0] loss: 0.119\n",
      "[29, validation] loss: 1.852 accuracy: 71.933\n",
      "[29, 0] loss: 0.089\n",
      "[30, validation] loss: 2.024 accuracy: 71.200\n",
      "[30, 0] loss: 0.106\n",
      "[31, validation] loss: 2.015 accuracy: 72.733\n",
      "[31, 0] loss: 0.065\n",
      "[32, validation] loss: 2.148 accuracy: 72.567\n",
      "[32, 0] loss: 0.043\n",
      "[33, validation] loss: 2.347 accuracy: 72.800\n",
      "[33, 0] loss: 0.042\n",
      "[34, validation] loss: 2.412 accuracy: 74.300\n",
      "[34, 0] loss: 0.011\n",
      "[35, validation] loss: 2.677 accuracy: 73.467\n",
      "[35, 0] loss: 0.053\n",
      "[36, validation] loss: 2.807 accuracy: 73.533\n",
      "[36, 0] loss: 0.015\n",
      "[37, validation] loss: 3.001 accuracy: 73.200\n",
      "[37, 0] loss: 0.013\n",
      "[38, validation] loss: 3.038 accuracy: 74.167\n",
      "[38, 0] loss: 0.006\n",
      "[39, validation] loss: 3.091 accuracy: 74.467\n",
      "[39, 0] loss: 0.018\n",
      "[40, validation] loss: 3.156 accuracy: 74.500\n",
      "[40, 0] loss: 0.005\n",
      "[41, validation] loss: 3.335 accuracy: 73.633\n",
      "[41, 0] loss: 0.005\n",
      "[42, validation] loss: 3.510 accuracy: 73.167\n",
      "[42, 0] loss: 0.011\n",
      "[43, validation] loss: 3.515 accuracy: 73.767\n",
      "[43, 0] loss: 0.003\n",
      "[44, validation] loss: 3.611 accuracy: 74.167\n",
      "[44, 0] loss: 0.004\n",
      "[45, validation] loss: 3.740 accuracy: 73.767\n",
      "[45, 0] loss: 0.015\n",
      "[46, validation] loss: 3.811 accuracy: 74.133\n",
      "[46, 0] loss: 0.001\n",
      "[47, validation] loss: 4.016 accuracy: 73.600\n",
      "[47, 0] loss: 0.015\n",
      "[48, validation] loss: 3.990 accuracy: 73.967\n",
      "[48, 0] loss: 0.001\n",
      "[49, validation] loss: 4.051 accuracy: 74.167\n",
      "[49, 0] loss: 0.000\n",
      "[50, validation] loss: 4.202 accuracy: 73.867\n",
      "[50, 0] loss: 0.001\n",
      "[50, validation] loss: 4.388 accuracy: 73.333\n"
     ]
    }
   ],
   "source": [
    "new_training_loss = []\n",
    "new_validation_loss = []\n",
    "min_loss = float('inf')\n",
    "\n",
    "for epoch in range(EPOCHS_AUTOENCODER + EPOCHS_PRETRAINING + EPOCHS_FINETUNING):\n",
    "    new_classifier.eval()\n",
    "    with torch.no_grad():\n",
    "        loss, _ = new_classification_test(new_classifier, val_dataloader, cross_entropy, epoch, new_validation_loss)\n",
    "        if loss < min_loss:\n",
    "            min_loss = loss\n",
    "            torch.save(new_classifier.state_dict(), 'best_from-scratch.pt')\n",
    "    new_classifier.train()\n",
    "    new_classification_train(new_classifier, subset_dataloader,\n",
    "                         cross_entropy, new_classifier_adam, epoch, new_training_loss)\n",
    "\n",
    "new_classifier.eval()\n",
    "with torch.no_grad():\n",
    "    loss, _ = new_classification_test(new_classifier, val_dataloader, cross_entropy, epoch, new_validation_loss)\n",
    "    if loss < min_loss:\n",
    "        min_loss = loss\n",
    "        torch.save(new_classifier.state_dict(), 'best_from-scratch.pt')"
   ]
  },
  {
   "cell_type": "code",
   "execution_count": 54,
   "metadata": {
    "colab": {
     "base_uri": "https://localhost:8080/",
     "height": 295
    },
    "colab_type": "code",
    "id": "q1sJt-axRznj",
    "outputId": "6361785f-8d52-4fd5-fbb9-152d69705263",
    "scrolled": true
   },
   "outputs": [
    {
     "data": {
      "image/png": "[encoded data removed]",
      "text/plain": [
       "<Figure size 432x288 with 1 Axes>"
      ]
     },
     "metadata": {
      "tags": []
     },
     "output_type": "display_data"
    }
   ],
   "source": [
    "plt.title('From scratch classification loss curves')\n",
    "plt.plot(new_training_loss, label='training loss')\n",
    "plt.plot(np.linspace(0, len(new_training_loss), len(new_validation_loss)), new_validation_loss, '-x', label='validation loss')\n",
    "plt.xlabel('iteration')\n",
    "plt.ylabel('cross entropy')\n",
    "plt.legend();"
   ]
  },
  {
   "cell_type": "markdown",
   "metadata": {
    "colab_type": "text",
    "id": "lWd8_HtUSguK"
   },
   "source": [
    "This learning curves show clear symptoms of overfitting."
   ]
  },
  {
   "cell_type": "code",
   "execution_count": 55,
   "metadata": {
    "colab": {
     "base_uri": "https://localhost:8080/",
     "height": 34
    },
    "colab_type": "code",
    "id": "f9GyHMWoRDjZ",
    "outputId": "aace7fdd-8cce-4684-f866-998cebff1e2a"
   },
   "outputs": [
    {
     "name": "stdout",
     "output_type": "stream",
     "text": [
      "[50, validation] loss: 4.078 accuracy: 75.380\n"
     ]
    }
   ],
   "source": [
    "new_classification_test(new_classifier, test_dataloader, cross_entropy, epoch, []);"
   ]
  },
  {
   "cell_type": "markdown",
   "metadata": {
    "colab_type": "text",
    "id": "IAs0TTL4VXcM"
   },
   "source": [
    "## Comparison"
   ]
  },
  {
   "cell_type": "markdown",
   "metadata": {
    "colab_type": "text",
    "id": "NSHVbYMIcWKi"
   },
   "source": [
    "Load best models (early-stopping)."
   ]
  },
  {
   "cell_type": "code",
   "execution_count": 0,
   "metadata": {
    "colab": {},
    "colab_type": "code",
    "id": "_-Mvz-UgVZ0j"
   },
   "outputs": [],
   "source": [
    "autoencoder_pretrain = ConvolutionalAutoencoderReducedLatentDim(\n",
    "    input_shape=(28, 28),\n",
    "    n_blocks=2,\n",
    "    downsampling_method='max-pooling',\n",
    "    upsampling_method='nearest',\n",
    "    layers_per_block=2,\n",
    "    latent_dimensionality=bottleneck_size\n",
    ").to(device)\n",
    "classifier_pretrain = torch.nn.Linear(bottleneck_size, 10).to(device)\n",
    "\n",
    "pretrain_checkpoint = torch.load('best_pretrain.pt')\n",
    "autoencoder_pretrain.encoder.load_state_dict(pretrain_checkpoint['encoder'])\n",
    "classifier_pretrain.load_state_dict(pretrain_checkpoint['classifier'])\n",
    "\n",
    "autoencoder_finetuning = ConvolutionalAutoencoderReducedLatentDim(\n",
    "    input_shape=(28, 28),\n",
    "    n_blocks=2,\n",
    "    downsampling_method='max-pooling',\n",
    "    upsampling_method='nearest',\n",
    "    layers_per_block=2,\n",
    "    latent_dimensionality=bottleneck_size\n",
    ").to(device)\n",
    "classifier_finetuning = torch.nn.Linear(bottleneck_size, 10).to(device)\n",
    "\n",
    "finetuning_checkpoint = torch.load('best_fine-tuning.pt')\n",
    "autoencoder_finetuning.encoder.load_state_dict(finetuning_checkpoint['encoder'])\n",
    "classifier_finetuning.load_state_dict(finetuning_checkpoint['classifier'])\n",
    "\n",
    "autoencoder_pretrain_finetuning = ConvolutionalAutoencoderReducedLatentDim(\n",
    "    input_shape=(28, 28),\n",
    "    n_blocks=2,\n",
    "    downsampling_method='max-pooling',\n",
    "    upsampling_method='nearest',\n",
    "    layers_per_block=2,\n",
    "    latent_dimensionality=bottleneck_size\n",
    ").to(device)\n",
    "classifier_pretrain_finetuning= torch.nn.Linear(bottleneck_size, 10).to(device)\n",
    "\n",
    "pretrain_finetuning_checkpoint = torch.load('best_pretraining+fine-tuning.pt')\n",
    "autoencoder_pretrain_finetuning.encoder.load_state_dict(pretrain_finetuning_checkpoint['encoder'])\n",
    "classifier_pretrain_finetuning.load_state_dict(pretrain_finetuning_checkpoint['classifier'])\n",
    "\n",
    "autoencoder_fromscratch = ConvolutionalAutoencoderReducedLatentDim(\n",
    "    input_shape=(28, 28),\n",
    "    n_blocks=2,\n",
    "    downsampling_method='max-pooling',\n",
    "    upsampling_method='nearest',\n",
    "    layers_per_block=2,\n",
    "    latent_dimensionality=bottleneck_size\n",
    ").to(device)\n",
    "\n",
    "classifier_fromscratch = torch.nn.Sequential(\n",
    "    autoencoder_fromscratch.encoder,\n",
    "    torch.nn.Linear(bottleneck_size, 10)\n",
    ").to(device)\n",
    "\n",
    "classifier_fromscratch.load_state_dict(torch.load('best_from-scratch.pt'));"
   ]
  },
  {
   "cell_type": "markdown",
   "metadata": {
    "colab_type": "text",
    "id": "_llxE7lmcqDZ"
   },
   "source": [
    "Compare cross entropy loss and accuracy on validation and test sets."
   ]
  },
  {
   "cell_type": "code",
   "execution_count": 57,
   "metadata": {
    "colab": {
     "base_uri": "https://localhost:8080/",
     "height": 425
    },
    "colab_type": "code",
    "id": "SIz4O90lcsdK",
    "outputId": "e02adb6e-2144-48b9-d159-b50234a138e2"
   },
   "outputs": [
    {
     "name": "stdout",
     "output_type": "stream",
     "text": [
      "pretrained train:\n",
      "[50, test] loss: 1.355 accuracy: 57.067\n",
      "pretrained test:\n",
      "[50, test] loss: 1.332 accuracy: 58.080\n",
      "pretrain+finetuning train:\n",
      "[50, test] loss: 1.122 accuracy: 67.800\n",
      "pretrain+finetuning test:\n",
      "[50, test] loss: 1.095 accuracy: 69.330\n",
      "finetuned train:\n",
      "[50, test] loss: 2.311 accuracy: 9.333\n",
      "finetuned test:\n",
      "[50, test] loss: 2.311 accuracy: 8.920\n",
      "scratch train\n",
      "[50, validation] loss: 1.211 accuracy: 65.233\n",
      "scratch test\n",
      "[50, validation] loss: 1.185 accuracy: 66.950\n",
      "+---------------------+--------------------+-------------------+--------------------+-----------+\n",
      "|        model        |  validation loss   |  validation acc.  |     test loss      | test acc. |\n",
      "+---------------------+--------------------+-------------------+--------------------+-----------+\n",
      "|      pretrained     | 1.3548250248034794 | 57.06666666666667 | 1.331671093083635  |   58.08   |\n",
      "| pretrain+finetuning | 1.1220344776908557 |        67.8       | 1.094846846182135  |   69.33   |\n",
      "|      finetuned      | 2.3110830883185067 | 9.333333333333334 | 2.310579776763916  |    8.92   |\n",
      "|       scratch       | 1.2111022075017293 | 65.23333333333333 | 1.1848548865770991 |   66.95   |\n",
      "+---------------------+--------------------+-------------------+--------------------+-----------+\n"
     ]
    }
   ],
   "source": [
    "tbl = PrettyTable()\n",
    "tbl.field_names = [\"model\",\"validation loss\", \"validation acc.\", \"test loss\", \"test acc.\"]\n",
    "pair_models = {\"pretrained\": (classifier_pretrain, autoencoder_pretrain.encoder), \n",
    "               \"pretrain+finetuning\": (classifier_pretrain_finetuning, autoencoder_pretrain_finetuning.encoder),\n",
    "               \"finetuned\": (classifier_finetuning, autoencoder_finetuning.encoder)\n",
    "              }\n",
    "losses = {\"pretrained\": None, \"pretrain+finetuning\": None, \"finetuned\": None, \"scratch\": None}\n",
    "for name, models in pair_models.items():\n",
    "    print(name + \" train:\")\n",
    "    val_loss, val_acc = classification_test(models[0], models[1], val_dataloader, cross_entropy, epoch, [])\n",
    "    print(name + \" test:\")\n",
    "    test_loss, test_acc = classification_test(models[0], models[1], test_dataloader, cross_entropy, epoch, [])\n",
    "    losses[name] = test_loss\n",
    "    tbl.add_row([name,val_loss,val_acc,test_loss,test_acc])\n",
    "\n",
    "print(\"scratch train\")\n",
    "val_loss, val_acc = new_classification_test(classifier_fromscratch, val_dataloader, cross_entropy, epoch, [])\n",
    "print(\"scratch test\")\n",
    "test_loss, test_acc = new_classification_test(classifier_fromscratch, test_dataloader, cross_entropy, epoch, [])\n",
    "losses[\"scratch\"] = test_loss\n",
    "tbl.add_row(\n",
    "    [\"scratch\", val_loss, val_acc, test_loss, test_acc])\n",
    "print(tbl)\n",
    "\n"
   ]
  },
  {
   "cell_type": "code",
   "execution_count": 58,
   "metadata": {
    "colab": {
     "base_uri": "https://localhost:8080/",
     "height": 295
    },
    "colab_type": "code",
    "id": "bT6u4qk0EojV",
    "outputId": "9c8f3c12-bd22-42af-a9a9-a5137073303f",
    "scrolled": true
   },
   "outputs": [
    {
     "data": {
      "image/png": "[encoded data removed]",
      "text/plain": [
       "<Figure size 432x288 with 1 Axes>"
      ]
     },
     "metadata": {
      "tags": []
     },
     "output_type": "display_data"
    }
   ],
   "source": [
    "models_names = tuple(losses.keys())\n",
    "loss = tuple(losses.values())\n",
    "y_pos = np.arange(len(loss))\n",
    "\n",
    "plt.bar(y_pos, loss, color=(\"r\", \"g\", \"b\", \"y\"))\n",
    "plt.xticks(y_pos, models_names)\n",
    "plt.xlabel(\"Model names\")\n",
    "plt.ylabel(\"Loss\")\n",
    "plt.title(\"Models loss, the lower the better\")\n",
    "plt.show();"
   ]
  },
  {
   "cell_type": "code",
   "execution_count": 59,
   "metadata": {
    "colab": {
     "base_uri": "https://localhost:8080/",
     "height": 295
    },
    "colab_type": "code",
    "id": "v-KZMZkkP6tw",
    "outputId": "b647f505-c10d-40ee-bcb2-a5617b6756d3"
   },
   "outputs": [
    {
     "data": {
      "image/png": "[encoded data removed]",
      "text/plain": [
       "<Figure size 432x288 with 1 Axes>"
      ]
     },
     "metadata": {
      "tags": []
     },
     "output_type": "display_data"
    }
   ],
   "source": [
    "plt.title('classification loss curves')\n",
    "plt.plot(pretraining_validation_loss, '-x', label='pretraining loss')\n",
    "plt.plot(finetuning_validation_loss, '-o', label='finetuning loss')\n",
    "plt.plot(new_validation_loss, '-+', label='from-scratch loss')\n",
    "plt.xlabel('epoch')\n",
    "plt.ylabel('cross entropy')\n",
    "plt.legend();"
   ]
  },
  {
   "cell_type": "markdown",
   "metadata": {
    "colab_type": "text",
    "id": "nIvHHXWBqZe2"
   },
   "source": [
    "We expected to see a better performance on the model trained with the pretrain+finetuning proceidure, but the model trained from scratch actually performs slightly better on the validation and test set. If the model had more parameters we would expect the model trained from scratch to not generalize on the validation nor test set."
   ]
  },
  {
   "cell_type": "markdown",
   "metadata": {
    "colab_type": "text",
    "id": "Ns7oGWd2EZVY"
   },
   "source": [
    "## Optional Exercise A: Variational Autoencoder\n",
    "\n",
    "Steps:\n",
    "\n",
    "1. Implement an autoencoder like that from Exercise 1, but turning the deterministic bottleneck into a stochastic bottleneck, with an isotropic Gaussian as distribution for the latent variables.\n",
    "2. Train the model optimizing the Evidence Lower Bound (ELBO).\n",
    "3. Generate samples with the decoder and show them.\n"
   ]
  },
  {
   "cell_type": "markdown",
   "metadata": {
    "colab_type": "text",
    "id": "xFiIlaOnOCzC"
   },
   "source": [
    "New class for variational autoencoder based on the previous autoencoder."
   ]
  },
  {
   "cell_type": "code",
   "execution_count": 0,
   "metadata": {
    "colab": {},
    "colab_type": "code",
    "id": "2LJFzsBeSC6k"
   },
   "outputs": [],
   "source": [
    "class ConvolutionalVAE(torch.nn.Module):\n",
    "\n",
    "    def __init__(self, input_shape, n_blocks, downsampling_method, upsampling_method,\n",
    "                 layers_per_block=2, latent_dimensionality=50):\n",
    "        super().__init__()\n",
    "        self.n_blocks = n_blocks\n",
    "        self.downsampling_method = downsampling_method\n",
    "        self.upsampling_method = upsampling_method\n",
    "        self.latent_dimensionality = latent_dimensionality\n",
    "\n",
    "        # Encoder: Convolutional blocks + Linear\n",
    "        self.convolutional_encoder = ConvolutionalEncoder(\n",
    "            n_blocks, downsampling_method, layers_per_block=layers_per_block)\n",
    "        self.encoder_output_shape = (self.convolutional_encoder.init_filters * 2 ** (n_blocks - 1),\n",
    "                                     input_shape[0] // 2 ** n_blocks,\n",
    "                                     input_shape[1] // 2 ** n_blocks)\n",
    "        self.mu = torch.nn.Sequential(\n",
    "            torch.nn.Flatten(),\n",
    "            torch.nn.Linear(self.encoder_output_shape[0] * self.encoder_output_shape[1] * self.encoder_output_shape[2],\n",
    "                            latent_dimensionality),\n",
    "        )\n",
    "        self.log_var = torch.nn.Sequential(\n",
    "            torch.nn.Flatten(),\n",
    "            torch.nn.Linear(self.encoder_output_shape[0] * self.encoder_output_shape[1] * self.encoder_output_shape[2],\n",
    "                            latent_dimensionality),\n",
    "        )\n",
    "\n",
    "        # Decoder: Linear + Convolutional blocks\n",
    "        self.linear_decoder = torch.nn.Sequential(\n",
    "            torch.nn.Linear(latent_dimensionality,\n",
    "                            self.encoder_output_shape[0] * self.encoder_output_shape[1] * self.encoder_output_shape[2]),\n",
    "            torch.nn.ReLU()\n",
    "        )\n",
    "        self.convolutional_decoder = ConvolutionalDecoder(\n",
    "            n_blocks, upsampling_method,\n",
    "            self.convolutional_encoder.output_channels, layers_per_block,\n",
    "            activation=\"sigmoid\")\n",
    "\n",
    "    def reparameterize(self, mu, log_var):\n",
    "        std = torch.exp(0.5 * log_var)\n",
    "        return torch.randn_like(std).mul(std).add_(mu)\n",
    "\n",
    "    def forward(self, x):\n",
    "        encoder_output = self.convolutional_encoder(x)\n",
    "        # Get mean and variance.\n",
    "        mu = self.mu(encoder_output)\n",
    "        log_var = self.log_var(encoder_output)\n",
    "        # Sample from a normal distribution of mean mu and variance var.\n",
    "        code = self.reparameterize(mu, log_var)\n",
    "\n",
    "        reconstruction = self.convolutional_decoder(\n",
    "            self.linear_decoder(code).view((-1,) + self.encoder_output_shape))\n",
    "        \n",
    "        # Return reconstruction and mean and variance for the loss computation.  \n",
    "        return reconstruction, mu, log_var"
   ]
  },
  {
   "cell_type": "markdown",
   "metadata": {
    "colab_type": "text",
    "id": "_86btVGNP-e4"
   },
   "source": [
    "Reconstruction + KL divergence losses summed over all elements and batch\n"
   ]
  },
  {
   "cell_type": "code",
   "execution_count": 0,
   "metadata": {
    "colab": {},
    "colab_type": "code",
    "id": "ubi766EfQJu0"
   },
   "outputs": [],
   "source": [
    "from torch.nn.functional import binary_cross_entropy"
   ]
  },
  {
   "cell_type": "code",
   "execution_count": 0,
   "metadata": {
    "colab": {},
    "colab_type": "code",
    "id": "hJa6GgbZOB4a"
   },
   "outputs": [],
   "source": [
    "def loss_function(recon_x, x, mu, logvar):\n",
    "    BCE = binary_cross_entropy(recon_x.view(-1, 28 * 28), x.view(-1, 28 * 28), reduction='sum')\n",
    "    # see Appendix B from VAE paper:\n",
    "    # Kingma and Welling. Auto-Encoding Variational Bayes. ICLR, 2014\n",
    "    # https://arxiv.org/abs/1312.6114\n",
    "    # 0.5 * sum(1 + log(sigma^2) - mu^2 - sigma^2)\n",
    "    KLD = -0.5 * torch.sum(1 + logvar - mu.pow(2) - logvar.exp())\n",
    "    return BCE + KLD"
   ]
  },
  {
   "cell_type": "code",
   "execution_count": 0,
   "metadata": {
    "colab": {},
    "colab_type": "code",
    "id": "bm5ubKrARmUW"
   },
   "outputs": [],
   "source": [
    "def train(vae, dataloader, optimizer, epoch, loss_history, log_interval=100):\n",
    "    for i, batch in enumerate(dataloader):\n",
    "        images = batch[0].to(device)\n",
    "        optimizer.zero_grad()\n",
    "        reconstructed, mu, log_var = vae(images)\n",
    "        # Divide by batch size to compute mean image reconstruction error.\n",
    "        loss = loss_function(reconstructed, images, mu, log_var)\n",
    "        loss.backward()   # Backprop.\n",
    "        optimizer.step()  # Parameter updates.\n",
    "\n",
    "        loss_history.append(loss.item())\n",
    "        if i % log_interval == 0:\n",
    "            print('[%d, %d] loss: %.3f' % (epoch + 1, i, loss.item()))\n"
   ]
  },
  {
   "cell_type": "code",
   "execution_count": 0,
   "metadata": {
    "colab": {},
    "colab_type": "code",
    "id": "hhlyRO23Eojd"
   },
   "outputs": [],
   "source": [
    "vae = ConvolutionalVAE(\n",
    "    input_shape=(28, 28),\n",
    "    n_blocks=2,\n",
    "    downsampling_method='max-pooling',\n",
    "    upsampling_method='nearest',\n",
    "    layers_per_block=2,\n",
    "    latent_dimensionality=50\n",
    ").to(device)\n",
    "\n",
    "adam = torch.optim.Adam(vae.parameters(), lr=0.0001)"
   ]
  },
  {
   "cell_type": "code",
   "execution_count": 65,
   "metadata": {
    "colab": {
     "base_uri": "https://localhost:8080/",
     "height": 1000
    },
    "colab_type": "code",
    "id": "rAOe-6dVRF8d",
    "outputId": "7728af62-bb9c-44e3-c9da-30bbe0f628d8"
   },
   "outputs": [
    {
     "name": "stdout",
     "output_type": "stream",
     "text": [
      "[1, 0] loss: 69618.922\n",
      "[1, 100] loss: 32771.539\n",
      "[1, 200] loss: 27011.113\n",
      "[1, 300] loss: 24827.191\n",
      "[1, 400] loss: 24094.611\n",
      "[2, 0] loss: 23916.107\n",
      "[2, 100] loss: 23766.729\n",
      "[2, 200] loss: 23882.727\n",
      "[2, 300] loss: 22967.691\n",
      "[2, 400] loss: 21246.078\n",
      "[3, 0] loss: 21952.613\n",
      "[3, 100] loss: 20569.682\n",
      "[3, 200] loss: 20575.695\n",
      "[3, 300] loss: 20299.447\n",
      "[3, 400] loss: 19346.691\n",
      "[4, 0] loss: 20335.539\n",
      "[4, 100] loss: 18701.900\n",
      "[4, 200] loss: 17482.180\n",
      "[4, 300] loss: 17272.184\n",
      "[4, 400] loss: 18024.182\n",
      "[5, 0] loss: 17641.379\n",
      "[5, 100] loss: 17848.348\n",
      "[5, 200] loss: 16668.645\n",
      "[5, 300] loss: 17459.945\n",
      "[5, 400] loss: 16241.438\n",
      "[6, 0] loss: 17554.068\n",
      "[6, 100] loss: 17032.291\n",
      "[6, 200] loss: 17450.164\n",
      "[6, 300] loss: 16575.865\n",
      "[6, 400] loss: 16686.727\n",
      "[7, 0] loss: 16170.969\n",
      "[7, 100] loss: 16327.021\n",
      "[7, 200] loss: 16847.584\n",
      "[7, 300] loss: 16421.768\n",
      "[7, 400] loss: 16613.496\n",
      "[8, 0] loss: 15763.002\n",
      "[8, 100] loss: 15958.534\n",
      "[8, 200] loss: 16125.436\n",
      "[8, 300] loss: 16221.064\n",
      "[8, 400] loss: 15324.240\n",
      "[9, 0] loss: 15504.262\n",
      "[9, 100] loss: 15511.654\n",
      "[9, 200] loss: 15049.988\n",
      "[9, 300] loss: 15694.195\n",
      "[9, 400] loss: 15876.211\n",
      "[10, 0] loss: 15966.727\n",
      "[10, 100] loss: 16055.479\n",
      "[10, 200] loss: 15282.877\n",
      "[10, 300] loss: 15449.979\n",
      "[10, 400] loss: 15365.885\n",
      "[11, 0] loss: 14763.223\n",
      "[11, 100] loss: 15118.151\n",
      "[11, 200] loss: 15098.605\n",
      "[11, 300] loss: 14864.061\n",
      "[11, 400] loss: 15068.912\n",
      "[12, 0] loss: 15039.553\n",
      "[12, 100] loss: 14965.422\n",
      "[12, 200] loss: 14751.006\n",
      "[12, 300] loss: 15051.231\n",
      "[12, 400] loss: 14825.521\n",
      "[13, 0] loss: 14294.842\n",
      "[13, 100] loss: 15240.498\n",
      "[13, 200] loss: 14857.185\n",
      "[13, 300] loss: 14431.105\n",
      "[13, 400] loss: 15440.312\n",
      "[14, 0] loss: 14937.057\n",
      "[14, 100] loss: 14832.717\n",
      "[14, 200] loss: 14197.288\n",
      "[14, 300] loss: 14743.658\n",
      "[14, 400] loss: 14898.906\n",
      "[15, 0] loss: 14659.189\n",
      "[15, 100] loss: 14764.775\n",
      "[15, 200] loss: 14621.631\n",
      "[15, 300] loss: 14589.203\n",
      "[15, 400] loss: 14036.425\n",
      "[16, 0] loss: 14203.302\n",
      "[16, 100] loss: 14635.088\n",
      "[16, 200] loss: 14319.450\n",
      "[16, 300] loss: 14421.568\n",
      "[16, 400] loss: 14355.286\n",
      "[17, 0] loss: 14681.033\n",
      "[17, 100] loss: 14452.979\n",
      "[17, 200] loss: 14064.222\n",
      "[17, 300] loss: 15140.215\n",
      "[17, 400] loss: 13838.661\n",
      "[18, 0] loss: 14378.141\n",
      "[18, 100] loss: 14458.562\n",
      "[18, 200] loss: 14290.597\n",
      "[18, 300] loss: 14297.896\n",
      "[18, 400] loss: 14335.318\n",
      "[19, 0] loss: 13982.588\n",
      "[19, 100] loss: 14377.500\n",
      "[19, 200] loss: 13854.670\n",
      "[19, 300] loss: 13709.670\n",
      "[19, 400] loss: 14447.072\n",
      "[20, 0] loss: 13889.971\n",
      "[20, 100] loss: 14661.085\n",
      "[20, 200] loss: 13703.940\n",
      "[20, 300] loss: 13890.916\n",
      "[20, 400] loss: 13939.059\n",
      "[21, 0] loss: 13930.542\n",
      "[21, 100] loss: 13554.794\n",
      "[21, 200] loss: 13256.092\n",
      "[21, 300] loss: 14531.272\n",
      "[21, 400] loss: 13853.725\n",
      "[22, 0] loss: 14214.323\n",
      "[22, 100] loss: 13810.782\n",
      "[22, 200] loss: 14259.068\n",
      "[22, 300] loss: 13758.176\n",
      "[22, 400] loss: 14295.760\n",
      "[23, 0] loss: 14268.219\n",
      "[23, 200] loss: 13580.451\n",
      "[23, 300] loss: 13955.332\n",
      "[23, 400] loss: 14184.576\n",
      "[24, 0] loss: 14370.586\n",
      "[24, 100] loss: 13727.907\n",
      "[24, 200] loss: 13105.205\n",
      "[24, 300] loss: 13683.574\n",
      "[24, 400] loss: 13826.940\n",
      "[25, 0] loss: 13590.155\n",
      "[25, 100] loss: 13852.935\n",
      "[25, 200] loss: 13122.590\n",
      "[25, 300] loss: 13478.590\n",
      "[25, 400] loss: 13457.131\n",
      "[26, 0] loss: 13924.773\n",
      "[26, 100] loss: 13620.923\n",
      "[26, 200] loss: 13222.820\n",
      "[26, 300] loss: 13893.935\n",
      "[26, 400] loss: 13096.436\n",
      "[27, 0] loss: 13604.075\n",
      "[27, 100] loss: 14179.002\n",
      "[27, 200] loss: 13342.236\n",
      "[27, 300] loss: 13934.220\n",
      "[27, 400] loss: 13421.088\n",
      "[28, 0] loss: 13516.443\n",
      "[28, 100] loss: 13879.132\n",
      "[28, 200] loss: 13512.056\n",
      "[28, 300] loss: 13660.957\n",
      "[28, 400] loss: 13862.577\n",
      "[29, 0] loss: 13503.944\n",
      "[29, 100] loss: 13516.137\n",
      "[29, 200] loss: 14166.102\n",
      "[29, 300] loss: 13455.684\n",
      "[29, 400] loss: 13285.085\n",
      "[30, 0] loss: 13330.381\n",
      "[30, 100] loss: 13896.478\n",
      "[30, 200] loss: 13137.482\n",
      "[30, 300] loss: 13425.285\n",
      "[30, 400] loss: 14043.520\n",
      "[31, 0] loss: 13335.444\n",
      "[31, 100] loss: 13283.629\n",
      "[31, 200] loss: 13139.875\n",
      "[31, 300] loss: 13426.793\n",
      "[31, 400] loss: 13727.424\n",
      "[32, 0] loss: 12647.013\n",
      "[32, 100] loss: 13311.191\n",
      "[32, 200] loss: 13735.729\n",
      "[32, 300] loss: 13687.430\n",
      "[32, 400] loss: 13225.999\n",
      "[33, 0] loss: 13317.824\n",
      "[33, 100] loss: 13907.822\n",
      "[33, 200] loss: 13302.140\n",
      "[33, 300] loss: 13523.037\n",
      "[33, 400] loss: 12952.061\n",
      "[34, 0] loss: 13555.764\n",
      "[34, 100] loss: 13151.642\n",
      "[34, 200] loss: 13485.604\n",
      "[34, 300] loss: 13967.041\n",
      "[34, 400] loss: 13251.499\n",
      "[35, 0] loss: 13388.175\n",
      "[35, 100] loss: 13405.525\n",
      "[35, 200] loss: 13127.157\n",
      "[35, 300] loss: 13238.871\n",
      "[35, 400] loss: 13183.922\n",
      "[36, 0] loss: 13587.336\n",
      "[36, 100] loss: 13912.375\n",
      "[36, 200] loss: 13382.879\n",
      "[36, 300] loss: 13481.267\n",
      "[36, 400] loss: 13009.125\n",
      "[37, 0] loss: 13272.594\n",
      "[37, 100] loss: 13170.168\n",
      "[37, 200] loss: 12732.952\n",
      "[37, 300] loss: 13501.021\n",
      "[37, 400] loss: 13255.758\n",
      "[38, 0] loss: 14496.270\n",
      "[38, 100] loss: 13086.504\n",
      "[38, 200] loss: 13348.517\n",
      "[38, 300] loss: 13115.054\n",
      "[38, 400] loss: 13606.653\n",
      "[39, 0] loss: 13037.759\n",
      "[39, 100] loss: 12811.933\n",
      "[39, 200] loss: 13182.430\n",
      "[39, 300] loss: 12809.483\n",
      "[39, 400] loss: 13279.312\n",
      "[40, 0] loss: 13509.925\n",
      "[40, 100] loss: 13318.348\n",
      "[40, 200] loss: 13348.342\n",
      "[40, 300] loss: 13323.627\n",
      "[40, 400] loss: 13273.911\n",
      "[41, 0] loss: 12695.072\n",
      "[41, 100] loss: 13194.494\n",
      "[41, 200] loss: 13069.373\n",
      "[41, 300] loss: 12991.397\n",
      "[41, 400] loss: 13627.520\n",
      "[42, 0] loss: 13535.008\n",
      "[42, 100] loss: 13231.883\n",
      "[42, 200] loss: 13174.736\n",
      "[42, 300] loss: 13088.039\n",
      "[42, 400] loss: 13520.502\n",
      "[43, 0] loss: 13287.373\n",
      "[43, 100] loss: 12970.224\n",
      "[43, 200] loss: 13040.475\n",
      "[43, 300] loss: 12979.289\n",
      "[43, 400] loss: 13078.202\n",
      "[44, 0] loss: 13158.199\n",
      "[44, 100] loss: 13043.057\n",
      "[44, 200] loss: 13241.743\n",
      "[44, 300] loss: 13237.707\n",
      "[44, 400] loss: 13019.734\n",
      "[45, 0] loss: 12908.381\n",
      "[45, 100] loss: 13274.959\n",
      "[45, 200] loss: 12690.090\n",
      "[45, 300] loss: 13259.697\n",
      "[45, 400] loss: 12887.225\n",
      "[46, 0] loss: 12556.079\n",
      "[46, 100] loss: 12933.231\n",
      "[46, 200] loss: 13476.899\n",
      "[46, 300] loss: 13428.433\n",
      "[46, 400] loss: 13096.123\n",
      "[47, 0] loss: 13226.377\n",
      "[47, 100] loss: 12899.663\n",
      "[47, 200] loss: 12758.587\n",
      "[47, 300] loss: 12741.938\n",
      "[47, 400] loss: 13308.518\n",
      "[48, 0] loss: 13334.604\n",
      "[48, 100] loss: 13405.691\n",
      "[48, 200] loss: 12469.564\n",
      "[48, 300] loss: 13337.017\n",
      "[48, 400] loss: 12927.745\n",
      "[49, 0] loss: 12778.497\n",
      "[49, 100] loss: 12905.006\n",
      "[49, 200] loss: 12881.159\n",
      "[49, 300] loss: 13258.934\n",
      "[49, 400] loss: 13122.465\n",
      "[50, 0] loss: 13030.104\n",
      "[50, 100] loss: 13046.493\n",
      "[50, 200] loss: 12801.003\n",
      "[50, 300] loss: 12985.091\n",
      "[50, 400] loss: 12746.496\n"
     ]
    }
   ],
   "source": [
    "training_loss = []    #\n",
    "validation_loss = []  # Here we save the training process.\n",
    "\n",
    "vae.train()\n",
    "for epoch in range(EPOCHS_VAE):\n",
    "    train(vae, train_dataloader, adam, epoch, training_loss)\n",
    "\n",
    "vae.eval();"
   ]
  },
  {
   "cell_type": "code",
   "execution_count": 0,
   "metadata": {
    "colab": {},
    "colab_type": "code",
    "id": "5qVgx9VbSSOo"
   },
   "outputs": [],
   "source": [
    "def generate_image(vae):\n",
    "    noise = torch.randn((1, 50)).to(device)\n",
    "    generated = vae.convolutional_decoder(vae.linear_decoder(noise).view((1,) + vae.encoder_output_shape))\n",
    "    plt.imshow(generated.squeeze().detach().cpu().numpy(), cmap='gray')"
   ]
  },
  {
   "cell_type": "code",
   "execution_count": 67,
   "metadata": {
    "colab": {
     "base_uri": "https://localhost:8080/",
     "height": 1000
    },
    "colab_type": "code",
    "id": "dgM2Upt6Liwt",
    "outputId": "ce0919b3-2569-4f56-c5ec-ce22c984a63c"
   },
   "outputs": [
    {
     "data": {
      "image/png": "[encoded data removed]",
      "text/plain": [
       "<Figure size 432x288 with 1 Axes>"
      ]
     },
     "metadata": {
      "tags": []
     },
     "output_type": "display_data"
    },
    {
     "data": {
      "image/png": "[encoded data removed]",
      "text/plain": [
       "<Figure size 432x288 with 1 Axes>"
      ]
     },
     "metadata": {
      "tags": []
     },
     "output_type": "display_data"
    },
    {
     "data": {
      "image/png": "[encoded data removed]",
      "text/plain": [
       "<Figure size 432x288 with 1 Axes>"
      ]
     },
     "metadata": {
      "tags": []
     },
     "output_type": "display_data"
    },
    {
     "data": {
      "image/png": "[encoded data removed]",
      "text/plain": [
       "<Figure size 432x288 with 1 Axes>"
      ]
     },
     "metadata": {
      "tags": []
     },
     "output_type": "display_data"
    },
    {
     "data": {
      "image/png": "[encoded data removed]",
      "text/plain": [
       "<Figure size 432x288 with 1 Axes>"
      ]
     },
     "metadata": {
      "tags": []
     },
     "output_type": "display_data"
    }
   ],
   "source": [
    "for _ in range(5):\n",
    "    plt.figure()\n",
    "    generate_image(vae)\n"
   ]
  },
  {
   "cell_type": "code",
   "execution_count": 0,
   "metadata": {
    "colab": {},
    "colab_type": "code",
    "id": "z1h4e45LLon2"
   },
   "outputs": [],
   "source": []
  }
 ],
 "metadata": {
  "accelerator": "GPU",
  "colab": {
   "collapsed_sections": [],
   "name": "team08.ipynb",
   "provenance": []
  },
  "kernelspec": {
   "display_name": "Python 3",
   "language": "python",
   "name": "python3"
  },
  "language_info": {
   "codemirror_mode": {
    "name": "ipython",
    "version": 3
   },
   "file_extension": ".py",
   "mimetype": "text/x-python",
   "name": "python",
   "nbconvert_exporter": "python",
   "pygments_lexer": "ipython3",
   "version": "3.7.4"
  }
 },
 "nbformat": 4,
 "nbformat_minor": 1
}
